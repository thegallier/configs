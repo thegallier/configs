{
  "nbformat": 4,
  "nbformat_minor": 0,
  "metadata": {
    "colab": {
      "provenance": [],
      "gpuType": "T4",
      "machine_shape": "hm",
      "include_colab_link": true
    },
    "kernelspec": {
      "name": "python3",
      "display_name": "Python 3"
    },
    "language_info": {
      "name": "python"
    },
    "accelerator": "GPU",
    "widgets": {
      "application/vnd.jupyter.widget-state+json": {
        "6243410f9cc0420187721bad5ef56c10": {
          "model_module": "@jupyter-widgets/controls",
          "model_name": "HBoxModel",
          "model_module_version": "1.5.0",
          "state": {
            "_dom_classes": [],
            "_model_module": "@jupyter-widgets/controls",
            "_model_module_version": "1.5.0",
            "_model_name": "HBoxModel",
            "_view_count": null,
            "_view_module": "@jupyter-widgets/controls",
            "_view_module_version": "1.5.0",
            "_view_name": "HBoxView",
            "box_style": "",
            "children": [
              "IPY_MODEL_acd3e05ce4eb4d48af52d42a910ac7a0",
              "IPY_MODEL_7fc890a193e64c5f9a996f0b215c2e88",
              "IPY_MODEL_904ef58db24f4c2d9a7cee2934d8cbd3"
            ],
            "layout": "IPY_MODEL_7b780323d8684c0d9fee4e86bd67eccb"
          }
        },
        "acd3e05ce4eb4d48af52d42a910ac7a0": {
          "model_module": "@jupyter-widgets/controls",
          "model_name": "HTMLModel",
          "model_module_version": "1.5.0",
          "state": {
            "_dom_classes": [],
            "_model_module": "@jupyter-widgets/controls",
            "_model_module_version": "1.5.0",
            "_model_name": "HTMLModel",
            "_view_count": null,
            "_view_module": "@jupyter-widgets/controls",
            "_view_module_version": "1.5.0",
            "_view_name": "HTMLView",
            "description": "",
            "description_tooltip": null,
            "layout": "IPY_MODEL_1fbe24584161471fb32fa827f98b9714",
            "placeholder": "​",
            "style": "IPY_MODEL_df06c2df932a4f09b07dcdd55c4f0582",
            "value": "Loading checkpoint shards: 100%"
          }
        },
        "7fc890a193e64c5f9a996f0b215c2e88": {
          "model_module": "@jupyter-widgets/controls",
          "model_name": "FloatProgressModel",
          "model_module_version": "1.5.0",
          "state": {
            "_dom_classes": [],
            "_model_module": "@jupyter-widgets/controls",
            "_model_module_version": "1.5.0",
            "_model_name": "FloatProgressModel",
            "_view_count": null,
            "_view_module": "@jupyter-widgets/controls",
            "_view_module_version": "1.5.0",
            "_view_name": "ProgressView",
            "bar_style": "success",
            "description": "",
            "description_tooltip": null,
            "layout": "IPY_MODEL_8c0a9ebd7e664485bbc211acb63aa153",
            "max": 2,
            "min": 0,
            "orientation": "horizontal",
            "style": "IPY_MODEL_02041131d6624936b27c2880a45af0a8",
            "value": 2
          }
        },
        "904ef58db24f4c2d9a7cee2934d8cbd3": {
          "model_module": "@jupyter-widgets/controls",
          "model_name": "HTMLModel",
          "model_module_version": "1.5.0",
          "state": {
            "_dom_classes": [],
            "_model_module": "@jupyter-widgets/controls",
            "_model_module_version": "1.5.0",
            "_model_name": "HTMLModel",
            "_view_count": null,
            "_view_module": "@jupyter-widgets/controls",
            "_view_module_version": "1.5.0",
            "_view_name": "HTMLView",
            "description": "",
            "description_tooltip": null,
            "layout": "IPY_MODEL_a0b70628d2814400b84eacd8cb40d85d",
            "placeholder": "​",
            "style": "IPY_MODEL_8d96172df44a4578a4ade96c76e400b5",
            "value": " 2/2 [00:10&lt;00:00,  4.89s/it]"
          }
        },
        "7b780323d8684c0d9fee4e86bd67eccb": {
          "model_module": "@jupyter-widgets/base",
          "model_name": "LayoutModel",
          "model_module_version": "1.2.0",
          "state": {
            "_model_module": "@jupyter-widgets/base",
            "_model_module_version": "1.2.0",
            "_model_name": "LayoutModel",
            "_view_count": null,
            "_view_module": "@jupyter-widgets/base",
            "_view_module_version": "1.2.0",
            "_view_name": "LayoutView",
            "align_content": null,
            "align_items": null,
            "align_self": null,
            "border": null,
            "bottom": null,
            "display": null,
            "flex": null,
            "flex_flow": null,
            "grid_area": null,
            "grid_auto_columns": null,
            "grid_auto_flow": null,
            "grid_auto_rows": null,
            "grid_column": null,
            "grid_gap": null,
            "grid_row": null,
            "grid_template_areas": null,
            "grid_template_columns": null,
            "grid_template_rows": null,
            "height": null,
            "justify_content": null,
            "justify_items": null,
            "left": null,
            "margin": null,
            "max_height": null,
            "max_width": null,
            "min_height": null,
            "min_width": null,
            "object_fit": null,
            "object_position": null,
            "order": null,
            "overflow": null,
            "overflow_x": null,
            "overflow_y": null,
            "padding": null,
            "right": null,
            "top": null,
            "visibility": null,
            "width": null
          }
        },
        "1fbe24584161471fb32fa827f98b9714": {
          "model_module": "@jupyter-widgets/base",
          "model_name": "LayoutModel",
          "model_module_version": "1.2.0",
          "state": {
            "_model_module": "@jupyter-widgets/base",
            "_model_module_version": "1.2.0",
            "_model_name": "LayoutModel",
            "_view_count": null,
            "_view_module": "@jupyter-widgets/base",
            "_view_module_version": "1.2.0",
            "_view_name": "LayoutView",
            "align_content": null,
            "align_items": null,
            "align_self": null,
            "border": null,
            "bottom": null,
            "display": null,
            "flex": null,
            "flex_flow": null,
            "grid_area": null,
            "grid_auto_columns": null,
            "grid_auto_flow": null,
            "grid_auto_rows": null,
            "grid_column": null,
            "grid_gap": null,
            "grid_row": null,
            "grid_template_areas": null,
            "grid_template_columns": null,
            "grid_template_rows": null,
            "height": null,
            "justify_content": null,
            "justify_items": null,
            "left": null,
            "margin": null,
            "max_height": null,
            "max_width": null,
            "min_height": null,
            "min_width": null,
            "object_fit": null,
            "object_position": null,
            "order": null,
            "overflow": null,
            "overflow_x": null,
            "overflow_y": null,
            "padding": null,
            "right": null,
            "top": null,
            "visibility": null,
            "width": null
          }
        },
        "df06c2df932a4f09b07dcdd55c4f0582": {
          "model_module": "@jupyter-widgets/controls",
          "model_name": "DescriptionStyleModel",
          "model_module_version": "1.5.0",
          "state": {
            "_model_module": "@jupyter-widgets/controls",
            "_model_module_version": "1.5.0",
            "_model_name": "DescriptionStyleModel",
            "_view_count": null,
            "_view_module": "@jupyter-widgets/base",
            "_view_module_version": "1.2.0",
            "_view_name": "StyleView",
            "description_width": ""
          }
        },
        "8c0a9ebd7e664485bbc211acb63aa153": {
          "model_module": "@jupyter-widgets/base",
          "model_name": "LayoutModel",
          "model_module_version": "1.2.0",
          "state": {
            "_model_module": "@jupyter-widgets/base",
            "_model_module_version": "1.2.0",
            "_model_name": "LayoutModel",
            "_view_count": null,
            "_view_module": "@jupyter-widgets/base",
            "_view_module_version": "1.2.0",
            "_view_name": "LayoutView",
            "align_content": null,
            "align_items": null,
            "align_self": null,
            "border": null,
            "bottom": null,
            "display": null,
            "flex": null,
            "flex_flow": null,
            "grid_area": null,
            "grid_auto_columns": null,
            "grid_auto_flow": null,
            "grid_auto_rows": null,
            "grid_column": null,
            "grid_gap": null,
            "grid_row": null,
            "grid_template_areas": null,
            "grid_template_columns": null,
            "grid_template_rows": null,
            "height": null,
            "justify_content": null,
            "justify_items": null,
            "left": null,
            "margin": null,
            "max_height": null,
            "max_width": null,
            "min_height": null,
            "min_width": null,
            "object_fit": null,
            "object_position": null,
            "order": null,
            "overflow": null,
            "overflow_x": null,
            "overflow_y": null,
            "padding": null,
            "right": null,
            "top": null,
            "visibility": null,
            "width": null
          }
        },
        "02041131d6624936b27c2880a45af0a8": {
          "model_module": "@jupyter-widgets/controls",
          "model_name": "ProgressStyleModel",
          "model_module_version": "1.5.0",
          "state": {
            "_model_module": "@jupyter-widgets/controls",
            "_model_module_version": "1.5.0",
            "_model_name": "ProgressStyleModel",
            "_view_count": null,
            "_view_module": "@jupyter-widgets/base",
            "_view_module_version": "1.2.0",
            "_view_name": "StyleView",
            "bar_color": null,
            "description_width": ""
          }
        },
        "a0b70628d2814400b84eacd8cb40d85d": {
          "model_module": "@jupyter-widgets/base",
          "model_name": "LayoutModel",
          "model_module_version": "1.2.0",
          "state": {
            "_model_module": "@jupyter-widgets/base",
            "_model_module_version": "1.2.0",
            "_model_name": "LayoutModel",
            "_view_count": null,
            "_view_module": "@jupyter-widgets/base",
            "_view_module_version": "1.2.0",
            "_view_name": "LayoutView",
            "align_content": null,
            "align_items": null,
            "align_self": null,
            "border": null,
            "bottom": null,
            "display": null,
            "flex": null,
            "flex_flow": null,
            "grid_area": null,
            "grid_auto_columns": null,
            "grid_auto_flow": null,
            "grid_auto_rows": null,
            "grid_column": null,
            "grid_gap": null,
            "grid_row": null,
            "grid_template_areas": null,
            "grid_template_columns": null,
            "grid_template_rows": null,
            "height": null,
            "justify_content": null,
            "justify_items": null,
            "left": null,
            "margin": null,
            "max_height": null,
            "max_width": null,
            "min_height": null,
            "min_width": null,
            "object_fit": null,
            "object_position": null,
            "order": null,
            "overflow": null,
            "overflow_x": null,
            "overflow_y": null,
            "padding": null,
            "right": null,
            "top": null,
            "visibility": null,
            "width": null
          }
        },
        "8d96172df44a4578a4ade96c76e400b5": {
          "model_module": "@jupyter-widgets/controls",
          "model_name": "DescriptionStyleModel",
          "model_module_version": "1.5.0",
          "state": {
            "_model_module": "@jupyter-widgets/controls",
            "_model_module_version": "1.5.0",
            "_model_name": "DescriptionStyleModel",
            "_view_count": null,
            "_view_module": "@jupyter-widgets/base",
            "_view_module_version": "1.2.0",
            "_view_name": "StyleView",
            "description_width": ""
          }
        },
        "9e4250ca97c64bd2a38955e2275acc03": {
          "model_module": "@jupyter-widgets/controls",
          "model_name": "HBoxModel",
          "model_module_version": "1.5.0",
          "state": {
            "_dom_classes": [],
            "_model_module": "@jupyter-widgets/controls",
            "_model_module_version": "1.5.0",
            "_model_name": "HBoxModel",
            "_view_count": null,
            "_view_module": "@jupyter-widgets/controls",
            "_view_module_version": "1.5.0",
            "_view_name": "HBoxView",
            "box_style": "",
            "children": [
              "IPY_MODEL_ac72ef58119a48fab1974d2184ea75f4",
              "IPY_MODEL_4648f68c4b854922a7b864ef0cb623b0",
              "IPY_MODEL_3e41ccdbc3bb4c949efc51f68ee9bb13"
            ],
            "layout": "IPY_MODEL_467624e47f814d0db2d56b0032c97e1d"
          }
        },
        "ac72ef58119a48fab1974d2184ea75f4": {
          "model_module": "@jupyter-widgets/controls",
          "model_name": "HTMLModel",
          "model_module_version": "1.5.0",
          "state": {
            "_dom_classes": [],
            "_model_module": "@jupyter-widgets/controls",
            "_model_module_version": "1.5.0",
            "_model_name": "HTMLModel",
            "_view_count": null,
            "_view_module": "@jupyter-widgets/controls",
            "_view_module_version": "1.5.0",
            "_view_name": "HTMLView",
            "description": "",
            "description_tooltip": null,
            "layout": "IPY_MODEL_5362e89028a7471fa6a7419467ee39e0",
            "placeholder": "​",
            "style": "IPY_MODEL_b51fe10edbfd49efa77609f7ddcc2042",
            "value": ".gitattributes: 100%"
          }
        },
        "4648f68c4b854922a7b864ef0cb623b0": {
          "model_module": "@jupyter-widgets/controls",
          "model_name": "FloatProgressModel",
          "model_module_version": "1.5.0",
          "state": {
            "_dom_classes": [],
            "_model_module": "@jupyter-widgets/controls",
            "_model_module_version": "1.5.0",
            "_model_name": "FloatProgressModel",
            "_view_count": null,
            "_view_module": "@jupyter-widgets/controls",
            "_view_module_version": "1.5.0",
            "_view_name": "ProgressView",
            "bar_style": "success",
            "description": "",
            "description_tooltip": null,
            "layout": "IPY_MODEL_89133eab8d9e4f6b8db9ae1fec41c4e6",
            "max": 1519,
            "min": 0,
            "orientation": "horizontal",
            "style": "IPY_MODEL_d1bdbf833a334554a045d9e4fd21eb94",
            "value": 1519
          }
        },
        "3e41ccdbc3bb4c949efc51f68ee9bb13": {
          "model_module": "@jupyter-widgets/controls",
          "model_name": "HTMLModel",
          "model_module_version": "1.5.0",
          "state": {
            "_dom_classes": [],
            "_model_module": "@jupyter-widgets/controls",
            "_model_module_version": "1.5.0",
            "_model_name": "HTMLModel",
            "_view_count": null,
            "_view_module": "@jupyter-widgets/controls",
            "_view_module_version": "1.5.0",
            "_view_name": "HTMLView",
            "description": "",
            "description_tooltip": null,
            "layout": "IPY_MODEL_ed653250ffe841fcb82b566612dc1328",
            "placeholder": "​",
            "style": "IPY_MODEL_02943e7935f94eacab6a721a8d6ee15c",
            "value": " 1.52k/1.52k [00:00&lt;00:00, 129kB/s]"
          }
        },
        "467624e47f814d0db2d56b0032c97e1d": {
          "model_module": "@jupyter-widgets/base",
          "model_name": "LayoutModel",
          "model_module_version": "1.2.0",
          "state": {
            "_model_module": "@jupyter-widgets/base",
            "_model_module_version": "1.2.0",
            "_model_name": "LayoutModel",
            "_view_count": null,
            "_view_module": "@jupyter-widgets/base",
            "_view_module_version": "1.2.0",
            "_view_name": "LayoutView",
            "align_content": null,
            "align_items": null,
            "align_self": null,
            "border": null,
            "bottom": null,
            "display": null,
            "flex": null,
            "flex_flow": null,
            "grid_area": null,
            "grid_auto_columns": null,
            "grid_auto_flow": null,
            "grid_auto_rows": null,
            "grid_column": null,
            "grid_gap": null,
            "grid_row": null,
            "grid_template_areas": null,
            "grid_template_columns": null,
            "grid_template_rows": null,
            "height": null,
            "justify_content": null,
            "justify_items": null,
            "left": null,
            "margin": null,
            "max_height": null,
            "max_width": null,
            "min_height": null,
            "min_width": null,
            "object_fit": null,
            "object_position": null,
            "order": null,
            "overflow": null,
            "overflow_x": null,
            "overflow_y": null,
            "padding": null,
            "right": null,
            "top": null,
            "visibility": null,
            "width": null
          }
        },
        "5362e89028a7471fa6a7419467ee39e0": {
          "model_module": "@jupyter-widgets/base",
          "model_name": "LayoutModel",
          "model_module_version": "1.2.0",
          "state": {
            "_model_module": "@jupyter-widgets/base",
            "_model_module_version": "1.2.0",
            "_model_name": "LayoutModel",
            "_view_count": null,
            "_view_module": "@jupyter-widgets/base",
            "_view_module_version": "1.2.0",
            "_view_name": "LayoutView",
            "align_content": null,
            "align_items": null,
            "align_self": null,
            "border": null,
            "bottom": null,
            "display": null,
            "flex": null,
            "flex_flow": null,
            "grid_area": null,
            "grid_auto_columns": null,
            "grid_auto_flow": null,
            "grid_auto_rows": null,
            "grid_column": null,
            "grid_gap": null,
            "grid_row": null,
            "grid_template_areas": null,
            "grid_template_columns": null,
            "grid_template_rows": null,
            "height": null,
            "justify_content": null,
            "justify_items": null,
            "left": null,
            "margin": null,
            "max_height": null,
            "max_width": null,
            "min_height": null,
            "min_width": null,
            "object_fit": null,
            "object_position": null,
            "order": null,
            "overflow": null,
            "overflow_x": null,
            "overflow_y": null,
            "padding": null,
            "right": null,
            "top": null,
            "visibility": null,
            "width": null
          }
        },
        "b51fe10edbfd49efa77609f7ddcc2042": {
          "model_module": "@jupyter-widgets/controls",
          "model_name": "DescriptionStyleModel",
          "model_module_version": "1.5.0",
          "state": {
            "_model_module": "@jupyter-widgets/controls",
            "_model_module_version": "1.5.0",
            "_model_name": "DescriptionStyleModel",
            "_view_count": null,
            "_view_module": "@jupyter-widgets/base",
            "_view_module_version": "1.2.0",
            "_view_name": "StyleView",
            "description_width": ""
          }
        },
        "89133eab8d9e4f6b8db9ae1fec41c4e6": {
          "model_module": "@jupyter-widgets/base",
          "model_name": "LayoutModel",
          "model_module_version": "1.2.0",
          "state": {
            "_model_module": "@jupyter-widgets/base",
            "_model_module_version": "1.2.0",
            "_model_name": "LayoutModel",
            "_view_count": null,
            "_view_module": "@jupyter-widgets/base",
            "_view_module_version": "1.2.0",
            "_view_name": "LayoutView",
            "align_content": null,
            "align_items": null,
            "align_self": null,
            "border": null,
            "bottom": null,
            "display": null,
            "flex": null,
            "flex_flow": null,
            "grid_area": null,
            "grid_auto_columns": null,
            "grid_auto_flow": null,
            "grid_auto_rows": null,
            "grid_column": null,
            "grid_gap": null,
            "grid_row": null,
            "grid_template_areas": null,
            "grid_template_columns": null,
            "grid_template_rows": null,
            "height": null,
            "justify_content": null,
            "justify_items": null,
            "left": null,
            "margin": null,
            "max_height": null,
            "max_width": null,
            "min_height": null,
            "min_width": null,
            "object_fit": null,
            "object_position": null,
            "order": null,
            "overflow": null,
            "overflow_x": null,
            "overflow_y": null,
            "padding": null,
            "right": null,
            "top": null,
            "visibility": null,
            "width": null
          }
        },
        "d1bdbf833a334554a045d9e4fd21eb94": {
          "model_module": "@jupyter-widgets/controls",
          "model_name": "ProgressStyleModel",
          "model_module_version": "1.5.0",
          "state": {
            "_model_module": "@jupyter-widgets/controls",
            "_model_module_version": "1.5.0",
            "_model_name": "ProgressStyleModel",
            "_view_count": null,
            "_view_module": "@jupyter-widgets/base",
            "_view_module_version": "1.2.0",
            "_view_name": "StyleView",
            "bar_color": null,
            "description_width": ""
          }
        },
        "ed653250ffe841fcb82b566612dc1328": {
          "model_module": "@jupyter-widgets/base",
          "model_name": "LayoutModel",
          "model_module_version": "1.2.0",
          "state": {
            "_model_module": "@jupyter-widgets/base",
            "_model_module_version": "1.2.0",
            "_model_name": "LayoutModel",
            "_view_count": null,
            "_view_module": "@jupyter-widgets/base",
            "_view_module_version": "1.2.0",
            "_view_name": "LayoutView",
            "align_content": null,
            "align_items": null,
            "align_self": null,
            "border": null,
            "bottom": null,
            "display": null,
            "flex": null,
            "flex_flow": null,
            "grid_area": null,
            "grid_auto_columns": null,
            "grid_auto_flow": null,
            "grid_auto_rows": null,
            "grid_column": null,
            "grid_gap": null,
            "grid_row": null,
            "grid_template_areas": null,
            "grid_template_columns": null,
            "grid_template_rows": null,
            "height": null,
            "justify_content": null,
            "justify_items": null,
            "left": null,
            "margin": null,
            "max_height": null,
            "max_width": null,
            "min_height": null,
            "min_width": null,
            "object_fit": null,
            "object_position": null,
            "order": null,
            "overflow": null,
            "overflow_x": null,
            "overflow_y": null,
            "padding": null,
            "right": null,
            "top": null,
            "visibility": null,
            "width": null
          }
        },
        "02943e7935f94eacab6a721a8d6ee15c": {
          "model_module": "@jupyter-widgets/controls",
          "model_name": "DescriptionStyleModel",
          "model_module_version": "1.5.0",
          "state": {
            "_model_module": "@jupyter-widgets/controls",
            "_model_module_version": "1.5.0",
            "_model_name": "DescriptionStyleModel",
            "_view_count": null,
            "_view_module": "@jupyter-widgets/base",
            "_view_module_version": "1.2.0",
            "_view_name": "StyleView",
            "description_width": ""
          }
        },
        "0c2ce0f67b024ee3bf16c9781d6a11f8": {
          "model_module": "@jupyter-widgets/controls",
          "model_name": "HBoxModel",
          "model_module_version": "1.5.0",
          "state": {
            "_dom_classes": [],
            "_model_module": "@jupyter-widgets/controls",
            "_model_module_version": "1.5.0",
            "_model_name": "HBoxModel",
            "_view_count": null,
            "_view_module": "@jupyter-widgets/controls",
            "_view_module_version": "1.5.0",
            "_view_name": "HBoxView",
            "box_style": "",
            "children": [
              "IPY_MODEL_2d9b3bb661c84323b7e5c6967980dc15",
              "IPY_MODEL_d07ac8ed547e45fdb5a41de65c184a49",
              "IPY_MODEL_86ac4561ef174d87a4d9bd36dc42bf71"
            ],
            "layout": "IPY_MODEL_2a0ee30e400a4166abca4c2c5489d8d7"
          }
        },
        "2d9b3bb661c84323b7e5c6967980dc15": {
          "model_module": "@jupyter-widgets/controls",
          "model_name": "HTMLModel",
          "model_module_version": "1.5.0",
          "state": {
            "_dom_classes": [],
            "_model_module": "@jupyter-widgets/controls",
            "_model_module_version": "1.5.0",
            "_model_name": "HTMLModel",
            "_view_count": null,
            "_view_module": "@jupyter-widgets/controls",
            "_view_module_version": "1.5.0",
            "_view_name": "HTMLView",
            "description": "",
            "description_tooltip": null,
            "layout": "IPY_MODEL_3730bc58b41d4beca2c50998418594f2",
            "placeholder": "​",
            "style": "IPY_MODEL_ae8fb7c870c14a8fa8d68c7e26116162",
            "value": "1_Pooling/config.json: 100%"
          }
        },
        "d07ac8ed547e45fdb5a41de65c184a49": {
          "model_module": "@jupyter-widgets/controls",
          "model_name": "FloatProgressModel",
          "model_module_version": "1.5.0",
          "state": {
            "_dom_classes": [],
            "_model_module": "@jupyter-widgets/controls",
            "_model_module_version": "1.5.0",
            "_model_name": "FloatProgressModel",
            "_view_count": null,
            "_view_module": "@jupyter-widgets/controls",
            "_view_module_version": "1.5.0",
            "_view_name": "ProgressView",
            "bar_style": "success",
            "description": "",
            "description_tooltip": null,
            "layout": "IPY_MODEL_26f8060837a3451cbef5019f160f9f6b",
            "max": 190,
            "min": 0,
            "orientation": "horizontal",
            "style": "IPY_MODEL_cfcb9ac6cf0d49f58005dee564cd6ebc",
            "value": 190
          }
        },
        "86ac4561ef174d87a4d9bd36dc42bf71": {
          "model_module": "@jupyter-widgets/controls",
          "model_name": "HTMLModel",
          "model_module_version": "1.5.0",
          "state": {
            "_dom_classes": [],
            "_model_module": "@jupyter-widgets/controls",
            "_model_module_version": "1.5.0",
            "_model_name": "HTMLModel",
            "_view_count": null,
            "_view_module": "@jupyter-widgets/controls",
            "_view_module_version": "1.5.0",
            "_view_name": "HTMLView",
            "description": "",
            "description_tooltip": null,
            "layout": "IPY_MODEL_f4ac278904244d1d889bbee1c4edae7e",
            "placeholder": "​",
            "style": "IPY_MODEL_87bf6583d2f543ca9cc98aafd77f0233",
            "value": " 190/190 [00:00&lt;00:00, 15.5kB/s]"
          }
        },
        "2a0ee30e400a4166abca4c2c5489d8d7": {
          "model_module": "@jupyter-widgets/base",
          "model_name": "LayoutModel",
          "model_module_version": "1.2.0",
          "state": {
            "_model_module": "@jupyter-widgets/base",
            "_model_module_version": "1.2.0",
            "_model_name": "LayoutModel",
            "_view_count": null,
            "_view_module": "@jupyter-widgets/base",
            "_view_module_version": "1.2.0",
            "_view_name": "LayoutView",
            "align_content": null,
            "align_items": null,
            "align_self": null,
            "border": null,
            "bottom": null,
            "display": null,
            "flex": null,
            "flex_flow": null,
            "grid_area": null,
            "grid_auto_columns": null,
            "grid_auto_flow": null,
            "grid_auto_rows": null,
            "grid_column": null,
            "grid_gap": null,
            "grid_row": null,
            "grid_template_areas": null,
            "grid_template_columns": null,
            "grid_template_rows": null,
            "height": null,
            "justify_content": null,
            "justify_items": null,
            "left": null,
            "margin": null,
            "max_height": null,
            "max_width": null,
            "min_height": null,
            "min_width": null,
            "object_fit": null,
            "object_position": null,
            "order": null,
            "overflow": null,
            "overflow_x": null,
            "overflow_y": null,
            "padding": null,
            "right": null,
            "top": null,
            "visibility": null,
            "width": null
          }
        },
        "3730bc58b41d4beca2c50998418594f2": {
          "model_module": "@jupyter-widgets/base",
          "model_name": "LayoutModel",
          "model_module_version": "1.2.0",
          "state": {
            "_model_module": "@jupyter-widgets/base",
            "_model_module_version": "1.2.0",
            "_model_name": "LayoutModel",
            "_view_count": null,
            "_view_module": "@jupyter-widgets/base",
            "_view_module_version": "1.2.0",
            "_view_name": "LayoutView",
            "align_content": null,
            "align_items": null,
            "align_self": null,
            "border": null,
            "bottom": null,
            "display": null,
            "flex": null,
            "flex_flow": null,
            "grid_area": null,
            "grid_auto_columns": null,
            "grid_auto_flow": null,
            "grid_auto_rows": null,
            "grid_column": null,
            "grid_gap": null,
            "grid_row": null,
            "grid_template_areas": null,
            "grid_template_columns": null,
            "grid_template_rows": null,
            "height": null,
            "justify_content": null,
            "justify_items": null,
            "left": null,
            "margin": null,
            "max_height": null,
            "max_width": null,
            "min_height": null,
            "min_width": null,
            "object_fit": null,
            "object_position": null,
            "order": null,
            "overflow": null,
            "overflow_x": null,
            "overflow_y": null,
            "padding": null,
            "right": null,
            "top": null,
            "visibility": null,
            "width": null
          }
        },
        "ae8fb7c870c14a8fa8d68c7e26116162": {
          "model_module": "@jupyter-widgets/controls",
          "model_name": "DescriptionStyleModel",
          "model_module_version": "1.5.0",
          "state": {
            "_model_module": "@jupyter-widgets/controls",
            "_model_module_version": "1.5.0",
            "_model_name": "DescriptionStyleModel",
            "_view_count": null,
            "_view_module": "@jupyter-widgets/base",
            "_view_module_version": "1.2.0",
            "_view_name": "StyleView",
            "description_width": ""
          }
        },
        "26f8060837a3451cbef5019f160f9f6b": {
          "model_module": "@jupyter-widgets/base",
          "model_name": "LayoutModel",
          "model_module_version": "1.2.0",
          "state": {
            "_model_module": "@jupyter-widgets/base",
            "_model_module_version": "1.2.0",
            "_model_name": "LayoutModel",
            "_view_count": null,
            "_view_module": "@jupyter-widgets/base",
            "_view_module_version": "1.2.0",
            "_view_name": "LayoutView",
            "align_content": null,
            "align_items": null,
            "align_self": null,
            "border": null,
            "bottom": null,
            "display": null,
            "flex": null,
            "flex_flow": null,
            "grid_area": null,
            "grid_auto_columns": null,
            "grid_auto_flow": null,
            "grid_auto_rows": null,
            "grid_column": null,
            "grid_gap": null,
            "grid_row": null,
            "grid_template_areas": null,
            "grid_template_columns": null,
            "grid_template_rows": null,
            "height": null,
            "justify_content": null,
            "justify_items": null,
            "left": null,
            "margin": null,
            "max_height": null,
            "max_width": null,
            "min_height": null,
            "min_width": null,
            "object_fit": null,
            "object_position": null,
            "order": null,
            "overflow": null,
            "overflow_x": null,
            "overflow_y": null,
            "padding": null,
            "right": null,
            "top": null,
            "visibility": null,
            "width": null
          }
        },
        "cfcb9ac6cf0d49f58005dee564cd6ebc": {
          "model_module": "@jupyter-widgets/controls",
          "model_name": "ProgressStyleModel",
          "model_module_version": "1.5.0",
          "state": {
            "_model_module": "@jupyter-widgets/controls",
            "_model_module_version": "1.5.0",
            "_model_name": "ProgressStyleModel",
            "_view_count": null,
            "_view_module": "@jupyter-widgets/base",
            "_view_module_version": "1.2.0",
            "_view_name": "StyleView",
            "bar_color": null,
            "description_width": ""
          }
        },
        "f4ac278904244d1d889bbee1c4edae7e": {
          "model_module": "@jupyter-widgets/base",
          "model_name": "LayoutModel",
          "model_module_version": "1.2.0",
          "state": {
            "_model_module": "@jupyter-widgets/base",
            "_model_module_version": "1.2.0",
            "_model_name": "LayoutModel",
            "_view_count": null,
            "_view_module": "@jupyter-widgets/base",
            "_view_module_version": "1.2.0",
            "_view_name": "LayoutView",
            "align_content": null,
            "align_items": null,
            "align_self": null,
            "border": null,
            "bottom": null,
            "display": null,
            "flex": null,
            "flex_flow": null,
            "grid_area": null,
            "grid_auto_columns": null,
            "grid_auto_flow": null,
            "grid_auto_rows": null,
            "grid_column": null,
            "grid_gap": null,
            "grid_row": null,
            "grid_template_areas": null,
            "grid_template_columns": null,
            "grid_template_rows": null,
            "height": null,
            "justify_content": null,
            "justify_items": null,
            "left": null,
            "margin": null,
            "max_height": null,
            "max_width": null,
            "min_height": null,
            "min_width": null,
            "object_fit": null,
            "object_position": null,
            "order": null,
            "overflow": null,
            "overflow_x": null,
            "overflow_y": null,
            "padding": null,
            "right": null,
            "top": null,
            "visibility": null,
            "width": null
          }
        },
        "87bf6583d2f543ca9cc98aafd77f0233": {
          "model_module": "@jupyter-widgets/controls",
          "model_name": "DescriptionStyleModel",
          "model_module_version": "1.5.0",
          "state": {
            "_model_module": "@jupyter-widgets/controls",
            "_model_module_version": "1.5.0",
            "_model_name": "DescriptionStyleModel",
            "_view_count": null,
            "_view_module": "@jupyter-widgets/base",
            "_view_module_version": "1.2.0",
            "_view_name": "StyleView",
            "description_width": ""
          }
        },
        "57fbd787bff7405da295e940d73e9c7e": {
          "model_module": "@jupyter-widgets/controls",
          "model_name": "HBoxModel",
          "model_module_version": "1.5.0",
          "state": {
            "_dom_classes": [],
            "_model_module": "@jupyter-widgets/controls",
            "_model_module_version": "1.5.0",
            "_model_name": "HBoxModel",
            "_view_count": null,
            "_view_module": "@jupyter-widgets/controls",
            "_view_module_version": "1.5.0",
            "_view_name": "HBoxView",
            "box_style": "",
            "children": [
              "IPY_MODEL_ac144b90e9fd43deb37b7f73eb7f3173",
              "IPY_MODEL_74a5d6cffe424d099b2672cd391581f9",
              "IPY_MODEL_7f6b4d3a90c64cb7b1b8c2df641ba45f"
            ],
            "layout": "IPY_MODEL_f6979aa4fa1343ffbd5b7fee3306f685"
          }
        },
        "ac144b90e9fd43deb37b7f73eb7f3173": {
          "model_module": "@jupyter-widgets/controls",
          "model_name": "HTMLModel",
          "model_module_version": "1.5.0",
          "state": {
            "_dom_classes": [],
            "_model_module": "@jupyter-widgets/controls",
            "_model_module_version": "1.5.0",
            "_model_name": "HTMLModel",
            "_view_count": null,
            "_view_module": "@jupyter-widgets/controls",
            "_view_module_version": "1.5.0",
            "_view_name": "HTMLView",
            "description": "",
            "description_tooltip": null,
            "layout": "IPY_MODEL_541f72fd4e4e4d40a89afa45ce73b8a0",
            "placeholder": "​",
            "style": "IPY_MODEL_0bd5167e026f45ad972b9c506fe63dc8",
            "value": "README.md: 100%"
          }
        },
        "74a5d6cffe424d099b2672cd391581f9": {
          "model_module": "@jupyter-widgets/controls",
          "model_name": "FloatProgressModel",
          "model_module_version": "1.5.0",
          "state": {
            "_dom_classes": [],
            "_model_module": "@jupyter-widgets/controls",
            "_model_module_version": "1.5.0",
            "_model_name": "FloatProgressModel",
            "_view_count": null,
            "_view_module": "@jupyter-widgets/controls",
            "_view_module_version": "1.5.0",
            "_view_name": "ProgressView",
            "bar_style": "success",
            "description": "",
            "description_tooltip": null,
            "layout": "IPY_MODEL_ea708bb570214c7fa72a2bea7956456d",
            "max": 90069,
            "min": 0,
            "orientation": "horizontal",
            "style": "IPY_MODEL_03cd43417a0d43719d2617bbbe226154",
            "value": 90069
          }
        },
        "7f6b4d3a90c64cb7b1b8c2df641ba45f": {
          "model_module": "@jupyter-widgets/controls",
          "model_name": "HTMLModel",
          "model_module_version": "1.5.0",
          "state": {
            "_dom_classes": [],
            "_model_module": "@jupyter-widgets/controls",
            "_model_module_version": "1.5.0",
            "_model_name": "HTMLModel",
            "_view_count": null,
            "_view_module": "@jupyter-widgets/controls",
            "_view_module_version": "1.5.0",
            "_view_name": "HTMLView",
            "description": "",
            "description_tooltip": null,
            "layout": "IPY_MODEL_dbe810fb0f3b4efaa5b783f399a94738",
            "placeholder": "​",
            "style": "IPY_MODEL_b16a8dcc19dd4e0cafc42af6c3748bce",
            "value": " 90.1k/90.1k [00:00&lt;00:00, 465kB/s]"
          }
        },
        "f6979aa4fa1343ffbd5b7fee3306f685": {
          "model_module": "@jupyter-widgets/base",
          "model_name": "LayoutModel",
          "model_module_version": "1.2.0",
          "state": {
            "_model_module": "@jupyter-widgets/base",
            "_model_module_version": "1.2.0",
            "_model_name": "LayoutModel",
            "_view_count": null,
            "_view_module": "@jupyter-widgets/base",
            "_view_module_version": "1.2.0",
            "_view_name": "LayoutView",
            "align_content": null,
            "align_items": null,
            "align_self": null,
            "border": null,
            "bottom": null,
            "display": null,
            "flex": null,
            "flex_flow": null,
            "grid_area": null,
            "grid_auto_columns": null,
            "grid_auto_flow": null,
            "grid_auto_rows": null,
            "grid_column": null,
            "grid_gap": null,
            "grid_row": null,
            "grid_template_areas": null,
            "grid_template_columns": null,
            "grid_template_rows": null,
            "height": null,
            "justify_content": null,
            "justify_items": null,
            "left": null,
            "margin": null,
            "max_height": null,
            "max_width": null,
            "min_height": null,
            "min_width": null,
            "object_fit": null,
            "object_position": null,
            "order": null,
            "overflow": null,
            "overflow_x": null,
            "overflow_y": null,
            "padding": null,
            "right": null,
            "top": null,
            "visibility": null,
            "width": null
          }
        },
        "541f72fd4e4e4d40a89afa45ce73b8a0": {
          "model_module": "@jupyter-widgets/base",
          "model_name": "LayoutModel",
          "model_module_version": "1.2.0",
          "state": {
            "_model_module": "@jupyter-widgets/base",
            "_model_module_version": "1.2.0",
            "_model_name": "LayoutModel",
            "_view_count": null,
            "_view_module": "@jupyter-widgets/base",
            "_view_module_version": "1.2.0",
            "_view_name": "LayoutView",
            "align_content": null,
            "align_items": null,
            "align_self": null,
            "border": null,
            "bottom": null,
            "display": null,
            "flex": null,
            "flex_flow": null,
            "grid_area": null,
            "grid_auto_columns": null,
            "grid_auto_flow": null,
            "grid_auto_rows": null,
            "grid_column": null,
            "grid_gap": null,
            "grid_row": null,
            "grid_template_areas": null,
            "grid_template_columns": null,
            "grid_template_rows": null,
            "height": null,
            "justify_content": null,
            "justify_items": null,
            "left": null,
            "margin": null,
            "max_height": null,
            "max_width": null,
            "min_height": null,
            "min_width": null,
            "object_fit": null,
            "object_position": null,
            "order": null,
            "overflow": null,
            "overflow_x": null,
            "overflow_y": null,
            "padding": null,
            "right": null,
            "top": null,
            "visibility": null,
            "width": null
          }
        },
        "0bd5167e026f45ad972b9c506fe63dc8": {
          "model_module": "@jupyter-widgets/controls",
          "model_name": "DescriptionStyleModel",
          "model_module_version": "1.5.0",
          "state": {
            "_model_module": "@jupyter-widgets/controls",
            "_model_module_version": "1.5.0",
            "_model_name": "DescriptionStyleModel",
            "_view_count": null,
            "_view_module": "@jupyter-widgets/base",
            "_view_module_version": "1.2.0",
            "_view_name": "StyleView",
            "description_width": ""
          }
        },
        "ea708bb570214c7fa72a2bea7956456d": {
          "model_module": "@jupyter-widgets/base",
          "model_name": "LayoutModel",
          "model_module_version": "1.2.0",
          "state": {
            "_model_module": "@jupyter-widgets/base",
            "_model_module_version": "1.2.0",
            "_model_name": "LayoutModel",
            "_view_count": null,
            "_view_module": "@jupyter-widgets/base",
            "_view_module_version": "1.2.0",
            "_view_name": "LayoutView",
            "align_content": null,
            "align_items": null,
            "align_self": null,
            "border": null,
            "bottom": null,
            "display": null,
            "flex": null,
            "flex_flow": null,
            "grid_area": null,
            "grid_auto_columns": null,
            "grid_auto_flow": null,
            "grid_auto_rows": null,
            "grid_column": null,
            "grid_gap": null,
            "grid_row": null,
            "grid_template_areas": null,
            "grid_template_columns": null,
            "grid_template_rows": null,
            "height": null,
            "justify_content": null,
            "justify_items": null,
            "left": null,
            "margin": null,
            "max_height": null,
            "max_width": null,
            "min_height": null,
            "min_width": null,
            "object_fit": null,
            "object_position": null,
            "order": null,
            "overflow": null,
            "overflow_x": null,
            "overflow_y": null,
            "padding": null,
            "right": null,
            "top": null,
            "visibility": null,
            "width": null
          }
        },
        "03cd43417a0d43719d2617bbbe226154": {
          "model_module": "@jupyter-widgets/controls",
          "model_name": "ProgressStyleModel",
          "model_module_version": "1.5.0",
          "state": {
            "_model_module": "@jupyter-widgets/controls",
            "_model_module_version": "1.5.0",
            "_model_name": "ProgressStyleModel",
            "_view_count": null,
            "_view_module": "@jupyter-widgets/base",
            "_view_module_version": "1.2.0",
            "_view_name": "StyleView",
            "bar_color": null,
            "description_width": ""
          }
        },
        "dbe810fb0f3b4efaa5b783f399a94738": {
          "model_module": "@jupyter-widgets/base",
          "model_name": "LayoutModel",
          "model_module_version": "1.2.0",
          "state": {
            "_model_module": "@jupyter-widgets/base",
            "_model_module_version": "1.2.0",
            "_model_name": "LayoutModel",
            "_view_count": null,
            "_view_module": "@jupyter-widgets/base",
            "_view_module_version": "1.2.0",
            "_view_name": "LayoutView",
            "align_content": null,
            "align_items": null,
            "align_self": null,
            "border": null,
            "bottom": null,
            "display": null,
            "flex": null,
            "flex_flow": null,
            "grid_area": null,
            "grid_auto_columns": null,
            "grid_auto_flow": null,
            "grid_auto_rows": null,
            "grid_column": null,
            "grid_gap": null,
            "grid_row": null,
            "grid_template_areas": null,
            "grid_template_columns": null,
            "grid_template_rows": null,
            "height": null,
            "justify_content": null,
            "justify_items": null,
            "left": null,
            "margin": null,
            "max_height": null,
            "max_width": null,
            "min_height": null,
            "min_width": null,
            "object_fit": null,
            "object_position": null,
            "order": null,
            "overflow": null,
            "overflow_x": null,
            "overflow_y": null,
            "padding": null,
            "right": null,
            "top": null,
            "visibility": null,
            "width": null
          }
        },
        "b16a8dcc19dd4e0cafc42af6c3748bce": {
          "model_module": "@jupyter-widgets/controls",
          "model_name": "DescriptionStyleModel",
          "model_module_version": "1.5.0",
          "state": {
            "_model_module": "@jupyter-widgets/controls",
            "_model_module_version": "1.5.0",
            "_model_name": "DescriptionStyleModel",
            "_view_count": null,
            "_view_module": "@jupyter-widgets/base",
            "_view_module_version": "1.2.0",
            "_view_name": "StyleView",
            "description_width": ""
          }
        },
        "0f6cac6d5c8a40a4bf34971eac3f8f6d": {
          "model_module": "@jupyter-widgets/controls",
          "model_name": "HBoxModel",
          "model_module_version": "1.5.0",
          "state": {
            "_dom_classes": [],
            "_model_module": "@jupyter-widgets/controls",
            "_model_module_version": "1.5.0",
            "_model_name": "HBoxModel",
            "_view_count": null,
            "_view_module": "@jupyter-widgets/controls",
            "_view_module_version": "1.5.0",
            "_view_name": "HBoxView",
            "box_style": "",
            "children": [
              "IPY_MODEL_301eeb6df9664e4bb310ad620a9cfbc4",
              "IPY_MODEL_d9f0952a38c741578d2b328bc90d49d2",
              "IPY_MODEL_6f88be65f4144ca7a7244120c674a063"
            ],
            "layout": "IPY_MODEL_83b84f7995494aff999d3d2e246161d6"
          }
        },
        "301eeb6df9664e4bb310ad620a9cfbc4": {
          "model_module": "@jupyter-widgets/controls",
          "model_name": "HTMLModel",
          "model_module_version": "1.5.0",
          "state": {
            "_dom_classes": [],
            "_model_module": "@jupyter-widgets/controls",
            "_model_module_version": "1.5.0",
            "_model_name": "HTMLModel",
            "_view_count": null,
            "_view_module": "@jupyter-widgets/controls",
            "_view_module_version": "1.5.0",
            "_view_name": "HTMLView",
            "description": "",
            "description_tooltip": null,
            "layout": "IPY_MODEL_594d885f7dfe4ad695fde961b63e98a8",
            "placeholder": "​",
            "style": "IPY_MODEL_97f34dfb1319462586d59f883a792630",
            "value": "config.json: 100%"
          }
        },
        "d9f0952a38c741578d2b328bc90d49d2": {
          "model_module": "@jupyter-widgets/controls",
          "model_name": "FloatProgressModel",
          "model_module_version": "1.5.0",
          "state": {
            "_dom_classes": [],
            "_model_module": "@jupyter-widgets/controls",
            "_model_module_version": "1.5.0",
            "_model_name": "FloatProgressModel",
            "_view_count": null,
            "_view_module": "@jupyter-widgets/controls",
            "_view_module_version": "1.5.0",
            "_view_name": "ProgressView",
            "bar_style": "success",
            "description": "",
            "description_tooltip": null,
            "layout": "IPY_MODEL_e28c08db6d2a4cefa12eaf7ad8d8be7f",
            "max": 719,
            "min": 0,
            "orientation": "horizontal",
            "style": "IPY_MODEL_1ab63714f68f4651bc8d741d3091eba1",
            "value": 719
          }
        },
        "6f88be65f4144ca7a7244120c674a063": {
          "model_module": "@jupyter-widgets/controls",
          "model_name": "HTMLModel",
          "model_module_version": "1.5.0",
          "state": {
            "_dom_classes": [],
            "_model_module": "@jupyter-widgets/controls",
            "_model_module_version": "1.5.0",
            "_model_name": "HTMLModel",
            "_view_count": null,
            "_view_module": "@jupyter-widgets/controls",
            "_view_module_version": "1.5.0",
            "_view_name": "HTMLView",
            "description": "",
            "description_tooltip": null,
            "layout": "IPY_MODEL_13df172fb85541cb8438da48e44eb6eb",
            "placeholder": "​",
            "style": "IPY_MODEL_30f3c5b1c97e401291c2514f2362bb7d",
            "value": " 719/719 [00:00&lt;00:00, 58.7kB/s]"
          }
        },
        "83b84f7995494aff999d3d2e246161d6": {
          "model_module": "@jupyter-widgets/base",
          "model_name": "LayoutModel",
          "model_module_version": "1.2.0",
          "state": {
            "_model_module": "@jupyter-widgets/base",
            "_model_module_version": "1.2.0",
            "_model_name": "LayoutModel",
            "_view_count": null,
            "_view_module": "@jupyter-widgets/base",
            "_view_module_version": "1.2.0",
            "_view_name": "LayoutView",
            "align_content": null,
            "align_items": null,
            "align_self": null,
            "border": null,
            "bottom": null,
            "display": null,
            "flex": null,
            "flex_flow": null,
            "grid_area": null,
            "grid_auto_columns": null,
            "grid_auto_flow": null,
            "grid_auto_rows": null,
            "grid_column": null,
            "grid_gap": null,
            "grid_row": null,
            "grid_template_areas": null,
            "grid_template_columns": null,
            "grid_template_rows": null,
            "height": null,
            "justify_content": null,
            "justify_items": null,
            "left": null,
            "margin": null,
            "max_height": null,
            "max_width": null,
            "min_height": null,
            "min_width": null,
            "object_fit": null,
            "object_position": null,
            "order": null,
            "overflow": null,
            "overflow_x": null,
            "overflow_y": null,
            "padding": null,
            "right": null,
            "top": null,
            "visibility": null,
            "width": null
          }
        },
        "594d885f7dfe4ad695fde961b63e98a8": {
          "model_module": "@jupyter-widgets/base",
          "model_name": "LayoutModel",
          "model_module_version": "1.2.0",
          "state": {
            "_model_module": "@jupyter-widgets/base",
            "_model_module_version": "1.2.0",
            "_model_name": "LayoutModel",
            "_view_count": null,
            "_view_module": "@jupyter-widgets/base",
            "_view_module_version": "1.2.0",
            "_view_name": "LayoutView",
            "align_content": null,
            "align_items": null,
            "align_self": null,
            "border": null,
            "bottom": null,
            "display": null,
            "flex": null,
            "flex_flow": null,
            "grid_area": null,
            "grid_auto_columns": null,
            "grid_auto_flow": null,
            "grid_auto_rows": null,
            "grid_column": null,
            "grid_gap": null,
            "grid_row": null,
            "grid_template_areas": null,
            "grid_template_columns": null,
            "grid_template_rows": null,
            "height": null,
            "justify_content": null,
            "justify_items": null,
            "left": null,
            "margin": null,
            "max_height": null,
            "max_width": null,
            "min_height": null,
            "min_width": null,
            "object_fit": null,
            "object_position": null,
            "order": null,
            "overflow": null,
            "overflow_x": null,
            "overflow_y": null,
            "padding": null,
            "right": null,
            "top": null,
            "visibility": null,
            "width": null
          }
        },
        "97f34dfb1319462586d59f883a792630": {
          "model_module": "@jupyter-widgets/controls",
          "model_name": "DescriptionStyleModel",
          "model_module_version": "1.5.0",
          "state": {
            "_model_module": "@jupyter-widgets/controls",
            "_model_module_version": "1.5.0",
            "_model_name": "DescriptionStyleModel",
            "_view_count": null,
            "_view_module": "@jupyter-widgets/base",
            "_view_module_version": "1.2.0",
            "_view_name": "StyleView",
            "description_width": ""
          }
        },
        "e28c08db6d2a4cefa12eaf7ad8d8be7f": {
          "model_module": "@jupyter-widgets/base",
          "model_name": "LayoutModel",
          "model_module_version": "1.2.0",
          "state": {
            "_model_module": "@jupyter-widgets/base",
            "_model_module_version": "1.2.0",
            "_model_name": "LayoutModel",
            "_view_count": null,
            "_view_module": "@jupyter-widgets/base",
            "_view_module_version": "1.2.0",
            "_view_name": "LayoutView",
            "align_content": null,
            "align_items": null,
            "align_self": null,
            "border": null,
            "bottom": null,
            "display": null,
            "flex": null,
            "flex_flow": null,
            "grid_area": null,
            "grid_auto_columns": null,
            "grid_auto_flow": null,
            "grid_auto_rows": null,
            "grid_column": null,
            "grid_gap": null,
            "grid_row": null,
            "grid_template_areas": null,
            "grid_template_columns": null,
            "grid_template_rows": null,
            "height": null,
            "justify_content": null,
            "justify_items": null,
            "left": null,
            "margin": null,
            "max_height": null,
            "max_width": null,
            "min_height": null,
            "min_width": null,
            "object_fit": null,
            "object_position": null,
            "order": null,
            "overflow": null,
            "overflow_x": null,
            "overflow_y": null,
            "padding": null,
            "right": null,
            "top": null,
            "visibility": null,
            "width": null
          }
        },
        "1ab63714f68f4651bc8d741d3091eba1": {
          "model_module": "@jupyter-widgets/controls",
          "model_name": "ProgressStyleModel",
          "model_module_version": "1.5.0",
          "state": {
            "_model_module": "@jupyter-widgets/controls",
            "_model_module_version": "1.5.0",
            "_model_name": "ProgressStyleModel",
            "_view_count": null,
            "_view_module": "@jupyter-widgets/base",
            "_view_module_version": "1.2.0",
            "_view_name": "StyleView",
            "bar_color": null,
            "description_width": ""
          }
        },
        "13df172fb85541cb8438da48e44eb6eb": {
          "model_module": "@jupyter-widgets/base",
          "model_name": "LayoutModel",
          "model_module_version": "1.2.0",
          "state": {
            "_model_module": "@jupyter-widgets/base",
            "_model_module_version": "1.2.0",
            "_model_name": "LayoutModel",
            "_view_count": null,
            "_view_module": "@jupyter-widgets/base",
            "_view_module_version": "1.2.0",
            "_view_name": "LayoutView",
            "align_content": null,
            "align_items": null,
            "align_self": null,
            "border": null,
            "bottom": null,
            "display": null,
            "flex": null,
            "flex_flow": null,
            "grid_area": null,
            "grid_auto_columns": null,
            "grid_auto_flow": null,
            "grid_auto_rows": null,
            "grid_column": null,
            "grid_gap": null,
            "grid_row": null,
            "grid_template_areas": null,
            "grid_template_columns": null,
            "grid_template_rows": null,
            "height": null,
            "justify_content": null,
            "justify_items": null,
            "left": null,
            "margin": null,
            "max_height": null,
            "max_width": null,
            "min_height": null,
            "min_width": null,
            "object_fit": null,
            "object_position": null,
            "order": null,
            "overflow": null,
            "overflow_x": null,
            "overflow_y": null,
            "padding": null,
            "right": null,
            "top": null,
            "visibility": null,
            "width": null
          }
        },
        "30f3c5b1c97e401291c2514f2362bb7d": {
          "model_module": "@jupyter-widgets/controls",
          "model_name": "DescriptionStyleModel",
          "model_module_version": "1.5.0",
          "state": {
            "_model_module": "@jupyter-widgets/controls",
            "_model_module_version": "1.5.0",
            "_model_name": "DescriptionStyleModel",
            "_view_count": null,
            "_view_module": "@jupyter-widgets/base",
            "_view_module_version": "1.2.0",
            "_view_name": "StyleView",
            "description_width": ""
          }
        },
        "759ef5456cc54db58032b2baddc3d44a": {
          "model_module": "@jupyter-widgets/controls",
          "model_name": "HBoxModel",
          "model_module_version": "1.5.0",
          "state": {
            "_dom_classes": [],
            "_model_module": "@jupyter-widgets/controls",
            "_model_module_version": "1.5.0",
            "_model_name": "HBoxModel",
            "_view_count": null,
            "_view_module": "@jupyter-widgets/controls",
            "_view_module_version": "1.5.0",
            "_view_name": "HBoxView",
            "box_style": "",
            "children": [
              "IPY_MODEL_42b40bcb8cb345d9b68cf58ddbb13fcb",
              "IPY_MODEL_857c77c1610e4cc3845b54440e8d9bd8",
              "IPY_MODEL_7f259c655afd46ba958b259716652f40"
            ],
            "layout": "IPY_MODEL_27d425675cd244509430ccc6363c0bfa"
          }
        },
        "42b40bcb8cb345d9b68cf58ddbb13fcb": {
          "model_module": "@jupyter-widgets/controls",
          "model_name": "HTMLModel",
          "model_module_version": "1.5.0",
          "state": {
            "_dom_classes": [],
            "_model_module": "@jupyter-widgets/controls",
            "_model_module_version": "1.5.0",
            "_model_name": "HTMLModel",
            "_view_count": null,
            "_view_module": "@jupyter-widgets/controls",
            "_view_module_version": "1.5.0",
            "_view_name": "HTMLView",
            "description": "",
            "description_tooltip": null,
            "layout": "IPY_MODEL_6fa4e25e79f642e48c68d0bdbf844655",
            "placeholder": "​",
            "style": "IPY_MODEL_48333c2baa0e4a42bb32749df1424611",
            "value": "config_sentence_transformers.json: 100%"
          }
        },
        "857c77c1610e4cc3845b54440e8d9bd8": {
          "model_module": "@jupyter-widgets/controls",
          "model_name": "FloatProgressModel",
          "model_module_version": "1.5.0",
          "state": {
            "_dom_classes": [],
            "_model_module": "@jupyter-widgets/controls",
            "_model_module_version": "1.5.0",
            "_model_name": "FloatProgressModel",
            "_view_count": null,
            "_view_module": "@jupyter-widgets/controls",
            "_view_module_version": "1.5.0",
            "_view_name": "ProgressView",
            "bar_style": "success",
            "description": "",
            "description_tooltip": null,
            "layout": "IPY_MODEL_26d0559b673c4f2fba44a0a821f1554e",
            "max": 124,
            "min": 0,
            "orientation": "horizontal",
            "style": "IPY_MODEL_5ab7322e6ab34338959d3a6b7dc47f23",
            "value": 124
          }
        },
        "7f259c655afd46ba958b259716652f40": {
          "model_module": "@jupyter-widgets/controls",
          "model_name": "HTMLModel",
          "model_module_version": "1.5.0",
          "state": {
            "_dom_classes": [],
            "_model_module": "@jupyter-widgets/controls",
            "_model_module_version": "1.5.0",
            "_model_name": "HTMLModel",
            "_view_count": null,
            "_view_module": "@jupyter-widgets/controls",
            "_view_module_version": "1.5.0",
            "_view_name": "HTMLView",
            "description": "",
            "description_tooltip": null,
            "layout": "IPY_MODEL_e4c5b6b530cf4330a55fd1ffe0af33c3",
            "placeholder": "​",
            "style": "IPY_MODEL_d76f1455c4d942759af37cc820cd015b",
            "value": " 124/124 [00:00&lt;00:00, 10.3kB/s]"
          }
        },
        "27d425675cd244509430ccc6363c0bfa": {
          "model_module": "@jupyter-widgets/base",
          "model_name": "LayoutModel",
          "model_module_version": "1.2.0",
          "state": {
            "_model_module": "@jupyter-widgets/base",
            "_model_module_version": "1.2.0",
            "_model_name": "LayoutModel",
            "_view_count": null,
            "_view_module": "@jupyter-widgets/base",
            "_view_module_version": "1.2.0",
            "_view_name": "LayoutView",
            "align_content": null,
            "align_items": null,
            "align_self": null,
            "border": null,
            "bottom": null,
            "display": null,
            "flex": null,
            "flex_flow": null,
            "grid_area": null,
            "grid_auto_columns": null,
            "grid_auto_flow": null,
            "grid_auto_rows": null,
            "grid_column": null,
            "grid_gap": null,
            "grid_row": null,
            "grid_template_areas": null,
            "grid_template_columns": null,
            "grid_template_rows": null,
            "height": null,
            "justify_content": null,
            "justify_items": null,
            "left": null,
            "margin": null,
            "max_height": null,
            "max_width": null,
            "min_height": null,
            "min_width": null,
            "object_fit": null,
            "object_position": null,
            "order": null,
            "overflow": null,
            "overflow_x": null,
            "overflow_y": null,
            "padding": null,
            "right": null,
            "top": null,
            "visibility": null,
            "width": null
          }
        },
        "6fa4e25e79f642e48c68d0bdbf844655": {
          "model_module": "@jupyter-widgets/base",
          "model_name": "LayoutModel",
          "model_module_version": "1.2.0",
          "state": {
            "_model_module": "@jupyter-widgets/base",
            "_model_module_version": "1.2.0",
            "_model_name": "LayoutModel",
            "_view_count": null,
            "_view_module": "@jupyter-widgets/base",
            "_view_module_version": "1.2.0",
            "_view_name": "LayoutView",
            "align_content": null,
            "align_items": null,
            "align_self": null,
            "border": null,
            "bottom": null,
            "display": null,
            "flex": null,
            "flex_flow": null,
            "grid_area": null,
            "grid_auto_columns": null,
            "grid_auto_flow": null,
            "grid_auto_rows": null,
            "grid_column": null,
            "grid_gap": null,
            "grid_row": null,
            "grid_template_areas": null,
            "grid_template_columns": null,
            "grid_template_rows": null,
            "height": null,
            "justify_content": null,
            "justify_items": null,
            "left": null,
            "margin": null,
            "max_height": null,
            "max_width": null,
            "min_height": null,
            "min_width": null,
            "object_fit": null,
            "object_position": null,
            "order": null,
            "overflow": null,
            "overflow_x": null,
            "overflow_y": null,
            "padding": null,
            "right": null,
            "top": null,
            "visibility": null,
            "width": null
          }
        },
        "48333c2baa0e4a42bb32749df1424611": {
          "model_module": "@jupyter-widgets/controls",
          "model_name": "DescriptionStyleModel",
          "model_module_version": "1.5.0",
          "state": {
            "_model_module": "@jupyter-widgets/controls",
            "_model_module_version": "1.5.0",
            "_model_name": "DescriptionStyleModel",
            "_view_count": null,
            "_view_module": "@jupyter-widgets/base",
            "_view_module_version": "1.2.0",
            "_view_name": "StyleView",
            "description_width": ""
          }
        },
        "26d0559b673c4f2fba44a0a821f1554e": {
          "model_module": "@jupyter-widgets/base",
          "model_name": "LayoutModel",
          "model_module_version": "1.2.0",
          "state": {
            "_model_module": "@jupyter-widgets/base",
            "_model_module_version": "1.2.0",
            "_model_name": "LayoutModel",
            "_view_count": null,
            "_view_module": "@jupyter-widgets/base",
            "_view_module_version": "1.2.0",
            "_view_name": "LayoutView",
            "align_content": null,
            "align_items": null,
            "align_self": null,
            "border": null,
            "bottom": null,
            "display": null,
            "flex": null,
            "flex_flow": null,
            "grid_area": null,
            "grid_auto_columns": null,
            "grid_auto_flow": null,
            "grid_auto_rows": null,
            "grid_column": null,
            "grid_gap": null,
            "grid_row": null,
            "grid_template_areas": null,
            "grid_template_columns": null,
            "grid_template_rows": null,
            "height": null,
            "justify_content": null,
            "justify_items": null,
            "left": null,
            "margin": null,
            "max_height": null,
            "max_width": null,
            "min_height": null,
            "min_width": null,
            "object_fit": null,
            "object_position": null,
            "order": null,
            "overflow": null,
            "overflow_x": null,
            "overflow_y": null,
            "padding": null,
            "right": null,
            "top": null,
            "visibility": null,
            "width": null
          }
        },
        "5ab7322e6ab34338959d3a6b7dc47f23": {
          "model_module": "@jupyter-widgets/controls",
          "model_name": "ProgressStyleModel",
          "model_module_version": "1.5.0",
          "state": {
            "_model_module": "@jupyter-widgets/controls",
            "_model_module_version": "1.5.0",
            "_model_name": "ProgressStyleModel",
            "_view_count": null,
            "_view_module": "@jupyter-widgets/base",
            "_view_module_version": "1.2.0",
            "_view_name": "StyleView",
            "bar_color": null,
            "description_width": ""
          }
        },
        "e4c5b6b530cf4330a55fd1ffe0af33c3": {
          "model_module": "@jupyter-widgets/base",
          "model_name": "LayoutModel",
          "model_module_version": "1.2.0",
          "state": {
            "_model_module": "@jupyter-widgets/base",
            "_model_module_version": "1.2.0",
            "_model_name": "LayoutModel",
            "_view_count": null,
            "_view_module": "@jupyter-widgets/base",
            "_view_module_version": "1.2.0",
            "_view_name": "LayoutView",
            "align_content": null,
            "align_items": null,
            "align_self": null,
            "border": null,
            "bottom": null,
            "display": null,
            "flex": null,
            "flex_flow": null,
            "grid_area": null,
            "grid_auto_columns": null,
            "grid_auto_flow": null,
            "grid_auto_rows": null,
            "grid_column": null,
            "grid_gap": null,
            "grid_row": null,
            "grid_template_areas": null,
            "grid_template_columns": null,
            "grid_template_rows": null,
            "height": null,
            "justify_content": null,
            "justify_items": null,
            "left": null,
            "margin": null,
            "max_height": null,
            "max_width": null,
            "min_height": null,
            "min_width": null,
            "object_fit": null,
            "object_position": null,
            "order": null,
            "overflow": null,
            "overflow_x": null,
            "overflow_y": null,
            "padding": null,
            "right": null,
            "top": null,
            "visibility": null,
            "width": null
          }
        },
        "d76f1455c4d942759af37cc820cd015b": {
          "model_module": "@jupyter-widgets/controls",
          "model_name": "DescriptionStyleModel",
          "model_module_version": "1.5.0",
          "state": {
            "_model_module": "@jupyter-widgets/controls",
            "_model_module_version": "1.5.0",
            "_model_name": "DescriptionStyleModel",
            "_view_count": null,
            "_view_module": "@jupyter-widgets/base",
            "_view_module_version": "1.2.0",
            "_view_name": "StyleView",
            "description_width": ""
          }
        },
        "3f303f8bc33747a7bb2da3ef775dace7": {
          "model_module": "@jupyter-widgets/controls",
          "model_name": "HBoxModel",
          "model_module_version": "1.5.0",
          "state": {
            "_dom_classes": [],
            "_model_module": "@jupyter-widgets/controls",
            "_model_module_version": "1.5.0",
            "_model_name": "HBoxModel",
            "_view_count": null,
            "_view_module": "@jupyter-widgets/controls",
            "_view_module_version": "1.5.0",
            "_view_name": "HBoxView",
            "box_style": "",
            "children": [
              "IPY_MODEL_a2f05872151642e6a7a1bb713f43143f",
              "IPY_MODEL_2a2f574082e142019f69436dee100a3b",
              "IPY_MODEL_e2d6821f201d4134881b7e0c7fd96f8b"
            ],
            "layout": "IPY_MODEL_f0e1be38ab8a4246a3826a77f3291d1f"
          }
        },
        "a2f05872151642e6a7a1bb713f43143f": {
          "model_module": "@jupyter-widgets/controls",
          "model_name": "HTMLModel",
          "model_module_version": "1.5.0",
          "state": {
            "_dom_classes": [],
            "_model_module": "@jupyter-widgets/controls",
            "_model_module_version": "1.5.0",
            "_model_name": "HTMLModel",
            "_view_count": null,
            "_view_module": "@jupyter-widgets/controls",
            "_view_module_version": "1.5.0",
            "_view_name": "HTMLView",
            "description": "",
            "description_tooltip": null,
            "layout": "IPY_MODEL_0e3eca3530134cb1a1ce97a3930825ec",
            "placeholder": "​",
            "style": "IPY_MODEL_8ee2fda874f748a280cb285e2b564174",
            "value": "model.safetensors: 100%"
          }
        },
        "2a2f574082e142019f69436dee100a3b": {
          "model_module": "@jupyter-widgets/controls",
          "model_name": "FloatProgressModel",
          "model_module_version": "1.5.0",
          "state": {
            "_dom_classes": [],
            "_model_module": "@jupyter-widgets/controls",
            "_model_module_version": "1.5.0",
            "_model_name": "FloatProgressModel",
            "_view_count": null,
            "_view_module": "@jupyter-widgets/controls",
            "_view_module_version": "1.5.0",
            "_view_name": "ProgressView",
            "bar_style": "success",
            "description": "",
            "description_tooltip": null,
            "layout": "IPY_MODEL_56476ba34a1d477cb8267a6af94982cc",
            "max": 437955512,
            "min": 0,
            "orientation": "horizontal",
            "style": "IPY_MODEL_d46e91a146e14526971ad885365b8763",
            "value": 437955512
          }
        },
        "e2d6821f201d4134881b7e0c7fd96f8b": {
          "model_module": "@jupyter-widgets/controls",
          "model_name": "HTMLModel",
          "model_module_version": "1.5.0",
          "state": {
            "_dom_classes": [],
            "_model_module": "@jupyter-widgets/controls",
            "_model_module_version": "1.5.0",
            "_model_name": "HTMLModel",
            "_view_count": null,
            "_view_module": "@jupyter-widgets/controls",
            "_view_module_version": "1.5.0",
            "_view_name": "HTMLView",
            "description": "",
            "description_tooltip": null,
            "layout": "IPY_MODEL_c59a4ddf006846ec91295db652149d95",
            "placeholder": "​",
            "style": "IPY_MODEL_13ca9ae5e97a4e0c9297e085d612f55e",
            "value": " 438M/438M [00:06&lt;00:00, 70.8MB/s]"
          }
        },
        "f0e1be38ab8a4246a3826a77f3291d1f": {
          "model_module": "@jupyter-widgets/base",
          "model_name": "LayoutModel",
          "model_module_version": "1.2.0",
          "state": {
            "_model_module": "@jupyter-widgets/base",
            "_model_module_version": "1.2.0",
            "_model_name": "LayoutModel",
            "_view_count": null,
            "_view_module": "@jupyter-widgets/base",
            "_view_module_version": "1.2.0",
            "_view_name": "LayoutView",
            "align_content": null,
            "align_items": null,
            "align_self": null,
            "border": null,
            "bottom": null,
            "display": null,
            "flex": null,
            "flex_flow": null,
            "grid_area": null,
            "grid_auto_columns": null,
            "grid_auto_flow": null,
            "grid_auto_rows": null,
            "grid_column": null,
            "grid_gap": null,
            "grid_row": null,
            "grid_template_areas": null,
            "grid_template_columns": null,
            "grid_template_rows": null,
            "height": null,
            "justify_content": null,
            "justify_items": null,
            "left": null,
            "margin": null,
            "max_height": null,
            "max_width": null,
            "min_height": null,
            "min_width": null,
            "object_fit": null,
            "object_position": null,
            "order": null,
            "overflow": null,
            "overflow_x": null,
            "overflow_y": null,
            "padding": null,
            "right": null,
            "top": null,
            "visibility": null,
            "width": null
          }
        },
        "0e3eca3530134cb1a1ce97a3930825ec": {
          "model_module": "@jupyter-widgets/base",
          "model_name": "LayoutModel",
          "model_module_version": "1.2.0",
          "state": {
            "_model_module": "@jupyter-widgets/base",
            "_model_module_version": "1.2.0",
            "_model_name": "LayoutModel",
            "_view_count": null,
            "_view_module": "@jupyter-widgets/base",
            "_view_module_version": "1.2.0",
            "_view_name": "LayoutView",
            "align_content": null,
            "align_items": null,
            "align_self": null,
            "border": null,
            "bottom": null,
            "display": null,
            "flex": null,
            "flex_flow": null,
            "grid_area": null,
            "grid_auto_columns": null,
            "grid_auto_flow": null,
            "grid_auto_rows": null,
            "grid_column": null,
            "grid_gap": null,
            "grid_row": null,
            "grid_template_areas": null,
            "grid_template_columns": null,
            "grid_template_rows": null,
            "height": null,
            "justify_content": null,
            "justify_items": null,
            "left": null,
            "margin": null,
            "max_height": null,
            "max_width": null,
            "min_height": null,
            "min_width": null,
            "object_fit": null,
            "object_position": null,
            "order": null,
            "overflow": null,
            "overflow_x": null,
            "overflow_y": null,
            "padding": null,
            "right": null,
            "top": null,
            "visibility": null,
            "width": null
          }
        },
        "8ee2fda874f748a280cb285e2b564174": {
          "model_module": "@jupyter-widgets/controls",
          "model_name": "DescriptionStyleModel",
          "model_module_version": "1.5.0",
          "state": {
            "_model_module": "@jupyter-widgets/controls",
            "_model_module_version": "1.5.0",
            "_model_name": "DescriptionStyleModel",
            "_view_count": null,
            "_view_module": "@jupyter-widgets/base",
            "_view_module_version": "1.2.0",
            "_view_name": "StyleView",
            "description_width": ""
          }
        },
        "56476ba34a1d477cb8267a6af94982cc": {
          "model_module": "@jupyter-widgets/base",
          "model_name": "LayoutModel",
          "model_module_version": "1.2.0",
          "state": {
            "_model_module": "@jupyter-widgets/base",
            "_model_module_version": "1.2.0",
            "_model_name": "LayoutModel",
            "_view_count": null,
            "_view_module": "@jupyter-widgets/base",
            "_view_module_version": "1.2.0",
            "_view_name": "LayoutView",
            "align_content": null,
            "align_items": null,
            "align_self": null,
            "border": null,
            "bottom": null,
            "display": null,
            "flex": null,
            "flex_flow": null,
            "grid_area": null,
            "grid_auto_columns": null,
            "grid_auto_flow": null,
            "grid_auto_rows": null,
            "grid_column": null,
            "grid_gap": null,
            "grid_row": null,
            "grid_template_areas": null,
            "grid_template_columns": null,
            "grid_template_rows": null,
            "height": null,
            "justify_content": null,
            "justify_items": null,
            "left": null,
            "margin": null,
            "max_height": null,
            "max_width": null,
            "min_height": null,
            "min_width": null,
            "object_fit": null,
            "object_position": null,
            "order": null,
            "overflow": null,
            "overflow_x": null,
            "overflow_y": null,
            "padding": null,
            "right": null,
            "top": null,
            "visibility": null,
            "width": null
          }
        },
        "d46e91a146e14526971ad885365b8763": {
          "model_module": "@jupyter-widgets/controls",
          "model_name": "ProgressStyleModel",
          "model_module_version": "1.5.0",
          "state": {
            "_model_module": "@jupyter-widgets/controls",
            "_model_module_version": "1.5.0",
            "_model_name": "ProgressStyleModel",
            "_view_count": null,
            "_view_module": "@jupyter-widgets/base",
            "_view_module_version": "1.2.0",
            "_view_name": "StyleView",
            "bar_color": null,
            "description_width": ""
          }
        },
        "c59a4ddf006846ec91295db652149d95": {
          "model_module": "@jupyter-widgets/base",
          "model_name": "LayoutModel",
          "model_module_version": "1.2.0",
          "state": {
            "_model_module": "@jupyter-widgets/base",
            "_model_module_version": "1.2.0",
            "_model_name": "LayoutModel",
            "_view_count": null,
            "_view_module": "@jupyter-widgets/base",
            "_view_module_version": "1.2.0",
            "_view_name": "LayoutView",
            "align_content": null,
            "align_items": null,
            "align_self": null,
            "border": null,
            "bottom": null,
            "display": null,
            "flex": null,
            "flex_flow": null,
            "grid_area": null,
            "grid_auto_columns": null,
            "grid_auto_flow": null,
            "grid_auto_rows": null,
            "grid_column": null,
            "grid_gap": null,
            "grid_row": null,
            "grid_template_areas": null,
            "grid_template_columns": null,
            "grid_template_rows": null,
            "height": null,
            "justify_content": null,
            "justify_items": null,
            "left": null,
            "margin": null,
            "max_height": null,
            "max_width": null,
            "min_height": null,
            "min_width": null,
            "object_fit": null,
            "object_position": null,
            "order": null,
            "overflow": null,
            "overflow_x": null,
            "overflow_y": null,
            "padding": null,
            "right": null,
            "top": null,
            "visibility": null,
            "width": null
          }
        },
        "13ca9ae5e97a4e0c9297e085d612f55e": {
          "model_module": "@jupyter-widgets/controls",
          "model_name": "DescriptionStyleModel",
          "model_module_version": "1.5.0",
          "state": {
            "_model_module": "@jupyter-widgets/controls",
            "_model_module_version": "1.5.0",
            "_model_name": "DescriptionStyleModel",
            "_view_count": null,
            "_view_module": "@jupyter-widgets/base",
            "_view_module_version": "1.2.0",
            "_view_name": "StyleView",
            "description_width": ""
          }
        },
        "5cdfb5bc6ade4ff582db6c11b3962635": {
          "model_module": "@jupyter-widgets/controls",
          "model_name": "HBoxModel",
          "model_module_version": "1.5.0",
          "state": {
            "_dom_classes": [],
            "_model_module": "@jupyter-widgets/controls",
            "_model_module_version": "1.5.0",
            "_model_name": "HBoxModel",
            "_view_count": null,
            "_view_module": "@jupyter-widgets/controls",
            "_view_module_version": "1.5.0",
            "_view_name": "HBoxView",
            "box_style": "",
            "children": [
              "IPY_MODEL_890b52492b1a43ddb6226b41643eead3",
              "IPY_MODEL_6fb7e0087cbe4404a945e5927a3450bc",
              "IPY_MODEL_3c71630c489a4755b0b3bc555893bf7f"
            ],
            "layout": "IPY_MODEL_57d49ee74bce41d69d434bfcd593d1e7"
          }
        },
        "890b52492b1a43ddb6226b41643eead3": {
          "model_module": "@jupyter-widgets/controls",
          "model_name": "HTMLModel",
          "model_module_version": "1.5.0",
          "state": {
            "_dom_classes": [],
            "_model_module": "@jupyter-widgets/controls",
            "_model_module_version": "1.5.0",
            "_model_name": "HTMLModel",
            "_view_count": null,
            "_view_module": "@jupyter-widgets/controls",
            "_view_module_version": "1.5.0",
            "_view_name": "HTMLView",
            "description": "",
            "description_tooltip": null,
            "layout": "IPY_MODEL_b3968420299e4547afdcfc2df84acf1f",
            "placeholder": "​",
            "style": "IPY_MODEL_85defbdaebf842509d8d4d7fcfb927bb",
            "value": "pytorch_model.bin: 100%"
          }
        },
        "6fb7e0087cbe4404a945e5927a3450bc": {
          "model_module": "@jupyter-widgets/controls",
          "model_name": "FloatProgressModel",
          "model_module_version": "1.5.0",
          "state": {
            "_dom_classes": [],
            "_model_module": "@jupyter-widgets/controls",
            "_model_module_version": "1.5.0",
            "_model_name": "FloatProgressModel",
            "_view_count": null,
            "_view_module": "@jupyter-widgets/controls",
            "_view_module_version": "1.5.0",
            "_view_name": "ProgressView",
            "bar_style": "success",
            "description": "",
            "description_tooltip": null,
            "layout": "IPY_MODEL_d5a607aeaa2d4abaad22dc8b12741b2f",
            "max": 437997357,
            "min": 0,
            "orientation": "horizontal",
            "style": "IPY_MODEL_2214419191854f608be456f433041ca5",
            "value": 437997357
          }
        },
        "3c71630c489a4755b0b3bc555893bf7f": {
          "model_module": "@jupyter-widgets/controls",
          "model_name": "HTMLModel",
          "model_module_version": "1.5.0",
          "state": {
            "_dom_classes": [],
            "_model_module": "@jupyter-widgets/controls",
            "_model_module_version": "1.5.0",
            "_model_name": "HTMLModel",
            "_view_count": null,
            "_view_module": "@jupyter-widgets/controls",
            "_view_module_version": "1.5.0",
            "_view_name": "HTMLView",
            "description": "",
            "description_tooltip": null,
            "layout": "IPY_MODEL_7426aca0851b41f7a7d31883b15c2114",
            "placeholder": "​",
            "style": "IPY_MODEL_ac59166131f14703ab1146dbd5c53783",
            "value": " 438M/438M [00:06&lt;00:00, 73.7MB/s]"
          }
        },
        "57d49ee74bce41d69d434bfcd593d1e7": {
          "model_module": "@jupyter-widgets/base",
          "model_name": "LayoutModel",
          "model_module_version": "1.2.0",
          "state": {
            "_model_module": "@jupyter-widgets/base",
            "_model_module_version": "1.2.0",
            "_model_name": "LayoutModel",
            "_view_count": null,
            "_view_module": "@jupyter-widgets/base",
            "_view_module_version": "1.2.0",
            "_view_name": "LayoutView",
            "align_content": null,
            "align_items": null,
            "align_self": null,
            "border": null,
            "bottom": null,
            "display": null,
            "flex": null,
            "flex_flow": null,
            "grid_area": null,
            "grid_auto_columns": null,
            "grid_auto_flow": null,
            "grid_auto_rows": null,
            "grid_column": null,
            "grid_gap": null,
            "grid_row": null,
            "grid_template_areas": null,
            "grid_template_columns": null,
            "grid_template_rows": null,
            "height": null,
            "justify_content": null,
            "justify_items": null,
            "left": null,
            "margin": null,
            "max_height": null,
            "max_width": null,
            "min_height": null,
            "min_width": null,
            "object_fit": null,
            "object_position": null,
            "order": null,
            "overflow": null,
            "overflow_x": null,
            "overflow_y": null,
            "padding": null,
            "right": null,
            "top": null,
            "visibility": null,
            "width": null
          }
        },
        "b3968420299e4547afdcfc2df84acf1f": {
          "model_module": "@jupyter-widgets/base",
          "model_name": "LayoutModel",
          "model_module_version": "1.2.0",
          "state": {
            "_model_module": "@jupyter-widgets/base",
            "_model_module_version": "1.2.0",
            "_model_name": "LayoutModel",
            "_view_count": null,
            "_view_module": "@jupyter-widgets/base",
            "_view_module_version": "1.2.0",
            "_view_name": "LayoutView",
            "align_content": null,
            "align_items": null,
            "align_self": null,
            "border": null,
            "bottom": null,
            "display": null,
            "flex": null,
            "flex_flow": null,
            "grid_area": null,
            "grid_auto_columns": null,
            "grid_auto_flow": null,
            "grid_auto_rows": null,
            "grid_column": null,
            "grid_gap": null,
            "grid_row": null,
            "grid_template_areas": null,
            "grid_template_columns": null,
            "grid_template_rows": null,
            "height": null,
            "justify_content": null,
            "justify_items": null,
            "left": null,
            "margin": null,
            "max_height": null,
            "max_width": null,
            "min_height": null,
            "min_width": null,
            "object_fit": null,
            "object_position": null,
            "order": null,
            "overflow": null,
            "overflow_x": null,
            "overflow_y": null,
            "padding": null,
            "right": null,
            "top": null,
            "visibility": null,
            "width": null
          }
        },
        "85defbdaebf842509d8d4d7fcfb927bb": {
          "model_module": "@jupyter-widgets/controls",
          "model_name": "DescriptionStyleModel",
          "model_module_version": "1.5.0",
          "state": {
            "_model_module": "@jupyter-widgets/controls",
            "_model_module_version": "1.5.0",
            "_model_name": "DescriptionStyleModel",
            "_view_count": null,
            "_view_module": "@jupyter-widgets/base",
            "_view_module_version": "1.2.0",
            "_view_name": "StyleView",
            "description_width": ""
          }
        },
        "d5a607aeaa2d4abaad22dc8b12741b2f": {
          "model_module": "@jupyter-widgets/base",
          "model_name": "LayoutModel",
          "model_module_version": "1.2.0",
          "state": {
            "_model_module": "@jupyter-widgets/base",
            "_model_module_version": "1.2.0",
            "_model_name": "LayoutModel",
            "_view_count": null,
            "_view_module": "@jupyter-widgets/base",
            "_view_module_version": "1.2.0",
            "_view_name": "LayoutView",
            "align_content": null,
            "align_items": null,
            "align_self": null,
            "border": null,
            "bottom": null,
            "display": null,
            "flex": null,
            "flex_flow": null,
            "grid_area": null,
            "grid_auto_columns": null,
            "grid_auto_flow": null,
            "grid_auto_rows": null,
            "grid_column": null,
            "grid_gap": null,
            "grid_row": null,
            "grid_template_areas": null,
            "grid_template_columns": null,
            "grid_template_rows": null,
            "height": null,
            "justify_content": null,
            "justify_items": null,
            "left": null,
            "margin": null,
            "max_height": null,
            "max_width": null,
            "min_height": null,
            "min_width": null,
            "object_fit": null,
            "object_position": null,
            "order": null,
            "overflow": null,
            "overflow_x": null,
            "overflow_y": null,
            "padding": null,
            "right": null,
            "top": null,
            "visibility": null,
            "width": null
          }
        },
        "2214419191854f608be456f433041ca5": {
          "model_module": "@jupyter-widgets/controls",
          "model_name": "ProgressStyleModel",
          "model_module_version": "1.5.0",
          "state": {
            "_model_module": "@jupyter-widgets/controls",
            "_model_module_version": "1.5.0",
            "_model_name": "ProgressStyleModel",
            "_view_count": null,
            "_view_module": "@jupyter-widgets/base",
            "_view_module_version": "1.2.0",
            "_view_name": "StyleView",
            "bar_color": null,
            "description_width": ""
          }
        },
        "7426aca0851b41f7a7d31883b15c2114": {
          "model_module": "@jupyter-widgets/base",
          "model_name": "LayoutModel",
          "model_module_version": "1.2.0",
          "state": {
            "_model_module": "@jupyter-widgets/base",
            "_model_module_version": "1.2.0",
            "_model_name": "LayoutModel",
            "_view_count": null,
            "_view_module": "@jupyter-widgets/base",
            "_view_module_version": "1.2.0",
            "_view_name": "LayoutView",
            "align_content": null,
            "align_items": null,
            "align_self": null,
            "border": null,
            "bottom": null,
            "display": null,
            "flex": null,
            "flex_flow": null,
            "grid_area": null,
            "grid_auto_columns": null,
            "grid_auto_flow": null,
            "grid_auto_rows": null,
            "grid_column": null,
            "grid_gap": null,
            "grid_row": null,
            "grid_template_areas": null,
            "grid_template_columns": null,
            "grid_template_rows": null,
            "height": null,
            "justify_content": null,
            "justify_items": null,
            "left": null,
            "margin": null,
            "max_height": null,
            "max_width": null,
            "min_height": null,
            "min_width": null,
            "object_fit": null,
            "object_position": null,
            "order": null,
            "overflow": null,
            "overflow_x": null,
            "overflow_y": null,
            "padding": null,
            "right": null,
            "top": null,
            "visibility": null,
            "width": null
          }
        },
        "ac59166131f14703ab1146dbd5c53783": {
          "model_module": "@jupyter-widgets/controls",
          "model_name": "DescriptionStyleModel",
          "model_module_version": "1.5.0",
          "state": {
            "_model_module": "@jupyter-widgets/controls",
            "_model_module_version": "1.5.0",
            "_model_name": "DescriptionStyleModel",
            "_view_count": null,
            "_view_module": "@jupyter-widgets/base",
            "_view_module_version": "1.2.0",
            "_view_name": "StyleView",
            "description_width": ""
          }
        },
        "a3010022e2274ee0a1a25cc5a4d9dad2": {
          "model_module": "@jupyter-widgets/controls",
          "model_name": "HBoxModel",
          "model_module_version": "1.5.0",
          "state": {
            "_dom_classes": [],
            "_model_module": "@jupyter-widgets/controls",
            "_model_module_version": "1.5.0",
            "_model_name": "HBoxModel",
            "_view_count": null,
            "_view_module": "@jupyter-widgets/controls",
            "_view_module_version": "1.5.0",
            "_view_name": "HBoxView",
            "box_style": "",
            "children": [
              "IPY_MODEL_363846d10ae84d95b389968d8b44e00f",
              "IPY_MODEL_7caaaddc41a24dc7991616dd19aeaf83",
              "IPY_MODEL_de0ecc4dfe3d4cc18b6fd02ad1b762d0"
            ],
            "layout": "IPY_MODEL_769f010eb77a4745b780180851d14a2a"
          }
        },
        "363846d10ae84d95b389968d8b44e00f": {
          "model_module": "@jupyter-widgets/controls",
          "model_name": "HTMLModel",
          "model_module_version": "1.5.0",
          "state": {
            "_dom_classes": [],
            "_model_module": "@jupyter-widgets/controls",
            "_model_module_version": "1.5.0",
            "_model_name": "HTMLModel",
            "_view_count": null,
            "_view_module": "@jupyter-widgets/controls",
            "_view_module_version": "1.5.0",
            "_view_name": "HTMLView",
            "description": "",
            "description_tooltip": null,
            "layout": "IPY_MODEL_beb54d757ace431ab9fb71cf8f716c05",
            "placeholder": "​",
            "style": "IPY_MODEL_4a7bc39e7e1e4487946d906abb7c9ab8",
            "value": "sentence_bert_config.json: 100%"
          }
        },
        "7caaaddc41a24dc7991616dd19aeaf83": {
          "model_module": "@jupyter-widgets/controls",
          "model_name": "FloatProgressModel",
          "model_module_version": "1.5.0",
          "state": {
            "_dom_classes": [],
            "_model_module": "@jupyter-widgets/controls",
            "_model_module_version": "1.5.0",
            "_model_name": "FloatProgressModel",
            "_view_count": null,
            "_view_module": "@jupyter-widgets/controls",
            "_view_module_version": "1.5.0",
            "_view_name": "ProgressView",
            "bar_style": "success",
            "description": "",
            "description_tooltip": null,
            "layout": "IPY_MODEL_448798ede3fe4ac685be260649c28caf",
            "max": 52,
            "min": 0,
            "orientation": "horizontal",
            "style": "IPY_MODEL_990e480a9a1e4396980f2d79648a719b",
            "value": 52
          }
        },
        "de0ecc4dfe3d4cc18b6fd02ad1b762d0": {
          "model_module": "@jupyter-widgets/controls",
          "model_name": "HTMLModel",
          "model_module_version": "1.5.0",
          "state": {
            "_dom_classes": [],
            "_model_module": "@jupyter-widgets/controls",
            "_model_module_version": "1.5.0",
            "_model_name": "HTMLModel",
            "_view_count": null,
            "_view_module": "@jupyter-widgets/controls",
            "_view_module_version": "1.5.0",
            "_view_name": "HTMLView",
            "description": "",
            "description_tooltip": null,
            "layout": "IPY_MODEL_efdd46ac66fa46f49e968c24c950fb36",
            "placeholder": "​",
            "style": "IPY_MODEL_c5b0c2da4cf045e5aab5bbf16fca9a70",
            "value": " 52.0/52.0 [00:00&lt;00:00, 4.31kB/s]"
          }
        },
        "769f010eb77a4745b780180851d14a2a": {
          "model_module": "@jupyter-widgets/base",
          "model_name": "LayoutModel",
          "model_module_version": "1.2.0",
          "state": {
            "_model_module": "@jupyter-widgets/base",
            "_model_module_version": "1.2.0",
            "_model_name": "LayoutModel",
            "_view_count": null,
            "_view_module": "@jupyter-widgets/base",
            "_view_module_version": "1.2.0",
            "_view_name": "LayoutView",
            "align_content": null,
            "align_items": null,
            "align_self": null,
            "border": null,
            "bottom": null,
            "display": null,
            "flex": null,
            "flex_flow": null,
            "grid_area": null,
            "grid_auto_columns": null,
            "grid_auto_flow": null,
            "grid_auto_rows": null,
            "grid_column": null,
            "grid_gap": null,
            "grid_row": null,
            "grid_template_areas": null,
            "grid_template_columns": null,
            "grid_template_rows": null,
            "height": null,
            "justify_content": null,
            "justify_items": null,
            "left": null,
            "margin": null,
            "max_height": null,
            "max_width": null,
            "min_height": null,
            "min_width": null,
            "object_fit": null,
            "object_position": null,
            "order": null,
            "overflow": null,
            "overflow_x": null,
            "overflow_y": null,
            "padding": null,
            "right": null,
            "top": null,
            "visibility": null,
            "width": null
          }
        },
        "beb54d757ace431ab9fb71cf8f716c05": {
          "model_module": "@jupyter-widgets/base",
          "model_name": "LayoutModel",
          "model_module_version": "1.2.0",
          "state": {
            "_model_module": "@jupyter-widgets/base",
            "_model_module_version": "1.2.0",
            "_model_name": "LayoutModel",
            "_view_count": null,
            "_view_module": "@jupyter-widgets/base",
            "_view_module_version": "1.2.0",
            "_view_name": "LayoutView",
            "align_content": null,
            "align_items": null,
            "align_self": null,
            "border": null,
            "bottom": null,
            "display": null,
            "flex": null,
            "flex_flow": null,
            "grid_area": null,
            "grid_auto_columns": null,
            "grid_auto_flow": null,
            "grid_auto_rows": null,
            "grid_column": null,
            "grid_gap": null,
            "grid_row": null,
            "grid_template_areas": null,
            "grid_template_columns": null,
            "grid_template_rows": null,
            "height": null,
            "justify_content": null,
            "justify_items": null,
            "left": null,
            "margin": null,
            "max_height": null,
            "max_width": null,
            "min_height": null,
            "min_width": null,
            "object_fit": null,
            "object_position": null,
            "order": null,
            "overflow": null,
            "overflow_x": null,
            "overflow_y": null,
            "padding": null,
            "right": null,
            "top": null,
            "visibility": null,
            "width": null
          }
        },
        "4a7bc39e7e1e4487946d906abb7c9ab8": {
          "model_module": "@jupyter-widgets/controls",
          "model_name": "DescriptionStyleModel",
          "model_module_version": "1.5.0",
          "state": {
            "_model_module": "@jupyter-widgets/controls",
            "_model_module_version": "1.5.0",
            "_model_name": "DescriptionStyleModel",
            "_view_count": null,
            "_view_module": "@jupyter-widgets/base",
            "_view_module_version": "1.2.0",
            "_view_name": "StyleView",
            "description_width": ""
          }
        },
        "448798ede3fe4ac685be260649c28caf": {
          "model_module": "@jupyter-widgets/base",
          "model_name": "LayoutModel",
          "model_module_version": "1.2.0",
          "state": {
            "_model_module": "@jupyter-widgets/base",
            "_model_module_version": "1.2.0",
            "_model_name": "LayoutModel",
            "_view_count": null,
            "_view_module": "@jupyter-widgets/base",
            "_view_module_version": "1.2.0",
            "_view_name": "LayoutView",
            "align_content": null,
            "align_items": null,
            "align_self": null,
            "border": null,
            "bottom": null,
            "display": null,
            "flex": null,
            "flex_flow": null,
            "grid_area": null,
            "grid_auto_columns": null,
            "grid_auto_flow": null,
            "grid_auto_rows": null,
            "grid_column": null,
            "grid_gap": null,
            "grid_row": null,
            "grid_template_areas": null,
            "grid_template_columns": null,
            "grid_template_rows": null,
            "height": null,
            "justify_content": null,
            "justify_items": null,
            "left": null,
            "margin": null,
            "max_height": null,
            "max_width": null,
            "min_height": null,
            "min_width": null,
            "object_fit": null,
            "object_position": null,
            "order": null,
            "overflow": null,
            "overflow_x": null,
            "overflow_y": null,
            "padding": null,
            "right": null,
            "top": null,
            "visibility": null,
            "width": null
          }
        },
        "990e480a9a1e4396980f2d79648a719b": {
          "model_module": "@jupyter-widgets/controls",
          "model_name": "ProgressStyleModel",
          "model_module_version": "1.5.0",
          "state": {
            "_model_module": "@jupyter-widgets/controls",
            "_model_module_version": "1.5.0",
            "_model_name": "ProgressStyleModel",
            "_view_count": null,
            "_view_module": "@jupyter-widgets/base",
            "_view_module_version": "1.2.0",
            "_view_name": "StyleView",
            "bar_color": null,
            "description_width": ""
          }
        },
        "efdd46ac66fa46f49e968c24c950fb36": {
          "model_module": "@jupyter-widgets/base",
          "model_name": "LayoutModel",
          "model_module_version": "1.2.0",
          "state": {
            "_model_module": "@jupyter-widgets/base",
            "_model_module_version": "1.2.0",
            "_model_name": "LayoutModel",
            "_view_count": null,
            "_view_module": "@jupyter-widgets/base",
            "_view_module_version": "1.2.0",
            "_view_name": "LayoutView",
            "align_content": null,
            "align_items": null,
            "align_self": null,
            "border": null,
            "bottom": null,
            "display": null,
            "flex": null,
            "flex_flow": null,
            "grid_area": null,
            "grid_auto_columns": null,
            "grid_auto_flow": null,
            "grid_auto_rows": null,
            "grid_column": null,
            "grid_gap": null,
            "grid_row": null,
            "grid_template_areas": null,
            "grid_template_columns": null,
            "grid_template_rows": null,
            "height": null,
            "justify_content": null,
            "justify_items": null,
            "left": null,
            "margin": null,
            "max_height": null,
            "max_width": null,
            "min_height": null,
            "min_width": null,
            "object_fit": null,
            "object_position": null,
            "order": null,
            "overflow": null,
            "overflow_x": null,
            "overflow_y": null,
            "padding": null,
            "right": null,
            "top": null,
            "visibility": null,
            "width": null
          }
        },
        "c5b0c2da4cf045e5aab5bbf16fca9a70": {
          "model_module": "@jupyter-widgets/controls",
          "model_name": "DescriptionStyleModel",
          "model_module_version": "1.5.0",
          "state": {
            "_model_module": "@jupyter-widgets/controls",
            "_model_module_version": "1.5.0",
            "_model_name": "DescriptionStyleModel",
            "_view_count": null,
            "_view_module": "@jupyter-widgets/base",
            "_view_module_version": "1.2.0",
            "_view_name": "StyleView",
            "description_width": ""
          }
        },
        "fc15db11d79a49f495a8d9bde2d39dd5": {
          "model_module": "@jupyter-widgets/controls",
          "model_name": "HBoxModel",
          "model_module_version": "1.5.0",
          "state": {
            "_dom_classes": [],
            "_model_module": "@jupyter-widgets/controls",
            "_model_module_version": "1.5.0",
            "_model_name": "HBoxModel",
            "_view_count": null,
            "_view_module": "@jupyter-widgets/controls",
            "_view_module_version": "1.5.0",
            "_view_name": "HBoxView",
            "box_style": "",
            "children": [
              "IPY_MODEL_5c84e04bb79648cba0dd53883e7b2ffa",
              "IPY_MODEL_9a149217bdb34c9a9842609e76c9b2f3",
              "IPY_MODEL_b3f6e140d62b4bfaa1748a33ebfc0b95"
            ],
            "layout": "IPY_MODEL_0f3704d4e2d54aaa8cda47de08dfa96a"
          }
        },
        "5c84e04bb79648cba0dd53883e7b2ffa": {
          "model_module": "@jupyter-widgets/controls",
          "model_name": "HTMLModel",
          "model_module_version": "1.5.0",
          "state": {
            "_dom_classes": [],
            "_model_module": "@jupyter-widgets/controls",
            "_model_module_version": "1.5.0",
            "_model_name": "HTMLModel",
            "_view_count": null,
            "_view_module": "@jupyter-widgets/controls",
            "_view_module_version": "1.5.0",
            "_view_name": "HTMLView",
            "description": "",
            "description_tooltip": null,
            "layout": "IPY_MODEL_222cb83b93e8455b8ea6ab7a682adb7c",
            "placeholder": "​",
            "style": "IPY_MODEL_3aeed0be816a4aa790aa78035500aab3",
            "value": "special_tokens_map.json: 100%"
          }
        },
        "9a149217bdb34c9a9842609e76c9b2f3": {
          "model_module": "@jupyter-widgets/controls",
          "model_name": "FloatProgressModel",
          "model_module_version": "1.5.0",
          "state": {
            "_dom_classes": [],
            "_model_module": "@jupyter-widgets/controls",
            "_model_module_version": "1.5.0",
            "_model_name": "FloatProgressModel",
            "_view_count": null,
            "_view_module": "@jupyter-widgets/controls",
            "_view_module_version": "1.5.0",
            "_view_name": "ProgressView",
            "bar_style": "success",
            "description": "",
            "description_tooltip": null,
            "layout": "IPY_MODEL_97fbc9097d4f4a65943012ad34b665eb",
            "max": 125,
            "min": 0,
            "orientation": "horizontal",
            "style": "IPY_MODEL_f004b5146bd94ee19aa4244d161246f8",
            "value": 125
          }
        },
        "b3f6e140d62b4bfaa1748a33ebfc0b95": {
          "model_module": "@jupyter-widgets/controls",
          "model_name": "HTMLModel",
          "model_module_version": "1.5.0",
          "state": {
            "_dom_classes": [],
            "_model_module": "@jupyter-widgets/controls",
            "_model_module_version": "1.5.0",
            "_model_name": "HTMLModel",
            "_view_count": null,
            "_view_module": "@jupyter-widgets/controls",
            "_view_module_version": "1.5.0",
            "_view_name": "HTMLView",
            "description": "",
            "description_tooltip": null,
            "layout": "IPY_MODEL_d37eaeb80edc43a586a9e99180941240",
            "placeholder": "​",
            "style": "IPY_MODEL_9148599bdafe41a3a32bc9b400466d77",
            "value": " 125/125 [00:00&lt;00:00, 10.6kB/s]"
          }
        },
        "0f3704d4e2d54aaa8cda47de08dfa96a": {
          "model_module": "@jupyter-widgets/base",
          "model_name": "LayoutModel",
          "model_module_version": "1.2.0",
          "state": {
            "_model_module": "@jupyter-widgets/base",
            "_model_module_version": "1.2.0",
            "_model_name": "LayoutModel",
            "_view_count": null,
            "_view_module": "@jupyter-widgets/base",
            "_view_module_version": "1.2.0",
            "_view_name": "LayoutView",
            "align_content": null,
            "align_items": null,
            "align_self": null,
            "border": null,
            "bottom": null,
            "display": null,
            "flex": null,
            "flex_flow": null,
            "grid_area": null,
            "grid_auto_columns": null,
            "grid_auto_flow": null,
            "grid_auto_rows": null,
            "grid_column": null,
            "grid_gap": null,
            "grid_row": null,
            "grid_template_areas": null,
            "grid_template_columns": null,
            "grid_template_rows": null,
            "height": null,
            "justify_content": null,
            "justify_items": null,
            "left": null,
            "margin": null,
            "max_height": null,
            "max_width": null,
            "min_height": null,
            "min_width": null,
            "object_fit": null,
            "object_position": null,
            "order": null,
            "overflow": null,
            "overflow_x": null,
            "overflow_y": null,
            "padding": null,
            "right": null,
            "top": null,
            "visibility": null,
            "width": null
          }
        },
        "222cb83b93e8455b8ea6ab7a682adb7c": {
          "model_module": "@jupyter-widgets/base",
          "model_name": "LayoutModel",
          "model_module_version": "1.2.0",
          "state": {
            "_model_module": "@jupyter-widgets/base",
            "_model_module_version": "1.2.0",
            "_model_name": "LayoutModel",
            "_view_count": null,
            "_view_module": "@jupyter-widgets/base",
            "_view_module_version": "1.2.0",
            "_view_name": "LayoutView",
            "align_content": null,
            "align_items": null,
            "align_self": null,
            "border": null,
            "bottom": null,
            "display": null,
            "flex": null,
            "flex_flow": null,
            "grid_area": null,
            "grid_auto_columns": null,
            "grid_auto_flow": null,
            "grid_auto_rows": null,
            "grid_column": null,
            "grid_gap": null,
            "grid_row": null,
            "grid_template_areas": null,
            "grid_template_columns": null,
            "grid_template_rows": null,
            "height": null,
            "justify_content": null,
            "justify_items": null,
            "left": null,
            "margin": null,
            "max_height": null,
            "max_width": null,
            "min_height": null,
            "min_width": null,
            "object_fit": null,
            "object_position": null,
            "order": null,
            "overflow": null,
            "overflow_x": null,
            "overflow_y": null,
            "padding": null,
            "right": null,
            "top": null,
            "visibility": null,
            "width": null
          }
        },
        "3aeed0be816a4aa790aa78035500aab3": {
          "model_module": "@jupyter-widgets/controls",
          "model_name": "DescriptionStyleModel",
          "model_module_version": "1.5.0",
          "state": {
            "_model_module": "@jupyter-widgets/controls",
            "_model_module_version": "1.5.0",
            "_model_name": "DescriptionStyleModel",
            "_view_count": null,
            "_view_module": "@jupyter-widgets/base",
            "_view_module_version": "1.2.0",
            "_view_name": "StyleView",
            "description_width": ""
          }
        },
        "97fbc9097d4f4a65943012ad34b665eb": {
          "model_module": "@jupyter-widgets/base",
          "model_name": "LayoutModel",
          "model_module_version": "1.2.0",
          "state": {
            "_model_module": "@jupyter-widgets/base",
            "_model_module_version": "1.2.0",
            "_model_name": "LayoutModel",
            "_view_count": null,
            "_view_module": "@jupyter-widgets/base",
            "_view_module_version": "1.2.0",
            "_view_name": "LayoutView",
            "align_content": null,
            "align_items": null,
            "align_self": null,
            "border": null,
            "bottom": null,
            "display": null,
            "flex": null,
            "flex_flow": null,
            "grid_area": null,
            "grid_auto_columns": null,
            "grid_auto_flow": null,
            "grid_auto_rows": null,
            "grid_column": null,
            "grid_gap": null,
            "grid_row": null,
            "grid_template_areas": null,
            "grid_template_columns": null,
            "grid_template_rows": null,
            "height": null,
            "justify_content": null,
            "justify_items": null,
            "left": null,
            "margin": null,
            "max_height": null,
            "max_width": null,
            "min_height": null,
            "min_width": null,
            "object_fit": null,
            "object_position": null,
            "order": null,
            "overflow": null,
            "overflow_x": null,
            "overflow_y": null,
            "padding": null,
            "right": null,
            "top": null,
            "visibility": null,
            "width": null
          }
        },
        "f004b5146bd94ee19aa4244d161246f8": {
          "model_module": "@jupyter-widgets/controls",
          "model_name": "ProgressStyleModel",
          "model_module_version": "1.5.0",
          "state": {
            "_model_module": "@jupyter-widgets/controls",
            "_model_module_version": "1.5.0",
            "_model_name": "ProgressStyleModel",
            "_view_count": null,
            "_view_module": "@jupyter-widgets/base",
            "_view_module_version": "1.2.0",
            "_view_name": "StyleView",
            "bar_color": null,
            "description_width": ""
          }
        },
        "d37eaeb80edc43a586a9e99180941240": {
          "model_module": "@jupyter-widgets/base",
          "model_name": "LayoutModel",
          "model_module_version": "1.2.0",
          "state": {
            "_model_module": "@jupyter-widgets/base",
            "_model_module_version": "1.2.0",
            "_model_name": "LayoutModel",
            "_view_count": null,
            "_view_module": "@jupyter-widgets/base",
            "_view_module_version": "1.2.0",
            "_view_name": "LayoutView",
            "align_content": null,
            "align_items": null,
            "align_self": null,
            "border": null,
            "bottom": null,
            "display": null,
            "flex": null,
            "flex_flow": null,
            "grid_area": null,
            "grid_auto_columns": null,
            "grid_auto_flow": null,
            "grid_auto_rows": null,
            "grid_column": null,
            "grid_gap": null,
            "grid_row": null,
            "grid_template_areas": null,
            "grid_template_columns": null,
            "grid_template_rows": null,
            "height": null,
            "justify_content": null,
            "justify_items": null,
            "left": null,
            "margin": null,
            "max_height": null,
            "max_width": null,
            "min_height": null,
            "min_width": null,
            "object_fit": null,
            "object_position": null,
            "order": null,
            "overflow": null,
            "overflow_x": null,
            "overflow_y": null,
            "padding": null,
            "right": null,
            "top": null,
            "visibility": null,
            "width": null
          }
        },
        "9148599bdafe41a3a32bc9b400466d77": {
          "model_module": "@jupyter-widgets/controls",
          "model_name": "DescriptionStyleModel",
          "model_module_version": "1.5.0",
          "state": {
            "_model_module": "@jupyter-widgets/controls",
            "_model_module_version": "1.5.0",
            "_model_name": "DescriptionStyleModel",
            "_view_count": null,
            "_view_module": "@jupyter-widgets/base",
            "_view_module_version": "1.2.0",
            "_view_name": "StyleView",
            "description_width": ""
          }
        },
        "a7689bd1cc63412e8afeecdc91858fb6": {
          "model_module": "@jupyter-widgets/controls",
          "model_name": "HBoxModel",
          "model_module_version": "1.5.0",
          "state": {
            "_dom_classes": [],
            "_model_module": "@jupyter-widgets/controls",
            "_model_module_version": "1.5.0",
            "_model_name": "HBoxModel",
            "_view_count": null,
            "_view_module": "@jupyter-widgets/controls",
            "_view_module_version": "1.5.0",
            "_view_name": "HBoxView",
            "box_style": "",
            "children": [
              "IPY_MODEL_cde2576010fc4d6bb3eb12519df7c27a",
              "IPY_MODEL_36c199843dc84da2b06fe792e3b965c2",
              "IPY_MODEL_abb5c33f656348c1b281ac581c08249e"
            ],
            "layout": "IPY_MODEL_36c57bec05a64f69981dd0141d1d5351"
          }
        },
        "cde2576010fc4d6bb3eb12519df7c27a": {
          "model_module": "@jupyter-widgets/controls",
          "model_name": "HTMLModel",
          "model_module_version": "1.5.0",
          "state": {
            "_dom_classes": [],
            "_model_module": "@jupyter-widgets/controls",
            "_model_module_version": "1.5.0",
            "_model_name": "HTMLModel",
            "_view_count": null,
            "_view_module": "@jupyter-widgets/controls",
            "_view_module_version": "1.5.0",
            "_view_name": "HTMLView",
            "description": "",
            "description_tooltip": null,
            "layout": "IPY_MODEL_65a8dac59fe44e3e870e5af4dc708c43",
            "placeholder": "​",
            "style": "IPY_MODEL_8406e40906ad4148a04ada389f766c66",
            "value": "tokenizer.json: 100%"
          }
        },
        "36c199843dc84da2b06fe792e3b965c2": {
          "model_module": "@jupyter-widgets/controls",
          "model_name": "FloatProgressModel",
          "model_module_version": "1.5.0",
          "state": {
            "_dom_classes": [],
            "_model_module": "@jupyter-widgets/controls",
            "_model_module_version": "1.5.0",
            "_model_name": "FloatProgressModel",
            "_view_count": null,
            "_view_module": "@jupyter-widgets/controls",
            "_view_module_version": "1.5.0",
            "_view_name": "ProgressView",
            "bar_style": "success",
            "description": "",
            "description_tooltip": null,
            "layout": "IPY_MODEL_bfa946d633484b6db670bf23c08b72c5",
            "max": 711396,
            "min": 0,
            "orientation": "horizontal",
            "style": "IPY_MODEL_f31c7db402f644e4b51777f8e81cb06e",
            "value": 711396
          }
        },
        "abb5c33f656348c1b281ac581c08249e": {
          "model_module": "@jupyter-widgets/controls",
          "model_name": "HTMLModel",
          "model_module_version": "1.5.0",
          "state": {
            "_dom_classes": [],
            "_model_module": "@jupyter-widgets/controls",
            "_model_module_version": "1.5.0",
            "_model_name": "HTMLModel",
            "_view_count": null,
            "_view_module": "@jupyter-widgets/controls",
            "_view_module_version": "1.5.0",
            "_view_name": "HTMLView",
            "description": "",
            "description_tooltip": null,
            "layout": "IPY_MODEL_86d7dc56fd3447248be29a0ddcfe71d7",
            "placeholder": "​",
            "style": "IPY_MODEL_a5e8f3da01e64ea8a2dd9e31690b7b7d",
            "value": " 711k/711k [00:00&lt;00:00, 918kB/s]"
          }
        },
        "36c57bec05a64f69981dd0141d1d5351": {
          "model_module": "@jupyter-widgets/base",
          "model_name": "LayoutModel",
          "model_module_version": "1.2.0",
          "state": {
            "_model_module": "@jupyter-widgets/base",
            "_model_module_version": "1.2.0",
            "_model_name": "LayoutModel",
            "_view_count": null,
            "_view_module": "@jupyter-widgets/base",
            "_view_module_version": "1.2.0",
            "_view_name": "LayoutView",
            "align_content": null,
            "align_items": null,
            "align_self": null,
            "border": null,
            "bottom": null,
            "display": null,
            "flex": null,
            "flex_flow": null,
            "grid_area": null,
            "grid_auto_columns": null,
            "grid_auto_flow": null,
            "grid_auto_rows": null,
            "grid_column": null,
            "grid_gap": null,
            "grid_row": null,
            "grid_template_areas": null,
            "grid_template_columns": null,
            "grid_template_rows": null,
            "height": null,
            "justify_content": null,
            "justify_items": null,
            "left": null,
            "margin": null,
            "max_height": null,
            "max_width": null,
            "min_height": null,
            "min_width": null,
            "object_fit": null,
            "object_position": null,
            "order": null,
            "overflow": null,
            "overflow_x": null,
            "overflow_y": null,
            "padding": null,
            "right": null,
            "top": null,
            "visibility": null,
            "width": null
          }
        },
        "65a8dac59fe44e3e870e5af4dc708c43": {
          "model_module": "@jupyter-widgets/base",
          "model_name": "LayoutModel",
          "model_module_version": "1.2.0",
          "state": {
            "_model_module": "@jupyter-widgets/base",
            "_model_module_version": "1.2.0",
            "_model_name": "LayoutModel",
            "_view_count": null,
            "_view_module": "@jupyter-widgets/base",
            "_view_module_version": "1.2.0",
            "_view_name": "LayoutView",
            "align_content": null,
            "align_items": null,
            "align_self": null,
            "border": null,
            "bottom": null,
            "display": null,
            "flex": null,
            "flex_flow": null,
            "grid_area": null,
            "grid_auto_columns": null,
            "grid_auto_flow": null,
            "grid_auto_rows": null,
            "grid_column": null,
            "grid_gap": null,
            "grid_row": null,
            "grid_template_areas": null,
            "grid_template_columns": null,
            "grid_template_rows": null,
            "height": null,
            "justify_content": null,
            "justify_items": null,
            "left": null,
            "margin": null,
            "max_height": null,
            "max_width": null,
            "min_height": null,
            "min_width": null,
            "object_fit": null,
            "object_position": null,
            "order": null,
            "overflow": null,
            "overflow_x": null,
            "overflow_y": null,
            "padding": null,
            "right": null,
            "top": null,
            "visibility": null,
            "width": null
          }
        },
        "8406e40906ad4148a04ada389f766c66": {
          "model_module": "@jupyter-widgets/controls",
          "model_name": "DescriptionStyleModel",
          "model_module_version": "1.5.0",
          "state": {
            "_model_module": "@jupyter-widgets/controls",
            "_model_module_version": "1.5.0",
            "_model_name": "DescriptionStyleModel",
            "_view_count": null,
            "_view_module": "@jupyter-widgets/base",
            "_view_module_version": "1.2.0",
            "_view_name": "StyleView",
            "description_width": ""
          }
        },
        "bfa946d633484b6db670bf23c08b72c5": {
          "model_module": "@jupyter-widgets/base",
          "model_name": "LayoutModel",
          "model_module_version": "1.2.0",
          "state": {
            "_model_module": "@jupyter-widgets/base",
            "_model_module_version": "1.2.0",
            "_model_name": "LayoutModel",
            "_view_count": null,
            "_view_module": "@jupyter-widgets/base",
            "_view_module_version": "1.2.0",
            "_view_name": "LayoutView",
            "align_content": null,
            "align_items": null,
            "align_self": null,
            "border": null,
            "bottom": null,
            "display": null,
            "flex": null,
            "flex_flow": null,
            "grid_area": null,
            "grid_auto_columns": null,
            "grid_auto_flow": null,
            "grid_auto_rows": null,
            "grid_column": null,
            "grid_gap": null,
            "grid_row": null,
            "grid_template_areas": null,
            "grid_template_columns": null,
            "grid_template_rows": null,
            "height": null,
            "justify_content": null,
            "justify_items": null,
            "left": null,
            "margin": null,
            "max_height": null,
            "max_width": null,
            "min_height": null,
            "min_width": null,
            "object_fit": null,
            "object_position": null,
            "order": null,
            "overflow": null,
            "overflow_x": null,
            "overflow_y": null,
            "padding": null,
            "right": null,
            "top": null,
            "visibility": null,
            "width": null
          }
        },
        "f31c7db402f644e4b51777f8e81cb06e": {
          "model_module": "@jupyter-widgets/controls",
          "model_name": "ProgressStyleModel",
          "model_module_version": "1.5.0",
          "state": {
            "_model_module": "@jupyter-widgets/controls",
            "_model_module_version": "1.5.0",
            "_model_name": "ProgressStyleModel",
            "_view_count": null,
            "_view_module": "@jupyter-widgets/base",
            "_view_module_version": "1.2.0",
            "_view_name": "StyleView",
            "bar_color": null,
            "description_width": ""
          }
        },
        "86d7dc56fd3447248be29a0ddcfe71d7": {
          "model_module": "@jupyter-widgets/base",
          "model_name": "LayoutModel",
          "model_module_version": "1.2.0",
          "state": {
            "_model_module": "@jupyter-widgets/base",
            "_model_module_version": "1.2.0",
            "_model_name": "LayoutModel",
            "_view_count": null,
            "_view_module": "@jupyter-widgets/base",
            "_view_module_version": "1.2.0",
            "_view_name": "LayoutView",
            "align_content": null,
            "align_items": null,
            "align_self": null,
            "border": null,
            "bottom": null,
            "display": null,
            "flex": null,
            "flex_flow": null,
            "grid_area": null,
            "grid_auto_columns": null,
            "grid_auto_flow": null,
            "grid_auto_rows": null,
            "grid_column": null,
            "grid_gap": null,
            "grid_row": null,
            "grid_template_areas": null,
            "grid_template_columns": null,
            "grid_template_rows": null,
            "height": null,
            "justify_content": null,
            "justify_items": null,
            "left": null,
            "margin": null,
            "max_height": null,
            "max_width": null,
            "min_height": null,
            "min_width": null,
            "object_fit": null,
            "object_position": null,
            "order": null,
            "overflow": null,
            "overflow_x": null,
            "overflow_y": null,
            "padding": null,
            "right": null,
            "top": null,
            "visibility": null,
            "width": null
          }
        },
        "a5e8f3da01e64ea8a2dd9e31690b7b7d": {
          "model_module": "@jupyter-widgets/controls",
          "model_name": "DescriptionStyleModel",
          "model_module_version": "1.5.0",
          "state": {
            "_model_module": "@jupyter-widgets/controls",
            "_model_module_version": "1.5.0",
            "_model_name": "DescriptionStyleModel",
            "_view_count": null,
            "_view_module": "@jupyter-widgets/base",
            "_view_module_version": "1.2.0",
            "_view_name": "StyleView",
            "description_width": ""
          }
        },
        "dd02f2bead904698b1323e3287260626": {
          "model_module": "@jupyter-widgets/controls",
          "model_name": "HBoxModel",
          "model_module_version": "1.5.0",
          "state": {
            "_dom_classes": [],
            "_model_module": "@jupyter-widgets/controls",
            "_model_module_version": "1.5.0",
            "_model_name": "HBoxModel",
            "_view_count": null,
            "_view_module": "@jupyter-widgets/controls",
            "_view_module_version": "1.5.0",
            "_view_name": "HBoxView",
            "box_style": "",
            "children": [
              "IPY_MODEL_2696297789834244af6db50795565e5a",
              "IPY_MODEL_6b5f4d4478294a8f9fba105f8fbbb18a",
              "IPY_MODEL_221e55db80fb4bcc9ce114472724b02c"
            ],
            "layout": "IPY_MODEL_04d64974e941489c90e2b9dda65de953"
          }
        },
        "2696297789834244af6db50795565e5a": {
          "model_module": "@jupyter-widgets/controls",
          "model_name": "HTMLModel",
          "model_module_version": "1.5.0",
          "state": {
            "_dom_classes": [],
            "_model_module": "@jupyter-widgets/controls",
            "_model_module_version": "1.5.0",
            "_model_name": "HTMLModel",
            "_view_count": null,
            "_view_module": "@jupyter-widgets/controls",
            "_view_module_version": "1.5.0",
            "_view_name": "HTMLView",
            "description": "",
            "description_tooltip": null,
            "layout": "IPY_MODEL_6774e7677db944bf84d7293886621cec",
            "placeholder": "​",
            "style": "IPY_MODEL_aa78fad3633445dda55e2dc463aeac06",
            "value": "tokenizer_config.json: 100%"
          }
        },
        "6b5f4d4478294a8f9fba105f8fbbb18a": {
          "model_module": "@jupyter-widgets/controls",
          "model_name": "FloatProgressModel",
          "model_module_version": "1.5.0",
          "state": {
            "_dom_classes": [],
            "_model_module": "@jupyter-widgets/controls",
            "_model_module_version": "1.5.0",
            "_model_name": "FloatProgressModel",
            "_view_count": null,
            "_view_module": "@jupyter-widgets/controls",
            "_view_module_version": "1.5.0",
            "_view_name": "ProgressView",
            "bar_style": "success",
            "description": "",
            "description_tooltip": null,
            "layout": "IPY_MODEL_437446267b6f44b899cced2330e49b8d",
            "max": 366,
            "min": 0,
            "orientation": "horizontal",
            "style": "IPY_MODEL_94260060d8d8448193d1b718630c5c07",
            "value": 366
          }
        },
        "221e55db80fb4bcc9ce114472724b02c": {
          "model_module": "@jupyter-widgets/controls",
          "model_name": "HTMLModel",
          "model_module_version": "1.5.0",
          "state": {
            "_dom_classes": [],
            "_model_module": "@jupyter-widgets/controls",
            "_model_module_version": "1.5.0",
            "_model_name": "HTMLModel",
            "_view_count": null,
            "_view_module": "@jupyter-widgets/controls",
            "_view_module_version": "1.5.0",
            "_view_name": "HTMLView",
            "description": "",
            "description_tooltip": null,
            "layout": "IPY_MODEL_080aefa592cb46479ae5dc36d18396f9",
            "placeholder": "​",
            "style": "IPY_MODEL_b1ae911f8dc34a498d2ef41d0d5fb37e",
            "value": " 366/366 [00:00&lt;00:00, 32.4kB/s]"
          }
        },
        "04d64974e941489c90e2b9dda65de953": {
          "model_module": "@jupyter-widgets/base",
          "model_name": "LayoutModel",
          "model_module_version": "1.2.0",
          "state": {
            "_model_module": "@jupyter-widgets/base",
            "_model_module_version": "1.2.0",
            "_model_name": "LayoutModel",
            "_view_count": null,
            "_view_module": "@jupyter-widgets/base",
            "_view_module_version": "1.2.0",
            "_view_name": "LayoutView",
            "align_content": null,
            "align_items": null,
            "align_self": null,
            "border": null,
            "bottom": null,
            "display": null,
            "flex": null,
            "flex_flow": null,
            "grid_area": null,
            "grid_auto_columns": null,
            "grid_auto_flow": null,
            "grid_auto_rows": null,
            "grid_column": null,
            "grid_gap": null,
            "grid_row": null,
            "grid_template_areas": null,
            "grid_template_columns": null,
            "grid_template_rows": null,
            "height": null,
            "justify_content": null,
            "justify_items": null,
            "left": null,
            "margin": null,
            "max_height": null,
            "max_width": null,
            "min_height": null,
            "min_width": null,
            "object_fit": null,
            "object_position": null,
            "order": null,
            "overflow": null,
            "overflow_x": null,
            "overflow_y": null,
            "padding": null,
            "right": null,
            "top": null,
            "visibility": null,
            "width": null
          }
        },
        "6774e7677db944bf84d7293886621cec": {
          "model_module": "@jupyter-widgets/base",
          "model_name": "LayoutModel",
          "model_module_version": "1.2.0",
          "state": {
            "_model_module": "@jupyter-widgets/base",
            "_model_module_version": "1.2.0",
            "_model_name": "LayoutModel",
            "_view_count": null,
            "_view_module": "@jupyter-widgets/base",
            "_view_module_version": "1.2.0",
            "_view_name": "LayoutView",
            "align_content": null,
            "align_items": null,
            "align_self": null,
            "border": null,
            "bottom": null,
            "display": null,
            "flex": null,
            "flex_flow": null,
            "grid_area": null,
            "grid_auto_columns": null,
            "grid_auto_flow": null,
            "grid_auto_rows": null,
            "grid_column": null,
            "grid_gap": null,
            "grid_row": null,
            "grid_template_areas": null,
            "grid_template_columns": null,
            "grid_template_rows": null,
            "height": null,
            "justify_content": null,
            "justify_items": null,
            "left": null,
            "margin": null,
            "max_height": null,
            "max_width": null,
            "min_height": null,
            "min_width": null,
            "object_fit": null,
            "object_position": null,
            "order": null,
            "overflow": null,
            "overflow_x": null,
            "overflow_y": null,
            "padding": null,
            "right": null,
            "top": null,
            "visibility": null,
            "width": null
          }
        },
        "aa78fad3633445dda55e2dc463aeac06": {
          "model_module": "@jupyter-widgets/controls",
          "model_name": "DescriptionStyleModel",
          "model_module_version": "1.5.0",
          "state": {
            "_model_module": "@jupyter-widgets/controls",
            "_model_module_version": "1.5.0",
            "_model_name": "DescriptionStyleModel",
            "_view_count": null,
            "_view_module": "@jupyter-widgets/base",
            "_view_module_version": "1.2.0",
            "_view_name": "StyleView",
            "description_width": ""
          }
        },
        "437446267b6f44b899cced2330e49b8d": {
          "model_module": "@jupyter-widgets/base",
          "model_name": "LayoutModel",
          "model_module_version": "1.2.0",
          "state": {
            "_model_module": "@jupyter-widgets/base",
            "_model_module_version": "1.2.0",
            "_model_name": "LayoutModel",
            "_view_count": null,
            "_view_module": "@jupyter-widgets/base",
            "_view_module_version": "1.2.0",
            "_view_name": "LayoutView",
            "align_content": null,
            "align_items": null,
            "align_self": null,
            "border": null,
            "bottom": null,
            "display": null,
            "flex": null,
            "flex_flow": null,
            "grid_area": null,
            "grid_auto_columns": null,
            "grid_auto_flow": null,
            "grid_auto_rows": null,
            "grid_column": null,
            "grid_gap": null,
            "grid_row": null,
            "grid_template_areas": null,
            "grid_template_columns": null,
            "grid_template_rows": null,
            "height": null,
            "justify_content": null,
            "justify_items": null,
            "left": null,
            "margin": null,
            "max_height": null,
            "max_width": null,
            "min_height": null,
            "min_width": null,
            "object_fit": null,
            "object_position": null,
            "order": null,
            "overflow": null,
            "overflow_x": null,
            "overflow_y": null,
            "padding": null,
            "right": null,
            "top": null,
            "visibility": null,
            "width": null
          }
        },
        "94260060d8d8448193d1b718630c5c07": {
          "model_module": "@jupyter-widgets/controls",
          "model_name": "ProgressStyleModel",
          "model_module_version": "1.5.0",
          "state": {
            "_model_module": "@jupyter-widgets/controls",
            "_model_module_version": "1.5.0",
            "_model_name": "ProgressStyleModel",
            "_view_count": null,
            "_view_module": "@jupyter-widgets/base",
            "_view_module_version": "1.2.0",
            "_view_name": "StyleView",
            "bar_color": null,
            "description_width": ""
          }
        },
        "080aefa592cb46479ae5dc36d18396f9": {
          "model_module": "@jupyter-widgets/base",
          "model_name": "LayoutModel",
          "model_module_version": "1.2.0",
          "state": {
            "_model_module": "@jupyter-widgets/base",
            "_model_module_version": "1.2.0",
            "_model_name": "LayoutModel",
            "_view_count": null,
            "_view_module": "@jupyter-widgets/base",
            "_view_module_version": "1.2.0",
            "_view_name": "LayoutView",
            "align_content": null,
            "align_items": null,
            "align_self": null,
            "border": null,
            "bottom": null,
            "display": null,
            "flex": null,
            "flex_flow": null,
            "grid_area": null,
            "grid_auto_columns": null,
            "grid_auto_flow": null,
            "grid_auto_rows": null,
            "grid_column": null,
            "grid_gap": null,
            "grid_row": null,
            "grid_template_areas": null,
            "grid_template_columns": null,
            "grid_template_rows": null,
            "height": null,
            "justify_content": null,
            "justify_items": null,
            "left": null,
            "margin": null,
            "max_height": null,
            "max_width": null,
            "min_height": null,
            "min_width": null,
            "object_fit": null,
            "object_position": null,
            "order": null,
            "overflow": null,
            "overflow_x": null,
            "overflow_y": null,
            "padding": null,
            "right": null,
            "top": null,
            "visibility": null,
            "width": null
          }
        },
        "b1ae911f8dc34a498d2ef41d0d5fb37e": {
          "model_module": "@jupyter-widgets/controls",
          "model_name": "DescriptionStyleModel",
          "model_module_version": "1.5.0",
          "state": {
            "_model_module": "@jupyter-widgets/controls",
            "_model_module_version": "1.5.0",
            "_model_name": "DescriptionStyleModel",
            "_view_count": null,
            "_view_module": "@jupyter-widgets/base",
            "_view_module_version": "1.2.0",
            "_view_name": "StyleView",
            "description_width": ""
          }
        },
        "a420b3c5010a4c94802d54f8b2c49f75": {
          "model_module": "@jupyter-widgets/controls",
          "model_name": "HBoxModel",
          "model_module_version": "1.5.0",
          "state": {
            "_dom_classes": [],
            "_model_module": "@jupyter-widgets/controls",
            "_model_module_version": "1.5.0",
            "_model_name": "HBoxModel",
            "_view_count": null,
            "_view_module": "@jupyter-widgets/controls",
            "_view_module_version": "1.5.0",
            "_view_name": "HBoxView",
            "box_style": "",
            "children": [
              "IPY_MODEL_c0d906f7e862454a8178ea037527408b",
              "IPY_MODEL_a665da2dcb234a748057950c9a842923",
              "IPY_MODEL_06fd6567197b455da0d168971a436c71"
            ],
            "layout": "IPY_MODEL_445b02bf93c24a61b83b02dc0151a370"
          }
        },
        "c0d906f7e862454a8178ea037527408b": {
          "model_module": "@jupyter-widgets/controls",
          "model_name": "HTMLModel",
          "model_module_version": "1.5.0",
          "state": {
            "_dom_classes": [],
            "_model_module": "@jupyter-widgets/controls",
            "_model_module_version": "1.5.0",
            "_model_name": "HTMLModel",
            "_view_count": null,
            "_view_module": "@jupyter-widgets/controls",
            "_view_module_version": "1.5.0",
            "_view_name": "HTMLView",
            "description": "",
            "description_tooltip": null,
            "layout": "IPY_MODEL_656b68a193384a81b505503a857ab325",
            "placeholder": "​",
            "style": "IPY_MODEL_af72c78e01604d1b9da7262980a562d9",
            "value": "vocab.txt: 100%"
          }
        },
        "a665da2dcb234a748057950c9a842923": {
          "model_module": "@jupyter-widgets/controls",
          "model_name": "FloatProgressModel",
          "model_module_version": "1.5.0",
          "state": {
            "_dom_classes": [],
            "_model_module": "@jupyter-widgets/controls",
            "_model_module_version": "1.5.0",
            "_model_name": "FloatProgressModel",
            "_view_count": null,
            "_view_module": "@jupyter-widgets/controls",
            "_view_module_version": "1.5.0",
            "_view_name": "ProgressView",
            "bar_style": "success",
            "description": "",
            "description_tooltip": null,
            "layout": "IPY_MODEL_c5a10bc18fee43b88bee0171bc4d3ecb",
            "max": 231508,
            "min": 0,
            "orientation": "horizontal",
            "style": "IPY_MODEL_06c42a57dbff486a933cb802716b47e5",
            "value": 231508
          }
        },
        "06fd6567197b455da0d168971a436c71": {
          "model_module": "@jupyter-widgets/controls",
          "model_name": "HTMLModel",
          "model_module_version": "1.5.0",
          "state": {
            "_dom_classes": [],
            "_model_module": "@jupyter-widgets/controls",
            "_model_module_version": "1.5.0",
            "_model_name": "HTMLModel",
            "_view_count": null,
            "_view_module": "@jupyter-widgets/controls",
            "_view_module_version": "1.5.0",
            "_view_name": "HTMLView",
            "description": "",
            "description_tooltip": null,
            "layout": "IPY_MODEL_70aba007c0684e99a7d085e887e318b3",
            "placeholder": "​",
            "style": "IPY_MODEL_07513c07576c48a7ad75aab168afd449",
            "value": " 232k/232k [00:00&lt;00:00, 1.19MB/s]"
          }
        },
        "445b02bf93c24a61b83b02dc0151a370": {
          "model_module": "@jupyter-widgets/base",
          "model_name": "LayoutModel",
          "model_module_version": "1.2.0",
          "state": {
            "_model_module": "@jupyter-widgets/base",
            "_model_module_version": "1.2.0",
            "_model_name": "LayoutModel",
            "_view_count": null,
            "_view_module": "@jupyter-widgets/base",
            "_view_module_version": "1.2.0",
            "_view_name": "LayoutView",
            "align_content": null,
            "align_items": null,
            "align_self": null,
            "border": null,
            "bottom": null,
            "display": null,
            "flex": null,
            "flex_flow": null,
            "grid_area": null,
            "grid_auto_columns": null,
            "grid_auto_flow": null,
            "grid_auto_rows": null,
            "grid_column": null,
            "grid_gap": null,
            "grid_row": null,
            "grid_template_areas": null,
            "grid_template_columns": null,
            "grid_template_rows": null,
            "height": null,
            "justify_content": null,
            "justify_items": null,
            "left": null,
            "margin": null,
            "max_height": null,
            "max_width": null,
            "min_height": null,
            "min_width": null,
            "object_fit": null,
            "object_position": null,
            "order": null,
            "overflow": null,
            "overflow_x": null,
            "overflow_y": null,
            "padding": null,
            "right": null,
            "top": null,
            "visibility": null,
            "width": null
          }
        },
        "656b68a193384a81b505503a857ab325": {
          "model_module": "@jupyter-widgets/base",
          "model_name": "LayoutModel",
          "model_module_version": "1.2.0",
          "state": {
            "_model_module": "@jupyter-widgets/base",
            "_model_module_version": "1.2.0",
            "_model_name": "LayoutModel",
            "_view_count": null,
            "_view_module": "@jupyter-widgets/base",
            "_view_module_version": "1.2.0",
            "_view_name": "LayoutView",
            "align_content": null,
            "align_items": null,
            "align_self": null,
            "border": null,
            "bottom": null,
            "display": null,
            "flex": null,
            "flex_flow": null,
            "grid_area": null,
            "grid_auto_columns": null,
            "grid_auto_flow": null,
            "grid_auto_rows": null,
            "grid_column": null,
            "grid_gap": null,
            "grid_row": null,
            "grid_template_areas": null,
            "grid_template_columns": null,
            "grid_template_rows": null,
            "height": null,
            "justify_content": null,
            "justify_items": null,
            "left": null,
            "margin": null,
            "max_height": null,
            "max_width": null,
            "min_height": null,
            "min_width": null,
            "object_fit": null,
            "object_position": null,
            "order": null,
            "overflow": null,
            "overflow_x": null,
            "overflow_y": null,
            "padding": null,
            "right": null,
            "top": null,
            "visibility": null,
            "width": null
          }
        },
        "af72c78e01604d1b9da7262980a562d9": {
          "model_module": "@jupyter-widgets/controls",
          "model_name": "DescriptionStyleModel",
          "model_module_version": "1.5.0",
          "state": {
            "_model_module": "@jupyter-widgets/controls",
            "_model_module_version": "1.5.0",
            "_model_name": "DescriptionStyleModel",
            "_view_count": null,
            "_view_module": "@jupyter-widgets/base",
            "_view_module_version": "1.2.0",
            "_view_name": "StyleView",
            "description_width": ""
          }
        },
        "c5a10bc18fee43b88bee0171bc4d3ecb": {
          "model_module": "@jupyter-widgets/base",
          "model_name": "LayoutModel",
          "model_module_version": "1.2.0",
          "state": {
            "_model_module": "@jupyter-widgets/base",
            "_model_module_version": "1.2.0",
            "_model_name": "LayoutModel",
            "_view_count": null,
            "_view_module": "@jupyter-widgets/base",
            "_view_module_version": "1.2.0",
            "_view_name": "LayoutView",
            "align_content": null,
            "align_items": null,
            "align_self": null,
            "border": null,
            "bottom": null,
            "display": null,
            "flex": null,
            "flex_flow": null,
            "grid_area": null,
            "grid_auto_columns": null,
            "grid_auto_flow": null,
            "grid_auto_rows": null,
            "grid_column": null,
            "grid_gap": null,
            "grid_row": null,
            "grid_template_areas": null,
            "grid_template_columns": null,
            "grid_template_rows": null,
            "height": null,
            "justify_content": null,
            "justify_items": null,
            "left": null,
            "margin": null,
            "max_height": null,
            "max_width": null,
            "min_height": null,
            "min_width": null,
            "object_fit": null,
            "object_position": null,
            "order": null,
            "overflow": null,
            "overflow_x": null,
            "overflow_y": null,
            "padding": null,
            "right": null,
            "top": null,
            "visibility": null,
            "width": null
          }
        },
        "06c42a57dbff486a933cb802716b47e5": {
          "model_module": "@jupyter-widgets/controls",
          "model_name": "ProgressStyleModel",
          "model_module_version": "1.5.0",
          "state": {
            "_model_module": "@jupyter-widgets/controls",
            "_model_module_version": "1.5.0",
            "_model_name": "ProgressStyleModel",
            "_view_count": null,
            "_view_module": "@jupyter-widgets/base",
            "_view_module_version": "1.2.0",
            "_view_name": "StyleView",
            "bar_color": null,
            "description_width": ""
          }
        },
        "70aba007c0684e99a7d085e887e318b3": {
          "model_module": "@jupyter-widgets/base",
          "model_name": "LayoutModel",
          "model_module_version": "1.2.0",
          "state": {
            "_model_module": "@jupyter-widgets/base",
            "_model_module_version": "1.2.0",
            "_model_name": "LayoutModel",
            "_view_count": null,
            "_view_module": "@jupyter-widgets/base",
            "_view_module_version": "1.2.0",
            "_view_name": "LayoutView",
            "align_content": null,
            "align_items": null,
            "align_self": null,
            "border": null,
            "bottom": null,
            "display": null,
            "flex": null,
            "flex_flow": null,
            "grid_area": null,
            "grid_auto_columns": null,
            "grid_auto_flow": null,
            "grid_auto_rows": null,
            "grid_column": null,
            "grid_gap": null,
            "grid_row": null,
            "grid_template_areas": null,
            "grid_template_columns": null,
            "grid_template_rows": null,
            "height": null,
            "justify_content": null,
            "justify_items": null,
            "left": null,
            "margin": null,
            "max_height": null,
            "max_width": null,
            "min_height": null,
            "min_width": null,
            "object_fit": null,
            "object_position": null,
            "order": null,
            "overflow": null,
            "overflow_x": null,
            "overflow_y": null,
            "padding": null,
            "right": null,
            "top": null,
            "visibility": null,
            "width": null
          }
        },
        "07513c07576c48a7ad75aab168afd449": {
          "model_module": "@jupyter-widgets/controls",
          "model_name": "DescriptionStyleModel",
          "model_module_version": "1.5.0",
          "state": {
            "_model_module": "@jupyter-widgets/controls",
            "_model_module_version": "1.5.0",
            "_model_name": "DescriptionStyleModel",
            "_view_count": null,
            "_view_module": "@jupyter-widgets/base",
            "_view_module_version": "1.2.0",
            "_view_name": "StyleView",
            "description_width": ""
          }
        },
        "8941c40991b842df9e7f34af7ab54888": {
          "model_module": "@jupyter-widgets/controls",
          "model_name": "HBoxModel",
          "model_module_version": "1.5.0",
          "state": {
            "_dom_classes": [],
            "_model_module": "@jupyter-widgets/controls",
            "_model_module_version": "1.5.0",
            "_model_name": "HBoxModel",
            "_view_count": null,
            "_view_module": "@jupyter-widgets/controls",
            "_view_module_version": "1.5.0",
            "_view_name": "HBoxView",
            "box_style": "",
            "children": [
              "IPY_MODEL_8a2c7f558a7f4c80bf95866ecaef617d",
              "IPY_MODEL_984a6fcb3e2748ebb532aea46fd4e7e1",
              "IPY_MODEL_7504d4431d144e079fd7301634dfb079"
            ],
            "layout": "IPY_MODEL_8ef813e526b6413b9578992b0320bf27"
          }
        },
        "8a2c7f558a7f4c80bf95866ecaef617d": {
          "model_module": "@jupyter-widgets/controls",
          "model_name": "HTMLModel",
          "model_module_version": "1.5.0",
          "state": {
            "_dom_classes": [],
            "_model_module": "@jupyter-widgets/controls",
            "_model_module_version": "1.5.0",
            "_model_name": "HTMLModel",
            "_view_count": null,
            "_view_module": "@jupyter-widgets/controls",
            "_view_module_version": "1.5.0",
            "_view_name": "HTMLView",
            "description": "",
            "description_tooltip": null,
            "layout": "IPY_MODEL_5dffc28e2406483aa1eb70456968cf20",
            "placeholder": "​",
            "style": "IPY_MODEL_3f4a05e2ac1a4abcab603f8d299887fb",
            "value": "modules.json: 100%"
          }
        },
        "984a6fcb3e2748ebb532aea46fd4e7e1": {
          "model_module": "@jupyter-widgets/controls",
          "model_name": "FloatProgressModel",
          "model_module_version": "1.5.0",
          "state": {
            "_dom_classes": [],
            "_model_module": "@jupyter-widgets/controls",
            "_model_module_version": "1.5.0",
            "_model_name": "FloatProgressModel",
            "_view_count": null,
            "_view_module": "@jupyter-widgets/controls",
            "_view_module_version": "1.5.0",
            "_view_name": "ProgressView",
            "bar_style": "success",
            "description": "",
            "description_tooltip": null,
            "layout": "IPY_MODEL_8f17e992fbda473c8e889f7da81f1b55",
            "max": 349,
            "min": 0,
            "orientation": "horizontal",
            "style": "IPY_MODEL_a4b7bee3b5674dcf8021a52c0dca2eea",
            "value": 349
          }
        },
        "7504d4431d144e079fd7301634dfb079": {
          "model_module": "@jupyter-widgets/controls",
          "model_name": "HTMLModel",
          "model_module_version": "1.5.0",
          "state": {
            "_dom_classes": [],
            "_model_module": "@jupyter-widgets/controls",
            "_model_module_version": "1.5.0",
            "_model_name": "HTMLModel",
            "_view_count": null,
            "_view_module": "@jupyter-widgets/controls",
            "_view_module_version": "1.5.0",
            "_view_name": "HTMLView",
            "description": "",
            "description_tooltip": null,
            "layout": "IPY_MODEL_5db2d57d3d884e5787a1557d99e8ad6f",
            "placeholder": "​",
            "style": "IPY_MODEL_4c4746d846c048d787f4e2bb5cc07ec2",
            "value": " 349/349 [00:00&lt;00:00, 27.8kB/s]"
          }
        },
        "8ef813e526b6413b9578992b0320bf27": {
          "model_module": "@jupyter-widgets/base",
          "model_name": "LayoutModel",
          "model_module_version": "1.2.0",
          "state": {
            "_model_module": "@jupyter-widgets/base",
            "_model_module_version": "1.2.0",
            "_model_name": "LayoutModel",
            "_view_count": null,
            "_view_module": "@jupyter-widgets/base",
            "_view_module_version": "1.2.0",
            "_view_name": "LayoutView",
            "align_content": null,
            "align_items": null,
            "align_self": null,
            "border": null,
            "bottom": null,
            "display": null,
            "flex": null,
            "flex_flow": null,
            "grid_area": null,
            "grid_auto_columns": null,
            "grid_auto_flow": null,
            "grid_auto_rows": null,
            "grid_column": null,
            "grid_gap": null,
            "grid_row": null,
            "grid_template_areas": null,
            "grid_template_columns": null,
            "grid_template_rows": null,
            "height": null,
            "justify_content": null,
            "justify_items": null,
            "left": null,
            "margin": null,
            "max_height": null,
            "max_width": null,
            "min_height": null,
            "min_width": null,
            "object_fit": null,
            "object_position": null,
            "order": null,
            "overflow": null,
            "overflow_x": null,
            "overflow_y": null,
            "padding": null,
            "right": null,
            "top": null,
            "visibility": null,
            "width": null
          }
        },
        "5dffc28e2406483aa1eb70456968cf20": {
          "model_module": "@jupyter-widgets/base",
          "model_name": "LayoutModel",
          "model_module_version": "1.2.0",
          "state": {
            "_model_module": "@jupyter-widgets/base",
            "_model_module_version": "1.2.0",
            "_model_name": "LayoutModel",
            "_view_count": null,
            "_view_module": "@jupyter-widgets/base",
            "_view_module_version": "1.2.0",
            "_view_name": "LayoutView",
            "align_content": null,
            "align_items": null,
            "align_self": null,
            "border": null,
            "bottom": null,
            "display": null,
            "flex": null,
            "flex_flow": null,
            "grid_area": null,
            "grid_auto_columns": null,
            "grid_auto_flow": null,
            "grid_auto_rows": null,
            "grid_column": null,
            "grid_gap": null,
            "grid_row": null,
            "grid_template_areas": null,
            "grid_template_columns": null,
            "grid_template_rows": null,
            "height": null,
            "justify_content": null,
            "justify_items": null,
            "left": null,
            "margin": null,
            "max_height": null,
            "max_width": null,
            "min_height": null,
            "min_width": null,
            "object_fit": null,
            "object_position": null,
            "order": null,
            "overflow": null,
            "overflow_x": null,
            "overflow_y": null,
            "padding": null,
            "right": null,
            "top": null,
            "visibility": null,
            "width": null
          }
        },
        "3f4a05e2ac1a4abcab603f8d299887fb": {
          "model_module": "@jupyter-widgets/controls",
          "model_name": "DescriptionStyleModel",
          "model_module_version": "1.5.0",
          "state": {
            "_model_module": "@jupyter-widgets/controls",
            "_model_module_version": "1.5.0",
            "_model_name": "DescriptionStyleModel",
            "_view_count": null,
            "_view_module": "@jupyter-widgets/base",
            "_view_module_version": "1.2.0",
            "_view_name": "StyleView",
            "description_width": ""
          }
        },
        "8f17e992fbda473c8e889f7da81f1b55": {
          "model_module": "@jupyter-widgets/base",
          "model_name": "LayoutModel",
          "model_module_version": "1.2.0",
          "state": {
            "_model_module": "@jupyter-widgets/base",
            "_model_module_version": "1.2.0",
            "_model_name": "LayoutModel",
            "_view_count": null,
            "_view_module": "@jupyter-widgets/base",
            "_view_module_version": "1.2.0",
            "_view_name": "LayoutView",
            "align_content": null,
            "align_items": null,
            "align_self": null,
            "border": null,
            "bottom": null,
            "display": null,
            "flex": null,
            "flex_flow": null,
            "grid_area": null,
            "grid_auto_columns": null,
            "grid_auto_flow": null,
            "grid_auto_rows": null,
            "grid_column": null,
            "grid_gap": null,
            "grid_row": null,
            "grid_template_areas": null,
            "grid_template_columns": null,
            "grid_template_rows": null,
            "height": null,
            "justify_content": null,
            "justify_items": null,
            "left": null,
            "margin": null,
            "max_height": null,
            "max_width": null,
            "min_height": null,
            "min_width": null,
            "object_fit": null,
            "object_position": null,
            "order": null,
            "overflow": null,
            "overflow_x": null,
            "overflow_y": null,
            "padding": null,
            "right": null,
            "top": null,
            "visibility": null,
            "width": null
          }
        },
        "a4b7bee3b5674dcf8021a52c0dca2eea": {
          "model_module": "@jupyter-widgets/controls",
          "model_name": "ProgressStyleModel",
          "model_module_version": "1.5.0",
          "state": {
            "_model_module": "@jupyter-widgets/controls",
            "_model_module_version": "1.5.0",
            "_model_name": "ProgressStyleModel",
            "_view_count": null,
            "_view_module": "@jupyter-widgets/base",
            "_view_module_version": "1.2.0",
            "_view_name": "StyleView",
            "bar_color": null,
            "description_width": ""
          }
        },
        "5db2d57d3d884e5787a1557d99e8ad6f": {
          "model_module": "@jupyter-widgets/base",
          "model_name": "LayoutModel",
          "model_module_version": "1.2.0",
          "state": {
            "_model_module": "@jupyter-widgets/base",
            "_model_module_version": "1.2.0",
            "_model_name": "LayoutModel",
            "_view_count": null,
            "_view_module": "@jupyter-widgets/base",
            "_view_module_version": "1.2.0",
            "_view_name": "LayoutView",
            "align_content": null,
            "align_items": null,
            "align_self": null,
            "border": null,
            "bottom": null,
            "display": null,
            "flex": null,
            "flex_flow": null,
            "grid_area": null,
            "grid_auto_columns": null,
            "grid_auto_flow": null,
            "grid_auto_rows": null,
            "grid_column": null,
            "grid_gap": null,
            "grid_row": null,
            "grid_template_areas": null,
            "grid_template_columns": null,
            "grid_template_rows": null,
            "height": null,
            "justify_content": null,
            "justify_items": null,
            "left": null,
            "margin": null,
            "max_height": null,
            "max_width": null,
            "min_height": null,
            "min_width": null,
            "object_fit": null,
            "object_position": null,
            "order": null,
            "overflow": null,
            "overflow_x": null,
            "overflow_y": null,
            "padding": null,
            "right": null,
            "top": null,
            "visibility": null,
            "width": null
          }
        },
        "4c4746d846c048d787f4e2bb5cc07ec2": {
          "model_module": "@jupyter-widgets/controls",
          "model_name": "DescriptionStyleModel",
          "model_module_version": "1.5.0",
          "state": {
            "_model_module": "@jupyter-widgets/controls",
            "_model_module_version": "1.5.0",
            "_model_name": "DescriptionStyleModel",
            "_view_count": null,
            "_view_module": "@jupyter-widgets/base",
            "_view_module_version": "1.2.0",
            "_view_name": "StyleView",
            "description_width": ""
          }
        }
      }
    }
  },
  "cells": [
    {
      "cell_type": "markdown",
      "metadata": {
        "id": "view-in-github",
        "colab_type": "text"
      },
      "source": [
        "<a href=\"https://colab.research.google.com/github/thegallier/configs/blob/main/Mistral_7b_instruct_feature_test.ipynb\" target=\"_parent\"><img src=\"https://colab.research.google.com/assets/colab-badge.svg\" alt=\"Open In Colab\"/></a>"
      ]
    },
    {
      "cell_type": "markdown",
      "source": [
        "Note: Responses from local models can be quite slow, especially with 8-bit quantization.\n",
        "\n",
        "With 4bit quantization, `mistralai/Mistral-7B-Instruct-v0.1` uses about 12GB of VRAM and 8.5GB of RAM. I used a T4-High RAM instance for this notebook."
      ],
      "metadata": {
        "id": "mRbrmi4xNkRT"
      }
    },
    {
      "cell_type": "code",
      "source": [
        "!pip install edgartools\n",
        "from edgar import *"
      ],
      "metadata": {
        "colab": {
          "base_uri": "https://localhost:8080/"
        },
        "id": "Ytn82TpwSaR1",
        "outputId": "221ddc95-73cf-411e-f397-2f7739539196"
      },
      "execution_count": 2,
      "outputs": [
        {
          "output_type": "stream",
          "name": "stdout",
          "text": [
            "Collecting edgartools\n",
            "  Downloading edgartools-2.6.2-py3-none-any.whl (285 kB)\n",
            "\u001b[?25l     \u001b[90m━━━━━━━━━━━━━━━━━━━━━━━━━━━━━━━━━━━━━━━━\u001b[0m \u001b[32m0.0/285.0 kB\u001b[0m \u001b[31m?\u001b[0m eta \u001b[36m-:--:--\u001b[0m\r\u001b[2K     \u001b[91m━━━━━━━━━━\u001b[0m\u001b[90m╺\u001b[0m\u001b[90m━━━━━━━━━━━━━━━━━━━━━━━━━━━━━\u001b[0m \u001b[32m71.7/285.0 kB\u001b[0m \u001b[31m2.3 MB/s\u001b[0m eta \u001b[36m0:00:01\u001b[0m\r\u001b[2K     \u001b[90m━━━━━━━━━━━━━━━━━━━━━━━━━━━━━━━━━━━━━━━━\u001b[0m \u001b[32m285.0/285.0 kB\u001b[0m \u001b[31m4.4 MB/s\u001b[0m eta \u001b[36m0:00:00\u001b[0m\n",
            "\u001b[?25hRequirement already satisfied: beautifulsoup4>=4.10.0 in /usr/local/lib/python3.10/dist-packages (from edgartools) (4.11.2)\n",
            "Requirement already satisfied: charset-normalizer>=2.1.1 in /usr/local/lib/python3.10/dist-packages (from edgartools) (3.3.2)\n",
            "Requirement already satisfied: fastcore>=1.5.29 in /usr/local/lib/python3.10/dist-packages (from edgartools) (1.5.29)\n",
            "Collecting httpx>=0.25.0 (from edgartools)\n",
            "  Downloading httpx-0.26.0-py3-none-any.whl (75 kB)\n",
            "\u001b[2K     \u001b[90m━━━━━━━━━━━━━━━━━━━━━━━━━━━━━━━━━━━━━━━━\u001b[0m \u001b[32m75.9/75.9 kB\u001b[0m \u001b[31m5.9 MB/s\u001b[0m eta \u001b[36m0:00:00\u001b[0m\n",
            "\u001b[?25hRequirement already satisfied: humanize>=4.0.0 in /usr/local/lib/python3.10/dist-packages (from edgartools) (4.7.0)\n",
            "Requirement already satisfied: lxml>=4.4 in /usr/local/lib/python3.10/dist-packages (from edgartools) (4.9.3)\n",
            "Collecting markdownify>0.11.0 (from edgartools)\n",
            "  Downloading markdownify-0.11.6-py3-none-any.whl (16 kB)\n",
            "Collecting pandas>=2.0.0 (from edgartools)\n",
            "  Downloading pandas-2.1.4-cp310-cp310-manylinux_2_17_x86_64.manylinux2014_x86_64.whl (12.3 MB)\n",
            "\u001b[2K     \u001b[90m━━━━━━━━━━━━━━━━━━━━━━━━━━━━━━━━━━━━━━━━\u001b[0m \u001b[32m12.3/12.3 MB\u001b[0m \u001b[31m26.6 MB/s\u001b[0m eta \u001b[36m0:00:00\u001b[0m\n",
            "\u001b[?25hCollecting pyarrow>=14.0.0 (from edgartools)\n",
            "  Downloading pyarrow-14.0.2-cp310-cp310-manylinux_2_28_x86_64.whl (38.0 MB)\n",
            "\u001b[2K     \u001b[90m━━━━━━━━━━━━━━━━━━━━━━━━━━━━━━━━━━━━━━━━\u001b[0m \u001b[32m38.0/38.0 MB\u001b[0m \u001b[31m34.2 MB/s\u001b[0m eta \u001b[36m0:00:00\u001b[0m\n",
            "\u001b[?25hCollecting pydantic>=2.0.0 (from edgartools)\n",
            "  Downloading pydantic-2.5.3-py3-none-any.whl (381 kB)\n",
            "\u001b[2K     \u001b[90m━━━━━━━━━━━━━━━━━━━━━━━━━━━━━━━━━━━━━━━━\u001b[0m \u001b[32m381.9/381.9 kB\u001b[0m \u001b[31m29.6 MB/s\u001b[0m eta \u001b[36m0:00:00\u001b[0m\n",
            "\u001b[?25hCollecting rank-bm25==0.2.1 (from edgartools)\n",
            "  Downloading rank_bm25-0.2.1-py3-none-any.whl (8.5 kB)\n",
            "Collecting retry>=0.9.2 (from edgartools)\n",
            "  Downloading retry-0.9.2-py2.py3-none-any.whl (8.0 kB)\n",
            "Requirement already satisfied: rich>=13.0.0 in /usr/local/lib/python3.10/dist-packages (from edgartools) (13.7.0)\n",
            "Collecting textdistance>=4.5.0 (from edgartools)\n",
            "  Downloading textdistance-4.6.0-py3-none-any.whl (31 kB)\n",
            "Collecting unstructured>=0.11.0 (from edgartools)\n",
            "  Downloading unstructured-0.11.6-py3-none-any.whl (1.8 MB)\n",
            "\u001b[2K     \u001b[90m━━━━━━━━━━━━━━━━━━━━━━━━━━━━━━━━━━━━━━━━\u001b[0m \u001b[32m1.8/1.8 MB\u001b[0m \u001b[31m73.3 MB/s\u001b[0m eta \u001b[36m0:00:00\u001b[0m\n",
            "\u001b[?25hRequirement already satisfied: numpy in /usr/local/lib/python3.10/dist-packages (from rank-bm25==0.2.1->edgartools) (1.23.5)\n",
            "Requirement already satisfied: soupsieve>1.2 in /usr/local/lib/python3.10/dist-packages (from beautifulsoup4>=4.10.0->edgartools) (2.5)\n",
            "Requirement already satisfied: pip in /usr/local/lib/python3.10/dist-packages (from fastcore>=1.5.29->edgartools) (23.1.2)\n",
            "Requirement already satisfied: packaging in /usr/local/lib/python3.10/dist-packages (from fastcore>=1.5.29->edgartools) (23.2)\n",
            "Requirement already satisfied: anyio in /usr/local/lib/python3.10/dist-packages (from httpx>=0.25.0->edgartools) (3.7.1)\n",
            "Requirement already satisfied: certifi in /usr/local/lib/python3.10/dist-packages (from httpx>=0.25.0->edgartools) (2023.11.17)\n",
            "Collecting httpcore==1.* (from httpx>=0.25.0->edgartools)\n",
            "  Downloading httpcore-1.0.2-py3-none-any.whl (76 kB)\n",
            "\u001b[2K     \u001b[90m━━━━━━━━━━━━━━━━━━━━━━━━━━━━━━━━━━━━━━━━\u001b[0m \u001b[32m76.9/76.9 kB\u001b[0m \u001b[31m11.2 MB/s\u001b[0m eta \u001b[36m0:00:00\u001b[0m\n",
            "\u001b[?25hRequirement already satisfied: idna in /usr/local/lib/python3.10/dist-packages (from httpx>=0.25.0->edgartools) (3.6)\n",
            "Requirement already satisfied: sniffio in /usr/local/lib/python3.10/dist-packages (from httpx>=0.25.0->edgartools) (1.3.0)\n",
            "Collecting h11<0.15,>=0.13 (from httpcore==1.*->httpx>=0.25.0->edgartools)\n",
            "  Downloading h11-0.14.0-py3-none-any.whl (58 kB)\n",
            "\u001b[2K     \u001b[90m━━━━━━━━━━━━━━━━━━━━━━━━━━━━━━━━━━━━━━━━\u001b[0m \u001b[32m58.3/58.3 kB\u001b[0m \u001b[31m8.4 MB/s\u001b[0m eta \u001b[36m0:00:00\u001b[0m\n",
            "\u001b[?25hRequirement already satisfied: six<2,>=1.15 in /usr/local/lib/python3.10/dist-packages (from markdownify>0.11.0->edgartools) (1.16.0)\n",
            "Requirement already satisfied: python-dateutil>=2.8.2 in /usr/local/lib/python3.10/dist-packages (from pandas>=2.0.0->edgartools) (2.8.2)\n",
            "Requirement already satisfied: pytz>=2020.1 in /usr/local/lib/python3.10/dist-packages (from pandas>=2.0.0->edgartools) (2023.3.post1)\n",
            "Collecting tzdata>=2022.1 (from pandas>=2.0.0->edgartools)\n",
            "  Downloading tzdata-2023.3-py2.py3-none-any.whl (341 kB)\n",
            "\u001b[2K     \u001b[90m━━━━━━━━━━━━━━━━━━━━━━━━━━━━━━━━━━━━━━━━\u001b[0m \u001b[32m341.8/341.8 kB\u001b[0m \u001b[31m35.4 MB/s\u001b[0m eta \u001b[36m0:00:00\u001b[0m\n",
            "\u001b[?25hCollecting annotated-types>=0.4.0 (from pydantic>=2.0.0->edgartools)\n",
            "  Downloading annotated_types-0.6.0-py3-none-any.whl (12 kB)\n",
            "Collecting pydantic-core==2.14.6 (from pydantic>=2.0.0->edgartools)\n",
            "  Downloading pydantic_core-2.14.6-cp310-cp310-manylinux_2_17_x86_64.manylinux2014_x86_64.whl (2.1 MB)\n",
            "\u001b[2K     \u001b[90m━━━━━━━━━━━━━━━━━━━━━━━━━━━━━━━━━━━━━━━━\u001b[0m \u001b[32m2.1/2.1 MB\u001b[0m \u001b[31m33.3 MB/s\u001b[0m eta \u001b[36m0:00:00\u001b[0m\n",
            "\u001b[?25hCollecting typing-extensions>=4.6.1 (from pydantic>=2.0.0->edgartools)\n",
            "  Downloading typing_extensions-4.9.0-py3-none-any.whl (32 kB)\n",
            "Requirement already satisfied: decorator>=3.4.2 in /usr/local/lib/python3.10/dist-packages (from retry>=0.9.2->edgartools) (4.4.2)\n",
            "Collecting py<2.0.0,>=1.4.26 (from retry>=0.9.2->edgartools)\n",
            "  Downloading py-1.11.0-py2.py3-none-any.whl (98 kB)\n",
            "\u001b[2K     \u001b[90m━━━━━━━━━━━━━━━━━━━━━━━━━━━━━━━━━━━━━━━━\u001b[0m \u001b[32m98.7/98.7 kB\u001b[0m \u001b[31m15.6 MB/s\u001b[0m eta \u001b[36m0:00:00\u001b[0m\n",
            "\u001b[?25hRequirement already satisfied: markdown-it-py>=2.2.0 in /usr/local/lib/python3.10/dist-packages (from rich>=13.0.0->edgartools) (3.0.0)\n",
            "Requirement already satisfied: pygments<3.0.0,>=2.13.0 in /usr/local/lib/python3.10/dist-packages (from rich>=13.0.0->edgartools) (2.16.1)\n",
            "Requirement already satisfied: chardet in /usr/local/lib/python3.10/dist-packages (from unstructured>=0.11.0->edgartools) (5.2.0)\n",
            "Collecting filetype (from unstructured>=0.11.0->edgartools)\n",
            "  Downloading filetype-1.2.0-py2.py3-none-any.whl (19 kB)\n",
            "Collecting python-magic (from unstructured>=0.11.0->edgartools)\n",
            "  Downloading python_magic-0.4.27-py2.py3-none-any.whl (13 kB)\n",
            "Requirement already satisfied: nltk in /usr/local/lib/python3.10/dist-packages (from unstructured>=0.11.0->edgartools) (3.8.1)\n",
            "Requirement already satisfied: tabulate in /usr/local/lib/python3.10/dist-packages (from unstructured>=0.11.0->edgartools) (0.9.0)\n",
            "Requirement already satisfied: requests in /usr/local/lib/python3.10/dist-packages (from unstructured>=0.11.0->edgartools) (2.31.0)\n",
            "Collecting emoji (from unstructured>=0.11.0->edgartools)\n",
            "  Downloading emoji-2.9.0-py2.py3-none-any.whl (397 kB)\n",
            "\u001b[2K     \u001b[90m━━━━━━━━━━━━━━━━━━━━━━━━━━━━━━━━━━━━━━━━\u001b[0m \u001b[32m397.5/397.5 kB\u001b[0m \u001b[31m47.6 MB/s\u001b[0m eta \u001b[36m0:00:00\u001b[0m\n",
            "\u001b[?25hCollecting dataclasses-json (from unstructured>=0.11.0->edgartools)\n",
            "  Downloading dataclasses_json-0.6.3-py3-none-any.whl (28 kB)\n",
            "Collecting python-iso639 (from unstructured>=0.11.0->edgartools)\n",
            "  Downloading python_iso639-2023.12.11-py3-none-any.whl (275 kB)\n",
            "\u001b[2K     \u001b[90m━━━━━━━━━━━━━━━━━━━━━━━━━━━━━━━━━━━━━━━━\u001b[0m \u001b[32m275.1/275.1 kB\u001b[0m \u001b[31m36.6 MB/s\u001b[0m eta \u001b[36m0:00:00\u001b[0m\n",
            "\u001b[?25hCollecting langdetect (from unstructured>=0.11.0->edgartools)\n",
            "  Downloading langdetect-1.0.9.tar.gz (981 kB)\n",
            "\u001b[2K     \u001b[90m━━━━━━━━━━━━━━━━━━━━━━━━━━━━━━━━━━━━━━━━\u001b[0m \u001b[32m981.5/981.5 kB\u001b[0m \u001b[31m57.9 MB/s\u001b[0m eta \u001b[36m0:00:00\u001b[0m\n",
            "\u001b[?25h  Preparing metadata (setup.py) ... \u001b[?25l\u001b[?25hdone\n",
            "Collecting rapidfuzz (from unstructured>=0.11.0->edgartools)\n",
            "  Downloading rapidfuzz-3.5.2-cp310-cp310-manylinux_2_17_x86_64.manylinux2014_x86_64.whl (3.3 MB)\n",
            "\u001b[2K     \u001b[90m━━━━━━━━━━━━━━━━━━━━━━━━━━━━━━━━━━━━━━━━\u001b[0m \u001b[32m3.3/3.3 MB\u001b[0m \u001b[31m87.1 MB/s\u001b[0m eta \u001b[36m0:00:00\u001b[0m\n",
            "\u001b[?25hCollecting backoff (from unstructured>=0.11.0->edgartools)\n",
            "  Downloading backoff-2.2.1-py3-none-any.whl (15 kB)\n",
            "Collecting unstructured-client (from unstructured>=0.11.0->edgartools)\n",
            "  Downloading unstructured_client-0.15.1-py3-none-any.whl (20 kB)\n",
            "Requirement already satisfied: wrapt in /usr/local/lib/python3.10/dist-packages (from unstructured>=0.11.0->edgartools) (1.14.1)\n",
            "Requirement already satisfied: mdurl~=0.1 in /usr/local/lib/python3.10/dist-packages (from markdown-it-py>=2.2.0->rich>=13.0.0->edgartools) (0.1.2)\n",
            "Requirement already satisfied: exceptiongroup in /usr/local/lib/python3.10/dist-packages (from anyio->httpx>=0.25.0->edgartools) (1.2.0)\n",
            "Collecting marshmallow<4.0.0,>=3.18.0 (from dataclasses-json->unstructured>=0.11.0->edgartools)\n",
            "  Downloading marshmallow-3.20.1-py3-none-any.whl (49 kB)\n",
            "\u001b[2K     \u001b[90m━━━━━━━━━━━━━━━━━━━━━━━━━━━━━━━━━━━━━━━━\u001b[0m \u001b[32m49.4/49.4 kB\u001b[0m \u001b[31m7.2 MB/s\u001b[0m eta \u001b[36m0:00:00\u001b[0m\n",
            "\u001b[?25hCollecting typing-inspect<1,>=0.4.0 (from dataclasses-json->unstructured>=0.11.0->edgartools)\n",
            "  Downloading typing_inspect-0.9.0-py3-none-any.whl (8.8 kB)\n",
            "Requirement already satisfied: click in /usr/local/lib/python3.10/dist-packages (from nltk->unstructured>=0.11.0->edgartools) (8.1.7)\n",
            "Requirement already satisfied: joblib in /usr/local/lib/python3.10/dist-packages (from nltk->unstructured>=0.11.0->edgartools) (1.3.2)\n",
            "Requirement already satisfied: regex>=2021.8.3 in /usr/local/lib/python3.10/dist-packages (from nltk->unstructured>=0.11.0->edgartools) (2023.6.3)\n",
            "Requirement already satisfied: tqdm in /usr/local/lib/python3.10/dist-packages (from nltk->unstructured>=0.11.0->edgartools) (4.66.1)\n",
            "Requirement already satisfied: urllib3<3,>=1.21.1 in /usr/local/lib/python3.10/dist-packages (from requests->unstructured>=0.11.0->edgartools) (2.0.7)\n",
            "Collecting jsonpath-python>=1.0.6 (from unstructured-client->unstructured>=0.11.0->edgartools)\n",
            "  Downloading jsonpath_python-1.0.6-py3-none-any.whl (7.6 kB)\n",
            "Collecting mypy-extensions>=1.0.0 (from unstructured-client->unstructured>=0.11.0->edgartools)\n",
            "  Downloading mypy_extensions-1.0.0-py3-none-any.whl (4.7 kB)\n",
            "Building wheels for collected packages: langdetect\n",
            "  Building wheel for langdetect (setup.py) ... \u001b[?25l\u001b[?25hdone\n",
            "  Created wheel for langdetect: filename=langdetect-1.0.9-py3-none-any.whl size=993225 sha256=d82d482aff32dc84aa42cd6d4c217b9e9c3c42a30fa1f5b58034086d8e227034\n",
            "  Stored in directory: /root/.cache/pip/wheels/95/03/7d/59ea870c70ce4e5a370638b5462a7711ab78fba2f655d05106\n",
            "Successfully built langdetect\n",
            "Installing collected packages: filetype, tzdata, typing-extensions, textdistance, rapidfuzz, rank-bm25, python-magic, python-iso639, pyarrow, py, mypy-extensions, marshmallow, langdetect, jsonpath-python, h11, emoji, backoff, annotated-types, typing-inspect, retry, pydantic-core, pandas, markdownify, httpcore, pydantic, httpx, dataclasses-json, unstructured-client, unstructured, edgartools\n",
            "  Attempting uninstall: typing-extensions\n",
            "    Found existing installation: typing_extensions 4.5.0\n",
            "    Uninstalling typing_extensions-4.5.0:\n",
            "      Successfully uninstalled typing_extensions-4.5.0\n",
            "  Attempting uninstall: pyarrow\n",
            "    Found existing installation: pyarrow 10.0.1\n",
            "    Uninstalling pyarrow-10.0.1:\n",
            "      Successfully uninstalled pyarrow-10.0.1\n",
            "  Attempting uninstall: pandas\n",
            "    Found existing installation: pandas 1.5.3\n",
            "    Uninstalling pandas-1.5.3:\n",
            "      Successfully uninstalled pandas-1.5.3\n",
            "  Attempting uninstall: pydantic\n",
            "    Found existing installation: pydantic 1.10.13\n",
            "    Uninstalling pydantic-1.10.13:\n",
            "      Successfully uninstalled pydantic-1.10.13\n",
            "\u001b[31mERROR: pip's dependency resolver does not currently take into account all the packages that are installed. This behaviour is the source of the following dependency conflicts.\n",
            "lida 0.0.10 requires fastapi, which is not installed.\n",
            "lida 0.0.10 requires kaleido, which is not installed.\n",
            "lida 0.0.10 requires python-multipart, which is not installed.\n",
            "lida 0.0.10 requires uvicorn, which is not installed.\n",
            "llmx 0.0.15a0 requires cohere, which is not installed.\n",
            "llmx 0.0.15a0 requires openai, which is not installed.\n",
            "llmx 0.0.15a0 requires tiktoken, which is not installed.\n",
            "bigframes 0.17.0 requires pandas<2.1.4,>=1.5.0, but you have pandas 2.1.4 which is incompatible.\n",
            "google-colab 1.0.0 requires pandas==1.5.3, but you have pandas 2.1.4 which is incompatible.\n",
            "ibis-framework 6.2.0 requires pyarrow<13,>=2, but you have pyarrow 14.0.2 which is incompatible.\n",
            "tensorflow-probability 0.22.0 requires typing-extensions<4.6.0, but you have typing-extensions 4.9.0 which is incompatible.\u001b[0m\u001b[31m\n",
            "\u001b[0mSuccessfully installed annotated-types-0.6.0 backoff-2.2.1 dataclasses-json-0.6.3 edgartools-2.6.2 emoji-2.9.0 filetype-1.2.0 h11-0.14.0 httpcore-1.0.2 httpx-0.26.0 jsonpath-python-1.0.6 langdetect-1.0.9 markdownify-0.11.6 marshmallow-3.20.1 mypy-extensions-1.0.0 pandas-2.1.4 py-1.11.0 pyarrow-14.0.2 pydantic-2.5.3 pydantic-core-2.14.6 python-iso639-2023.12.11 python-magic-0.4.27 rank-bm25-0.2.1 rapidfuzz-3.5.2 retry-0.9.2 textdistance-4.6.0 typing-extensions-4.9.0 typing-inspect-0.9.0 tzdata-2023.3 unstructured-0.11.6 unstructured-client-0.15.1\n"
          ]
        }
      ]
    },
    {
      "cell_type": "code",
      "source": [
        "!pip install git+https://github.com/run-llama/llama_index"
      ],
      "metadata": {
        "colab": {
          "base_uri": "https://localhost:8080/"
        },
        "id": "iiS0z1UxWgyt",
        "outputId": "d4e4bbb5-750e-4794-d1c8-9dbe5e1e5f13"
      },
      "execution_count": 3,
      "outputs": [
        {
          "output_type": "stream",
          "name": "stdout",
          "text": [
            "Collecting git+https://github.com/run-llama/llama_index\n",
            "  Cloning https://github.com/run-llama/llama_index to /tmp/pip-req-build-_84t7h3m\n",
            "  Running command git clone --filter=blob:none --quiet https://github.com/run-llama/llama_index /tmp/pip-req-build-_84t7h3m\n",
            "  Resolved https://github.com/run-llama/llama_index to commit 09280d37b503aecfa57afb2c8266221542f431ca\n",
            "  Running command git submodule update --init --recursive -q\n",
            "  Installing build dependencies ... \u001b[?25l\u001b[?25hdone\n",
            "  Getting requirements to build wheel ... \u001b[?25l\u001b[?25hdone\n",
            "  Preparing metadata (pyproject.toml) ... \u001b[?25l\u001b[?25hdone\n",
            "Requirement already satisfied: SQLAlchemy[asyncio]>=1.4.49 in /usr/local/lib/python3.10/dist-packages (from llama-index==0.9.21) (2.0.23)\n",
            "Requirement already satisfied: aiohttp<4.0.0,>=3.8.6 in /usr/local/lib/python3.10/dist-packages (from llama-index==0.9.21) (3.9.1)\n",
            "Collecting beautifulsoup4<5.0.0,>=4.12.2 (from llama-index==0.9.21)\n",
            "  Downloading beautifulsoup4-4.12.2-py3-none-any.whl (142 kB)\n",
            "\u001b[2K     \u001b[90m━━━━━━━━━━━━━━━━━━━━━━━━━━━━━━━━━━━━━━━━\u001b[0m \u001b[32m143.0/143.0 kB\u001b[0m \u001b[31m3.3 MB/s\u001b[0m eta \u001b[36m0:00:00\u001b[0m\n",
            "\u001b[?25hRequirement already satisfied: dataclasses-json in /usr/local/lib/python3.10/dist-packages (from llama-index==0.9.21) (0.6.3)\n",
            "Collecting deprecated>=1.2.9.3 (from llama-index==0.9.21)\n",
            "  Downloading Deprecated-1.2.14-py2.py3-none-any.whl (9.6 kB)\n",
            "Requirement already satisfied: fsspec>=2023.5.0 in /usr/local/lib/python3.10/dist-packages (from llama-index==0.9.21) (2023.6.0)\n",
            "Requirement already satisfied: httpx in /usr/local/lib/python3.10/dist-packages (from llama-index==0.9.21) (0.26.0)\n",
            "Requirement already satisfied: nest-asyncio<2.0.0,>=1.5.8 in /usr/local/lib/python3.10/dist-packages (from llama-index==0.9.21) (1.5.8)\n",
            "Requirement already satisfied: nltk<4.0.0,>=3.8.1 in /usr/local/lib/python3.10/dist-packages (from llama-index==0.9.21) (3.8.1)\n",
            "Requirement already satisfied: numpy in /usr/local/lib/python3.10/dist-packages (from llama-index==0.9.21) (1.23.5)\n",
            "Collecting openai>=1.1.0 (from llama-index==0.9.21)\n",
            "  Downloading openai-1.6.1-py3-none-any.whl (225 kB)\n",
            "\u001b[2K     \u001b[90m━━━━━━━━━━━━━━━━━━━━━━━━━━━━━━━━━━━━━━━━\u001b[0m \u001b[32m225.4/225.4 kB\u001b[0m \u001b[31m12.3 MB/s\u001b[0m eta \u001b[36m0:00:00\u001b[0m\n",
            "\u001b[?25hRequirement already satisfied: pandas in /usr/local/lib/python3.10/dist-packages (from llama-index==0.9.21) (2.1.4)\n",
            "Requirement already satisfied: requests>=2.31.0 in /usr/local/lib/python3.10/dist-packages (from llama-index==0.9.21) (2.31.0)\n",
            "Requirement already satisfied: tenacity<9.0.0,>=8.2.0 in /usr/local/lib/python3.10/dist-packages (from llama-index==0.9.21) (8.2.3)\n",
            "Collecting tiktoken>=0.3.3 (from llama-index==0.9.21)\n",
            "  Downloading tiktoken-0.5.2-cp310-cp310-manylinux_2_17_x86_64.manylinux2014_x86_64.whl (2.0 MB)\n",
            "\u001b[2K     \u001b[90m━━━━━━━━━━━━━━━━━━━━━━━━━━━━━━━━━━━━━━━━\u001b[0m \u001b[32m2.0/2.0 MB\u001b[0m \u001b[31m49.2 MB/s\u001b[0m eta \u001b[36m0:00:00\u001b[0m\n",
            "\u001b[?25hRequirement already satisfied: typing-extensions>=4.5.0 in /usr/local/lib/python3.10/dist-packages (from llama-index==0.9.21) (4.9.0)\n",
            "Requirement already satisfied: typing-inspect>=0.8.0 in /usr/local/lib/python3.10/dist-packages (from llama-index==0.9.21) (0.9.0)\n",
            "Requirement already satisfied: attrs>=17.3.0 in /usr/local/lib/python3.10/dist-packages (from aiohttp<4.0.0,>=3.8.6->llama-index==0.9.21) (23.1.0)\n",
            "Requirement already satisfied: multidict<7.0,>=4.5 in /usr/local/lib/python3.10/dist-packages (from aiohttp<4.0.0,>=3.8.6->llama-index==0.9.21) (6.0.4)\n",
            "Requirement already satisfied: yarl<2.0,>=1.0 in /usr/local/lib/python3.10/dist-packages (from aiohttp<4.0.0,>=3.8.6->llama-index==0.9.21) (1.9.4)\n",
            "Requirement already satisfied: frozenlist>=1.1.1 in /usr/local/lib/python3.10/dist-packages (from aiohttp<4.0.0,>=3.8.6->llama-index==0.9.21) (1.4.1)\n",
            "Requirement already satisfied: aiosignal>=1.1.2 in /usr/local/lib/python3.10/dist-packages (from aiohttp<4.0.0,>=3.8.6->llama-index==0.9.21) (1.3.1)\n",
            "Requirement already satisfied: async-timeout<5.0,>=4.0 in /usr/local/lib/python3.10/dist-packages (from aiohttp<4.0.0,>=3.8.6->llama-index==0.9.21) (4.0.3)\n",
            "Requirement already satisfied: soupsieve>1.2 in /usr/local/lib/python3.10/dist-packages (from beautifulsoup4<5.0.0,>=4.12.2->llama-index==0.9.21) (2.5)\n",
            "Requirement already satisfied: wrapt<2,>=1.10 in /usr/local/lib/python3.10/dist-packages (from deprecated>=1.2.9.3->llama-index==0.9.21) (1.14.1)\n",
            "Requirement already satisfied: click in /usr/local/lib/python3.10/dist-packages (from nltk<4.0.0,>=3.8.1->llama-index==0.9.21) (8.1.7)\n",
            "Requirement already satisfied: joblib in /usr/local/lib/python3.10/dist-packages (from nltk<4.0.0,>=3.8.1->llama-index==0.9.21) (1.3.2)\n",
            "Requirement already satisfied: regex>=2021.8.3 in /usr/local/lib/python3.10/dist-packages (from nltk<4.0.0,>=3.8.1->llama-index==0.9.21) (2023.6.3)\n",
            "Requirement already satisfied: tqdm in /usr/local/lib/python3.10/dist-packages (from nltk<4.0.0,>=3.8.1->llama-index==0.9.21) (4.66.1)\n",
            "Requirement already satisfied: anyio<5,>=3.5.0 in /usr/local/lib/python3.10/dist-packages (from openai>=1.1.0->llama-index==0.9.21) (3.7.1)\n",
            "Requirement already satisfied: distro<2,>=1.7.0 in /usr/lib/python3/dist-packages (from openai>=1.1.0->llama-index==0.9.21) (1.7.0)\n",
            "Requirement already satisfied: pydantic<3,>=1.9.0 in /usr/local/lib/python3.10/dist-packages (from openai>=1.1.0->llama-index==0.9.21) (2.5.3)\n",
            "Requirement already satisfied: sniffio in /usr/local/lib/python3.10/dist-packages (from openai>=1.1.0->llama-index==0.9.21) (1.3.0)\n",
            "Requirement already satisfied: certifi in /usr/local/lib/python3.10/dist-packages (from httpx->llama-index==0.9.21) (2023.11.17)\n",
            "Requirement already satisfied: httpcore==1.* in /usr/local/lib/python3.10/dist-packages (from httpx->llama-index==0.9.21) (1.0.2)\n",
            "Requirement already satisfied: idna in /usr/local/lib/python3.10/dist-packages (from httpx->llama-index==0.9.21) (3.6)\n",
            "Requirement already satisfied: h11<0.15,>=0.13 in /usr/local/lib/python3.10/dist-packages (from httpcore==1.*->httpx->llama-index==0.9.21) (0.14.0)\n",
            "Requirement already satisfied: charset-normalizer<4,>=2 in /usr/local/lib/python3.10/dist-packages (from requests>=2.31.0->llama-index==0.9.21) (3.3.2)\n",
            "Requirement already satisfied: urllib3<3,>=1.21.1 in /usr/local/lib/python3.10/dist-packages (from requests>=2.31.0->llama-index==0.9.21) (2.0.7)\n",
            "Requirement already satisfied: greenlet!=0.4.17 in /usr/local/lib/python3.10/dist-packages (from SQLAlchemy[asyncio]>=1.4.49->llama-index==0.9.21) (3.0.2)\n",
            "Requirement already satisfied: mypy-extensions>=0.3.0 in /usr/local/lib/python3.10/dist-packages (from typing-inspect>=0.8.0->llama-index==0.9.21) (1.0.0)\n",
            "Requirement already satisfied: marshmallow<4.0.0,>=3.18.0 in /usr/local/lib/python3.10/dist-packages (from dataclasses-json->llama-index==0.9.21) (3.20.1)\n",
            "Requirement already satisfied: python-dateutil>=2.8.2 in /usr/local/lib/python3.10/dist-packages (from pandas->llama-index==0.9.21) (2.8.2)\n",
            "Requirement already satisfied: pytz>=2020.1 in /usr/local/lib/python3.10/dist-packages (from pandas->llama-index==0.9.21) (2023.3.post1)\n",
            "Requirement already satisfied: tzdata>=2022.1 in /usr/local/lib/python3.10/dist-packages (from pandas->llama-index==0.9.21) (2023.3)\n",
            "Requirement already satisfied: exceptiongroup in /usr/local/lib/python3.10/dist-packages (from anyio<5,>=3.5.0->openai>=1.1.0->llama-index==0.9.21) (1.2.0)\n",
            "Requirement already satisfied: packaging>=17.0 in /usr/local/lib/python3.10/dist-packages (from marshmallow<4.0.0,>=3.18.0->dataclasses-json->llama-index==0.9.21) (23.2)\n",
            "Requirement already satisfied: annotated-types>=0.4.0 in /usr/local/lib/python3.10/dist-packages (from pydantic<3,>=1.9.0->openai>=1.1.0->llama-index==0.9.21) (0.6.0)\n",
            "Requirement already satisfied: pydantic-core==2.14.6 in /usr/local/lib/python3.10/dist-packages (from pydantic<3,>=1.9.0->openai>=1.1.0->llama-index==0.9.21) (2.14.6)\n",
            "Requirement already satisfied: six>=1.5 in /usr/local/lib/python3.10/dist-packages (from python-dateutil>=2.8.2->pandas->llama-index==0.9.21) (1.16.0)\n",
            "Building wheels for collected packages: llama-index\n",
            "  Building wheel for llama-index (pyproject.toml) ... \u001b[?25l\u001b[?25hdone\n",
            "  Created wheel for llama-index: filename=llama_index-0.9.21-py3-none-any.whl size=1010253 sha256=0a7246eb359f71d3cd4fb845aabdeca16d96a487c3d077018ab09818566533fa\n",
            "  Stored in directory: /tmp/pip-ephem-wheel-cache-9gfxz7uk/wheels/34/30/4b/9354c34dbec4fb950faaa960169921b0b02edf6e3bb8d6b0fa\n",
            "Successfully built llama-index\n",
            "Installing collected packages: deprecated, beautifulsoup4, tiktoken, openai, llama-index\n",
            "  Attempting uninstall: beautifulsoup4\n",
            "    Found existing installation: beautifulsoup4 4.11.2\n",
            "    Uninstalling beautifulsoup4-4.11.2:\n",
            "      Successfully uninstalled beautifulsoup4-4.11.2\n",
            "\u001b[31mERROR: pip's dependency resolver does not currently take into account all the packages that are installed. This behaviour is the source of the following dependency conflicts.\n",
            "llmx 0.0.15a0 requires cohere, which is not installed.\u001b[0m\u001b[31m\n",
            "\u001b[0mSuccessfully installed beautifulsoup4-4.12.2 deprecated-1.2.14 llama-index-0.9.21 openai-1.6.1 tiktoken-0.5.2\n"
          ]
        }
      ]
    },
    {
      "cell_type": "code",
      "source": [
        "!pip install transformers accelerate bitsandbytes"
      ],
      "metadata": {
        "id": "V1DwVkHCNDgT",
        "colab": {
          "base_uri": "https://localhost:8080/"
        },
        "outputId": "c4de6fd9-dc15-4bfa-c576-d120ff8fb760"
      },
      "execution_count": 4,
      "outputs": [
        {
          "output_type": "stream",
          "name": "stdout",
          "text": [
            "Requirement already satisfied: transformers in /usr/local/lib/python3.10/dist-packages (4.35.2)\n",
            "Collecting accelerate\n",
            "  Downloading accelerate-0.25.0-py3-none-any.whl (265 kB)\n",
            "\u001b[2K     \u001b[90m━━━━━━━━━━━━━━━━━━━━━━━━━━━━━━━━━━━━━━━━\u001b[0m \u001b[32m265.7/265.7 kB\u001b[0m \u001b[31m4.5 MB/s\u001b[0m eta \u001b[36m0:00:00\u001b[0m\n",
            "\u001b[?25hCollecting bitsandbytes\n",
            "  Downloading bitsandbytes-0.41.3.post2-py3-none-any.whl (92.6 MB)\n",
            "\u001b[2K     \u001b[90m━━━━━━━━━━━━━━━━━━━━━━━━━━━━━━━━━━━━━━━━\u001b[0m \u001b[32m92.6/92.6 MB\u001b[0m \u001b[31m18.0 MB/s\u001b[0m eta \u001b[36m0:00:00\u001b[0m\n",
            "\u001b[?25hRequirement already satisfied: filelock in /usr/local/lib/python3.10/dist-packages (from transformers) (3.13.1)\n",
            "Requirement already satisfied: huggingface-hub<1.0,>=0.16.4 in /usr/local/lib/python3.10/dist-packages (from transformers) (0.19.4)\n",
            "Requirement already satisfied: numpy>=1.17 in /usr/local/lib/python3.10/dist-packages (from transformers) (1.23.5)\n",
            "Requirement already satisfied: packaging>=20.0 in /usr/local/lib/python3.10/dist-packages (from transformers) (23.2)\n",
            "Requirement already satisfied: pyyaml>=5.1 in /usr/local/lib/python3.10/dist-packages (from transformers) (6.0.1)\n",
            "Requirement already satisfied: regex!=2019.12.17 in /usr/local/lib/python3.10/dist-packages (from transformers) (2023.6.3)\n",
            "Requirement already satisfied: requests in /usr/local/lib/python3.10/dist-packages (from transformers) (2.31.0)\n",
            "Requirement already satisfied: tokenizers<0.19,>=0.14 in /usr/local/lib/python3.10/dist-packages (from transformers) (0.15.0)\n",
            "Requirement already satisfied: safetensors>=0.3.1 in /usr/local/lib/python3.10/dist-packages (from transformers) (0.4.1)\n",
            "Requirement already satisfied: tqdm>=4.27 in /usr/local/lib/python3.10/dist-packages (from transformers) (4.66.1)\n",
            "Requirement already satisfied: psutil in /usr/local/lib/python3.10/dist-packages (from accelerate) (5.9.5)\n",
            "Requirement already satisfied: torch>=1.10.0 in /usr/local/lib/python3.10/dist-packages (from accelerate) (2.1.0+cu121)\n",
            "Requirement already satisfied: fsspec>=2023.5.0 in /usr/local/lib/python3.10/dist-packages (from huggingface-hub<1.0,>=0.16.4->transformers) (2023.6.0)\n",
            "Requirement already satisfied: typing-extensions>=3.7.4.3 in /usr/local/lib/python3.10/dist-packages (from huggingface-hub<1.0,>=0.16.4->transformers) (4.9.0)\n",
            "Requirement already satisfied: sympy in /usr/local/lib/python3.10/dist-packages (from torch>=1.10.0->accelerate) (1.12)\n",
            "Requirement already satisfied: networkx in /usr/local/lib/python3.10/dist-packages (from torch>=1.10.0->accelerate) (3.2.1)\n",
            "Requirement already satisfied: jinja2 in /usr/local/lib/python3.10/dist-packages (from torch>=1.10.0->accelerate) (3.1.2)\n",
            "Requirement already satisfied: triton==2.1.0 in /usr/local/lib/python3.10/dist-packages (from torch>=1.10.0->accelerate) (2.1.0)\n",
            "Requirement already satisfied: charset-normalizer<4,>=2 in /usr/local/lib/python3.10/dist-packages (from requests->transformers) (3.3.2)\n",
            "Requirement already satisfied: idna<4,>=2.5 in /usr/local/lib/python3.10/dist-packages (from requests->transformers) (3.6)\n",
            "Requirement already satisfied: urllib3<3,>=1.21.1 in /usr/local/lib/python3.10/dist-packages (from requests->transformers) (2.0.7)\n",
            "Requirement already satisfied: certifi>=2017.4.17 in /usr/local/lib/python3.10/dist-packages (from requests->transformers) (2023.11.17)\n",
            "Requirement already satisfied: MarkupSafe>=2.0 in /usr/local/lib/python3.10/dist-packages (from jinja2->torch>=1.10.0->accelerate) (2.1.3)\n",
            "Requirement already satisfied: mpmath>=0.19 in /usr/local/lib/python3.10/dist-packages (from sympy->torch>=1.10.0->accelerate) (1.3.0)\n",
            "Installing collected packages: bitsandbytes, accelerate\n",
            "Successfully installed accelerate-0.25.0 bitsandbytes-0.41.3.post2\n"
          ]
        }
      ]
    },
    {
      "cell_type": "markdown",
      "source": [
        "## Setup"
      ],
      "metadata": {
        "id": "q1_IZvrVM_FQ"
      }
    },
    {
      "cell_type": "markdown",
      "source": [
        "### Data"
      ],
      "metadata": {
        "id": "kkjVukvQO_5D"
      }
    },
    {
      "cell_type": "code",
      "source": [
        "from llama_index.readers import BeautifulSoupWebReader\n",
        "\n",
        "url = \"https://www.theverge.com/2023/9/29/23895675/ai-bot-social-network-openai-meta-chatbots\"\n",
        "\n",
        "documents = BeautifulSoupWebReader().load_data([url])"
      ],
      "metadata": {
        "id": "quYBhKouOIxM"
      },
      "execution_count": 4,
      "outputs": []
    },
    {
      "cell_type": "code",
      "source": [
        "documents"
      ],
      "metadata": {
        "colab": {
          "base_uri": "https://localhost:8080/"
        },
        "id": "ejT-DNuKXOGd",
        "outputId": "124884d3-429c-404e-dadc-7214aa3fa9b1"
      },
      "execution_count": 5,
      "outputs": [
        {
          "output_type": "execute_result",
          "data": {
            "text/plain": [
              "[Document(id_='3c54bf12-8b73-40ae-8ebc-15bfb4500aca', embedding=None, metadata={'URL': 'https://www.theverge.com/2023/9/29/23895675/ai-bot-social-network-openai-meta-chatbots'}, excluded_embed_metadata_keys=[], excluded_llm_metadata_keys=[], relationships={}, hash='8bd1ac6935d2b15aeb539b7d5502efa0116c547f02899a478795a82705825838', text=\"The synthetic social network is coming - The VergeSkip to main contentThe VergeThe Verge logo.The Verge homepageThe Verge homepageThe VergeThe Verge logo./Tech/Reviews/Science/Entertainment/MoreMenuExpandThe VergeThe Verge logo.MenuExpandPlatformer/Artificial Intelligence/TechThe synthetic social network is comingThe synthetic social network is coming / Between ChatGPT’s surprisingly human voice and Meta’s AI characters, our feeds may be about to change foreverBy  Casey Newton, a contributing editor who has been writing about tech for over 10 years. He founded Platformer, a newsletter about Big Tech and democracy. Sep 29, 2023, 1:30 PM UTC|CommentsShare this story Image: Álvaro Bernis / The VergeThis is\\xa0Platformer, a newsletter on the intersection of Silicon Valley and democracy from Casey Newton and Zoë Schiffer.\\xa0Sign up here.Today, let’s consider the implications of a truly profound week in the development of artificial intelligence and discuss whether we may be witnessing the rise of a new era in the consumer internet.I.On Monday, OpenAI announced the latest updates for ChatGPT. One feature lets you interact with its large language model via voice. Another lets you upload images and ask questions about them. The result is that a tool which was already useful for lots of things suddenly became useful for much more. For one thing, ChatGPT feels much more powerful as a mobile app: you can now chat with it while walking around town, or snap a picture of a tree and ask the app what you’re looking at.For another, though, adding a voice to ChatGPT begins to give it a hint of personality. I don’t want to overstate the case here — the app typically generates dry, sterile text unadorned by any hint of style. But something changes when you begin speaking with the app in one of its five native voices, which are much livelier and more dynamic than what we are used to with Alexa or the Google assistant. The voices are earnest, upbeat, and — by nature of the fact that they are powered by an LLM — tireless.A bot that’s smarter, more patient, more empathetic, more availableIt is the earliest stage of all this; access to the voice feature is just rolling out to ChatGPT Plus subscribers, and free users won’t be able to us it for some time. And yet even in this 1.0 release, you can see the clear outlines of the sort of thing popularized in the decade-old film Her: a companion so warm, empathetic and helpful that in time its users fall in love with it. The Her comparisons are by now cliche when discussing AI in Silicon Valley, and yet until now its basic premise has felt like a distant sci-fi dream. On Thursday, I asked the speaking version of ChatGPT to give me a pep talk to hit my deadline — I was running back from the Code Conference and inching up on my deadline — and as the model did its best to gas me up, it seemed to me that AI had taken an emotional step forward.You can imagine the next steps here. A bot that gets to know your quirks; remembers your life history; offers you coaching or tutoring or therapy; entertains you in whichever way you prefer. A synthetic companion not unlike the real people you encounter during the day, only smarter, more patient, more empathetic, more available.Those of us who are blessed to have many close friends and family members in our life may look down at tools like this, experiencing what they offer as a cloying simulacrum of the human experience. But I imagine it might feel different for those who are lonely, isolated, or on the margins. On an early episode of Hard Fork, a trans teenager sent in a voice memo to tell us about using ChatGPT to get daily affirmations about identity issues. The power of giving what were then text messages a warm and kindly voice, I think, should not be underestimated.II.\\xa0OpenAI tends to present its products as productivity tools: simple utilities for getting things done. Meta, on the other hand, is in the entertainment business. But it, too, is building LLMs, and on Wednesday the company revealed that it has found its own uses for generative AI and voices.In addition to an all-purpose AI assistant, the company unveiled 28 personality-driven chatbots to be used in Meta’s messaging apps. Celebrities including Charli D’Amelio, Dwyane Wade, Kendall Jenner, MrBeast, Snoop Dogg, Tom Brady, and Paris Hilton lent their voices to their effort. Each of their characters comes with a brief and often cringeworthy description; MrBeast’s Zach is billed as “the big brother who will roast you — because he cares.”How many hours would you spend with AI Taylor Swift?All of this feels like an intermediate step to me. To the extent that there is a market of people who want to have voice chats with a synthetic version of MrBeast, the character they want to interact with is MrBeast — not big brother Zach. I haven’t been able to chat with any of these character bots yet, but I struggle to understand how they will have more than passing novelty value.At the same time, this technology is new enough that I imagine celebrities aren’t yet willing to entrust their entire personas to Meta for safekeeping. Better to give people a taste of what it’s like to talk to AI Snoop Dogg and iron out any kinks before delivering the man himself. And when that happens, the potential seems very real. How many hours would fans spend talking to a digital version of Taylor Swift this year, if they could? How much would they pay for the privilege?While we wait to learn the answers, a new chapter of social networking may be beginning. Until now we have talked about AI in consumer apps it has mostly had to do with ranking: using machine-learning tools to create more engaging and personalized feeds for billions of users.This week we got at least two new ways to think about AI in social feeds. One is AI-generated imagery, in the form of the new stickers coming to the company’s messaging apps. It’s unclear to me how much time people want to spend creating custom images while they text their friends, but the demonstrations seemed nice enough.More significantly, I think, is the idea that Meta plans to place its AI characters on every major surface of its products. They have Facebook pages and Instagram accounts; you will message them in the same inbox that you message your friends and family. Soon, I imagine they will be making Reels.And when that happens, feeds that were once defined by the connections they enabled between human beings will have become something else: a partially synthetic social network.Will it feel more personalized, engaging, and entertaining? Or will it feel uncanny, hollow, and junky? Surely there will be a range of views on this. But either way, I think, something new is coming into focus.CommentsMost PopularTeen GTA VI hacker sentenced to life in a secure hospitalThe hyperloop is dead for real this timeMicrosoft just paid $76 million for a Wisconsin pumpkin farmApple Watch ban: everything you need to knowA merging of Warner Bros. Discovery and Paramount would be very badVerge Deals / Sign up for Verge Deals to get deals on products we've tested sent to your inbox daily.Email (required)Sign upBy submitting your email, you agree to our Terms and Privacy Notice. This site is protected by reCAPTCHA and the Google Privacy Policy and Terms of Service apply.From our sponsorAdvertiser Content FromMore from Artificial IntelligenceUniversal Music sues AI company Anthropic for distributing song lyricsOpenAI is opening up DALL-E 3 accessYouTube might make an official way to create AI Drake fakesThe world’s biggest AI models aren’t very transparent, Stanford study saysAdvertiser Content FromThe VergeThe Verge logo.Terms of UsePrivacy NoticeCookie PolicyDo Not Sell Or Share My Personal InfoLicensing FAQAccessibilityPlatform StatusHow We Rate and Review ProductsContactTip UsCommunity GuidelinesAboutEthics StatementThe Verge is a vox media networkAdvertise with usJobs @ Vox Media© 2023 Vox Media, LLC. All Rights Reserved\", start_char_idx=None, end_char_idx=None, text_template='{metadata_str}\\n\\n{content}', metadata_template='{key}: {value}', metadata_seperator='\\n')]"
            ]
          },
          "metadata": {},
          "execution_count": 5
        }
      ]
    },
    {
      "cell_type": "markdown",
      "source": [
        "### LLM\n",
        "\n",
        "This should run on a T4 instance on the free tier"
      ],
      "metadata": {
        "id": "zXOJQa7FOGr5"
      }
    },
    {
      "cell_type": "code",
      "execution_count": 6,
      "metadata": {
        "id": "lMNaHDzPM68f",
        "colab": {
          "base_uri": "https://localhost:8080/",
          "height": 49,
          "referenced_widgets": [
            "6243410f9cc0420187721bad5ef56c10",
            "acd3e05ce4eb4d48af52d42a910ac7a0",
            "7fc890a193e64c5f9a996f0b215c2e88",
            "904ef58db24f4c2d9a7cee2934d8cbd3",
            "7b780323d8684c0d9fee4e86bd67eccb",
            "1fbe24584161471fb32fa827f98b9714",
            "df06c2df932a4f09b07dcdd55c4f0582",
            "8c0a9ebd7e664485bbc211acb63aa153",
            "02041131d6624936b27c2880a45af0a8",
            "a0b70628d2814400b84eacd8cb40d85d",
            "8d96172df44a4578a4ade96c76e400b5"
          ]
        },
        "outputId": "7ee959b9-5057-494a-ef58-505dcd6f34e3"
      },
      "outputs": [
        {
          "output_type": "display_data",
          "data": {
            "text/plain": [
              "Loading checkpoint shards:   0%|          | 0/2 [00:00<?, ?it/s]"
            ],
            "application/vnd.jupyter.widget-view+json": {
              "version_major": 2,
              "version_minor": 0,
              "model_id": "6243410f9cc0420187721bad5ef56c10"
            }
          },
          "metadata": {}
        }
      ],
      "source": [
        "import torch\n",
        "from transformers import BitsAndBytesConfig\n",
        "from llama_index.prompts import PromptTemplate\n",
        "from llama_index.llms import HuggingFaceLLM\n",
        "\n",
        "quantization_config = BitsAndBytesConfig(\n",
        "    load_in_4bit=True,\n",
        "    bnb_4bit_compute_dtype=torch.float16,\n",
        "    bnb_4bit_quant_type=\"nf4\",\n",
        "    bnb_4bit_use_double_quant=True,\n",
        ")\n",
        "\n",
        "\n",
        "llm = HuggingFaceLLM(\n",
        "    model_name=\"mistralai/Mistral-7B-Instruct-v0.1\",\n",
        "    tokenizer_name=\"mistralai/Mistral-7B-Instruct-v0.1\",\n",
        "    query_wrapper_prompt=PromptTemplate(\"<s>[INST] {query_str} [/INST] </s>\\n\"),\n",
        "    context_window=3900,\n",
        "    max_new_tokens=256,\n",
        "    model_kwargs={\"quantization_config\": quantization_config},\n",
        "    # tokenizer_kwargs={},\n",
        "    generate_kwargs={\"temperature\": 0.2, \"top_k\": 5, \"top_p\": 0.95},\n",
        "    device_map=\"auto\",\n",
        ")"
      ]
    },
    {
      "cell_type": "code",
      "source": [
        "#import openai\n"
      ],
      "metadata": {
        "id": "ojUia0YFvk63"
      },
      "execution_count": 5,
      "outputs": []
    },
    {
      "cell_type": "code",
      "source": [
        "!pip install llama_index"
      ],
      "metadata": {
        "colab": {
          "base_uri": "https://localhost:8080/"
        },
        "id": "R4qNz-9cX1e1",
        "outputId": "8afe8864-0173-4d5a-8cb7-2e153d632808"
      },
      "execution_count": 7,
      "outputs": [
        {
          "output_type": "stream",
          "name": "stdout",
          "text": [
            "Requirement already satisfied: llama_index in /usr/local/lib/python3.10/dist-packages (0.9.21)\n",
            "Requirement already satisfied: SQLAlchemy[asyncio]>=1.4.49 in /usr/local/lib/python3.10/dist-packages (from llama_index) (2.0.23)\n",
            "Requirement already satisfied: aiohttp<4.0.0,>=3.8.6 in /usr/local/lib/python3.10/dist-packages (from llama_index) (3.9.1)\n",
            "Requirement already satisfied: beautifulsoup4<5.0.0,>=4.12.2 in /usr/local/lib/python3.10/dist-packages (from llama_index) (4.12.2)\n",
            "Requirement already satisfied: dataclasses-json in /usr/local/lib/python3.10/dist-packages (from llama_index) (0.6.3)\n",
            "Requirement already satisfied: deprecated>=1.2.9.3 in /usr/local/lib/python3.10/dist-packages (from llama_index) (1.2.14)\n",
            "Requirement already satisfied: fsspec>=2023.5.0 in /usr/local/lib/python3.10/dist-packages (from llama_index) (2023.6.0)\n",
            "Requirement already satisfied: httpx in /usr/local/lib/python3.10/dist-packages (from llama_index) (0.26.0)\n",
            "Requirement already satisfied: nest-asyncio<2.0.0,>=1.5.8 in /usr/local/lib/python3.10/dist-packages (from llama_index) (1.5.8)\n",
            "Requirement already satisfied: nltk<4.0.0,>=3.8.1 in /usr/local/lib/python3.10/dist-packages (from llama_index) (3.8.1)\n",
            "Requirement already satisfied: numpy in /usr/local/lib/python3.10/dist-packages (from llama_index) (1.23.5)\n",
            "Requirement already satisfied: openai>=1.1.0 in /usr/local/lib/python3.10/dist-packages (from llama_index) (1.6.1)\n",
            "Requirement already satisfied: pandas in /usr/local/lib/python3.10/dist-packages (from llama_index) (2.1.4)\n",
            "Requirement already satisfied: requests>=2.31.0 in /usr/local/lib/python3.10/dist-packages (from llama_index) (2.31.0)\n",
            "Requirement already satisfied: tenacity<9.0.0,>=8.2.0 in /usr/local/lib/python3.10/dist-packages (from llama_index) (8.2.3)\n",
            "Requirement already satisfied: tiktoken>=0.3.3 in /usr/local/lib/python3.10/dist-packages (from llama_index) (0.5.2)\n",
            "Requirement already satisfied: typing-extensions>=4.5.0 in /usr/local/lib/python3.10/dist-packages (from llama_index) (4.9.0)\n",
            "Requirement already satisfied: typing-inspect>=0.8.0 in /usr/local/lib/python3.10/dist-packages (from llama_index) (0.9.0)\n",
            "Requirement already satisfied: attrs>=17.3.0 in /usr/local/lib/python3.10/dist-packages (from aiohttp<4.0.0,>=3.8.6->llama_index) (23.1.0)\n",
            "Requirement already satisfied: multidict<7.0,>=4.5 in /usr/local/lib/python3.10/dist-packages (from aiohttp<4.0.0,>=3.8.6->llama_index) (6.0.4)\n",
            "Requirement already satisfied: yarl<2.0,>=1.0 in /usr/local/lib/python3.10/dist-packages (from aiohttp<4.0.0,>=3.8.6->llama_index) (1.9.4)\n",
            "Requirement already satisfied: frozenlist>=1.1.1 in /usr/local/lib/python3.10/dist-packages (from aiohttp<4.0.0,>=3.8.6->llama_index) (1.4.1)\n",
            "Requirement already satisfied: aiosignal>=1.1.2 in /usr/local/lib/python3.10/dist-packages (from aiohttp<4.0.0,>=3.8.6->llama_index) (1.3.1)\n",
            "Requirement already satisfied: async-timeout<5.0,>=4.0 in /usr/local/lib/python3.10/dist-packages (from aiohttp<4.0.0,>=3.8.6->llama_index) (4.0.3)\n",
            "Requirement already satisfied: soupsieve>1.2 in /usr/local/lib/python3.10/dist-packages (from beautifulsoup4<5.0.0,>=4.12.2->llama_index) (2.5)\n",
            "Requirement already satisfied: wrapt<2,>=1.10 in /usr/local/lib/python3.10/dist-packages (from deprecated>=1.2.9.3->llama_index) (1.14.1)\n",
            "Requirement already satisfied: click in /usr/local/lib/python3.10/dist-packages (from nltk<4.0.0,>=3.8.1->llama_index) (8.1.7)\n",
            "Requirement already satisfied: joblib in /usr/local/lib/python3.10/dist-packages (from nltk<4.0.0,>=3.8.1->llama_index) (1.3.2)\n",
            "Requirement already satisfied: regex>=2021.8.3 in /usr/local/lib/python3.10/dist-packages (from nltk<4.0.0,>=3.8.1->llama_index) (2023.6.3)\n",
            "Requirement already satisfied: tqdm in /usr/local/lib/python3.10/dist-packages (from nltk<4.0.0,>=3.8.1->llama_index) (4.66.1)\n",
            "Requirement already satisfied: anyio<5,>=3.5.0 in /usr/local/lib/python3.10/dist-packages (from openai>=1.1.0->llama_index) (3.7.1)\n",
            "Requirement already satisfied: distro<2,>=1.7.0 in /usr/lib/python3/dist-packages (from openai>=1.1.0->llama_index) (1.7.0)\n",
            "Requirement already satisfied: pydantic<3,>=1.9.0 in /usr/local/lib/python3.10/dist-packages (from openai>=1.1.0->llama_index) (2.5.3)\n",
            "Requirement already satisfied: sniffio in /usr/local/lib/python3.10/dist-packages (from openai>=1.1.0->llama_index) (1.3.0)\n",
            "Requirement already satisfied: certifi in /usr/local/lib/python3.10/dist-packages (from httpx->llama_index) (2023.11.17)\n",
            "Requirement already satisfied: httpcore==1.* in /usr/local/lib/python3.10/dist-packages (from httpx->llama_index) (1.0.2)\n",
            "Requirement already satisfied: idna in /usr/local/lib/python3.10/dist-packages (from httpx->llama_index) (3.6)\n",
            "Requirement already satisfied: h11<0.15,>=0.13 in /usr/local/lib/python3.10/dist-packages (from httpcore==1.*->httpx->llama_index) (0.14.0)\n",
            "Requirement already satisfied: charset-normalizer<4,>=2 in /usr/local/lib/python3.10/dist-packages (from requests>=2.31.0->llama_index) (3.3.2)\n",
            "Requirement already satisfied: urllib3<3,>=1.21.1 in /usr/local/lib/python3.10/dist-packages (from requests>=2.31.0->llama_index) (2.0.7)\n",
            "Requirement already satisfied: greenlet!=0.4.17 in /usr/local/lib/python3.10/dist-packages (from SQLAlchemy[asyncio]>=1.4.49->llama_index) (3.0.2)\n",
            "Requirement already satisfied: mypy-extensions>=0.3.0 in /usr/local/lib/python3.10/dist-packages (from typing-inspect>=0.8.0->llama_index) (1.0.0)\n",
            "Requirement already satisfied: marshmallow<4.0.0,>=3.18.0 in /usr/local/lib/python3.10/dist-packages (from dataclasses-json->llama_index) (3.20.1)\n",
            "Requirement already satisfied: python-dateutil>=2.8.2 in /usr/local/lib/python3.10/dist-packages (from pandas->llama_index) (2.8.2)\n",
            "Requirement already satisfied: pytz>=2020.1 in /usr/local/lib/python3.10/dist-packages (from pandas->llama_index) (2023.3.post1)\n",
            "Requirement already satisfied: tzdata>=2022.1 in /usr/local/lib/python3.10/dist-packages (from pandas->llama_index) (2023.3)\n",
            "Requirement already satisfied: exceptiongroup in /usr/local/lib/python3.10/dist-packages (from anyio<5,>=3.5.0->openai>=1.1.0->llama_index) (1.2.0)\n",
            "Requirement already satisfied: packaging>=17.0 in /usr/local/lib/python3.10/dist-packages (from marshmallow<4.0.0,>=3.18.0->dataclasses-json->llama_index) (23.2)\n",
            "Requirement already satisfied: annotated-types>=0.4.0 in /usr/local/lib/python3.10/dist-packages (from pydantic<3,>=1.9.0->openai>=1.1.0->llama_index) (0.6.0)\n",
            "Requirement already satisfied: pydantic-core==2.14.6 in /usr/local/lib/python3.10/dist-packages (from pydantic<3,>=1.9.0->openai>=1.1.0->llama_index) (2.14.6)\n",
            "Requirement already satisfied: six>=1.5 in /usr/local/lib/python3.10/dist-packages (from python-dateutil>=2.8.2->pandas->llama_index) (1.16.0)\n"
          ]
        }
      ]
    },
    {
      "cell_type": "code",
      "source": [
        "from llama_index import ServiceContext\n",
        "\n",
        "#service_context = ServiceContext.from_defaults(llm=llm, embed_model=\"local:BAAI/bge-small-en-v1.5\")\n",
        "service_context = ServiceContext.from_defaults(llm=llm, embed_model=\"local\")"
      ],
      "metadata": {
        "id": "rPawBPL0SwFj"
      },
      "execution_count": 8,
      "outputs": []
    },
    {
      "cell_type": "markdown",
      "source": [
        "### Index Setup"
      ],
      "metadata": {
        "id": "_iYeofUlS6_D"
      }
    },
    {
      "cell_type": "code",
      "source": [
        "from edgar import *\n",
        "import os\n",
        "os.environ['EDGAR_IDENTITY']=\"peter decrem pdecrem@hotmail.com\"\n",
        "aapl=Company(\"aapl\")\n",
        "filings=aapl.get_filings(form=\"10-K\")\n"
      ],
      "metadata": {
        "id": "zigIxtL3YZxO"
      },
      "execution_count": 6,
      "outputs": []
    },
    {
      "cell_type": "code",
      "source": [
        "aapl_html=filings.latest(1).html()"
      ],
      "metadata": {
        "id": "ib-2jfLkZLZt"
      },
      "execution_count": 7,
      "outputs": []
    },
    {
      "cell_type": "code",
      "source": [
        "with open(\"aaplhtml\",\"w\") as f:\n",
        "  f.write(aapl_html)"
      ],
      "metadata": {
        "id": "mSWp7tZGZW8Z"
      },
      "execution_count": 8,
      "outputs": []
    },
    {
      "cell_type": "code",
      "source": [
        "from llama_index.readers.file.flat_reader import FlatReader\n",
        "from pathlib import Path\n",
        "\n",
        "reader = FlatReader()\n",
        "documents= reader.load_data(Path(\"aaplhtml\"))\n"
      ],
      "metadata": {
        "colab": {
          "base_uri": "https://localhost:8080/"
        },
        "id": "g302-C3maI1Y",
        "outputId": "57733215-aa3c-4c62-8dce-79b619b6592e"
      },
      "execution_count": 9,
      "outputs": [
        {
          "output_type": "stream",
          "name": "stderr",
          "text": [
            "[nltk_data] Downloading package stopwords to\n",
            "[nltk_data]     /usr/local/lib/python3.10/dist-\n",
            "[nltk_data]     packages/llama_index/_static/nltk_cache...\n",
            "[nltk_data]   Unzipping corpora/stopwords.zip.\n",
            "[nltk_data] Downloading package punkt to\n",
            "[nltk_data]     /usr/local/lib/python3.10/dist-\n",
            "[nltk_data]     packages/llama_index/_static/nltk_cache...\n",
            "[nltk_data]   Unzipping tokenizers/punkt.zip.\n"
          ]
        }
      ]
    },
    {
      "cell_type": "code",
      "source": [
        "from llama_index import VectorStoreIndex\n",
        "\n",
        "vector_index = VectorStoreIndex.from_documents(documents, service_context=service_context)"
      ],
      "metadata": {
        "id": "Jz173lnJS8cZ",
        "colab": {
          "base_uri": "https://localhost:8080/",
          "height": 214
        },
        "outputId": "3c1f95ab-08a6-467f-fb99-3710f203a664"
      },
      "execution_count": 10,
      "outputs": [
        {
          "output_type": "error",
          "ename": "NameError",
          "evalue": "ignored",
          "traceback": [
            "\u001b[0;31m---------------------------------------------------------------------------\u001b[0m",
            "\u001b[0;31mNameError\u001b[0m                                 Traceback (most recent call last)",
            "\u001b[0;32m<ipython-input-10-b27fea20e54c>\u001b[0m in \u001b[0;36m<cell line: 3>\u001b[0;34m()\u001b[0m\n\u001b[1;32m      1\u001b[0m \u001b[0;32mfrom\u001b[0m \u001b[0mllama_index\u001b[0m \u001b[0;32mimport\u001b[0m \u001b[0mVectorStoreIndex\u001b[0m\u001b[0;34m\u001b[0m\u001b[0;34m\u001b[0m\u001b[0m\n\u001b[1;32m      2\u001b[0m \u001b[0;34m\u001b[0m\u001b[0m\n\u001b[0;32m----> 3\u001b[0;31m \u001b[0mvector_index\u001b[0m \u001b[0;34m=\u001b[0m \u001b[0mVectorStoreIndex\u001b[0m\u001b[0;34m.\u001b[0m\u001b[0mfrom_documents\u001b[0m\u001b[0;34m(\u001b[0m\u001b[0mdocuments\u001b[0m\u001b[0;34m,\u001b[0m \u001b[0mservice_context\u001b[0m\u001b[0;34m=\u001b[0m\u001b[0mservice_context\u001b[0m\u001b[0;34m)\u001b[0m\u001b[0;34m\u001b[0m\u001b[0;34m\u001b[0m\u001b[0m\n\u001b[0m",
            "\u001b[0;31mNameError\u001b[0m: name 'service_context' is not defined"
          ]
        }
      ]
    },
    {
      "cell_type": "code",
      "source": [
        "from llama_index import SummaryIndex\n",
        "\n",
        "summary_index = SummaryIndex.from_documents(documents, service_context=service_context)"
      ],
      "metadata": {
        "id": "CuGwYVl5S-GH"
      },
      "execution_count": 19,
      "outputs": []
    },
    {
      "cell_type": "code",
      "source": [
        "!pip install langchain sentence_transformers"
      ],
      "metadata": {
        "colab": {
          "base_uri": "https://localhost:8080/"
        },
        "id": "fx5INaxtT9ML",
        "outputId": "48787824-3798-41af-b797-3a91a530b3db"
      },
      "execution_count": 26,
      "outputs": [
        {
          "output_type": "stream",
          "name": "stdout",
          "text": [
            "Requirement already satisfied: langchain in /usr/local/lib/python3.10/dist-packages (0.0.352)\n",
            "Collecting sentence_transformers\n",
            "  Downloading sentence-transformers-2.2.2.tar.gz (85 kB)\n",
            "\u001b[2K     \u001b[90m━━━━━━━━━━━━━━━━━━━━━━━━━━━━━━━━━━━━━━━━\u001b[0m \u001b[32m86.0/86.0 kB\u001b[0m \u001b[31m2.2 MB/s\u001b[0m eta \u001b[36m0:00:00\u001b[0m\n",
            "\u001b[?25h  Preparing metadata (setup.py) ... \u001b[?25l\u001b[?25hdone\n",
            "Requirement already satisfied: PyYAML>=5.3 in /usr/local/lib/python3.10/dist-packages (from langchain) (6.0.1)\n",
            "Requirement already satisfied: SQLAlchemy<3,>=1.4 in /usr/local/lib/python3.10/dist-packages (from langchain) (2.0.23)\n",
            "Requirement already satisfied: aiohttp<4.0.0,>=3.8.3 in /usr/local/lib/python3.10/dist-packages (from langchain) (3.9.1)\n",
            "Requirement already satisfied: async-timeout<5.0.0,>=4.0.0 in /usr/local/lib/python3.10/dist-packages (from langchain) (4.0.3)\n",
            "Requirement already satisfied: dataclasses-json<0.7,>=0.5.7 in /usr/local/lib/python3.10/dist-packages (from langchain) (0.6.3)\n",
            "Requirement already satisfied: jsonpatch<2.0,>=1.33 in /usr/local/lib/python3.10/dist-packages (from langchain) (1.33)\n",
            "Requirement already satisfied: langchain-community<0.1,>=0.0.2 in /usr/local/lib/python3.10/dist-packages (from langchain) (0.0.6)\n",
            "Requirement already satisfied: langchain-core<0.2,>=0.1 in /usr/local/lib/python3.10/dist-packages (from langchain) (0.1.3)\n",
            "Requirement already satisfied: langsmith<0.1.0,>=0.0.70 in /usr/local/lib/python3.10/dist-packages (from langchain) (0.0.75)\n",
            "Requirement already satisfied: numpy<2,>=1 in /usr/local/lib/python3.10/dist-packages (from langchain) (1.23.5)\n",
            "Requirement already satisfied: pydantic<3,>=1 in /usr/local/lib/python3.10/dist-packages (from langchain) (2.5.3)\n",
            "Requirement already satisfied: requests<3,>=2 in /usr/local/lib/python3.10/dist-packages (from langchain) (2.31.0)\n",
            "Requirement already satisfied: tenacity<9.0.0,>=8.1.0 in /usr/local/lib/python3.10/dist-packages (from langchain) (8.2.3)\n",
            "Requirement already satisfied: transformers<5.0.0,>=4.6.0 in /usr/local/lib/python3.10/dist-packages (from sentence_transformers) (4.35.2)\n",
            "Requirement already satisfied: tqdm in /usr/local/lib/python3.10/dist-packages (from sentence_transformers) (4.66.1)\n",
            "Requirement already satisfied: torch>=1.6.0 in /usr/local/lib/python3.10/dist-packages (from sentence_transformers) (2.1.0+cu121)\n",
            "Requirement already satisfied: torchvision in /usr/local/lib/python3.10/dist-packages (from sentence_transformers) (0.16.0+cu121)\n",
            "Requirement already satisfied: scikit-learn in /usr/local/lib/python3.10/dist-packages (from sentence_transformers) (1.2.2)\n",
            "Requirement already satisfied: scipy in /usr/local/lib/python3.10/dist-packages (from sentence_transformers) (1.11.4)\n",
            "Requirement already satisfied: nltk in /usr/local/lib/python3.10/dist-packages (from sentence_transformers) (3.8.1)\n",
            "Collecting sentencepiece (from sentence_transformers)\n",
            "  Downloading sentencepiece-0.1.99-cp310-cp310-manylinux_2_17_x86_64.manylinux2014_x86_64.whl (1.3 MB)\n",
            "\u001b[2K     \u001b[90m━━━━━━━━━━━━━━━━━━━━━━━━━━━━━━━━━━━━━━━━\u001b[0m \u001b[32m1.3/1.3 MB\u001b[0m \u001b[31m23.1 MB/s\u001b[0m eta \u001b[36m0:00:00\u001b[0m\n",
            "\u001b[?25hRequirement already satisfied: huggingface-hub>=0.4.0 in /usr/local/lib/python3.10/dist-packages (from sentence_transformers) (0.19.4)\n",
            "Requirement already satisfied: attrs>=17.3.0 in /usr/local/lib/python3.10/dist-packages (from aiohttp<4.0.0,>=3.8.3->langchain) (23.1.0)\n",
            "Requirement already satisfied: multidict<7.0,>=4.5 in /usr/local/lib/python3.10/dist-packages (from aiohttp<4.0.0,>=3.8.3->langchain) (6.0.4)\n",
            "Requirement already satisfied: yarl<2.0,>=1.0 in /usr/local/lib/python3.10/dist-packages (from aiohttp<4.0.0,>=3.8.3->langchain) (1.9.4)\n",
            "Requirement already satisfied: frozenlist>=1.1.1 in /usr/local/lib/python3.10/dist-packages (from aiohttp<4.0.0,>=3.8.3->langchain) (1.4.1)\n",
            "Requirement already satisfied: aiosignal>=1.1.2 in /usr/local/lib/python3.10/dist-packages (from aiohttp<4.0.0,>=3.8.3->langchain) (1.3.1)\n",
            "Requirement already satisfied: marshmallow<4.0.0,>=3.18.0 in /usr/local/lib/python3.10/dist-packages (from dataclasses-json<0.7,>=0.5.7->langchain) (3.20.1)\n",
            "Requirement already satisfied: typing-inspect<1,>=0.4.0 in /usr/local/lib/python3.10/dist-packages (from dataclasses-json<0.7,>=0.5.7->langchain) (0.9.0)\n",
            "Requirement already satisfied: filelock in /usr/local/lib/python3.10/dist-packages (from huggingface-hub>=0.4.0->sentence_transformers) (3.13.1)\n",
            "Requirement already satisfied: fsspec>=2023.5.0 in /usr/local/lib/python3.10/dist-packages (from huggingface-hub>=0.4.0->sentence_transformers) (2023.6.0)\n",
            "Requirement already satisfied: typing-extensions>=3.7.4.3 in /usr/local/lib/python3.10/dist-packages (from huggingface-hub>=0.4.0->sentence_transformers) (4.9.0)\n",
            "Requirement already satisfied: packaging>=20.9 in /usr/local/lib/python3.10/dist-packages (from huggingface-hub>=0.4.0->sentence_transformers) (23.2)\n",
            "Requirement already satisfied: jsonpointer>=1.9 in /usr/local/lib/python3.10/dist-packages (from jsonpatch<2.0,>=1.33->langchain) (2.4)\n",
            "Requirement already satisfied: anyio<5,>=3 in /usr/local/lib/python3.10/dist-packages (from langchain-core<0.2,>=0.1->langchain) (3.7.1)\n",
            "Requirement already satisfied: annotated-types>=0.4.0 in /usr/local/lib/python3.10/dist-packages (from pydantic<3,>=1->langchain) (0.6.0)\n",
            "Requirement already satisfied: pydantic-core==2.14.6 in /usr/local/lib/python3.10/dist-packages (from pydantic<3,>=1->langchain) (2.14.6)\n",
            "Requirement already satisfied: charset-normalizer<4,>=2 in /usr/local/lib/python3.10/dist-packages (from requests<3,>=2->langchain) (3.3.2)\n",
            "Requirement already satisfied: idna<4,>=2.5 in /usr/local/lib/python3.10/dist-packages (from requests<3,>=2->langchain) (3.6)\n",
            "Requirement already satisfied: urllib3<3,>=1.21.1 in /usr/local/lib/python3.10/dist-packages (from requests<3,>=2->langchain) (2.0.7)\n",
            "Requirement already satisfied: certifi>=2017.4.17 in /usr/local/lib/python3.10/dist-packages (from requests<3,>=2->langchain) (2023.11.17)\n",
            "Requirement already satisfied: greenlet!=0.4.17 in /usr/local/lib/python3.10/dist-packages (from SQLAlchemy<3,>=1.4->langchain) (3.0.2)\n",
            "Requirement already satisfied: sympy in /usr/local/lib/python3.10/dist-packages (from torch>=1.6.0->sentence_transformers) (1.12)\n",
            "Requirement already satisfied: networkx in /usr/local/lib/python3.10/dist-packages (from torch>=1.6.0->sentence_transformers) (3.2.1)\n",
            "Requirement already satisfied: jinja2 in /usr/local/lib/python3.10/dist-packages (from torch>=1.6.0->sentence_transformers) (3.1.2)\n",
            "Requirement already satisfied: triton==2.1.0 in /usr/local/lib/python3.10/dist-packages (from torch>=1.6.0->sentence_transformers) (2.1.0)\n",
            "Requirement already satisfied: regex!=2019.12.17 in /usr/local/lib/python3.10/dist-packages (from transformers<5.0.0,>=4.6.0->sentence_transformers) (2023.6.3)\n",
            "Requirement already satisfied: tokenizers<0.19,>=0.14 in /usr/local/lib/python3.10/dist-packages (from transformers<5.0.0,>=4.6.0->sentence_transformers) (0.15.0)\n",
            "Requirement already satisfied: safetensors>=0.3.1 in /usr/local/lib/python3.10/dist-packages (from transformers<5.0.0,>=4.6.0->sentence_transformers) (0.4.1)\n",
            "Requirement already satisfied: click in /usr/local/lib/python3.10/dist-packages (from nltk->sentence_transformers) (8.1.7)\n",
            "Requirement already satisfied: joblib in /usr/local/lib/python3.10/dist-packages (from nltk->sentence_transformers) (1.3.2)\n",
            "Requirement already satisfied: threadpoolctl>=2.0.0 in /usr/local/lib/python3.10/dist-packages (from scikit-learn->sentence_transformers) (3.2.0)\n",
            "Requirement already satisfied: pillow!=8.3.*,>=5.3.0 in /usr/local/lib/python3.10/dist-packages (from torchvision->sentence_transformers) (9.4.0)\n",
            "Requirement already satisfied: sniffio>=1.1 in /usr/local/lib/python3.10/dist-packages (from anyio<5,>=3->langchain-core<0.2,>=0.1->langchain) (1.3.0)\n",
            "Requirement already satisfied: exceptiongroup in /usr/local/lib/python3.10/dist-packages (from anyio<5,>=3->langchain-core<0.2,>=0.1->langchain) (1.2.0)\n",
            "Requirement already satisfied: mypy-extensions>=0.3.0 in /usr/local/lib/python3.10/dist-packages (from typing-inspect<1,>=0.4.0->dataclasses-json<0.7,>=0.5.7->langchain) (1.0.0)\n",
            "Requirement already satisfied: MarkupSafe>=2.0 in /usr/local/lib/python3.10/dist-packages (from jinja2->torch>=1.6.0->sentence_transformers) (2.1.3)\n",
            "Requirement already satisfied: mpmath>=0.19 in /usr/local/lib/python3.10/dist-packages (from sympy->torch>=1.6.0->sentence_transformers) (1.3.0)\n",
            "Building wheels for collected packages: sentence_transformers\n",
            "  Building wheel for sentence_transformers (setup.py) ... \u001b[?25l\u001b[?25hdone\n",
            "  Created wheel for sentence_transformers: filename=sentence_transformers-2.2.2-py3-none-any.whl size=125923 sha256=e668a1790cf931b4ea490840b592d644fd396097fbb4b5fc2148e443bf02e066\n",
            "  Stored in directory: /root/.cache/pip/wheels/62/f2/10/1e606fd5f02395388f74e7462910fe851042f97238cbbd902f\n",
            "Successfully built sentence_transformers\n",
            "Installing collected packages: sentencepiece, sentence_transformers\n",
            "Successfully installed sentence_transformers-2.2.2 sentencepiece-0.1.99\n"
          ]
        }
      ]
    },
    {
      "cell_type": "code",
      "source": [
        "from langchain.embeddings.huggingface import HuggingFaceBgeEmbeddings\n",
        "from llama_index import ServiceContext\n",
        "\n",
        "embed_model = HuggingFaceBgeEmbeddings(model_name=\"BAAI/bge-base-en\")\n",
        "\n",
        "#service_context = ServiceContext.from_defaults(embed_model=embed_model,llm=llm)\n",
        "service_context = ServiceContext.from_defaults(embed_model=\"local\",llm=llm)"
      ],
      "metadata": {
        "colab": {
          "base_uri": "https://localhost:8080/",
          "height": 433,
          "referenced_widgets": [
            "9e4250ca97c64bd2a38955e2275acc03",
            "ac72ef58119a48fab1974d2184ea75f4",
            "4648f68c4b854922a7b864ef0cb623b0",
            "3e41ccdbc3bb4c949efc51f68ee9bb13",
            "467624e47f814d0db2d56b0032c97e1d",
            "5362e89028a7471fa6a7419467ee39e0",
            "b51fe10edbfd49efa77609f7ddcc2042",
            "89133eab8d9e4f6b8db9ae1fec41c4e6",
            "d1bdbf833a334554a045d9e4fd21eb94",
            "ed653250ffe841fcb82b566612dc1328",
            "02943e7935f94eacab6a721a8d6ee15c",
            "0c2ce0f67b024ee3bf16c9781d6a11f8",
            "2d9b3bb661c84323b7e5c6967980dc15",
            "d07ac8ed547e45fdb5a41de65c184a49",
            "86ac4561ef174d87a4d9bd36dc42bf71",
            "2a0ee30e400a4166abca4c2c5489d8d7",
            "3730bc58b41d4beca2c50998418594f2",
            "ae8fb7c870c14a8fa8d68c7e26116162",
            "26f8060837a3451cbef5019f160f9f6b",
            "cfcb9ac6cf0d49f58005dee564cd6ebc",
            "f4ac278904244d1d889bbee1c4edae7e",
            "87bf6583d2f543ca9cc98aafd77f0233",
            "57fbd787bff7405da295e940d73e9c7e",
            "ac144b90e9fd43deb37b7f73eb7f3173",
            "74a5d6cffe424d099b2672cd391581f9",
            "7f6b4d3a90c64cb7b1b8c2df641ba45f",
            "f6979aa4fa1343ffbd5b7fee3306f685",
            "541f72fd4e4e4d40a89afa45ce73b8a0",
            "0bd5167e026f45ad972b9c506fe63dc8",
            "ea708bb570214c7fa72a2bea7956456d",
            "03cd43417a0d43719d2617bbbe226154",
            "dbe810fb0f3b4efaa5b783f399a94738",
            "b16a8dcc19dd4e0cafc42af6c3748bce",
            "0f6cac6d5c8a40a4bf34971eac3f8f6d",
            "301eeb6df9664e4bb310ad620a9cfbc4",
            "d9f0952a38c741578d2b328bc90d49d2",
            "6f88be65f4144ca7a7244120c674a063",
            "83b84f7995494aff999d3d2e246161d6",
            "594d885f7dfe4ad695fde961b63e98a8",
            "97f34dfb1319462586d59f883a792630",
            "e28c08db6d2a4cefa12eaf7ad8d8be7f",
            "1ab63714f68f4651bc8d741d3091eba1",
            "13df172fb85541cb8438da48e44eb6eb",
            "30f3c5b1c97e401291c2514f2362bb7d",
            "759ef5456cc54db58032b2baddc3d44a",
            "42b40bcb8cb345d9b68cf58ddbb13fcb",
            "857c77c1610e4cc3845b54440e8d9bd8",
            "7f259c655afd46ba958b259716652f40",
            "27d425675cd244509430ccc6363c0bfa",
            "6fa4e25e79f642e48c68d0bdbf844655",
            "48333c2baa0e4a42bb32749df1424611",
            "26d0559b673c4f2fba44a0a821f1554e",
            "5ab7322e6ab34338959d3a6b7dc47f23",
            "e4c5b6b530cf4330a55fd1ffe0af33c3",
            "d76f1455c4d942759af37cc820cd015b",
            "3f303f8bc33747a7bb2da3ef775dace7",
            "a2f05872151642e6a7a1bb713f43143f",
            "2a2f574082e142019f69436dee100a3b",
            "e2d6821f201d4134881b7e0c7fd96f8b",
            "f0e1be38ab8a4246a3826a77f3291d1f",
            "0e3eca3530134cb1a1ce97a3930825ec",
            "8ee2fda874f748a280cb285e2b564174",
            "56476ba34a1d477cb8267a6af94982cc",
            "d46e91a146e14526971ad885365b8763",
            "c59a4ddf006846ec91295db652149d95",
            "13ca9ae5e97a4e0c9297e085d612f55e",
            "5cdfb5bc6ade4ff582db6c11b3962635",
            "890b52492b1a43ddb6226b41643eead3",
            "6fb7e0087cbe4404a945e5927a3450bc",
            "3c71630c489a4755b0b3bc555893bf7f",
            "57d49ee74bce41d69d434bfcd593d1e7",
            "b3968420299e4547afdcfc2df84acf1f",
            "85defbdaebf842509d8d4d7fcfb927bb",
            "d5a607aeaa2d4abaad22dc8b12741b2f",
            "2214419191854f608be456f433041ca5",
            "7426aca0851b41f7a7d31883b15c2114",
            "ac59166131f14703ab1146dbd5c53783",
            "a3010022e2274ee0a1a25cc5a4d9dad2",
            "363846d10ae84d95b389968d8b44e00f",
            "7caaaddc41a24dc7991616dd19aeaf83",
            "de0ecc4dfe3d4cc18b6fd02ad1b762d0",
            "769f010eb77a4745b780180851d14a2a",
            "beb54d757ace431ab9fb71cf8f716c05",
            "4a7bc39e7e1e4487946d906abb7c9ab8",
            "448798ede3fe4ac685be260649c28caf",
            "990e480a9a1e4396980f2d79648a719b",
            "efdd46ac66fa46f49e968c24c950fb36",
            "c5b0c2da4cf045e5aab5bbf16fca9a70",
            "fc15db11d79a49f495a8d9bde2d39dd5",
            "5c84e04bb79648cba0dd53883e7b2ffa",
            "9a149217bdb34c9a9842609e76c9b2f3",
            "b3f6e140d62b4bfaa1748a33ebfc0b95",
            "0f3704d4e2d54aaa8cda47de08dfa96a",
            "222cb83b93e8455b8ea6ab7a682adb7c",
            "3aeed0be816a4aa790aa78035500aab3",
            "97fbc9097d4f4a65943012ad34b665eb",
            "f004b5146bd94ee19aa4244d161246f8",
            "d37eaeb80edc43a586a9e99180941240",
            "9148599bdafe41a3a32bc9b400466d77",
            "a7689bd1cc63412e8afeecdc91858fb6",
            "cde2576010fc4d6bb3eb12519df7c27a",
            "36c199843dc84da2b06fe792e3b965c2",
            "abb5c33f656348c1b281ac581c08249e",
            "36c57bec05a64f69981dd0141d1d5351",
            "65a8dac59fe44e3e870e5af4dc708c43",
            "8406e40906ad4148a04ada389f766c66",
            "bfa946d633484b6db670bf23c08b72c5",
            "f31c7db402f644e4b51777f8e81cb06e",
            "86d7dc56fd3447248be29a0ddcfe71d7",
            "a5e8f3da01e64ea8a2dd9e31690b7b7d",
            "dd02f2bead904698b1323e3287260626",
            "2696297789834244af6db50795565e5a",
            "6b5f4d4478294a8f9fba105f8fbbb18a",
            "221e55db80fb4bcc9ce114472724b02c",
            "04d64974e941489c90e2b9dda65de953",
            "6774e7677db944bf84d7293886621cec",
            "aa78fad3633445dda55e2dc463aeac06",
            "437446267b6f44b899cced2330e49b8d",
            "94260060d8d8448193d1b718630c5c07",
            "080aefa592cb46479ae5dc36d18396f9",
            "b1ae911f8dc34a498d2ef41d0d5fb37e",
            "a420b3c5010a4c94802d54f8b2c49f75",
            "c0d906f7e862454a8178ea037527408b",
            "a665da2dcb234a748057950c9a842923",
            "06fd6567197b455da0d168971a436c71",
            "445b02bf93c24a61b83b02dc0151a370",
            "656b68a193384a81b505503a857ab325",
            "af72c78e01604d1b9da7262980a562d9",
            "c5a10bc18fee43b88bee0171bc4d3ecb",
            "06c42a57dbff486a933cb802716b47e5",
            "70aba007c0684e99a7d085e887e318b3",
            "07513c07576c48a7ad75aab168afd449",
            "8941c40991b842df9e7f34af7ab54888",
            "8a2c7f558a7f4c80bf95866ecaef617d",
            "984a6fcb3e2748ebb532aea46fd4e7e1",
            "7504d4431d144e079fd7301634dfb079",
            "8ef813e526b6413b9578992b0320bf27",
            "5dffc28e2406483aa1eb70456968cf20",
            "3f4a05e2ac1a4abcab603f8d299887fb",
            "8f17e992fbda473c8e889f7da81f1b55",
            "a4b7bee3b5674dcf8021a52c0dca2eea",
            "5db2d57d3d884e5787a1557d99e8ad6f",
            "4c4746d846c048d787f4e2bb5cc07ec2"
          ]
        },
        "id": "39Z1tvN-T56y",
        "outputId": "c0c2a277-24db-48c9-bba3-cd798d34d269"
      },
      "execution_count": 27,
      "outputs": [
        {
          "output_type": "display_data",
          "data": {
            "text/plain": [
              ".gitattributes:   0%|          | 0.00/1.52k [00:00<?, ?B/s]"
            ],
            "application/vnd.jupyter.widget-view+json": {
              "version_major": 2,
              "version_minor": 0,
              "model_id": "9e4250ca97c64bd2a38955e2275acc03"
            }
          },
          "metadata": {}
        },
        {
          "output_type": "display_data",
          "data": {
            "text/plain": [
              "1_Pooling/config.json:   0%|          | 0.00/190 [00:00<?, ?B/s]"
            ],
            "application/vnd.jupyter.widget-view+json": {
              "version_major": 2,
              "version_minor": 0,
              "model_id": "0c2ce0f67b024ee3bf16c9781d6a11f8"
            }
          },
          "metadata": {}
        },
        {
          "output_type": "display_data",
          "data": {
            "text/plain": [
              "README.md:   0%|          | 0.00/90.1k [00:00<?, ?B/s]"
            ],
            "application/vnd.jupyter.widget-view+json": {
              "version_major": 2,
              "version_minor": 0,
              "model_id": "57fbd787bff7405da295e940d73e9c7e"
            }
          },
          "metadata": {}
        },
        {
          "output_type": "display_data",
          "data": {
            "text/plain": [
              "config.json:   0%|          | 0.00/719 [00:00<?, ?B/s]"
            ],
            "application/vnd.jupyter.widget-view+json": {
              "version_major": 2,
              "version_minor": 0,
              "model_id": "0f6cac6d5c8a40a4bf34971eac3f8f6d"
            }
          },
          "metadata": {}
        },
        {
          "output_type": "display_data",
          "data": {
            "text/plain": [
              "config_sentence_transformers.json:   0%|          | 0.00/124 [00:00<?, ?B/s]"
            ],
            "application/vnd.jupyter.widget-view+json": {
              "version_major": 2,
              "version_minor": 0,
              "model_id": "759ef5456cc54db58032b2baddc3d44a"
            }
          },
          "metadata": {}
        },
        {
          "output_type": "display_data",
          "data": {
            "text/plain": [
              "model.safetensors:   0%|          | 0.00/438M [00:00<?, ?B/s]"
            ],
            "application/vnd.jupyter.widget-view+json": {
              "version_major": 2,
              "version_minor": 0,
              "model_id": "3f303f8bc33747a7bb2da3ef775dace7"
            }
          },
          "metadata": {}
        },
        {
          "output_type": "display_data",
          "data": {
            "text/plain": [
              "pytorch_model.bin:   0%|          | 0.00/438M [00:00<?, ?B/s]"
            ],
            "application/vnd.jupyter.widget-view+json": {
              "version_major": 2,
              "version_minor": 0,
              "model_id": "5cdfb5bc6ade4ff582db6c11b3962635"
            }
          },
          "metadata": {}
        },
        {
          "output_type": "display_data",
          "data": {
            "text/plain": [
              "sentence_bert_config.json:   0%|          | 0.00/52.0 [00:00<?, ?B/s]"
            ],
            "application/vnd.jupyter.widget-view+json": {
              "version_major": 2,
              "version_minor": 0,
              "model_id": "a3010022e2274ee0a1a25cc5a4d9dad2"
            }
          },
          "metadata": {}
        },
        {
          "output_type": "display_data",
          "data": {
            "text/plain": [
              "special_tokens_map.json:   0%|          | 0.00/125 [00:00<?, ?B/s]"
            ],
            "application/vnd.jupyter.widget-view+json": {
              "version_major": 2,
              "version_minor": 0,
              "model_id": "fc15db11d79a49f495a8d9bde2d39dd5"
            }
          },
          "metadata": {}
        },
        {
          "output_type": "display_data",
          "data": {
            "text/plain": [
              "tokenizer.json:   0%|          | 0.00/711k [00:00<?, ?B/s]"
            ],
            "application/vnd.jupyter.widget-view+json": {
              "version_major": 2,
              "version_minor": 0,
              "model_id": "a7689bd1cc63412e8afeecdc91858fb6"
            }
          },
          "metadata": {}
        },
        {
          "output_type": "display_data",
          "data": {
            "text/plain": [
              "tokenizer_config.json:   0%|          | 0.00/366 [00:00<?, ?B/s]"
            ],
            "application/vnd.jupyter.widget-view+json": {
              "version_major": 2,
              "version_minor": 0,
              "model_id": "dd02f2bead904698b1323e3287260626"
            }
          },
          "metadata": {}
        },
        {
          "output_type": "display_data",
          "data": {
            "text/plain": [
              "vocab.txt:   0%|          | 0.00/232k [00:00<?, ?B/s]"
            ],
            "application/vnd.jupyter.widget-view+json": {
              "version_major": 2,
              "version_minor": 0,
              "model_id": "a420b3c5010a4c94802d54f8b2c49f75"
            }
          },
          "metadata": {}
        },
        {
          "output_type": "display_data",
          "data": {
            "text/plain": [
              "modules.json:   0%|          | 0.00/349 [00:00<?, ?B/s]"
            ],
            "application/vnd.jupyter.widget-view+json": {
              "version_major": 2,
              "version_minor": 0,
              "model_id": "8941c40991b842df9e7f34af7ab54888"
            }
          },
          "metadata": {}
        }
      ]
    },
    {
      "cell_type": "code",
      "source": [
        "\n",
        "set_global_service_context(service_context)"
      ],
      "metadata": {
        "id": "J3jQm_2IU1Pl"
      },
      "execution_count": 42,
      "outputs": []
    },
    {
      "cell_type": "code",
      "source": [
        "from llama_index.node_parser import (\n",
        "    UnstructuredElementNodeParser,\n",
        ")\n",
        "\n",
        "node_parser = UnstructuredElementNodeParser(llm=llm)"
      ],
      "metadata": {
        "id": "sa0NCVNlaruZ"
      },
      "execution_count": 43,
      "outputs": []
    },
    {
      "cell_type": "code",
      "source": [
        "from llama_index.node_parser import (\n",
        "    UnstructuredElementNodeParser,\n",
        ")\n",
        "\n",
        "node_parser = UnstructuredElementNodeParser()\n",
        "raw_nodes_2021 = node_parser.get_nodes_from_documents(documents)"
      ],
      "metadata": {
        "colab": {
          "base_uri": "https://localhost:8080/"
        },
        "id": "PzZAS8ceUxsZ",
        "outputId": "0d7ac570-f39e-42e2-9406-9deabab2f662"
      },
      "execution_count": 12,
      "outputs": [
        {
          "output_type": "stream",
          "name": "stderr",
          "text": [
            "[nltk_data] Downloading package averaged_perceptron_tagger to\n",
            "[nltk_data]     /root/nltk_data...\n",
            "[nltk_data]   Unzipping taggers/averaged_perceptron_tagger.zip.\n",
            "100%|██████████| 4/4 [00:10<00:00,  2.73s/it]\n"
          ]
        }
      ]
    },
    {
      "cell_type": "markdown",
      "source": [
        "# old\n",
        "https://medium.com/@jerryjliu98/how-unstructured-and-llamaindex-can-help-bring-the-power-of-llms-to-your-own-data-3657d063e30dm"
      ],
      "metadata": {
        "id": "SBQE-ZHdTtt3"
      }
    },
    {
      "cell_type": "markdown",
      "source": [],
      "metadata": {
        "id": "GKuxRMRjTrLX"
      }
    },
    {
      "cell_type": "code",
      "source": [
        "raw_nodes_2021 = node_parser.get_nodes_from_documents(documents,llm=llm,embed_model=\"local\")"
      ],
      "metadata": {
        "colab": {
          "base_uri": "https://localhost:8080/"
        },
        "id": "3EuCAuCAvD02",
        "outputId": "da676d0a-8f9e-47a8-81eb-37de75d9dbe3"
      },
      "execution_count": 44,
      "outputs": [
        {
          "output_type": "stream",
          "name": "stderr",
          "text": [
            "\r  0%|          | 0/4 [00:00<?, ?it/s]/usr/local/lib/python3.10/dist-packages/transformers/generation/configuration_utils.py:381: UserWarning: `do_sample` is set to `False`. However, `temperature` is set to `0.2` -- this flag is only used in sample-based generation modes. You should set `do_sample=True` or unset `temperature`.\n",
            "  warnings.warn(\n",
            "/usr/local/lib/python3.10/dist-packages/transformers/generation/configuration_utils.py:386: UserWarning: `do_sample` is set to `False`. However, `top_p` is set to `0.95` -- this flag is only used in sample-based generation modes. You should set `do_sample=True` or unset `top_p`.\n",
            "  warnings.warn(\n",
            "/usr/local/lib/python3.10/dist-packages/transformers/generation/configuration_utils.py:396: UserWarning: `do_sample` is set to `False`. However, `top_k` is set to `5` -- this flag is only used in sample-based generation modes. You should set `do_sample=True` or unset `top_k`.\n",
            "  warnings.warn(\n",
            "Setting `pad_token_id` to `eos_token_id`:2 for open-end generation.\n",
            "WARNING:llama_index.response_synthesizers.refine:Validation error on structured response: 1 validation error for TableOutput\n",
            "__root__\n",
            "  Invalid \\escape: line 5 column 5 (char 151) (type=value_error.jsondecode; msg=Invalid \\escape; doc={\n",
            "\"summary\": \"This table is a list of notes issued by the Nasdaq Stock Market LLC with various maturity dates and interest rates.\",\n",
            "\"columns\": [\n",
            "{\n",
            "\"col\\_name\": \"Trading symbol(s)\",\n",
            "\"col\\_type\": \"string\"\n",
            "},\n",
            "{\n",
            "\"col\\_name\": \"Name of each exchange on which registered\",\n",
            "\"col\\_type\": \"string\"\n",
            "},\n",
            "{\n",
            "\"col\\_name\": \"Common Stock, $0.00001 par value per share\",\n",
            "\"col\\_type\": \"string\"\n",
            "},\n",
            "{\n",
            "\"col\\_name\": \"AAPL\",\n",
            "\"col\\_type\": \"string\"\n",
            "},\n",
            "{\n",
            "\"col\\_name\": \"The Nasdaq Stock Market LLC\",\n",
            "\"col\\_type\": \"string\"\n",
            "},\n",
            "{\n",
            "\"col\\_name\": \"1.375% Notes due 2024\",\n",
            "\"col\\_type\": \"string\"\n",
            "},\n",
            "{\n",
            "\"col\\_name\": \"The Nasdaq Stock Market LLC\",\n",
            "\"col\\_type\": \"string\"\n",
            "}; pos=151; lineno=5; colno=5)\n",
            "Traceback (most recent call last):\n",
            "  File \"/usr/local/lib/python3.10/dist-packages/pydantic/v1/main.py\", line 539, in parse_raw\n",
            "    obj = load_str_bytes(\n",
            "  File \"/usr/local/lib/python3.10/dist-packages/pydantic/v1/parse.py\", line 37, in load_str_bytes\n",
            "    return json_loads(b)\n",
            "  File \"/usr/lib/python3.10/json/__init__.py\", line 346, in loads\n",
            "    return _default_decoder.decode(s)\n",
            "  File \"/usr/lib/python3.10/json/decoder.py\", line 337, in decode\n",
            "    obj, end = self.raw_decode(s, idx=_w(s, 0).end())\n",
            "  File \"/usr/lib/python3.10/json/decoder.py\", line 353, in raw_decode\n",
            "    obj, end = self.scan_once(s, idx)\n",
            "json.decoder.JSONDecodeError: Invalid \\escape: line 5 column 5 (char 151)\n",
            "\n",
            "During handling of the above exception, another exception occurred:\n",
            "\n",
            "Traceback (most recent call last):\n",
            "  File \"/usr/local/lib/python3.10/dist-packages/llama_index/response_synthesizers/refine.py\", line 202, in _give_response_single\n",
            "    program(\n",
            "  File \"/usr/local/lib/python3.10/dist-packages/llama_index/response_synthesizers/refine.py\", line 57, in __call__\n",
            "    answer = self._llm.structured_predict(\n",
            "  File \"/usr/local/lib/python3.10/dist-packages/llama_index/llms/llm.py\", line 185, in structured_predict\n",
            "    return program(**prompt_args)\n",
            "  File \"/usr/local/lib/python3.10/dist-packages/llama_index/program/llm_program.py\", line 87, in __call__\n",
            "    return self._output_parser.parse(raw_output)\n",
            "  File \"/usr/local/lib/python3.10/dist-packages/llama_index/output_parsers/pydantic.py\", line 52, in parse\n",
            "    return self._output_cls.parse_raw(json_str)\n",
            "  File \"/usr/local/lib/python3.10/dist-packages/pydantic/v1/main.py\", line 548, in parse_raw\n",
            "    raise ValidationError([ErrorWrapper(e, loc=ROOT_KEY)], cls)\n",
            "pydantic.v1.error_wrappers.ValidationError: 1 validation error for TableOutput\n",
            "__root__\n",
            "  Invalid \\escape: line 5 column 5 (char 151) (type=value_error.jsondecode; msg=Invalid \\escape; doc={\n",
            "\"summary\": \"This table is a list of notes issued by the Nasdaq Stock Market LLC with various maturity dates and interest rates.\",\n",
            "\"columns\": [\n",
            "{\n",
            "\"col\\_name\": \"Trading symbol(s)\",\n",
            "\"col\\_type\": \"string\"\n",
            "},\n",
            "{\n",
            "\"col\\_name\": \"Name of each exchange on which registered\",\n",
            "\"col\\_type\": \"string\"\n",
            "},\n",
            "{\n",
            "\"col\\_name\": \"Common Stock, $0.00001 par value per share\",\n",
            "\"col\\_type\": \"string\"\n",
            "},\n",
            "{\n",
            "\"col\\_name\": \"AAPL\",\n",
            "\"col\\_type\": \"string\"\n",
            "},\n",
            "{\n",
            "\"col\\_name\": \"The Nasdaq Stock Market LLC\",\n",
            "\"col\\_type\": \"string\"\n",
            "},\n",
            "{\n",
            "\"col\\_name\": \"1.375% Notes due 2024\",\n",
            "\"col\\_type\": \"string\"\n",
            "},\n",
            "{\n",
            "\"col\\_name\": \"The Nasdaq Stock Market LLC\",\n",
            "\"col\\_type\": \"string\"\n",
            "}; pos=151; lineno=5; colno=5)\n"
          ]
        },
        {
          "output_type": "stream",
          "name": "stdout",
          "text": [
            "Validation error on structured response: 1 validation error for TableOutput\n",
            "__root__\n",
            "  Invalid \\escape: line 5 column 5 (char 151) (type=value_error.jsondecode; msg=Invalid \\escape; doc={\n",
            "\"summary\": \"This table is a list of notes issued by the Nasdaq Stock Market LLC with various maturity dates and interest rates.\",\n",
            "\"columns\": [\n",
            "{\n",
            "\"col\\_name\": \"Trading symbol(s)\",\n",
            "\"col\\_type\": \"string\"\n",
            "},\n",
            "{\n",
            "\"col\\_name\": \"Name of each exchange on which registered\",\n",
            "\"col\\_type\": \"string\"\n",
            "},\n",
            "{\n",
            "\"col\\_name\": \"Common Stock, $0.00001 par value per share\",\n",
            "\"col\\_type\": \"string\"\n",
            "},\n",
            "{\n",
            "\"col\\_name\": \"AAPL\",\n",
            "\"col\\_type\": \"string\"\n",
            "},\n",
            "{\n",
            "\"col\\_name\": \"The Nasdaq Stock Market LLC\",\n",
            "\"col\\_type\": \"string\"\n",
            "},\n",
            "{\n",
            "\"col\\_name\": \"1.375% Notes due 2024\",\n",
            "\"col\\_type\": \"string\"\n",
            "},\n",
            "{\n",
            "\"col\\_name\": \"The Nasdaq Stock Market LLC\",\n",
            "\"col\\_type\": \"string\"\n",
            "}; pos=151; lineno=5; colno=5)\n",
            "Traceback (most recent call last):\n",
            "  File \"/usr/local/lib/python3.10/dist-packages/pydantic/v1/main.py\", line 539, in parse_raw\n",
            "    obj = load_str_bytes(\n",
            "  File \"/usr/local/lib/python3.10/dist-packages/pydantic/v1/parse.py\", line 37, in load_str_bytes\n",
            "    return json_loads(b)\n",
            "  File \"/usr/lib/python3.10/json/__init__.py\", line 346, in loads\n",
            "    return _default_decoder.decode(s)\n",
            "  File \"/usr/lib/python3.10/json/decoder.py\", line 337, in decode\n",
            "    obj, end = self.raw_decode(s, idx=_w(s, 0).end())\n",
            "  File \"/usr/lib/python3.10/json/decoder.py\", line 353, in raw_decode\n",
            "    obj, end = self.scan_once(s, idx)\n",
            "json.decoder.JSONDecodeError: Invalid \\escape: line 5 column 5 (char 151)\n",
            "\n",
            "During handling of the above exception, another exception occurred:\n",
            "\n",
            "Traceback (most recent call last):\n",
            "  File \"/usr/local/lib/python3.10/dist-packages/llama_index/response_synthesizers/refine.py\", line 202, in _give_response_single\n",
            "    program(\n",
            "  File \"/usr/local/lib/python3.10/dist-packages/llama_index/response_synthesizers/refine.py\", line 57, in __call__\n",
            "    answer = self._llm.structured_predict(\n",
            "  File \"/usr/local/lib/python3.10/dist-packages/llama_index/llms/llm.py\", line 185, in structured_predict\n",
            "    return program(**prompt_args)\n",
            "  File \"/usr/local/lib/python3.10/dist-packages/llama_index/program/llm_program.py\", line 87, in __call__\n",
            "    return self._output_parser.parse(raw_output)\n",
            "  File \"/usr/local/lib/python3.10/dist-packages/llama_index/output_parsers/pydantic.py\", line 52, in parse\n",
            "    return self._output_cls.parse_raw(json_str)\n",
            "  File \"/usr/local/lib/python3.10/dist-packages/pydantic/v1/main.py\", line 548, in parse_raw\n",
            "    raise ValidationError([ErrorWrapper(e, loc=ROOT_KEY)], cls)\n",
            "pydantic.v1.error_wrappers.ValidationError: 1 validation error for TableOutput\n",
            "__root__\n",
            "  Invalid \\escape: line 5 column 5 (char 151) (type=value_error.jsondecode; msg=Invalid \\escape; doc={\n",
            "\"summary\": \"This table is a list of notes issued by the Nasdaq Stock Market LLC with various maturity dates and interest rates.\",\n",
            "\"columns\": [\n",
            "{\n",
            "\"col\\_name\": \"Trading symbol(s)\",\n",
            "\"col\\_type\": \"string\"\n",
            "},\n",
            "{\n",
            "\"col\\_name\": \"Name of each exchange on which registered\",\n",
            "\"col\\_type\": \"string\"\n",
            "},\n",
            "{\n",
            "\"col\\_name\": \"Common Stock, $0.00001 par value per share\",\n",
            "\"col\\_type\": \"string\"\n",
            "},\n",
            "{\n",
            "\"col\\_name\": \"AAPL\",\n",
            "\"col\\_type\": \"string\"\n",
            "},\n",
            "{\n",
            "\"col\\_name\": \"The Nasdaq Stock Market LLC\",\n",
            "\"col\\_type\": \"string\"\n",
            "},\n",
            "{\n",
            "\"col\\_name\": \"1.375% Notes due 2024\",\n",
            "\"col\\_type\": \"string\"\n",
            "},\n",
            "{\n",
            "\"col\\_name\": \"The Nasdaq Stock Market LLC\",\n",
            "\"col\\_type\": \"string\"\n",
            "}; pos=151; lineno=5; colno=5)\n"
          ]
        },
        {
          "output_type": "stream",
          "name": "stderr",
          "text": [
            "Setting `pad_token_id` to `eos_token_id`:2 for open-end generation.\n",
            " 25%|██▌       | 1/4 [00:34<01:44, 34.83s/it]Setting `pad_token_id` to `eos_token_id`:2 for open-end generation.\n",
            "WARNING:llama_index.response_synthesizers.refine:Validation error on structured response: 1 validation error for TableOutput\n",
            "__root__\n",
            "  Invalid \\escape: line 5 column 5 (char 376) (type=value_error.jsondecode; msg=Invalid \\escape; doc={\n",
            "\"summary\": \"This table shows the potential impact of a hypothetical interest rate increase on an investment portfolio. It compares the fair value and annual interest expense of the portfolio in 2022 and 2023, assuming a 100 basis point increase in interest rates for all tenors. The table also includes the impact on term debt and investment portfolio.\",\n",
            "\"columns\": [\n",
            "{\n",
            "\"col\\_name\": \"Interest Rate Sensitive Instrument\",\n",
            "\"col\\_type\": \"string\",\n",
            "\"summary\": \"The instrument that is sensitive to interest rate changes.\"\n",
            "},\n",
            "{\n",
            "\"col\\_name\": \"Hypothetical Interest Rate Increase\",\n",
            "\"col\\_type\": \"string\",\n",
            "\"summary\": \"The potential interest rate increase.\"\n",
            "},\n",
            "{\n",
            "\"col\\_name\": \"Potential Impact 2023\",\n",
            "\"col\\_type\": \"string\",\n",
            "\"summary\": \"The potential impact of the interest rate increase on the investment portfolio in 2023.\"\n",
            "}; pos=376; lineno=5; colno=5)\n",
            "Traceback (most recent call last):\n",
            "  File \"/usr/local/lib/python3.10/dist-packages/pydantic/v1/main.py\", line 539, in parse_raw\n",
            "    obj = load_str_bytes(\n",
            "  File \"/usr/local/lib/python3.10/dist-packages/pydantic/v1/parse.py\", line 37, in load_str_bytes\n",
            "    return json_loads(b)\n",
            "  File \"/usr/lib/python3.10/json/__init__.py\", line 346, in loads\n",
            "    return _default_decoder.decode(s)\n",
            "  File \"/usr/lib/python3.10/json/decoder.py\", line 337, in decode\n",
            "    obj, end = self.raw_decode(s, idx=_w(s, 0).end())\n",
            "  File \"/usr/lib/python3.10/json/decoder.py\", line 353, in raw_decode\n",
            "    obj, end = self.scan_once(s, idx)\n",
            "json.decoder.JSONDecodeError: Invalid \\escape: line 5 column 5 (char 376)\n",
            "\n",
            "During handling of the above exception, another exception occurred:\n",
            "\n",
            "Traceback (most recent call last):\n",
            "  File \"/usr/local/lib/python3.10/dist-packages/llama_index/response_synthesizers/refine.py\", line 202, in _give_response_single\n",
            "    program(\n",
            "  File \"/usr/local/lib/python3.10/dist-packages/llama_index/response_synthesizers/refine.py\", line 57, in __call__\n",
            "    answer = self._llm.structured_predict(\n",
            "  File \"/usr/local/lib/python3.10/dist-packages/llama_index/llms/llm.py\", line 185, in structured_predict\n",
            "    return program(**prompt_args)\n",
            "  File \"/usr/local/lib/python3.10/dist-packages/llama_index/program/llm_program.py\", line 87, in __call__\n",
            "    return self._output_parser.parse(raw_output)\n",
            "  File \"/usr/local/lib/python3.10/dist-packages/llama_index/output_parsers/pydantic.py\", line 52, in parse\n",
            "    return self._output_cls.parse_raw(json_str)\n",
            "  File \"/usr/local/lib/python3.10/dist-packages/pydantic/v1/main.py\", line 548, in parse_raw\n",
            "    raise ValidationError([ErrorWrapper(e, loc=ROOT_KEY)], cls)\n",
            "pydantic.v1.error_wrappers.ValidationError: 1 validation error for TableOutput\n",
            "__root__\n",
            "  Invalid \\escape: line 5 column 5 (char 376) (type=value_error.jsondecode; msg=Invalid \\escape; doc={\n",
            "\"summary\": \"This table shows the potential impact of a hypothetical interest rate increase on an investment portfolio. It compares the fair value and annual interest expense of the portfolio in 2022 and 2023, assuming a 100 basis point increase in interest rates for all tenors. The table also includes the impact on term debt and investment portfolio.\",\n",
            "\"columns\": [\n",
            "{\n",
            "\"col\\_name\": \"Interest Rate Sensitive Instrument\",\n",
            "\"col\\_type\": \"string\",\n",
            "\"summary\": \"The instrument that is sensitive to interest rate changes.\"\n",
            "},\n",
            "{\n",
            "\"col\\_name\": \"Hypothetical Interest Rate Increase\",\n",
            "\"col\\_type\": \"string\",\n",
            "\"summary\": \"The potential interest rate increase.\"\n",
            "},\n",
            "{\n",
            "\"col\\_name\": \"Potential Impact 2023\",\n",
            "\"col\\_type\": \"string\",\n",
            "\"summary\": \"The potential impact of the interest rate increase on the investment portfolio in 2023.\"\n",
            "}; pos=376; lineno=5; colno=5)\n"
          ]
        },
        {
          "output_type": "stream",
          "name": "stdout",
          "text": [
            "Validation error on structured response: 1 validation error for TableOutput\n",
            "__root__\n",
            "  Invalid \\escape: line 5 column 5 (char 376) (type=value_error.jsondecode; msg=Invalid \\escape; doc={\n",
            "\"summary\": \"This table shows the potential impact of a hypothetical interest rate increase on an investment portfolio. It compares the fair value and annual interest expense of the portfolio in 2022 and 2023, assuming a 100 basis point increase in interest rates for all tenors. The table also includes the impact on term debt and investment portfolio.\",\n",
            "\"columns\": [\n",
            "{\n",
            "\"col\\_name\": \"Interest Rate Sensitive Instrument\",\n",
            "\"col\\_type\": \"string\",\n",
            "\"summary\": \"The instrument that is sensitive to interest rate changes.\"\n",
            "},\n",
            "{\n",
            "\"col\\_name\": \"Hypothetical Interest Rate Increase\",\n",
            "\"col\\_type\": \"string\",\n",
            "\"summary\": \"The potential interest rate increase.\"\n",
            "},\n",
            "{\n",
            "\"col\\_name\": \"Potential Impact 2023\",\n",
            "\"col\\_type\": \"string\",\n",
            "\"summary\": \"The potential impact of the interest rate increase on the investment portfolio in 2023.\"\n",
            "}; pos=376; lineno=5; colno=5)\n",
            "Traceback (most recent call last):\n",
            "  File \"/usr/local/lib/python3.10/dist-packages/pydantic/v1/main.py\", line 539, in parse_raw\n",
            "    obj = load_str_bytes(\n",
            "  File \"/usr/local/lib/python3.10/dist-packages/pydantic/v1/parse.py\", line 37, in load_str_bytes\n",
            "    return json_loads(b)\n",
            "  File \"/usr/lib/python3.10/json/__init__.py\", line 346, in loads\n",
            "    return _default_decoder.decode(s)\n",
            "  File \"/usr/lib/python3.10/json/decoder.py\", line 337, in decode\n",
            "    obj, end = self.raw_decode(s, idx=_w(s, 0).end())\n",
            "  File \"/usr/lib/python3.10/json/decoder.py\", line 353, in raw_decode\n",
            "    obj, end = self.scan_once(s, idx)\n",
            "json.decoder.JSONDecodeError: Invalid \\escape: line 5 column 5 (char 376)\n",
            "\n",
            "During handling of the above exception, another exception occurred:\n",
            "\n",
            "Traceback (most recent call last):\n",
            "  File \"/usr/local/lib/python3.10/dist-packages/llama_index/response_synthesizers/refine.py\", line 202, in _give_response_single\n",
            "    program(\n",
            "  File \"/usr/local/lib/python3.10/dist-packages/llama_index/response_synthesizers/refine.py\", line 57, in __call__\n",
            "    answer = self._llm.structured_predict(\n",
            "  File \"/usr/local/lib/python3.10/dist-packages/llama_index/llms/llm.py\", line 185, in structured_predict\n",
            "    return program(**prompt_args)\n",
            "  File \"/usr/local/lib/python3.10/dist-packages/llama_index/program/llm_program.py\", line 87, in __call__\n",
            "    return self._output_parser.parse(raw_output)\n",
            "  File \"/usr/local/lib/python3.10/dist-packages/llama_index/output_parsers/pydantic.py\", line 52, in parse\n",
            "    return self._output_cls.parse_raw(json_str)\n",
            "  File \"/usr/local/lib/python3.10/dist-packages/pydantic/v1/main.py\", line 548, in parse_raw\n",
            "    raise ValidationError([ErrorWrapper(e, loc=ROOT_KEY)], cls)\n",
            "pydantic.v1.error_wrappers.ValidationError: 1 validation error for TableOutput\n",
            "__root__\n",
            "  Invalid \\escape: line 5 column 5 (char 376) (type=value_error.jsondecode; msg=Invalid \\escape; doc={\n",
            "\"summary\": \"This table shows the potential impact of a hypothetical interest rate increase on an investment portfolio. It compares the fair value and annual interest expense of the portfolio in 2022 and 2023, assuming a 100 basis point increase in interest rates for all tenors. The table also includes the impact on term debt and investment portfolio.\",\n",
            "\"columns\": [\n",
            "{\n",
            "\"col\\_name\": \"Interest Rate Sensitive Instrument\",\n",
            "\"col\\_type\": \"string\",\n",
            "\"summary\": \"The instrument that is sensitive to interest rate changes.\"\n",
            "},\n",
            "{\n",
            "\"col\\_name\": \"Hypothetical Interest Rate Increase\",\n",
            "\"col\\_type\": \"string\",\n",
            "\"summary\": \"The potential interest rate increase.\"\n",
            "},\n",
            "{\n",
            "\"col\\_name\": \"Potential Impact 2023\",\n",
            "\"col\\_type\": \"string\",\n",
            "\"summary\": \"The potential impact of the interest rate increase on the investment portfolio in 2023.\"\n",
            "}; pos=376; lineno=5; colno=5)\n"
          ]
        },
        {
          "output_type": "stream",
          "name": "stderr",
          "text": [
            "Setting `pad_token_id` to `eos_token_id`:2 for open-end generation.\n",
            " 50%|█████     | 2/4 [01:04<01:03, 31.88s/it]Setting `pad_token_id` to `eos_token_id`:2 for open-end generation.\n",
            "WARNING:llama_index.response_synthesizers.refine:Validation error on structured response: 1 validation error for TableOutput\n",
            "__root__\n",
            "  Invalid \\escape: line 5 column 5 (char 386) (type=value_error.jsondecode; msg=Invalid \\escape; doc={\n",
            "\"summary\": \"This table provides consolidated financial statements for a company for the years ended September 30, 2023, September 24, 2022, and September 25, 2021. It includes statements of operations, comprehensive income, balance sheets, shareholders' equity, and cash flows, as well as notes and a report from an independent registered public accounting firm.\",\n",
            "\"columns\": [\n",
            "{\n",
            "\"col\\_name\": \"Statement\",\n",
            "\"col\\_type\": \"string\",\n",
            "\"summary\": \"The type of financial statement provided, such as statements of operations or balance sheets.\"\n",
            "},\n",
            "{\n",
            "\"col\\_name\": \"Year\",\n",
            "\"col\\_type\": \"string\",\n",
            "\"summary\": \"The year the financial statement is for, such as 2023 or 2022.\"\n",
            "},\n",
            "{\n",
            "\"col\\_name\": \"Description\",\n",
            "\"col\\_type\": \"string\",\n",
            "\"summary\": \"A brief description of the financial statement, such as 'Consolidated Statements of Operations'.\"\n",
            "}\n",
            "]\n",
            "}; pos=386; lineno=5; colno=5)\n",
            "Traceback (most recent call last):\n",
            "  File \"/usr/local/lib/python3.10/dist-packages/pydantic/v1/main.py\", line 539, in parse_raw\n",
            "    obj = load_str_bytes(\n",
            "  File \"/usr/local/lib/python3.10/dist-packages/pydantic/v1/parse.py\", line 37, in load_str_bytes\n",
            "    return json_loads(b)\n",
            "  File \"/usr/lib/python3.10/json/__init__.py\", line 346, in loads\n",
            "    return _default_decoder.decode(s)\n",
            "  File \"/usr/lib/python3.10/json/decoder.py\", line 337, in decode\n",
            "    obj, end = self.raw_decode(s, idx=_w(s, 0).end())\n",
            "  File \"/usr/lib/python3.10/json/decoder.py\", line 353, in raw_decode\n",
            "    obj, end = self.scan_once(s, idx)\n",
            "json.decoder.JSONDecodeError: Invalid \\escape: line 5 column 5 (char 386)\n",
            "\n",
            "During handling of the above exception, another exception occurred:\n",
            "\n",
            "Traceback (most recent call last):\n",
            "  File \"/usr/local/lib/python3.10/dist-packages/llama_index/response_synthesizers/refine.py\", line 202, in _give_response_single\n",
            "    program(\n",
            "  File \"/usr/local/lib/python3.10/dist-packages/llama_index/response_synthesizers/refine.py\", line 57, in __call__\n",
            "    answer = self._llm.structured_predict(\n",
            "  File \"/usr/local/lib/python3.10/dist-packages/llama_index/llms/llm.py\", line 185, in structured_predict\n",
            "    return program(**prompt_args)\n",
            "  File \"/usr/local/lib/python3.10/dist-packages/llama_index/program/llm_program.py\", line 87, in __call__\n",
            "    return self._output_parser.parse(raw_output)\n",
            "  File \"/usr/local/lib/python3.10/dist-packages/llama_index/output_parsers/pydantic.py\", line 52, in parse\n",
            "    return self._output_cls.parse_raw(json_str)\n",
            "  File \"/usr/local/lib/python3.10/dist-packages/pydantic/v1/main.py\", line 548, in parse_raw\n",
            "    raise ValidationError([ErrorWrapper(e, loc=ROOT_KEY)], cls)\n",
            "pydantic.v1.error_wrappers.ValidationError: 1 validation error for TableOutput\n",
            "__root__\n",
            "  Invalid \\escape: line 5 column 5 (char 386) (type=value_error.jsondecode; msg=Invalid \\escape; doc={\n",
            "\"summary\": \"This table provides consolidated financial statements for a company for the years ended September 30, 2023, September 24, 2022, and September 25, 2021. It includes statements of operations, comprehensive income, balance sheets, shareholders' equity, and cash flows, as well as notes and a report from an independent registered public accounting firm.\",\n",
            "\"columns\": [\n",
            "{\n",
            "\"col\\_name\": \"Statement\",\n",
            "\"col\\_type\": \"string\",\n",
            "\"summary\": \"The type of financial statement provided, such as statements of operations or balance sheets.\"\n",
            "},\n",
            "{\n",
            "\"col\\_name\": \"Year\",\n",
            "\"col\\_type\": \"string\",\n",
            "\"summary\": \"The year the financial statement is for, such as 2023 or 2022.\"\n",
            "},\n",
            "{\n",
            "\"col\\_name\": \"Description\",\n",
            "\"col\\_type\": \"string\",\n",
            "\"summary\": \"A brief description of the financial statement, such as 'Consolidated Statements of Operations'.\"\n",
            "}\n",
            "]\n",
            "}; pos=386; lineno=5; colno=5)\n"
          ]
        },
        {
          "output_type": "stream",
          "name": "stdout",
          "text": [
            "Validation error on structured response: 1 validation error for TableOutput\n",
            "__root__\n",
            "  Invalid \\escape: line 5 column 5 (char 386) (type=value_error.jsondecode; msg=Invalid \\escape; doc={\n",
            "\"summary\": \"This table provides consolidated financial statements for a company for the years ended September 30, 2023, September 24, 2022, and September 25, 2021. It includes statements of operations, comprehensive income, balance sheets, shareholders' equity, and cash flows, as well as notes and a report from an independent registered public accounting firm.\",\n",
            "\"columns\": [\n",
            "{\n",
            "\"col\\_name\": \"Statement\",\n",
            "\"col\\_type\": \"string\",\n",
            "\"summary\": \"The type of financial statement provided, such as statements of operations or balance sheets.\"\n",
            "},\n",
            "{\n",
            "\"col\\_name\": \"Year\",\n",
            "\"col\\_type\": \"string\",\n",
            "\"summary\": \"The year the financial statement is for, such as 2023 or 2022.\"\n",
            "},\n",
            "{\n",
            "\"col\\_name\": \"Description\",\n",
            "\"col\\_type\": \"string\",\n",
            "\"summary\": \"A brief description of the financial statement, such as 'Consolidated Statements of Operations'.\"\n",
            "}\n",
            "]\n",
            "}; pos=386; lineno=5; colno=5)\n",
            "Traceback (most recent call last):\n",
            "  File \"/usr/local/lib/python3.10/dist-packages/pydantic/v1/main.py\", line 539, in parse_raw\n",
            "    obj = load_str_bytes(\n",
            "  File \"/usr/local/lib/python3.10/dist-packages/pydantic/v1/parse.py\", line 37, in load_str_bytes\n",
            "    return json_loads(b)\n",
            "  File \"/usr/lib/python3.10/json/__init__.py\", line 346, in loads\n",
            "    return _default_decoder.decode(s)\n",
            "  File \"/usr/lib/python3.10/json/decoder.py\", line 337, in decode\n",
            "    obj, end = self.raw_decode(s, idx=_w(s, 0).end())\n",
            "  File \"/usr/lib/python3.10/json/decoder.py\", line 353, in raw_decode\n",
            "    obj, end = self.scan_once(s, idx)\n",
            "json.decoder.JSONDecodeError: Invalid \\escape: line 5 column 5 (char 386)\n",
            "\n",
            "During handling of the above exception, another exception occurred:\n",
            "\n",
            "Traceback (most recent call last):\n",
            "  File \"/usr/local/lib/python3.10/dist-packages/llama_index/response_synthesizers/refine.py\", line 202, in _give_response_single\n",
            "    program(\n",
            "  File \"/usr/local/lib/python3.10/dist-packages/llama_index/response_synthesizers/refine.py\", line 57, in __call__\n",
            "    answer = self._llm.structured_predict(\n",
            "  File \"/usr/local/lib/python3.10/dist-packages/llama_index/llms/llm.py\", line 185, in structured_predict\n",
            "    return program(**prompt_args)\n",
            "  File \"/usr/local/lib/python3.10/dist-packages/llama_index/program/llm_program.py\", line 87, in __call__\n",
            "    return self._output_parser.parse(raw_output)\n",
            "  File \"/usr/local/lib/python3.10/dist-packages/llama_index/output_parsers/pydantic.py\", line 52, in parse\n",
            "    return self._output_cls.parse_raw(json_str)\n",
            "  File \"/usr/local/lib/python3.10/dist-packages/pydantic/v1/main.py\", line 548, in parse_raw\n",
            "    raise ValidationError([ErrorWrapper(e, loc=ROOT_KEY)], cls)\n",
            "pydantic.v1.error_wrappers.ValidationError: 1 validation error for TableOutput\n",
            "__root__\n",
            "  Invalid \\escape: line 5 column 5 (char 386) (type=value_error.jsondecode; msg=Invalid \\escape; doc={\n",
            "\"summary\": \"This table provides consolidated financial statements for a company for the years ended September 30, 2023, September 24, 2022, and September 25, 2021. It includes statements of operations, comprehensive income, balance sheets, shareholders' equity, and cash flows, as well as notes and a report from an independent registered public accounting firm.\",\n",
            "\"columns\": [\n",
            "{\n",
            "\"col\\_name\": \"Statement\",\n",
            "\"col\\_type\": \"string\",\n",
            "\"summary\": \"The type of financial statement provided, such as statements of operations or balance sheets.\"\n",
            "},\n",
            "{\n",
            "\"col\\_name\": \"Year\",\n",
            "\"col\\_type\": \"string\",\n",
            "\"summary\": \"The year the financial statement is for, such as 2023 or 2022.\"\n",
            "},\n",
            "{\n",
            "\"col\\_name\": \"Description\",\n",
            "\"col\\_type\": \"string\",\n",
            "\"summary\": \"A brief description of the financial statement, such as 'Consolidated Statements of Operations'.\"\n",
            "}\n",
            "]\n",
            "}; pos=386; lineno=5; colno=5)\n"
          ]
        },
        {
          "output_type": "stream",
          "name": "stderr",
          "text": [
            "Setting `pad_token_id` to `eos_token_id`:2 for open-end generation.\n",
            " 75%|███████▌  | 3/4 [01:33<00:30, 30.27s/it]Setting `pad_token_id` to `eos_token_id`:2 for open-end generation.\n",
            "WARNING:llama_index.response_synthesizers.refine:Validation error on structured response: 1 validation error for TableOutput\n",
            "__root__\n",
            "  Invalid \\escape: line 5 column 5 (char 386) (type=value_error.jsondecode; msg=Invalid \\escape; doc={\n",
            "\"summary\": \"This table provides consolidated financial statements for a company for the years ended September 30, 2023, September 24, 2022, and September 25, 2021. It includes statements of operations, comprehensive income, balance sheets, shareholders' equity, and cash flows, as well as notes and a report from an independent registered public accounting firm.\",\n",
            "\"columns\": [\n",
            "{\n",
            "\"col\\_name\": \"Statement\",\n",
            "\"col\\_type\": \"string\",\n",
            "\"summary\": \"The type of financial statement provided, such as statements of operations or balance sheets.\"\n",
            "},\n",
            "{\n",
            "\"col\\_name\": \"Year\",\n",
            "\"col\\_type\": \"string\",\n",
            "\"summary\": \"The year the financial statement is for, such as 2023 or 2022.\"\n",
            "},\n",
            "{\n",
            "\"col\\_name\": \"Description\",\n",
            "\"col\\_type\": \"string\",\n",
            "\"summary\": \"A brief description of the financial statement, such as 'Consolidated Statements of Operations'.\"\n",
            "}\n",
            "]\n",
            "}; pos=386; lineno=5; colno=5)\n",
            "Traceback (most recent call last):\n",
            "  File \"/usr/local/lib/python3.10/dist-packages/pydantic/v1/main.py\", line 539, in parse_raw\n",
            "    obj = load_str_bytes(\n",
            "  File \"/usr/local/lib/python3.10/dist-packages/pydantic/v1/parse.py\", line 37, in load_str_bytes\n",
            "    return json_loads(b)\n",
            "  File \"/usr/lib/python3.10/json/__init__.py\", line 346, in loads\n",
            "    return _default_decoder.decode(s)\n",
            "  File \"/usr/lib/python3.10/json/decoder.py\", line 337, in decode\n",
            "    obj, end = self.raw_decode(s, idx=_w(s, 0).end())\n",
            "  File \"/usr/lib/python3.10/json/decoder.py\", line 353, in raw_decode\n",
            "    obj, end = self.scan_once(s, idx)\n",
            "json.decoder.JSONDecodeError: Invalid \\escape: line 5 column 5 (char 386)\n",
            "\n",
            "During handling of the above exception, another exception occurred:\n",
            "\n",
            "Traceback (most recent call last):\n",
            "  File \"/usr/local/lib/python3.10/dist-packages/llama_index/response_synthesizers/refine.py\", line 202, in _give_response_single\n",
            "    program(\n",
            "  File \"/usr/local/lib/python3.10/dist-packages/llama_index/response_synthesizers/refine.py\", line 57, in __call__\n",
            "    answer = self._llm.structured_predict(\n",
            "  File \"/usr/local/lib/python3.10/dist-packages/llama_index/llms/llm.py\", line 185, in structured_predict\n",
            "    return program(**prompt_args)\n",
            "  File \"/usr/local/lib/python3.10/dist-packages/llama_index/program/llm_program.py\", line 87, in __call__\n",
            "    return self._output_parser.parse(raw_output)\n",
            "  File \"/usr/local/lib/python3.10/dist-packages/llama_index/output_parsers/pydantic.py\", line 52, in parse\n",
            "    return self._output_cls.parse_raw(json_str)\n",
            "  File \"/usr/local/lib/python3.10/dist-packages/pydantic/v1/main.py\", line 548, in parse_raw\n",
            "    raise ValidationError([ErrorWrapper(e, loc=ROOT_KEY)], cls)\n",
            "pydantic.v1.error_wrappers.ValidationError: 1 validation error for TableOutput\n",
            "__root__\n",
            "  Invalid \\escape: line 5 column 5 (char 386) (type=value_error.jsondecode; msg=Invalid \\escape; doc={\n",
            "\"summary\": \"This table provides consolidated financial statements for a company for the years ended September 30, 2023, September 24, 2022, and September 25, 2021. It includes statements of operations, comprehensive income, balance sheets, shareholders' equity, and cash flows, as well as notes and a report from an independent registered public accounting firm.\",\n",
            "\"columns\": [\n",
            "{\n",
            "\"col\\_name\": \"Statement\",\n",
            "\"col\\_type\": \"string\",\n",
            "\"summary\": \"The type of financial statement provided, such as statements of operations or balance sheets.\"\n",
            "},\n",
            "{\n",
            "\"col\\_name\": \"Year\",\n",
            "\"col\\_type\": \"string\",\n",
            "\"summary\": \"The year the financial statement is for, such as 2023 or 2022.\"\n",
            "},\n",
            "{\n",
            "\"col\\_name\": \"Description\",\n",
            "\"col\\_type\": \"string\",\n",
            "\"summary\": \"A brief description of the financial statement, such as 'Consolidated Statements of Operations'.\"\n",
            "}\n",
            "]\n",
            "}; pos=386; lineno=5; colno=5)\n"
          ]
        },
        {
          "output_type": "stream",
          "name": "stdout",
          "text": [
            "Validation error on structured response: 1 validation error for TableOutput\n",
            "__root__\n",
            "  Invalid \\escape: line 5 column 5 (char 386) (type=value_error.jsondecode; msg=Invalid \\escape; doc={\n",
            "\"summary\": \"This table provides consolidated financial statements for a company for the years ended September 30, 2023, September 24, 2022, and September 25, 2021. It includes statements of operations, comprehensive income, balance sheets, shareholders' equity, and cash flows, as well as notes and a report from an independent registered public accounting firm.\",\n",
            "\"columns\": [\n",
            "{\n",
            "\"col\\_name\": \"Statement\",\n",
            "\"col\\_type\": \"string\",\n",
            "\"summary\": \"The type of financial statement provided, such as statements of operations or balance sheets.\"\n",
            "},\n",
            "{\n",
            "\"col\\_name\": \"Year\",\n",
            "\"col\\_type\": \"string\",\n",
            "\"summary\": \"The year the financial statement is for, such as 2023 or 2022.\"\n",
            "},\n",
            "{\n",
            "\"col\\_name\": \"Description\",\n",
            "\"col\\_type\": \"string\",\n",
            "\"summary\": \"A brief description of the financial statement, such as 'Consolidated Statements of Operations'.\"\n",
            "}\n",
            "]\n",
            "}; pos=386; lineno=5; colno=5)\n",
            "Traceback (most recent call last):\n",
            "  File \"/usr/local/lib/python3.10/dist-packages/pydantic/v1/main.py\", line 539, in parse_raw\n",
            "    obj = load_str_bytes(\n",
            "  File \"/usr/local/lib/python3.10/dist-packages/pydantic/v1/parse.py\", line 37, in load_str_bytes\n",
            "    return json_loads(b)\n",
            "  File \"/usr/lib/python3.10/json/__init__.py\", line 346, in loads\n",
            "    return _default_decoder.decode(s)\n",
            "  File \"/usr/lib/python3.10/json/decoder.py\", line 337, in decode\n",
            "    obj, end = self.raw_decode(s, idx=_w(s, 0).end())\n",
            "  File \"/usr/lib/python3.10/json/decoder.py\", line 353, in raw_decode\n",
            "    obj, end = self.scan_once(s, idx)\n",
            "json.decoder.JSONDecodeError: Invalid \\escape: line 5 column 5 (char 386)\n",
            "\n",
            "During handling of the above exception, another exception occurred:\n",
            "\n",
            "Traceback (most recent call last):\n",
            "  File \"/usr/local/lib/python3.10/dist-packages/llama_index/response_synthesizers/refine.py\", line 202, in _give_response_single\n",
            "    program(\n",
            "  File \"/usr/local/lib/python3.10/dist-packages/llama_index/response_synthesizers/refine.py\", line 57, in __call__\n",
            "    answer = self._llm.structured_predict(\n",
            "  File \"/usr/local/lib/python3.10/dist-packages/llama_index/llms/llm.py\", line 185, in structured_predict\n",
            "    return program(**prompt_args)\n",
            "  File \"/usr/local/lib/python3.10/dist-packages/llama_index/program/llm_program.py\", line 87, in __call__\n",
            "    return self._output_parser.parse(raw_output)\n",
            "  File \"/usr/local/lib/python3.10/dist-packages/llama_index/output_parsers/pydantic.py\", line 52, in parse\n",
            "    return self._output_cls.parse_raw(json_str)\n",
            "  File \"/usr/local/lib/python3.10/dist-packages/pydantic/v1/main.py\", line 548, in parse_raw\n",
            "    raise ValidationError([ErrorWrapper(e, loc=ROOT_KEY)], cls)\n",
            "pydantic.v1.error_wrappers.ValidationError: 1 validation error for TableOutput\n",
            "__root__\n",
            "  Invalid \\escape: line 5 column 5 (char 386) (type=value_error.jsondecode; msg=Invalid \\escape; doc={\n",
            "\"summary\": \"This table provides consolidated financial statements for a company for the years ended September 30, 2023, September 24, 2022, and September 25, 2021. It includes statements of operations, comprehensive income, balance sheets, shareholders' equity, and cash flows, as well as notes and a report from an independent registered public accounting firm.\",\n",
            "\"columns\": [\n",
            "{\n",
            "\"col\\_name\": \"Statement\",\n",
            "\"col\\_type\": \"string\",\n",
            "\"summary\": \"The type of financial statement provided, such as statements of operations or balance sheets.\"\n",
            "},\n",
            "{\n",
            "\"col\\_name\": \"Year\",\n",
            "\"col\\_type\": \"string\",\n",
            "\"summary\": \"The year the financial statement is for, such as 2023 or 2022.\"\n",
            "},\n",
            "{\n",
            "\"col\\_name\": \"Description\",\n",
            "\"col\\_type\": \"string\",\n",
            "\"summary\": \"A brief description of the financial statement, such as 'Consolidated Statements of Operations'.\"\n",
            "}\n",
            "]\n",
            "}; pos=386; lineno=5; colno=5)\n"
          ]
        },
        {
          "output_type": "stream",
          "name": "stderr",
          "text": [
            "Setting `pad_token_id` to `eos_token_id`:2 for open-end generation.\n",
            "100%|██████████| 4/4 [02:01<00:00, 30.40s/it]\n"
          ]
        }
      ]
    },
    {
      "cell_type": "code",
      "source": [
        "base_nodes_2021, node_mappings_2021 = node_parser.get_base_nodes_and_mappings(\n",
        "    raw_nodes_2021\n",
        ")"
      ],
      "metadata": {
        "id": "HZdUpXqSeMFn"
      },
      "execution_count": 13,
      "outputs": []
    },
    {
      "cell_type": "code",
      "source": [
        "# this is the output from openai\n",
        "# DEFAULT_SUMMARY_QUERY_STR = \"\"\"\\\n",
        "# What is this table about? Give a very concise summary (imagine you are adding a caption), \\\n",
        "# and also output whether or not the table should be kept.\\\n",
        "# \"\"\"\n",
        "# node_mappings_2021=\n",
        "# {'id_19_table': TextNode(id_='id_19_table', embedding=None, metadata={}, excluded_embed_metadata_keys=[], excluded_llm_metadata_keys=[], relationships={<NodeRelationship.PREVIOUS: '2'>: RelatedNodeInfo(node_id='id_19_table_ref', node_type=<ObjectType.INDEX: '3'>, metadata={'col_schema': 'Column: Trading symbol(s)\\nType: string\\nSummary: Symbols of the securities\\n\\nColumn: Name of each exchange on which registered\\nType: string\\nSummary: Exchanges where the securities are registered'}, hash='1a0eeb8b79c1493e5bb28bea141b31dd567b6c19505a333ec8d25d1f1891bafe'), <NodeRelationship.NEXT: '3'>: RelatedNodeInfo(node_id='171b23d5-fbdf-4b26-9965-b3949ed9ad24', node_type=<ObjectType.TEXT: '1'>, metadata={}, hash='a28dc6872e177d263c8500f0489a9cde2da28ff680a1484a054b02f9b44891e6')}, hash='f62b125c21afcada1fb8cc0267abb238a7268e98d4458dc831d6e8ca484edda7', text='                          Title of each class Trading symbol(s) Name of each exchange on which registered\\n0  Common Stock, $0.00001 par value per share              AAPL               The Nasdaq Stock Market LLC\\n1                       1.375% Notes due 2024                 —               The Nasdaq Stock Market LLC\\n2                       0.000% Notes due 2025                 —               The Nasdaq Stock Market LLC\\n3                       0.875% Notes due 2025                 —               The Nasdaq Stock Market LLC\\n4                       1.625% Notes due 2026                 —               The Nasdaq Stock Market LLC\\n5                       2.000% Notes due 2027                 —               The Nasdaq Stock Market LLC\\n6                       1.375% Notes due 2029                 —               The Nasdaq Stock Market LLC\\n7                       3.050% Notes due 2029                 —               The Nasdaq Stock Market LLC\\n8                       0.500% Notes due 2031                 —               The Nasdaq Stock Market LLC\\n9                       3.600% Notes due 2042                 —               The Nasdaq Stock Market LLC', start_char_idx=None, end_char_idx=None, text_template='{metadata_str}\\n\\n{content}', metadata_template='{key}: {value}', metadata_seperator='\\n'),\n",
        "#  'id_423_table': TextNode(id_='id_423_table', embedding=None, metadata={}, excluded_embed_metadata_keys=[], excluded_llm_metadata_keys=[], relationships={<NodeRelationship.PREVIOUS: '2'>: RelatedNodeInfo(node_id='id_423_table_ref', node_type=<ObjectType.INDEX: '3'>, metadata={'col_schema': 'Column: 2023\\nType: Decline in fair value\\nSummary: $3,089\\n\\nColumn: 2022\\nType: Decline in fair value\\nSummary: $4,022\\n\\nColumn: 2023\\nType: Increase in annual interest expense\\nSummary: $194\\n\\nColumn: 2022\\nType: Increase in annual interest expense\\nSummary: $201'}, hash='5de940ebcf421c25630886eacb5d6adcdb97d1cc97ceefd025fe7bcbdea6f722'), <NodeRelationship.NEXT: '3'>: RelatedNodeInfo(node_id='5dc54d7b-01a0-4b29-a786-67a8845658fd', node_type=<ObjectType.TEXT: '1'>, metadata={}, hash='583179470397fee8c28ff70216cb50268d695f313d5ab3b04efc26b28754c1e2')}, hash='339a6188fceea58e6327d0b148ad758a60235abd266b390525a593e8c8d5dbfb', text='          Interest Rate          Sensitive Instrument                Hypothetical Interest Rate Increase Potential Impact 2023   2022\\n0  Investment portfolio  100 basis points, all tenors                Decline in fair value             $            3,089    $  4,022\\n1             Term debt  100 basis points, all tenors  Increase in annual interest expense             $              194    $    201', start_char_idx=None, end_char_idx=None, text_template='{metadata_str}\\n\\n{content}', metadata_template='{key}: {value}', metadata_seperator='\\n'),\n",
        "#  'id_429_table': TextNode(id_='id_429_table', embedding=None, metadata={}, excluded_embed_metadata_keys=[], excluded_llm_metadata_keys=[], relationships={<NodeRelationship.PREVIOUS: '2'>: RelatedNodeInfo(node_id='id_429_table_ref', node_type=<ObjectType.INDEX: '3'>, metadata={'col_schema': 'Column: Page\\nType: string\\nSummary: Index to page numbers of the financial statements\\n\\nColumn: Statement\\nType: string\\nSummary: Type of financial statement\\n\\nColumn: Year\\nType: string\\nSummary: Year of the financial statement'}, hash='77adc4947b56ab3bb5d091b991fc87dafc9126c55749ca96cbf32a11e40b9361'), <NodeRelationship.NEXT: '3'>: RelatedNodeInfo(node_id='ab7ee7a5-914e-418f-ba0b-e084e9581211', node_type=<ObjectType.TEXT: '1'>, metadata={}, hash='0152dc9fea23196d6e1b31447fefe40d939b8b1b3561954c88077ec14b2e1c57')}, hash='471e1e32a518f2f3eaf8ad54a70b8f38105ac6793fa8df5cb3930869a22d100c', text='                                                                                          Index to Consolidated Financial Statements Page\\n0            Consolidated Statements of Operations for the years ended September 30, 2023, September 24, 2022 and September 25, 2021   28\\n1  Consolidated Statements of Comprehensive Income for the years ended September 30, 2023, September 24, 2022 and September 25, 2021   29\\n2                                                        Consolidated Balance Sheets as of September 30, 2023 and September 24, 2022   30\\n3  Consolidated Statements of Shareholders’ Equity for the years ended September 30, 2023, September 24, 2022 and September 25, 2021   31\\n4            Consolidated Statements of Cash Flows for the years ended September 30, 2023, September 24, 2022 and September 25, 2021   32\\n5                                                                                         Notes to Consolidated Financial Statements   33\\n6                                                                           Reports of Independent Registered Public Accounting Firm   49', start_char_idx=None, end_char_idx=None, text_template='{metadata_str}\\n\\n{content}', metadata_template='{key}: {value}', metadata_seperator='\\n'),\n",
        "#  'id_737_table': TextNode(id_='id_737_table', embedding=None, metadata={}, excluded_embed_metadata_keys=[], excluded_llm_metadata_keys=[], relationships={<NodeRelationship.PREVIOUS: '2'>: RelatedNodeInfo(node_id='id_737_table_ref', node_type=<ObjectType.INDEX: '3'>, metadata={'col_schema': 'Column: Page\\nType: string\\nSummary: Index to Consolidated Financial Statements\\n\\nColumn: Statement\\nType: string\\nSummary: Type of Financial Statement\\n\\nColumn: Year\\nType: string\\nSummary: Year of the Financial Statement'}, hash='cf9f43e4a8a46585daaf1f576d4654e891ea6906dd03bf9a8dca967f7c9e26ad'), <NodeRelationship.NEXT: '3'>: RelatedNodeInfo(node_id='94902292-639b-4f0d-b87b-5c5c960205d9', node_type=<ObjectType.TEXT: '1'>, metadata={}, hash='91da52f500b3efd4273f7ad51e866eef648247f9d8da7443a92d6538659f5f24')}, hash='5b455d485bfa1ed99b2b3e88a1efc4482962a61462893fa46e43a40cd3f048fd', text='                                                                                          Index to Consolidated Financial Statements Page\\n0            Consolidated Statements of Operations for the years ended September 30, 2023, September 24, 2022 and September\\xa025, 2021   28\\n1  Consolidated Statements of Comprehensive Income for the years ended September 30, 2023, September 24, 2022 and September\\xa025, 2021   29\\n2                                                        Consolidated Balance Sheets as of September 30, 2023 and September 24, 2022   30\\n3  Consolidated Statements of Shareholders’ Equity for the years ended September 30, 2023, September 24, 2022 and September\\xa025, 2021   31\\n4            Consolidated Statements of Cash Flows for the years ended September 30, 2023, September 24, 2022 and September\\xa025, 2021   32\\n5                                                                                         Notes to Consolidated Financial Statements   33\\n6                                                                          Reports of Independent Registered Public Accounting Firm*   49', start_char_idx=None, end_char_idx=None, text_template='{metadata_str}\\n\\n{content}', metadata_template='{key}: {value}', metadata_seperator='\\n')}"
      ],
      "metadata": {
        "id": "J4bH0Zmqw9rf"
      },
      "execution_count": 28,
      "outputs": []
    },
    {
      "cell_type": "markdown",
      "source": [
        "\n",
        "\n"
      ],
      "metadata": {
        "id": "9LCzk-F81AwW"
      }
    },
    {
      "cell_type": "code",
      "source": [
        "from llama_index.retrievers import RecursiveRetriever\n",
        "from llama_index.query_engine import RetrieverQueryEngine\n",
        "from llama_index import VectorStoreIndex"
      ],
      "metadata": {
        "id": "tPZkFIqEoDLG"
      },
      "execution_count": 29,
      "outputs": []
    },
    {
      "cell_type": "code",
      "source": [
        "# construct top-level vector index + query engine\n",
        "vector_index = VectorStoreIndex(base_nodes_2021)\n",
        "vector_retriever = vector_index.as_retriever(similarity_top_k=1)\n",
        "vector_query_engine = vector_index.as_query_engine(similarity_top_k=1)"
      ],
      "metadata": {
        "id": "LNDuxshIoT1m"
      },
      "execution_count": 30,
      "outputs": []
    },
    {
      "cell_type": "code",
      "source": [
        "from llama_index.retrievers import RecursiveRetriever\n",
        "\n",
        "recursive_retriever = RecursiveRetriever(\n",
        "    \"vector\",\n",
        "    retriever_dict={\"vector\": vector_retriever},\n",
        "    node_dict=node_mappings_2021,\n",
        "    verbose=True,\n",
        ")\n",
        "query_engine = RetrieverQueryEngine.from_args(recursive_retriever)"
      ],
      "metadata": {
        "id": "0v137HdDoZ8K"
      },
      "execution_count": 31,
      "outputs": []
    },
    {
      "cell_type": "code",
      "source": [
        "response"
      ],
      "metadata": {
        "id": "qV_lGMzDwv0_",
        "outputId": "e444040c-ded8-4e32-ca79-f17363977a79",
        "colab": {
          "base_uri": "https://localhost:8080/"
        }
      },
      "execution_count": 32,
      "outputs": [
        {
          "output_type": "execute_result",
          "data": {
            "text/plain": [
              "Response(response='The revenue in 2023 was $96,995 million.', source_nodes=[NodeWithScore(node=TextNode(id_='46374367-875d-46b8-b899-9cc3883ccc9a', embedding=None, metadata={}, excluded_embed_metadata_keys=[], excluded_llm_metadata_keys=[], relationships={<NodeRelationship.SOURCE: '1'>: RelatedNodeInfo(node_id='8ea7fbf8-c956-4c53-8df0-b6e25b17b5dd', node_type=<ObjectType.DOCUMENT: '4'>, metadata={}, hash='dcd4d39a57d46207779b5736fb219986cbebc22c6aa6b397b325cc2477c427b3'), <NodeRelationship.PREVIOUS: '2'>: RelatedNodeInfo(node_id='e830cfb7-3228-4428-be1b-e21ff99f3d15', node_type=<ObjectType.TEXT: '1'>, metadata={}, hash='7542837f5c00170dbc2cd4ec16376462961786fd9ac45c1d39a96ac582b16816'), <NodeRelationship.NEXT: '3'>: RelatedNodeInfo(node_id='72604aef-11d9-4631-802b-52096f3960c2', node_type=<ObjectType.TEXT: '1'>, metadata={}, hash='294ec1934c50c0228cc4d1d18513c0dc123cd0f0bb7a5dc2ec5bdd1bcbac660d')}, hash='c7b8c7d36cd922be05cd6e33c22e4012e8814932bfcc07a0c12c51de734663a8', text='(2)\\n\\nServices net sales include amortization of the deferred value of services bundled in the sales price of certain products.\\n\\nTotal net sales include $8.2 billion of revenue recognized in 2023 that was included in deferred revenue as of September\\xa024, 2022, $7.5 billion of revenue recognized in 2022 that was included in deferred revenue as of September\\xa025, 2021, and $6.7 billion of revenue recognized in 2021 that was included in deferred revenue as of September\\xa026, 2020.\\n\\nThe Company’s proportion of net sales by disaggregated revenue source was generally consistent for each reportable segment in Note 13, “Segment Information and Geographic Data” for 2023, 2022 and 2021, except in Greater China, where iPhone revenue represented a moderately higher proportion of net sales.\\n\\nNote 3 – Earnings Per Share\\n\\nThe following table shows the computation of basic and diluted earnings per share for 2023, 2022 and 2021 (net income in millions and shares in thousands):\\n\\n2023 2022 2021 Numerator: Net income $ 96,995 \\xa0 $ 99,803 \\xa0 $ 94,680 \\xa0  Denominator: Weighted-average basic shares outstanding 15,744,231 \\xa0 16,215,963 \\xa0 16,701,272 \\xa0 Effect of dilutive share-based awards 68,316 \\xa0 109,856 \\xa0 163,647 \\xa0 Weighted-average diluted shares 15,812,547 \\xa0 16,325,819 \\xa0 16,864,919 \\xa0  Basic earnings per share $ 6.16 \\xa0 $ 6.15 \\xa0 $ 5.67 \\xa0 Diluted earnings per share $ 6.13 \\xa0 $ 6.11 \\xa0 $ 5.61\\n\\nApproximately 24\\xa0million restricted stock units (“RSUs”) were excluded from the computation of diluted earnings per share for 2023 because their effect would have been antidilutive.\\n\\nApple Inc. | 2023 Form 10-K | 35\\n\\nNote 4 – Financial Instruments\\n\\nCash, Cash Equivalents and Marketable Securities\\n\\nThe following tables show the Company’s cash, cash equivalents and marketable securities by significant investment category as of September\\xa030, 2023 and September\\xa024, 2022 (in millions):\\n\\n2023 Adjusted Cost Unrealized Gains Unrealized Losses Fair Value Cash and Cash Equivalents Current Marketable Securities Non-Current Marketable Securities Cash $ 28,359 \\xa0 $ —\\xa0 $ —\\xa0 $ 28,359 \\xa0 $ 28,359 \\xa0 $ — \\xa0 $ — \\xa0 Level 1: Money market funds 481 \\xa0 — \\xa0 — \\xa0 481 \\xa0 481 \\xa0 — \\xa0 — \\xa0 Mutual funds and equity securities 442 \\xa0 12 \\xa0 ( 26 ) 428 \\xa0 — \\xa0 428 \\xa0 — \\xa0 Subtotal 923 \\xa0 12 \\xa0 ( 26 ) 909 \\xa0 481 \\xa0 428 \\xa0 — \\xa0 Level 2  (1) : U.S. Treasury securities 19,406 \\xa0 — \\xa0 ( 1,292 ) 18,114 \\xa0 35 \\xa0 5,468 \\xa0 12,611 \\xa0 U.S. agency securities 5,736 \\xa0 — \\xa0 ( 600 ) 5,136 \\xa0 36 \\xa0 271 \\xa0 4,829 \\xa0 Non-U.S.', start_char_idx=15985, end_char_idx=18422, text_template='{metadata_str}\\n\\n{content}', metadata_template='{key}: {value}', metadata_seperator='\\n'), score=0.8438385538482571)], metadata={'46374367-875d-46b8-b899-9cc3883ccc9a': {}})"
            ]
          },
          "metadata": {},
          "execution_count": 32
        }
      ]
    },
    {
      "cell_type": "code",
      "source": [
        "response = query_engine.query(\"What was the revenue in 2023?\")\n",
        "print(str(response))"
      ],
      "metadata": {
        "colab": {
          "base_uri": "https://localhost:8080/"
        },
        "id": "M57BPth8ohr_",
        "outputId": "b9c13204-d84d-43e6-c6e8-4f64289c8aa5"
      },
      "execution_count": 20,
      "outputs": [
        {
          "output_type": "stream",
          "name": "stdout",
          "text": [
            "\u001b[1;3;34mRetrieving with query id None: What was the revenue in 2023?\n",
            "\u001b[0m\u001b[1;3;38;5;200mRetrieving text node: (2)\n",
            "\n",
            "Services net sales include amortization of the deferred value of services bundled in the sales price of certain products.\n",
            "\n",
            "Total net sales include $8.2 billion of revenue recognized in 2023 that was included in deferred revenue as of September 24, 2022, $7.5 billion of revenue recognized in 2022 that was included in deferred revenue as of September 25, 2021, and $6.7 billion of revenue recognized in 2021 that was included in deferred revenue as of September 26, 2020.\n",
            "\n",
            "The Company’s proportion of net sales by disaggregated revenue source was generally consistent for each reportable segment in Note 13, “Segment Information and Geographic Data” for 2023, 2022 and 2021, except in Greater China, where iPhone revenue represented a moderately higher proportion of net sales.\n",
            "\n",
            "Note 3 – Earnings Per Share\n",
            "\n",
            "The following table shows the computation of basic and diluted earnings per share for 2023, 2022 and 2021 (net income in millions and shares in thousands):\n",
            "\n",
            "2023 2022 2021 Numerator: Net income $ 96,995   $ 99,803   $ 94,680    Denominator: Weighted-average basic shares outstanding 15,744,231   16,215,963   16,701,272   Effect of dilutive share-based awards 68,316   109,856   163,647   Weighted-average diluted shares 15,812,547   16,325,819   16,864,919    Basic earnings per share $ 6.16   $ 6.15   $ 5.67   Diluted earnings per share $ 6.13   $ 6.11   $ 5.61\n",
            "\n",
            "Approximately 24 million restricted stock units (“RSUs”) were excluded from the computation of diluted earnings per share for 2023 because their effect would have been antidilutive.\n",
            "\n",
            "Apple Inc. | 2023 Form 10-K | 35\n",
            "\n",
            "Note 4 – Financial Instruments\n",
            "\n",
            "Cash, Cash Equivalents and Marketable Securities\n",
            "\n",
            "The following tables show the Company’s cash, cash equivalents and marketable securities by significant investment category as of September 30, 2023 and September 24, 2022 (in millions):\n",
            "\n",
            "2023 Adjusted Cost Unrealized Gains Unrealized Losses Fair Value Cash and Cash Equivalents Current Marketable Securities Non-Current Marketable Securities Cash $ 28,359   $ —  $ —  $ 28,359   $ 28,359   $ —   $ —   Level 1: Money market funds 481   —   —   481   481   —   —   Mutual funds and equity securities 442   12   ( 26 ) 428   —   428   —   Subtotal 923   12   ( 26 ) 909   481   428   —   Level 2  (1) : U.S. Treasury securities 19,406   —   ( 1,292 ) 18,114   35   5,468   12,611   U.S. agency securities 5,736   —   ( 600 ) 5,136   36   271   4,829   Non-U.S.\n",
            "\u001b[0mThe revenue in 2023 was $96,995 million.\n"
          ]
        }
      ]
    },
    {
      "cell_type": "code",
      "source": [
        "# {\n",
        "#   \"Question\": \"How has anthropogenic climate change affected the distribution and seasonal activities of oceanic and coastal organisms?\",\n",
        "#   \"Context\": \"Anthropogenic climate change has led to unprecedented changes in ocean and coastal ecosystems over millennia, significantly impacting marine life. These changes include alterations in the physical and chemical characteristics of the ocean, which have affected the timing of seasonal activities, distribution, and abundance of oceanic and coastal organisms, ranging from microbes to mammals. Specifically, since the 1950s, surface warming has caused marine taxa and communities to shift poleward at an average rate of 59.2 km per decade. Seasonal events among planktonic organisms and fish are occurring earlier by approximately 4.3 to 7.5 days and 3 days per decade, respectively. Furthermore, warming, acidification, and deoxygenation are altering ecological communities, leading to habitat loss, population declines, increased risk of species extirpations and extinctions, and rearrangements in marine food webs.\",\n",
        "#   \"Correct Answer\": \"Anthropogenic climate change has led to fundamental changes in the ocean's physical and chemical characteristics, resulting in shifts in the geographic distribution and timing of seasonal activities of oceanic and coastal organisms. Marine species have shifted poleward at an average of 59.2 km per decade since the 1950s, and seasonal events for planktonic organisms and fish are occurring earlier by approximately 4.3 to 7.5 days and 3 days per decade, respectively.\"\n",
        "# }\n",
        "# {\n",
        "#   \"Question\": \"How is climate change affecting recreational fishing activities and the spread of marine-borne pathogens?\",\n",
        "#   \"Context\": \"Climate change is significantly impacting marine environments and the activities associated with them. One of the notable effects is the shift of recreational fishing activities, which are moving poleward and diversifying in response to changing climate conditions. This shift in recreational fishing is attributed to the alterations in marine ecosystems and fish populations due to climate change. Additionally, there is an increasing risk and geographic spread of marine-borne pathogens, such as Vibrio sp., which is being exacerbated by the impacts of climate change on marine life. These changes reflect the broader effects of climate change on marine ecosystems and the activities and risks associated with them.\",\n",
        "#   \"Correct Answer\": \"Climate change is causing recreational fishing activities to shift poleward and diversify due to changes in marine ecosystems and fish populations. Furthermore, it is increasing the geographic spread and risk of marine-borne pathogens like Vibrio sp.\"\n",
        "# }\n",
        "# {\n",
        "#   \"Question\": \"What are the main product lines of the Company, and what operating systems do they use?\",\n",
        "#   \"Context\": \"The Company, in its latest report, outlines its primary product lines and their respective operating systems. These products include the iPhone line of smartphones, which operates on the iOS operating system. The iPhone line features various models such as iPhone 14 Pro, iPhone 14, iPhone 13, iPhone SE, iPhone 12, and iPhone 11. The Mac line of personal computers, which includes laptops like MacBook Air and MacBook Pro, as well as desktops like iMac, Mac mini, Mac Studio, and Mac Pro, operates on the macOS operating system. Additionally, the iPad line of multipurpose tablets, featuring models like iPad Pro, iPad Air, iPad, and iPad mini, operates on the iPadOS operating system.\",\n",
        "#   \"Correct Answer\": \"The main product lines of the Company include the iPhone line of smartphones using the iOS operating system, the Mac line of personal computers using the macOS operating system, and the iPad line of multipurpose tablets using the iPadOS operating system.\"\n",
        "# }\n",
        "# {\n",
        "#   \"Question\": \"What products are included in the Company's Wearables, Home and Accessories category?\",\n",
        "#   \"Context\": \"The Company's Wearables, Home and Accessories category features a diverse range of products. This category includes the AirPods line, which are wireless headphones available in different models like AirPods, AirPods Pro, and AirPods Max. Another product in this category is the Apple TV, a media streaming and gaming device operating on the tvOS operating system, and it includes models such as Apple TV 4K and Apple TV HD. Additionally, the Apple Watch line of smartwatches, operating on the watchOS operating system, includes various models like Apple Watch Ultra, Apple Watch Series 8, and Apple Watch SE. The category also comprises Beats products, the HomePod mini, and other accessories.\",\n",
        "#   \"Correct Answer\": \"The Company's Wearables, Home and Accessories category includes AirPods (wireless headphones), Apple TV (media streaming and gaming device), Apple Watch (line of smartwatches), Beats products, HomePod mini, and other accessories.\"\n",
        "# }\n",
        "# {\n",
        "#   \"Question\": \"What are the key digital content and payment services offered by the Company?\",\n",
        "#   \"Context\": \"In its financial report, the Company outlines its various digital content and payment services. For digital content, the Company operates platforms like the App Store, which allows customers to discover and download applications and digital content, including books, music, video games, and podcasts. It also offers subscription-based services such as Apple Arcade (a game subscription service), Apple Fitness+ (a personalized fitness service), Apple Music (a curated listening experience with on-demand radio stations), Apple News+ (a subscription news and magazine service), and Apple TV+ (offering exclusive original content and live sports). In terms of payment services, the Company provides Apple Card (a co-branded credit card) and Apple Pay (a cashless payment service).\",\n",
        "#   \"Correct Answer\": \"The Company offers key digital content services like the App Store, Apple Arcade, Apple Fitness+, Apple Music, Apple News+, and Apple TV+. In payment services, it provides Apple Card and Apple Pay.\"\n",
        "# }\n",
        "# {\n",
        "#   \"Question\": \"What initiatives and measures has the Company implemented in terms of inclusion and diversity, employee engagement, and health and safety?\",\n",
        "#   \"Context\": \"In addressing risk factors, the Company has taken several initiatives. For inclusion and diversity, the Company is dedicated to creating a workforce that reflects the communities it serves, focusing on increasing diverse representation, fostering an inclusive culture, and ensuring equitable pay and opportunity. Regarding employee engagement, the Company emphasizes open communication, encouraging team members to share feedback and conducting surveys to assess areas like career development and inclusivity. For health and safety, the Company is committed to protecting its team members by identifying workplace risks, providing safety and security training, and implementing specific programs for high-hazard environments. The Company has also enhanced its health and safety measures in response to the COVID-19 pandemic.\",\n",
        "#   \"Correct Answer\": \"The Company has implemented initiatives for inclusion and diversity by working towards a more inclusive workforce, for employee engagement by promoting open communication and conducting surveys, and for health and safety by identifying workplace risks, providing safety training, and taking additional measures during the COVID-19 pandemic.\"\n",
        "# }\n",
        "# {\n",
        "#   \"Question\": \"What risks does the Company face regarding supply and pricing of components, and how does it affect their operations?\",\n",
        "#   \"Context\": \"The Company's operations are significantly impacted by supply and pricing risks related to components. Many of these components, including those available from multiple sources, are subject to industry-wide shortages and commodity pricing fluctuations. A notable example is the global semiconductor industry, which is experiencing high demand and supply shortages. This situation has adversely affected the Company's ability to obtain sufficient quantities of components on commercially reasonable terms. Additionally, the Company relies on certain components that are available from single or limited sources, further exacerbating these risks. Suppliers' financial conditions and industry consolidations can also limit the Company's ability to secure components reasonably. Economic conditions affecting suppliers can influence the Company's operations, leading to potential supply shortages and price increases, which can materially affect the Company's business, operations, and financial condition.\",\n",
        "#   \"Correct Answer\": \"The Company faces risks related to supply shortages and price fluctuations of components, especially due to industry-wide shortages and reliance on single or limited sources. These risks impact the Company's ability to secure components on commercially reasonable terms, potentially leading to adverse effects on its business, operations, and financial condition.\"\n",
        "# }\n",
        "# {\n",
        "#   \"Question\": \"What impact can adverse macroeconomic conditions, including foreign exchange fluctuations, have on the Company's business?\",\n",
        "#   \"Context\": \"The Company's report highlights the potential impacts of adverse macroeconomic conditions on its business. These conditions include inflation, slower growth or recession, new or increased tariffs, changes in fiscal and monetary policy, and currency fluctuations, which can adversely affect consumer confidence and spending, thereby impacting demand for the Company’s products and services. Additionally, global or regional economic uncertainties can significantly impact the Company’s suppliers, contract manufacturers, logistics providers, and other partners, potentially leading to financial instability and credit issues. Economic downturns can also increase credit and collectibility risks, affect the Company's ability to issue new debt, reduce liquidity, and lead to declines in the value of financial instruments. Such factors can materially affect the Company’s business, results of operations, financial condition, and stock price.\",\n",
        "#   \"Correct Answer\": \"Adverse macroeconomic conditions, including foreign exchange fluctuations, can reduce consumer confidence and spending, impacting demand for the Company's products and services. They can also affect the Company’s supply chain, increase credit and collectibility risks, limit the ability to issue new debt, reduce liquidity, and decrease the value of financial instruments, ultimately affecting the Company's business performance and stock price.\"\n",
        "# }\n",
        "# {\n",
        "#   \"Question\": \"How does the Company use interest rate swaps to manage interest rate risk?\",\n",
        "#   \"Context\": \"In its financial report, the Company discloses its strategy for managing interest rate risk associated with its U.S. dollar-denominated fixed-rate notes. To mitigate this risk, the Company has engaged in interest rate swaps. These swaps are financial instruments that allow the Company to effectively convert the fixed interest rates of a portion of its notes into floating interest rates. This strategy is part of the Company’s broader risk management approach, which also includes using foreign currency swaps to manage foreign currency risk on its foreign currency-denominated notes by converting these notes to U.S. dollar-denominated notes.\",\n",
        "#   \"Correct Answer\": \"The Company uses interest rate swaps to manage interest rate risk on its U.S. dollar-denominated fixed-rate notes by converting the fixed interest rates to floating interest rates on a portion of these notes.\"\n",
        "# }\n",
        "# {\n",
        "#   \"Question\": \"What strategies does the Company employ to protect and enhance its intellectual property (IP) rights?\",\n",
        "#   \"Context\": \"The Company, operating in industries characterized by rapid technological advances, heavily relies on its ability to continuously introduce competitive products, services, and technologies. To protect and enhance its intellectual property, which includes patents, designs, copyrights, trademarks, and other forms of IP rights in the U.S. and various foreign countries, the Company engages in several strategies. These include ongoing research and development (R&D), licensing of intellectual property, and acquisition of third-party businesses and technology. The Company also regularly files for new patents, design, copyright, and trademark applications worldwide. Over time, it has accumulated a large portfolio of issued and registered intellectual property rights globally. While no single IP right is solely responsible for protecting the Company's products and services, the combination of these rights, along with the innovative skills and technical competence of its personnel, play a crucial role in differentiating and sustaining its business.\",\n",
        "#   \"Correct Answer\": \"The Company employs strategies such as continuous research and development, licensing of intellectual property, and acquisition of third-party technology to protect and enhance its intellectual property. Additionally, it regularly files for new patents, designs, copyrights, and trademarks worldwide, accumulating a large portfolio of intellectual property rights globally.\"\n",
        "# }\n",
        "# {\n",
        "#   \"Question\": \"What are the different types of notes the Company has issued and their respective due dates as listed in the report?\",\n",
        "#   \"Context\": \"In the financial report, the Company has listed various notes that it has issued along with their respective due dates. These notes are a part of the Company's debt structure and are traded on The Nasdaq Stock Market LLC. The notes listed include: 1.000% Notes due 2022, 1.375% Notes due 2024, 0.000% Notes due 2025, 0.875% Notes due 2025, 1.625% Notes due 2026, 2.000% Notes due 2027, 1.375% Notes due 2029, 3.050% Notes due 2029, 0.500% Notes due 2031, and 3.600% Notes due 2042. Each note is characterized by a different interest rate and a specific maturity date, reflecting the terms under which the Company has borrowed funds through these debt instruments.\",\n",
        "#   \"Correct Answer\": \"The Company has issued various notes, including 1.000% Notes due 2022, 1.375% Notes due 2024, 0.000% Notes due 2025, 0.875% Notes due 2025, 1.625% Notes due 2026, 2.000% Notes due 2027, 1.375% Notes due 2029, 3.050% Notes due 2029, 0.500% Notes due 2031, and 3.600% Notes due 2042, all traded on The Nasdaq Stock Market LLC.\"\n",
        "# }\n",
        "# {\n",
        "#   \"Question\": \"How does the Company manage its interest rate risk related to its investment portfolio and outstanding debt?\",\n",
        "#   \"Context\": \"The Company's exposure to interest rate risk primarily concerns its investment portfolio and outstanding debt, with a significant impact from U.S. interest rate fluctuations. These fluctuations affect interest earned on cash, cash equivalents, marketable securities, and the fair value of these securities, as well as hedging costs and interest on debt. The Company's investment strategy focuses on capital preservation and liquidity, investing in highly rated securities to minimize principal loss risk. A sensitivity analysis indicated that a 100 basis point increase in interest rates would decrease the fair market value of its investment portfolio by approximately $4.0 billion as of September 24, 2022, and $4.1 billion as of September 25, 2021. Additionally, the Company uses interest rate swaps to manage interest rate risk on its debt, which amounted to $110.1 billion as of September 24, 2022, and $118.7 billion as of September 25, 2021. These swaps convert fixed-rate payments to floating-rate, or vice versa, with gains and losses generally offset by corresponding changes in the hedging instrument. A 100 basis point increase in market interest rates would increase annual interest expense by $201 million and $186 million for the respective dates.\",\n",
        "#   \"Correct Answer\": \"To manage interest rate risk, the Company invests in highly rated securities and uses interest rate swaps on its outstanding debt. The Company's investment policy focuses on capital preservation and liquidity support. A sensitivity analysis showed that a 100 basis point increase in interest rates would result in a $4.0 billion and $4.1 billion decrease in the fair market value of the investment portfolio as of September 24, 2022, and September 25, 2021, respectively. The Company also manages interest rate risk on its debt ($110.1 billion as of September 24, 2022, and $118.7 billion as of September 25, 2021) using interest rate swaps, which can effectively convert fixed-rate payments to floating-rate, or vice versa.\"\n",
        "# }\n",
        "# {\n",
        "#   \"Question\": \"How does interest rate risk affect the Company's investment portfolio, outstanding debt, and hedging strategies?\",\n",
        "#   \"Context\": \"The Company’s financial report details how interest rate risk impacts its investment portfolio and outstanding debt. Interest rate fluctuations, particularly in U.S. rates, influence the interest earned on cash, cash equivalents, marketable securities, and the fair value of these securities, as well as the costs associated with hedging and interest paid on debt. The Company’s investment strategy prioritizes capital preservation and liquidity requirements, typically investing in highly rated securities and limiting credit exposure. A sensitivity analysis showed that a hypothetical 100 basis point increase in interest rates would decrease the fair market value of the investment portfolio by $4.0 billion and $4.1 billion, based on positions as of September 24, 2022, and September 25, 2021, respectively. As for debt, as of September 24, 2022, the Company had outstanding fixed-rate notes, and on September 25, 2021, it had both floating- and fixed-rate notes. The Company utilizes interest rate swaps to manage interest rate risk on its term debt, allowing it to convert fixed-rate payments to floating-rate payments or vice versa, with gains and losses on debt generally offset by corresponding hedging instruments.\",\n",
        "#   \"Correct Answer\": \"Interest rate risk affects the Company’s investment portfolio and outstanding debt by impacting interest earnings, the fair value of securities, hedging costs, and interest payments on debt. A 100 basis point increase in interest rates could decrease the fair market value of the investment portfolio by approximately $4.0 billion to $4.1 billion. The Company uses interest rate swaps to manage risk on its term debt, converting between fixed-rate and floating-rate payments, with gains and losses on these swaps generally offsetting those on the debt.\"\n",
        "# }\n",
        "# {\n",
        "#   \"Question\": \"How can adverse macroeconomic conditions impact the Company's business, including its products, services, and financial stability?\",\n",
        "#   \"Context\": \"The Company’s financial report discusses how various adverse macroeconomic conditions can impact its business operations and financial stability. These conditions include inflation, slower growth or recession, new or increased tariffs, trade barriers, changes in fiscal and monetary policy, tighter credit, higher interest rates, high unemployment, and currency fluctuations. These factors can lead to a decrease in consumer confidence and spending, adversely affecting the demand for the Company’s products and services. Additionally, global or regional economic downturns can significantly impact the Company’s suppliers, contract manufacturers, logistics providers, distributors, and cellular network carriers, leading to financial instability and credit issues. Economic downturns can also increase credit and collectibility risks on the Company’s trade receivables, limit its ability to issue new debt, reduce liquidity, and cause declines in the fair value of financial instruments. These factors, coupled with the ongoing impact of the COVID-19 pandemic, can materially affect the Company’s business results, operations, financial condition, and stock price.\",\n",
        "#   \"Correct Answer\": \"Adverse macroeconomic conditions can significantly impact the Company’s business by reducing consumer confidence and spending, which affects demand for its products and services. These conditions can also lead to financial instability among the Company’s supply chain and channel partners, increase credit and collectibility risks, limit new debt issuance, reduce liquidity, and decrease the fair value of financial instruments. Such conditions, along with the effects of the COVID-19 pandemic, can materially affect the Company’s overall business performance and financial health.\"\n",
        "# }\n",
        "# {\n",
        "#   \"Question\": \"How does the Company manage foreign exchange risks and what was the potential impact of these risks as assessed in their latest report?\",\n",
        "#   \"Context\": \"The Company employs various strategies to manage foreign exchange risks. It may use foreign currency forward and option contracts with financial institutions to hedge against risks associated with certain assets and liabilities, firmly committed transactions, forecasted future cash flows, and net investments in foreign subsidiaries. The Company also hedges portions of its forecasted foreign currency exposure related to revenue and inventory purchases, typically for up to 12 months. However, it may choose not to hedge certain exposures due to various reasons, including accounting considerations or the high economic cost of hedging. To assess the foreign currency risk, the Company performed a sensitivity analysis using a value-at-risk (VAR) model. This model used a Monte Carlo simulation to estimate the potential impact of exchange rate fluctuations. As of September 24, 2022, the VAR model indicated a maximum one-day loss in fair value of $1.0 billion, compared to $550 million as of September 25, 2021. These potential losses in the fair value of foreign currency instruments are generally offset by gains in the value of the underlying exposures.\",\n",
        "#   \"Correct Answer\": \"The Company manages foreign exchange risks by using foreign currency forward and option contracts and may hedge its forecasted foreign currency exposure for up to 12 months. A value-at-risk model estimated a potential maximum one-day loss in fair value of $1.0 billion as of September 24, 2022, due to exchange rate fluctuations, compared to $550 million as of September 25, 2021. These losses are typically offset by gains in the value of the hedged exposures.\"\n",
        "# }\n",
        "# {\n",
        "#   \"Question\": \"How does the Company manage foreign currency risk associated with its assets, liabilities, transactions, and investments in foreign subsidiaries?\",\n",
        "#   \"Context\": \"The Company employs various strategies to manage foreign currency risk. It enters into foreign currency forward and option contracts with financial institutions to hedge against risks associated with certain assets, liabilities, firmly committed transactions, forecasted future cash flows, and net investments in foreign subsidiaries. Additionally, the Company uses foreign currency contracts to offset foreign currency exchange gains and losses on its foreign currency-denominated debt issuances. The Company typically hedges portions of its forecasted foreign currency exposure related to revenue and inventory purchases for up to 12 months, although it may not hedge certain exposures for various reasons, such as accounting considerations or the high economic cost of hedging. To assess the risk, the Company conducted a sensitivity analysis using a value-at-risk (VAR) model, which estimated a maximum one-day loss in fair value of $1.0 billion as of September 24, 2022, compared to $550 million as of September 25, 2021. This VAR model is used as a risk estimation tool and does not necessarily represent actual potential losses. It should be noted that the losses incurred on hedging instruments are generally offset by gains in the fair value of the underlying exposures.\",\n",
        "#   \"Correct Answer\": \"The Company manages foreign currency risk by using foreign currency forward and option contracts to hedge against risks associated with various financial aspects and net investments in foreign subsidiaries. It also uses these contracts to offset gains and losses on foreign currency-denominated debt issuances. The Company's sensitivity analysis estimated a potential maximum one-day loss in fair value of $1.0 billion as of September 24, 2022. However, losses on hedging instruments are typically offset by gains in the underlying exposures.\"\n",
        "# }\n",
        "# {\n",
        "#   \"Question\": \"How does the Company manage foreign exchange risks associated with its assets, liabilities, and transactions?\",\n",
        "#   \"Context\": \"The Company's report details its approach to managing foreign exchange risks. It uses foreign currency forward and option contracts with financial institutions to mitigate risks associated with existing assets and liabilities, firmly committed transactions, forecasted future cash flows, and net investments in foreign subsidiaries. Additionally, the Company enters into foreign currency contracts to offset the foreign currency exchange gains and losses on its foreign currency–denominated debt issuances. The Company generally hedges parts of its forecasted foreign currency exposure related to revenue and inventory purchases, typically for up to 12 months. However, it may choose not to hedge certain exposures due to accounting considerations or the prohibitive economic cost. The Company uses a value-at-risk (VAR) model, specifically a Monte Carlo simulation, for sensitivity analysis to assess the potential impact of fluctuations in exchange rates. This analysis estimated a maximum one-day loss in fair value of $1.0 billion as of September 24, 2022, under normal market conditions, compared to $550 million as of September 25, 2021. The losses in fair value on hedging instruments are generally offset by increases in the value of the underlying exposures.\",\n",
        "#   \"Correct Answer\": \"The Company manages foreign exchange risks through foreign currency forward and option contracts, hedging parts of its forecasted foreign currency exposure related to revenue and inventory purchases. It also uses a value-at-risk model for sensitivity analysis, which estimated a potential one-day loss in fair value of $1.0 billion as of September 24, 2022. The Company may not hedge certain exposures for specific reasons, and the losses on hedging instruments are generally offset by gains in the underlying exposures.\"\n",
        "# }\n",
        "# {\n",
        "#   \"Question\": \"What was the total of current liabilities for the Company as of September 24, 2022?\",\n",
        "#   \"Context\": \"The Consolidated Balance Sheets of the Company, as of September 24, 2022, and September 25, 2021, provide detailed information on the Company's financial position. This includes the total current liabilities for both years. The current liabilities as of September 24, 2022, are composed of several items:\\n- Accounts payable: $64,115 million\\n- Other current liabilities: $60,845 million\\n- Deferred revenue: $7,912 million\\n- Commercial paper: $9,982 million\\n- Term debt: $11,128 million\",\n",
        "#   \"stepByStep\": \"To calculate the total of current liabilities as of September 24, 2022, we add up the individual components:\\n1. Accounts payable: $64,115 million\\n2. Other current liabilities: $60,845 million\\n3. Deferred revenue: $7,912 million\\n4. Commercial paper: $9,982 million\\n5. Term debt: $11,128 million\\nTotal = $64,115 million + $60,845 million + $7,912 million + $9,982 million + $11,128 million = $153,982 million\",\n",
        "#   \"Correct Answer\": \"$153,982 million\"\n",
        "# }\n",
        "# {\n",
        "#   \"Question\": \"What is the total amount of current assets as of September 24, 2022, according to the consolidated balance sheets?\",\n",
        "#   \"Context\": \"The consolidated balance sheets in the financial report provide detailed information about the Company's assets as of September 24, 2022, and September 25, 2021. For September 24, 2022, the current assets are listed as follows:\n",
        "#       - Cash and cash equivalents: $23,646 million\n",
        "#       - Marketable securities: $24,658 million\n",
        "#       - Accounts receivable, net: $28,184 million\n",
        "#       - Inventories: $4,946 million\n",
        "#       - Vendor non-trade receivables: $32,748 million\n",
        "#       - Other current assets: $21,223 million\n",
        "#   The total current assets are the sum of these individual asset categories.\",\n",
        "#   \"StepByStep\": [\n",
        "#     \"Step 1: Add the value of 'Cash and cash equivalents': $23,646 million\",\n",
        "#     \"Step 2: Add the value of 'Marketable securities': $24,658 million\",\n",
        "#     \"Step 3: Add the value of 'Accounts receivable, net': $28,184 million\",\n",
        "#     \"Step 4: Add the value of 'Inventories': $4,946 million\",\n",
        "#     \"Step 5: Add the value of 'Vendor non-trade receivables': $32,748 million\",\n",
        "#     \"Step 6: Add the value of 'Other current assets': $21,223 million\",\n",
        "#     \"Step 7: Calculate the total sum of these values\"\n",
        "#   ],\n",
        "#   \"Correct Answer\": \"$135,405 million\"\n",
        "# }\n",
        "#\n",
        "# {\n",
        "#   \"Question\": \"What was the change in the Company's cash and cash equivalents from September 25, 2021, to September 24, 2022?\",\n",
        "#   \"Context\": \"The table from the Company's consolidated balance sheets provides the following information for the years ended September 25, 2021, and September 24, 2022:\n",
        "\n",
        "#     - Cash and cash equivalents on September 25, 2021: $34,940 million\n",
        "#     - Cash and cash equivalents on September 24, 2022: $23,646 million\",\n",
        "\n",
        "#   \"StepByStep\": [\n",
        "#     \"1. Identify the cash and cash equivalents for September 25, 2021, which is $34,940 million.\",\n",
        "#     \"2. Identify the cash and cash equivalents for September 24, 2022, which is $23,646 million.\",\n",
        "#     \"3. Calculate the change by subtracting the 2022 figure from the 2021 figure: $34,940 million - $23,646 million.\"\n",
        "#   ],\n",
        "#   \"Correct Answer\": \"The change in the Company's cash and cash equivalents from September 25, 2021, to September 24, 2022, was a decrease of $11,294 million.\"\n",
        "# }\n",
        "# {\n",
        "#   \"Question\": \"What was the total amount of cash and cash equivalents held by the Company as of September 24, 2022?\",\n",
        "#   \"Context\": \"According to the Company's Consolidated Balance Sheets from its 2022 Form 10-K report, the total current assets as of September 24, 2022, included various items. These items were: Cash and cash equivalents - $23,646 million, Marketable securities - $24,658 million, Accounts receivable, net - $28,184 million, Inventories - $4,946 million, Vendor non-trade receivables - $32,748 million, Other current assets - $21,223 million. The sum of these items gave the total current assets figure. This table provides a detailed view of the Company's current financial position, specifically highlighting its liquidity through cash and cash equivalents.\",\n",
        "#   \"StepByStep\": [\n",
        "#     \"Identify the 'Cash and cash equivalents' line in the current assets section of the balance sheet.\",\n",
        "#     \"Note the amount listed next to 'Cash and cash equivalents' as of September 24, 2022.\"\n",
        "#   ],\n",
        "#   \"Correct Answer\": \"$23,646 million\"\n",
        "# }\n",
        "# {\n",
        "#   \"Question\": \"Calculate the total amount of 'Cash and cash equivalents' for the years 2021 and 2022.\",\n",
        "#   \"Context\": \"The table from the Company's consolidated balance sheets shows the amounts for 'Cash and cash equivalents' for the years 2021 and 2022. For September 25, 2021, the amount was $34,940 million, and for September 24, 2022, it was $23,646 million. These figures represent the liquid assets available to the Company that are readily convertible to known amounts of cash.\",\n",
        "#   \"StepByStep\": [\n",
        "#     \"Identify the 'Cash and cash equivalents' amounts for the two years from the table.\",\n",
        "#     \"For 2021: The amount listed is $34,940 million.\",\n",
        "#     \"For 2022: The amount listed is $23,646 million.\",\n",
        "#     \"Add the amounts for both years together.\"\n",
        "#   ],\n",
        "#   \"Correct Answer\": \"The total amount of 'Cash and cash equivalents' for the years 2021 and 2022 is $58,586 million.\"\n",
        "# }\n",
        "# {\n",
        "#   \"Question\": \"What is the total value of the Company's current assets as of September 24, 2022?\",\n",
        "#   \"Context\": \"The Company's consolidated balance sheet as of September 24, 2022, lists the following current assets (in millions): Cash and cash equivalents - $23,646, Marketable securities - $24,658, Accounts receivable, net - $28,184, Inventories - $4,946, Vendor non-trade receivables - $32,748, Other current assets - $21,223. To calculate the total current assets, the individual values of these assets need to be summed up.\",\n",
        "#   \"StepByStep\": [\n",
        "#     \"Step 1: Add Cash and cash equivalents ($23,646 million)\",\n",
        "#     \"Step 2: Add Marketable securities ($24,658 million)\",\n",
        "#     \"Step 3: Add Accounts receivable, net ($28,184 million)\",\n",
        "#     \"Step 4: Add Inventories ($4,946 million)\",\n",
        "#     \"Step 5: Add Vendor non-trade receivables ($32,748 million)\",\n",
        "#     \"Step 6: Add Other current assets ($21,223 million)\",\n",
        "#     \"Step 7: Sum the values obtained in steps 1 to 6\"\n",
        "#   ],\n",
        "#   \"Correct Answer\": \"$135,405 million\"\n",
        "# }\n",
        "# {\n",
        "#   \"Question\": \"Calculate the total change in cash and cash equivalents for the Company from September 25, 2021, to September 24, 2022.\",\n",
        "#   \"Context\": \"The Consolidated Balance Sheets table in the Company's financial report provides the following figures:\n",
        "\n",
        "#   - Cash and cash equivalents as of September 25, 2021: $34,940 million\n",
        "#   - Cash and cash equivalents as of September 24, 2022: $23,646 million\n",
        "\n",
        "#   To calculate the total change in cash and cash equivalents during this period, we need to subtract the figure for 2022 from the figure for 2021.\",\n",
        "#   \"StepByStep\": [\n",
        "#     \"Step 1: Identify the cash and cash equivalents for September 25, 2021, which is $34,940 million.\",\n",
        "#     \"Step 2: Identify the cash and cash equivalents for September 24, 2022, which is $23,646 million.\",\n",
        "#     \"Step 3: Subtract the 2022 amount from the 2021 amount: $34,940 million - $23,646 million.\"\n",
        "#   ],\n",
        "#   \"Correct Answer\": \"-$11,294 million\"\n",
        "# }\n",
        "\n",
        "\n",
        "\n",
        "\n",
        "\n",
        "\n",
        "\n",
        "\n",
        "\n",
        "\n",
        "\n",
        "\n",
        "\n",
        "\n",
        "\n",
        "\n",
        "\n",
        "\n",
        "\n",
        "\n",
        "\n",
        "\n"
      ],
      "metadata": {
        "id": "JvLgI7yW6lvH"
      },
      "execution_count": null,
      "outputs": []
    },
    {
      "cell_type": "code",
      "source": [
        "response = query_engine.query(\"How many treasuries did apple hold?\")\n",
        "print(str(response))"
      ],
      "metadata": {
        "colab": {
          "base_uri": "https://localhost:8080/"
        },
        "id": "tSsgCWEmo5I1",
        "outputId": "d7710761-3d59-466e-9ca3-57c2c2a9493d"
      },
      "execution_count": 19,
      "outputs": [
        {
          "output_type": "stream",
          "name": "stdout",
          "text": [
            "\u001b[1;3;34mRetrieving with query id None: How many treasuries did apple hold?\n",
            "\u001b[0m\u001b[1;3;38;5;200mRetrieving text node: Treasury securities 19,406   —   ( 1,292 ) 18,114   35   5,468   12,611   U.S. agency securities 5,736   —   ( 600 ) 5,136   36   271   4,829   Non-U.S. government securities 17,533   6   ( 1,048 ) 16,491   —   11,332   5,159   Certificates of deposit and time deposits 1,354   —   —   1,354   1,034   320   —   Commercial paper 608   —   —   608   —   608   —   Corporate debt securities 76,840   6   ( 5,956 ) 70,890   20   12,627   58,243   Municipal securities 628   —   ( 26 ) 602   —   192   410   Mortgage- and asset-backed securities 22,365   6   ( 2,735 ) 19,636   —   344   19,292   Subtotal 144,470   18   ( 11,657 ) 132,831   1,125   31,162   100,544   Total  (2) $ 173,752   $ 30   $ ( 11,683 ) $ 162,099   $ 29,965   $ 31,590   $ 100,544\n",
            "\n",
            "2022 Adjusted Cost Unrealized Gains Unrealized Losses Fair Value Cash and Cash Equivalents Current Marketable Securities Non-Current Marketable Securities Cash $ 18,546   $ —  $ —  $ 18,546   $ 18,546   $ —   $ —   Level 1: Money market funds 2,929   —   —   2,929   2,929   —   —   Mutual funds 274   —   ( 47 ) 227   —   227   —   Subtotal 3,203   —   ( 47 ) 3,156   2,929   227   —   Level 2  (1) : U.S. Treasury securities 25,134   —   ( 1,725 ) 23,409   338   5,091   17,980   U.S. agency securities 5,823   —   ( 655 ) 5,168   —   240   4,928   Non-U.S. government securities 16,948   2   ( 1,201 ) 15,749   —   8,806   6,943   Certificates of deposit and time deposits 2,067   —   —   2,067   1,805   262   —   Commercial paper 718   —   —   718   28   690   —   Corporate debt securities 87,148   9   ( 7,707 ) 79,450   —   9,023   70,427   Municipal securities 921   —   ( 35 ) 886   —   266   620   Mortgage- and asset-backed securities 22,553   —   ( 2,593 ) 19,960   —   53   19,907   Subtotal 161,312   11   ( 13,916 ) 147,407   2,171   24,431   120,805   Total  (2) $ 183,061   $ 11   $ ( 13,963 ) $ 169,109   $ 23,646   $ 24,658   $ 120,805\n",
            "\n",
            "(1)\n",
            "\n",
            "The valuation techniques used to measure the fair values of the Company’s Level 2 financial instruments, which generally have counterparties with high credit ratings, are based on quoted market prices or model-driven valuations using significant inputs derived from or corroborated by observable market data.\n",
            "\n",
            "(2)\n",
            "\n",
            "As of September 30, 2023 and September 24, 2022, total marketable securities included $13.8 billion and $12.7 billion, respectively, that were restricted from general use, related to the State Aid Decision (refer to Note 7, “Income Taxes”) and other agreements.\n",
            "\n",
            "Apple Inc.\n",
            "\u001b[0mApple held 19,406 treasury securities.\n"
          ]
        }
      ]
    },
    {
      "cell_type": "code",
      "source": [
        "response"
      ],
      "metadata": {
        "colab": {
          "base_uri": "https://localhost:8080/"
        },
        "id": "lN9LootVWW55",
        "outputId": "78e60302-24a0-4a3a-ffe0-0c2a6ea1cb62"
      },
      "execution_count": 51,
      "outputs": [
        {
          "output_type": "execute_result",
          "data": {
            "text/plain": [
              "Response(response='[/', source_nodes=[NodeWithScore(node=TextNode(id_='20f1222a-a49d-48aa-a9f0-3770dbd3508d', embedding=None, metadata={}, excluded_embed_metadata_keys=[], excluded_llm_metadata_keys=[], relationships={<NodeRelationship.SOURCE: '1'>: RelatedNodeInfo(node_id='b36e46cc-4121-4ddd-92ad-cd27925399e9', node_type=<ObjectType.DOCUMENT: '4'>, metadata={}, hash='dcd4d39a57d46207779b5736fb219986cbebc22c6aa6b397b325cc2477c427b3'), <NodeRelationship.PREVIOUS: '2'>: RelatedNodeInfo(node_id='61ebad6f-b6ce-49ab-a2cb-91a4b8ac17c5', node_type=<ObjectType.TEXT: '1'>, metadata={}, hash='c2989eb96fd5f51ce58d26e0d0d2bc57d8e9f9f76861a076830d2f83a456e328'), <NodeRelationship.NEXT: '3'>: RelatedNodeInfo(node_id='5b4a3dd0-c7d8-48de-b633-4838f7ee4aef', node_type=<ObjectType.TEXT: '1'>, metadata={}, hash='9d3a00881b0683d1cec91e35fa25479ff8ad83e7d3ef14f746d1850ab29c848c')}, hash='50c415621b2336e302fc3c9b03fc9a5e42db72aa3484966f73caf6fe9d86734b', text='Apple Inc. | 2023 Form 10-K | 31\\n\\nApple Inc.\\n\\nCONSOLIDATED STATEMENTS OF CASH FLOWS\\n\\n(In millions)\\n\\nYears ended September 30, 2023 September 24, 2022 September 25, 2021 Cash, cash equivalents and restricted cash, beginning balances $ 24,977 \\xa0 $ 35,929 \\xa0 $ 39,789 \\xa0  Operating activities: Net income 96,995 \\xa0 99,803 \\xa0 94,680 \\xa0 Adjustments to reconcile net income to cash generated by operating activities: Depreciation and amortization 11,519 \\xa0 11,104 \\xa0 11,284 \\xa0 Share-based compensation expense 10,833 \\xa0 9,038 \\xa0 7,906 \\xa0  Other ( 2,227 ) 1,006 \\xa0 ( 4,921 ) Changes in operating assets and liabilities: Accounts receivable, net ( 1,688 ) ( 1,823 ) ( 10,125 ) Vendor non-trade receivables 1,271 \\xa0 ( 7,520 ) ( 3,903 ) Inventories ( 1,618 ) 1,484 \\xa0 ( 2,642 ) Other current and non-current assets ( 5,684 ) ( 6,499 ) ( 8,042 ) Accounts payable ( 1,889 ) 9,448 \\xa0 12,326 \\xa0 Other current and non-current liabilities 3,031 \\xa0 6,110 \\xa0 7,475 \\xa0 Cash generated by operating activities 110,543 \\xa0 122,151 \\xa0 104,038 \\xa0  Investing activities: Purchases of marketable securities ( 29,513 ) ( 76,923 ) ( 109,558 ) Proceeds from maturities of marketable securities 39,686 \\xa0 29,917 \\xa0 59,023 \\xa0 Proceeds from sales of marketable securities 5,828 \\xa0 37,446 \\xa0 47,460 \\xa0 Payments for acquisition of property, plant and equipment ( 10,959 ) ( 10,708 ) ( 11,085 )  Other ( 1,337 ) ( 2,086 ) ( 385 ) Cash generated by/(used in) investing activities 3,705 \\xa0 ( 22,354 ) ( 14,545 )  Financing activities: Payments for taxes related to net share settlement of equity awards ( 5,431 ) ( 6,223 ) ( 6,556 ) Payments for dividends and dividend equivalents ( 15,025 ) ( 14,841 ) ( 14,467 ) Repurchases of common stock ( 77,550 ) ( 89,402 ) ( 85,971 ) Proceeds from issuance of term debt, net 5,228 \\xa0 5,465 \\xa0 20,393 \\xa0 Repayments of term debt ( 11,151 ) ( 9,543 ) ( 8,750 ) Proceeds from/(Repayments of) commercial paper, net ( 3,978 ) 3,955 \\xa0 1,022 \\xa0 Other ( 581 ) ( 160 ) 976 \\xa0 Cash used in financing activities ( 108,488 ) ( 110,749 ) ( 93,353 )  Increase/(Decrease) in cash, cash equivalents and restricted cash 5,760 \\xa0 ( 10,952 ) ( 3,860 ) Cash, cash equivalents and restricted cash, ending balances $ 30,737 \\xa0 $ 24,977 \\xa0 $ 35,929 \\xa0  Supplemental cash flow disclosure: Cash paid for income taxes, net $ 18,679 \\xa0 $ 19,573 \\xa0 $ 25,385 \\xa0 Cash paid for interest $ 3,803 \\xa0 $ 2,865 \\xa0 $ 2,687\\n\\nSee accompanying Notes to Consolidated Financial Statements.\\n\\nApple Inc. | 2023 Form 10-K | 32\\n\\nApple Inc.\\n\\nNotes to Consolidated Financial Statements\\n\\nNote 1 – Summary of Significant Accounting Policies\\n\\nBasis of Presentation and Preparation\\n\\nThe consolidated financial statements include the accounts of Apple Inc. and its wholly owned subsidiaries. The preparation of these consolidated financial statements and accompanying notes in conformity with GAAP requires the use of management estimates. Certain prior period amounts in the consolidated financial statements and accompanying notes have been reclassified to conform to the current period’s presentation.\\n\\nThe Company’s fiscal year is the 52- or 53-week period that ends on the last Saturday of September. An additional week is included in the first fiscal quarter every five or six years to realign the Company’s fiscal quarters with calendar quarters, which occurred in the first fiscal quarter of 2023. The Company’s fiscal year 2023 spanned 53 weeks, whereas fiscal years 2022 and 2021 spanned 52 weeks each.', start_char_idx=5998, end_char_idx=9415, text_template='{metadata_str}\\n\\n{content}', metadata_template='{key}: {value}', metadata_seperator='\\n'), score=0.8625744966753386)], metadata={'20f1222a-a49d-48aa-a9f0-3770dbd3508d': {}})"
            ]
          },
          "metadata": {},
          "execution_count": 51
        }
      ]
    },
    {
      "cell_type": "code",
      "source": [
        "llm.complete(\"Extract apple's cash position from the following text\\n ```\"+response.source_nodes[0].node.text)"
      ],
      "metadata": {
        "colab": {
          "base_uri": "https://localhost:8080/"
        },
        "id": "MLwPdTkbXaYx",
        "outputId": "2a4b007c-0348-4462-b4e3-aa6b7e2bb5ef"
      },
      "execution_count": 66,
      "outputs": [
        {
          "output_type": "stream",
          "name": "stderr",
          "text": [
            "/usr/local/lib/python3.10/dist-packages/transformers/generation/configuration_utils.py:381: UserWarning: `do_sample` is set to `False`. However, `temperature` is set to `0.2` -- this flag is only used in sample-based generation modes. You should set `do_sample=True` or unset `temperature`.\n",
            "  warnings.warn(\n",
            "/usr/local/lib/python3.10/dist-packages/transformers/generation/configuration_utils.py:386: UserWarning: `do_sample` is set to `False`. However, `top_p` is set to `0.95` -- this flag is only used in sample-based generation modes. You should set `do_sample=True` or unset `top_p`.\n",
            "  warnings.warn(\n",
            "/usr/local/lib/python3.10/dist-packages/transformers/generation/configuration_utils.py:396: UserWarning: `do_sample` is set to `False`. However, `top_k` is set to `5` -- this flag is only used in sample-based generation modes. You should set `do_sample=True` or unset `top_k`.\n",
            "  warnings.warn(\n",
            "Setting `pad_token_id` to `eos_token_id`:2 for open-end generation.\n"
          ]
        },
        {
          "output_type": "execute_result",
          "data": {
            "text/plain": [
              "CompletionResponse(text='\\nApple Inc. | 2023 Form 10-K | 31\\n\\nApple Inc.\\n\\nCONSOLIDATED STATEMENTS OF CASH FLOWS\\n\\n(In millions)\\n\\nYears ended September 30, 2023 September 24, 2022 September 25, 2021 Cash, cash equivalents and restricted cash, beginning balances $ 24,977 $ 35,929 $ 39,789 \\n\\nOperating activities: Net income 96,995 99,803 94,680 \\n\\nAdjustments to reconcile net income to cash generated by operating activities: Depreciation and amortization 11,519 11,104 11,284 \\n\\nShare-based compensation expense 10,833 9,038 7,906 \\n\\nOther ( 2,227 ) 1,006 1,006 \\n\\nChanges in operating assets and li', additional_kwargs={}, raw={'model_output': tensor([[    1,     1,   733,  ..., 12858,   304,   635]], device='cuda:0')}, delta=None)"
            ]
          },
          "metadata": {},
          "execution_count": 66
        }
      ]
    },
    {
      "cell_type": "code",
      "source": [
        "response.source_nodes[0].node.text"
      ],
      "metadata": {
        "colab": {
          "base_uri": "https://localhost:8080/",
          "height": 143
        },
        "id": "XpZsE13kom52",
        "outputId": "2d6278db-375a-4f26-a384-5827a6722957"
      },
      "execution_count": 65,
      "outputs": [
        {
          "output_type": "execute_result",
          "data": {
            "text/plain": [
              "'Apple Inc. | 2023 Form 10-K | 31\\n\\nApple Inc.\\n\\nCONSOLIDATED STATEMENTS OF CASH FLOWS\\n\\n(In millions)\\n\\nYears ended September 30, 2023 September 24, 2022 September 25, 2021 Cash, cash equivalents and restricted cash, beginning balances $ 24,977 \\xa0 $ 35,929 \\xa0 $ 39,789 \\xa0  Operating activities: Net income 96,995 \\xa0 99,803 \\xa0 94,680 \\xa0 Adjustments to reconcile net income to cash generated by operating activities: Depreciation and amortization 11,519 \\xa0 11,104 \\xa0 11,284 \\xa0 Share-based compensation expense 10,833 \\xa0 9,038 \\xa0 7,906 \\xa0  Other ( 2,227 ) 1,006 \\xa0 ( 4,921 ) Changes in operating assets and liabilities: Accounts receivable, net ( 1,688 ) ( 1,823 ) ( 10,125 ) Vendor non-trade receivables 1,271 \\xa0 ( 7,520 ) ( 3,903 ) Inventories ( 1,618 ) 1,484 \\xa0 ( 2,642 ) Other current and non-current assets ( 5,684 ) ( 6,499 ) ( 8,042 ) Accounts payable ( 1,889 ) 9,448 \\xa0 12,326 \\xa0 Other current and non-current liabilities 3,031 \\xa0 6,110 \\xa0 7,475 \\xa0 Cash generated by operating activities 110,543 \\xa0 122,151 \\xa0 104,038 \\xa0  Investing activities: Purchases of marketable securities ( 29,513 ) ( 76,923 ) ( 109,558 ) Proceeds from maturities of marketable securities 39,686 \\xa0 29,917 \\xa0 59,023 \\xa0 Proceeds from sales of marketable securities 5,828 \\xa0 37,446 \\xa0 47,460 \\xa0 Payments for acquisition of property, plant and equipment ( 10,959 ) ( 10,708 ) ( 11,085 )  Other ( 1,337 ) ( 2,086 ) ( 385 ) Cash generated by/(used in) investing activities 3,705 \\xa0 ( 22,354 ) ( 14,545 )  Financing activities: Payments for taxes related to net share settlement of equity awards ( 5,431 ) ( 6,223 ) ( 6,556 ) Payments for dividends and dividend equivalents ( 15,025 ) ( 14,841 ) ( 14,467 ) Repurchases of common stock ( 77,550 ) ( 89,402 ) ( 85,971 ) Proceeds from issuance of term debt, net 5,228 \\xa0 5,465 \\xa0 20,393 \\xa0 Repayments of term debt ( 11,151 ) ( 9,543 ) ( 8,750 ) Proceeds from/(Repayments of) commercial paper, net ( 3,978 ) 3,955 \\xa0 1,022 \\xa0 Other ( 581 ) ( 160 ) 976 \\xa0 Cash used in financing activities ( 108,488 ) ( 110,749 ) ( 93,353 )  Increase/(Decrease) in cash, cash equivalents and restricted cash 5,760 \\xa0 ( 10,952 ) ( 3,860 ) Cash, cash equivalents and restricted cash, ending balances $ 30,737 \\xa0 $ 24,977 \\xa0 $ 35,929 \\xa0  Supplemental cash flow disclosure: Cash paid for income taxes, net $ 18,679 \\xa0 $ 19,573 \\xa0 $ 25,385 \\xa0 Cash paid for interest $ 3,803 \\xa0 $ 2,865 \\xa0 $ 2,687\\n\\nSee accompanying Notes to Consolidated Financial Statements.\\n\\nApple Inc. | 2023 Form 10-K | 32\\n\\nApple Inc.\\n\\nNotes to Consolidated Financial Statements\\n\\nNote 1 – Summary of Significant Accounting Policies\\n\\nBasis of Presentation and Preparation\\n\\nThe consolidated financial statements include the accounts of Apple Inc. and its wholly owned subsidiaries. The preparation of these consolidated financial statements and accompanying notes in conformity with GAAP requires the use of management estimates. Certain prior period amounts in the consolidated financial statements and accompanying notes have been reclassified to conform to the current period’s presentation.\\n\\nThe Company’s fiscal year is the 52- or 53-week period that ends on the last Saturday of September. An additional week is included in the first fiscal quarter every five or six years to realign the Company’s fiscal quarters with calendar quarters, which occurred in the first fiscal quarter of 2023. The Company’s fiscal year 2023 spanned 53 weeks, whereas fiscal years 2022 and 2021 spanned 52 weeks each.'"
            ],
            "application/vnd.google.colaboratory.intrinsic+json": {
              "type": "string"
            }
          },
          "metadata": {},
          "execution_count": 65
        }
      ]
    },
    {
      "cell_type": "code",
      "source": [
        "from typing import Any\n",
        "\n",
        "from pydantic import BaseModel\n",
        "from unstructured.partition.html import partition_html\n"
      ],
      "metadata": {
        "id": "JPPRZ9y-edXh"
      },
      "execution_count": 67,
      "outputs": []
    },
    {
      "cell_type": "code",
      "source": [
        "!pip install InstructorEmbedding"
      ],
      "metadata": {
        "colab": {
          "base_uri": "https://localhost:8080/"
        },
        "id": "VJwaxv_Yep2u",
        "outputId": "ef73cb06-9866-4507-b0d7-93ee3c29c569"
      },
      "execution_count": 31,
      "outputs": [
        {
          "output_type": "stream",
          "name": "stdout",
          "text": [
            "Collecting InstructorEmbedding\n",
            "  Downloading InstructorEmbedding-1.0.1-py2.py3-none-any.whl (19 kB)\n",
            "Installing collected packages: InstructorEmbedding\n",
            "Successfully installed InstructorEmbedding-1.0.1\n"
          ]
        }
      ]
    },
    {
      "cell_type": "code",
      "source": [
        "!pip install sentence_transformers"
      ],
      "metadata": {
        "id": "upiYH3-0e5ip"
      },
      "execution_count": null,
      "outputs": []
    },
    {
      "cell_type": "code",
      "source": [
        "from typing import Any, List\n",
        "from InstructorEmbedding import INSTRUCTOR\n",
        "from llama_index.embeddings.base import BaseEmbedding\n",
        "\n",
        "\n",
        "class InstructorEmbeddings(BaseEmbedding):\n",
        "    def __init__(\n",
        "        self,\n",
        "        instructor_model_name: str = \"hkunlp/instructor-large\",\n",
        "        instruction: str = \"Represent the Computer Science documentation or question:\",\n",
        "        **kwargs: Any,\n",
        "    ) -> None:\n",
        "        self._model = INSTRUCTOR(instructor_model_name)\n",
        "        self._instruction = instruction\n",
        "        super().__init__(**kwargs)\n",
        "\n",
        "        def _get_query_embedding(self, query: str) -> List[float]:\n",
        "            embeddings = self._model.encode([[self._instruction, query]])\n",
        "            return embeddings[0]\n",
        "\n",
        "        def _get_text_embedding(self, text: str) -> List[float]:\n",
        "            embeddings = self._model.encode([[self._instruction, text]])\n",
        "            return embeddings[0]\n",
        "\n",
        "        def _get_text_embeddings(self, texts: List[str]) -> List[List[float]]:\n",
        "            embeddings = self._model.encode(\n",
        "                [[self._instruction, text] for text in texts]\n",
        "            )\n",
        "            return embeddings"
      ],
      "metadata": {
        "id": "-l7FRxyJenD1"
      },
      "execution_count": 68,
      "outputs": []
    },
    {
      "cell_type": "code",
      "source": [
        "!pip install langchain"
      ],
      "metadata": {
        "id": "mcEhw3ZYfmCt"
      },
      "execution_count": null,
      "outputs": []
    },
    {
      "cell_type": "code",
      "source": [
        "from langchain.embeddings.huggingface import HuggingFaceBgeEmbeddings\n",
        "from llama_index import ServiceContext\n",
        "\n",
        "embed_model = HuggingFaceBgeEmbeddings(model_name=\"BAAI/bge-base-en\")\n",
        "\n",
        "#service_context = ServiceContext.from_defaults(embed_model=embed_model,llm=llm)\n",
        "service_context = ServiceContext.from_defaults(embed_model=\"local\",llm=llm)"
      ],
      "metadata": {
        "id": "ir152EIxfTAx"
      },
      "execution_count": 69,
      "outputs": []
    },
    {
      "cell_type": "code",
      "source": [
        "embed_model.get_text_embeddings = embed_model.embed_documents\n",
        "embed_model.get_text_embedding(\n",
        "    \"It is raining cats and dogs here!\"\n",
        ")\n",
        "embed_model.embed_documents(\"It'raining and the cats are out\")"
      ],
      "metadata": {
        "colab": {
          "base_uri": "https://localhost:8080/",
          "height": 375
        },
        "id": "wr9hRz1uYEbZ",
        "outputId": "8b60bbf6-e70f-40f6-9f7c-4463fda76be2"
      },
      "execution_count": 72,
      "outputs": [
        {
          "output_type": "error",
          "ename": "ValueError",
          "evalue": "ignored",
          "traceback": [
            "\u001b[0;31m---------------------------------------------------------------------------\u001b[0m",
            "\u001b[0;31mValueError\u001b[0m                                Traceback (most recent call last)",
            "\u001b[0;32m<ipython-input-72-8cb8e19cda7a>\u001b[0m in \u001b[0;36m<cell line: 1>\u001b[0;34m()\u001b[0m\n\u001b[0;32m----> 1\u001b[0;31m \u001b[0membed_model\u001b[0m\u001b[0;34m.\u001b[0m\u001b[0mget_text_embeddings\u001b[0m \u001b[0;34m=\u001b[0m \u001b[0membed_model\u001b[0m\u001b[0;34m.\u001b[0m\u001b[0membed_documents\u001b[0m\u001b[0;34m\u001b[0m\u001b[0;34m\u001b[0m\u001b[0m\n\u001b[0m\u001b[1;32m      2\u001b[0m embed_model.get_text_embedding(\n\u001b[1;32m      3\u001b[0m     \u001b[0;34m\"It is raining cats and dogs here!\"\u001b[0m\u001b[0;34m\u001b[0m\u001b[0;34m\u001b[0m\u001b[0m\n\u001b[1;32m      4\u001b[0m )\n\u001b[1;32m      5\u001b[0m \u001b[0membed_model\u001b[0m\u001b[0;34m.\u001b[0m\u001b[0membed_documents\u001b[0m\u001b[0;34m(\u001b[0m\u001b[0;34m\"It'raining and the cats are out\"\u001b[0m\u001b[0;34m)\u001b[0m\u001b[0;34m\u001b[0m\u001b[0;34m\u001b[0m\u001b[0m\n",
            "\u001b[0;32m/usr/local/lib/python3.10/dist-packages/pydantic/v1/main.py\u001b[0m in \u001b[0;36m__setattr__\u001b[0;34m(self, name, value)\u001b[0m\n\u001b[1;32m    355\u001b[0m \u001b[0;34m\u001b[0m\u001b[0m\n\u001b[1;32m    356\u001b[0m         \u001b[0;32mif\u001b[0m \u001b[0mself\u001b[0m\u001b[0;34m.\u001b[0m\u001b[0m__config__\u001b[0m\u001b[0;34m.\u001b[0m\u001b[0mextra\u001b[0m \u001b[0;32mis\u001b[0m \u001b[0;32mnot\u001b[0m \u001b[0mExtra\u001b[0m\u001b[0;34m.\u001b[0m\u001b[0mallow\u001b[0m \u001b[0;32mand\u001b[0m \u001b[0mname\u001b[0m \u001b[0;32mnot\u001b[0m \u001b[0;32min\u001b[0m \u001b[0mself\u001b[0m\u001b[0;34m.\u001b[0m\u001b[0m__fields__\u001b[0m\u001b[0;34m:\u001b[0m\u001b[0;34m\u001b[0m\u001b[0;34m\u001b[0m\u001b[0m\n\u001b[0;32m--> 357\u001b[0;31m             \u001b[0;32mraise\u001b[0m \u001b[0mValueError\u001b[0m\u001b[0;34m(\u001b[0m\u001b[0;34mf'\"{self.__class__.__name__}\" object has no field \"{name}\"'\u001b[0m\u001b[0;34m)\u001b[0m\u001b[0;34m\u001b[0m\u001b[0;34m\u001b[0m\u001b[0m\n\u001b[0m\u001b[1;32m    358\u001b[0m         \u001b[0;32melif\u001b[0m \u001b[0;32mnot\u001b[0m \u001b[0mself\u001b[0m\u001b[0;34m.\u001b[0m\u001b[0m__config__\u001b[0m\u001b[0;34m.\u001b[0m\u001b[0mallow_mutation\u001b[0m \u001b[0;32mor\u001b[0m \u001b[0mself\u001b[0m\u001b[0;34m.\u001b[0m\u001b[0m__config__\u001b[0m\u001b[0;34m.\u001b[0m\u001b[0mfrozen\u001b[0m\u001b[0;34m:\u001b[0m\u001b[0;34m\u001b[0m\u001b[0;34m\u001b[0m\u001b[0m\n\u001b[1;32m    359\u001b[0m             \u001b[0;32mraise\u001b[0m \u001b[0mTypeError\u001b[0m\u001b[0;34m(\u001b[0m\u001b[0;34mf'\"{self.__class__.__name__}\" is immutable and does not support item assignment'\u001b[0m\u001b[0;34m)\u001b[0m\u001b[0;34m\u001b[0m\u001b[0;34m\u001b[0m\u001b[0m\n",
            "\u001b[0;31mValueError\u001b[0m: \"HuggingFaceBgeEmbeddings\" object has no field \"get_text_embeddings\""
          ]
        }
      ]
    },
    {
      "cell_type": "code",
      "source": [
        "embeddings = embed_model.get_text_embedding(\n",
        "    \"It is raining cats and dogs here!\"\n",
        ")\n"
      ],
      "metadata": {
        "colab": {
          "base_uri": "https://localhost:8080/",
          "height": 214
        },
        "id": "eiNvqM1ofIjL",
        "outputId": "764045f2-969b-4d3a-9986-e9bd50d2c57a"
      },
      "execution_count": 70,
      "outputs": [
        {
          "output_type": "error",
          "ename": "AttributeError",
          "evalue": "ignored",
          "traceback": [
            "\u001b[0;31m---------------------------------------------------------------------------\u001b[0m",
            "\u001b[0;31mAttributeError\u001b[0m                            Traceback (most recent call last)",
            "\u001b[0;32m<ipython-input-70-6b54a443fe36>\u001b[0m in \u001b[0;36m<cell line: 1>\u001b[0;34m()\u001b[0m\n\u001b[0;32m----> 1\u001b[0;31m embeddings = embed_model.get_text_embedding(\n\u001b[0m\u001b[1;32m      2\u001b[0m     \u001b[0;34m\"It is raining cats and dogs here!\"\u001b[0m\u001b[0;34m\u001b[0m\u001b[0;34m\u001b[0m\u001b[0m\n\u001b[1;32m      3\u001b[0m )\n",
            "\u001b[0;31mAttributeError\u001b[0m: 'HuggingFaceBgeEmbeddings' object has no attribute 'get_text_embedding'"
          ]
        }
      ]
    },
    {
      "cell_type": "code",
      "source": [
        "from llama_index import ServiceContext, set_global_service_context\n",
        "from llama_index.llms import OpenAI\n",
        "from llama_index.embeddings import OpenAIEmbedding, HuggingFaceEmbedding\n",
        "from llama_index.node_parser import (\n",
        "    SentenceWindowNodeParser,\n",
        ")\n",
        "from llama_index.text_splitter import SentenceSplitter\n",
        "\n",
        "# create the sentence window node parser w/ default settings\n",
        "node_parser = SentenceWindowNodeParser.from_defaults(\n",
        "    window_size=3,\n",
        "    window_metadata_key=\"window\",\n",
        "    original_text_metadata_key=\"original_text\",\n",
        ")\n",
        "\n",
        "# base node parser is a sentence splitter\n",
        "text_splitter = SentenceSplitter()\n",
        "\n",
        "#llm = OpenAI(model=\"gpt-3.5-turbo\", temperature=0.1)\n",
        "embed_model = HuggingFaceEmbedding(\n",
        "    model_name=\"sentence-transformers/all-mpnet-base-v2\", max_length=512\n",
        ")\n",
        "ctx = ServiceContext.from_defaults(\n",
        "    llm=llm,\n",
        "    embed_model=embed_model,\n",
        "    # node_parser=node_parser,\n",
        ")"
      ],
      "metadata": {
        "id": "UZK8JIRRk-mw"
      },
      "execution_count": 73,
      "outputs": []
    },
    {
      "cell_type": "code",
      "source": [
        "\n",
        "set_global_service_context(service_context)"
      ],
      "metadata": {
        "id": "z-tssGHxkyeq"
      },
      "execution_count": 35,
      "outputs": []
    },
    {
      "cell_type": "code",
      "source": [
        "raw_nodes_2021 = node_parser.get_nodes_from_documents(documents,llm=llm,embed_model=\"local\")"
      ],
      "metadata": {
        "id": "TmWkfBz9mJ8E"
      },
      "execution_count": 36,
      "outputs": []
    },
    {
      "cell_type": "code",
      "source": [
        "len(raw_nodes_2021)"
      ],
      "metadata": {
        "colab": {
          "base_uri": "https://localhost:8080/"
        },
        "id": "dx595MsnmLfH",
        "outputId": "bcbdfda8-a3cc-4825-fed5-f95fa905af6d"
      },
      "execution_count": 37,
      "outputs": [
        {
          "output_type": "execute_result",
          "data": {
            "text/plain": [
              "625"
            ]
          },
          "metadata": {},
          "execution_count": 37
        }
      ]
    },
    {
      "cell_type": "code",
      "source": [
        "import os\n",
        "import pickle\n",
        "\n",
        "if not os.path.exists(\"2021_nodes.pkl\"):\n",
        "    # raw_nodes_2021 = node_parser.get_nodes_from_documents(documents,llm=llm,embed_model=\"local:BAAI/bge-small-en-v1.5\")\n",
        "    raw_nodes_2021 = node_parser.get_nodes_from_documents(documents,llm=llm,embed_model=\"local\")\n",
        "    pickle.dump(raw_nodes_2021, open(\"2021_nodes.pkl\", \"wb\"))\n",
        "else:\n",
        "    raw_nodes_2021 = pickle.load(open(\"2021_nodes.pkl\", \"rb\"))"
      ],
      "metadata": {
        "id": "x2Z85bJZazbs"
      },
      "execution_count": 38,
      "outputs": []
    },
    {
      "cell_type": "code",
      "source": [
        "print(raw_nodes_2021)"
      ],
      "metadata": {
        "id": "Z7Vg4XLxlPs5"
      },
      "execution_count": null,
      "outputs": []
    },
    {
      "cell_type": "markdown",
      "source": [
        "### Helpful Imports / Logging"
      ],
      "metadata": {
        "id": "pxFrAm_bTCYY"
      }
    },
    {
      "cell_type": "code",
      "source": [
        "from llama_index.response.notebook_utils import display_response"
      ],
      "metadata": {
        "id": "ghqk6C04TD3b"
      },
      "execution_count": 39,
      "outputs": []
    },
    {
      "cell_type": "code",
      "source": [
        "import logging\n",
        "import sys\n",
        "\n",
        "logging.basicConfig(stream=sys.stdout, level=logging.INFO)\n",
        "logging.getLogger().addHandler(logging.StreamHandler(stream=sys.stdout))"
      ],
      "metadata": {
        "id": "6YVB1ny-UjN4"
      },
      "execution_count": 74,
      "outputs": []
    },
    {
      "cell_type": "markdown",
      "source": [
        "## Basic Query Engine"
      ],
      "metadata": {
        "id": "K0l3oUS8NO-I"
      }
    },
    {
      "cell_type": "markdown",
      "source": [
        "### Compact (default)"
      ],
      "metadata": {
        "id": "TC2Vdq5LNe6H"
      }
    },
    {
      "cell_type": "code",
      "source": [
        "query_engine = vector_index.as_query_engine(response_mode=\"compact\")\n",
        "\n",
        "response = query_engine.query(\"What are apples financial risks wrt to interest rates, inflation and foreign exachange?\")\n",
        "\n",
        "display_response(response)"
      ],
      "metadata": {
        "colab": {
          "base_uri": "https://localhost:8080/",
          "height": 192
        },
        "id": "Lb9CsvvQNR9K",
        "outputId": "31ecc935-8935-4709-9473-1e6375ac5062"
      },
      "execution_count": 75,
      "outputs": [
        {
          "output_type": "stream",
          "name": "stderr",
          "text": [
            "/usr/local/lib/python3.10/dist-packages/transformers/generation/configuration_utils.py:381: UserWarning: `do_sample` is set to `False`. However, `temperature` is set to `0.2` -- this flag is only used in sample-based generation modes. You should set `do_sample=True` or unset `temperature`.\n",
            "  warnings.warn(\n",
            "/usr/local/lib/python3.10/dist-packages/transformers/generation/configuration_utils.py:386: UserWarning: `do_sample` is set to `False`. However, `top_p` is set to `0.95` -- this flag is only used in sample-based generation modes. You should set `do_sample=True` or unset `top_p`.\n",
            "  warnings.warn(\n",
            "/usr/local/lib/python3.10/dist-packages/transformers/generation/configuration_utils.py:396: UserWarning: `do_sample` is set to `False`. However, `top_k` is set to `5` -- this flag is only used in sample-based generation modes. You should set `do_sample=True` or unset `top_k`.\n",
            "  warnings.warn(\n",
            "Setting `pad_token_id` to `eos_token_id`:2 for open-end generation.\n"
          ]
        },
        {
          "output_type": "display_data",
          "data": {
            "text/plain": [
              "<IPython.core.display.Markdown object>"
            ],
            "text/markdown": "**`Final Response:`** [/"
          },
          "metadata": {}
        }
      ]
    },
    {
      "cell_type": "code",
      "source": [
        "response"
      ],
      "metadata": {
        "colab": {
          "base_uri": "https://localhost:8080/"
        },
        "id": "cPqHlnJSchut",
        "outputId": "ee3ed82e-5889-4e64-eb72-e0f74252fa3a"
      },
      "execution_count": 76,
      "outputs": [
        {
          "output_type": "execute_result",
          "data": {
            "text/plain": [
              "Response(response='[/', source_nodes=[NodeWithScore(node=TextNode(id_='82726765-43d7-492c-98ef-8d4030c3afb3', embedding=None, metadata={}, excluded_embed_metadata_keys=[], excluded_llm_metadata_keys=[], relationships={<NodeRelationship.SOURCE: '1'>: RelatedNodeInfo(node_id='96761280-1add-4e51-b1f3-d1af28c43f4f', node_type=<ObjectType.DOCUMENT: '4'>, metadata={}, hash='458f4f616ef88556bd5bdcfaf788bbfba1aca4762edc538de07853990ef633a0'), <NodeRelationship.PREVIOUS: '2'>: RelatedNodeInfo(node_id='bdbc6346-4dac-4ec8-95e9-05d2b633e36b', node_type=<ObjectType.TEXT: '1'>, metadata={}, hash='91d8b35cb6e67f0746b52fb8fbb6db457278d71b152d36a58e8856252eeb45d9'), <NodeRelationship.NEXT: '3'>: RelatedNodeInfo(node_id='4357cf46-3a05-4b3f-a937-250f6f750b8f', node_type=<ObjectType.TEXT: '1'>, metadata={}, hash='7fd6ce578bd10222fa4598814e601072116f045a246deb89e8b47042ee560cb8')}, hash='7ddfdf856d367dbb4709dfdf9bb765a02de44cec8af362f4e4c722d4fba49034', text='Additionally, strengthening of foreign currencies may increase the Company’s cost of product components denominated in those currencies, thus adversely affecting gross margins.\\n\\nThe Company uses derivative instruments, such as foreign currency forward and option contracts, to hedge certain exposures to fluctuations in foreign exchange rates. The use of such hedging activities may not be effective to offset any, or more than a portion, of the adverse financial effects of unfavorable movements in foreign exchange rates over the limited time the hedges are in place.\\n\\nThe Company is exposed to credit risk and fluctuations in the values of its investment portfolio.\\n\\nThe Company’s investments can be negatively affected by changes in liquidity, credit deterioration, financial results, market and economic conditions, political risk, sovereign risk, interest rate fluctuations or other factors. As a result, the value and liquidity of the Company’s cash, cash equivalents and marketable securities may fluctuate substantially. Therefore, although the Company has not realized any significant losses on its cash, cash equivalents and marketable securities, future fluctuations in their value could result in significant losses and could have a material adverse impact on the Company’s results of operations and financial condition.\\n\\nApple Inc. | 2023 Form 10-K | 15\\n\\nThe Company is exposed to credit risk on its trade accounts receivable, vendor non-trade receivables and prepayments related to long-term supply agreements, and this risk is heightened during periods when economic conditions worsen.\\n\\nThe Company distributes its products and certain of its services through third-party cellular network carriers, wholesalers, retailers and resellers. The Company also sells its products and services directly to small and mid-sized businesses and education, enterprise and government customers. A substantial majority of the Company’s outstanding trade receivables are not covered by collateral, third-party bank support or financing arrangements, or credit insurance, and a significant portion of the Company’s trade receivables can be concentrated within cellular network carriers or other resellers. The Company’s exposure to credit and collectibility risk on its trade receivables is higher in certain international markets and its ability to mitigate such risks may be limited. The Company also has unsecured vendor non-trade receivables resulting from purchases of components by outsourcing partners and other vendors that manufacture subassemblies or assemble final products for the Company. In addition, the Company has made prepayments associated with long-term supply agreements to secure supply of inventory components. As of September\\xa030, 2023, the Company’s vendor non-trade receivables and prepayments related to long-term supply agreements were concentrated among a few individual vendors located primarily in Asia. While the Company has procedures to monitor and limit exposure to credit risk on its trade and vendor non-trade receivables, as well as long-term prepayments, there can be no assurance such procedures will effectively limit its credit risk and avoid losses.\\n\\nThe Company is subject to changes in tax rates, the adoption of new U.S. or international tax legislation and exposure to additional tax liabilities.\\n\\nThe Company is subject to taxes in the U.S. and numerous foreign jurisdictions, including Ireland and Singapore, where a number of the Company’s subsidiaries are organized. Due to economic and political conditions, tax laws and tax rates for income taxes and other non-income taxes in various jurisdictions may be subject to significant change. For example, the Organisation for Economic Co-operation and Development continues to advance proposals for modernizing international tax rules, including the introduction of global minimum tax standards. The Company’s effective tax rates are affected by changes in the mix of earnings in countries with differing statutory tax rates, changes in the valuation of deferred tax assets and liabilities, the introduction of new taxes, and changes in tax laws or their interpretation. The application of tax laws may be uncertain, require significant judgment and be subject to differing interpretations.\\n\\nThe Company is also subject to the examination of its tax returns and other tax matters by the U.S. Internal Revenue Service and other tax authorities and governmental bodies. The Company regularly assesses the likelihood of an adverse outcome resulting from these examinations to determine the adequacy of its provision for taxes. There can be no assurance as to the outcome of these examinations. If the Company’s effective tax rates were to increase, or if the ultimate determination of the Company’s taxes owed is for an amount in excess of amounts previously accrued, the Company’s business, results of operations and financial condition could be materially adversely affected.\\n\\nGeneral Risks\\n\\nThe price of the Company’s stock is subject to volatility.\\n\\nThe Company’s stock has experienced substantial price volatility in the past and may continue to do so in the future. Additionally, the Company, the technology industry and the stock market as a whole have, from time to time, experienced extreme stock price and volume fluctuations that have affected stock prices in ways that may have been unrelated to these companies’ operating performance. Price volatility may cause the average price at which the Company repurchases its stock in a given period to exceed the stock’s price at a given point in time.', start_char_idx=83942, end_char_idx=89542, text_template='{metadata_str}\\n\\n{content}', metadata_template='{key}: {value}', metadata_seperator='\\n'), score=0.8894049747022439), NodeWithScore(node=TextNode(id_='75e6b88e-2f64-45af-80ce-1acc61f2f612', embedding=None, metadata={}, excluded_embed_metadata_keys=[], excluded_llm_metadata_keys=[], relationships={<NodeRelationship.SOURCE: '1'>: RelatedNodeInfo(node_id='96761280-1add-4e51-b1f3-d1af28c43f4f', node_type=<ObjectType.DOCUMENT: '4'>, metadata={}, hash='458f4f616ef88556bd5bdcfaf788bbfba1aca4762edc538de07853990ef633a0'), <NodeRelationship.PREVIOUS: '2'>: RelatedNodeInfo(node_id='e334c7f7-d195-4e9f-8e17-25515fa7f31e', node_type=<ObjectType.TEXT: '1'>, metadata={}, hash='5b6df8ad785eae0621b6a83aacab941814836c6752cec1c3669d720271f9f6b3'), <NodeRelationship.NEXT: '3'>: RelatedNodeInfo(node_id='id_423_table_ref', node_type=<ObjectType.INDEX: '3'>, metadata={'col_schema': ''}, hash='9403a418a13ae9a47e101a78bd99f6c95ad7f3b7e219427d621bc4b5319f53e3')}, hash='881c0264b8b59a302f2852c4655e5bc6960fcf036ce0943ba6be65bd66e26600', text='Legal and Other Contingencies\\n\\nThe Company is subject to various legal proceedings and claims that arise in the ordinary course of business, the outcomes of which are inherently uncertain. The Company records a liability when it is probable that a loss has been incurred and the amount is reasonably estimable, the determination of which requires significant judgment. Resolution of legal matters in a manner inconsistent with management’s expectations could have a material impact on the Company’s financial condition and operating results.\\n\\nApple Inc. | 2023 Form 10-K | 25\\n\\nItem 7A.\\xa0\\xa0\\xa0\\xa0Quantitative and Qualitative Disclosures About Market Risk\\n\\nThe Company is exposed to economic risk from interest rates and foreign exchange rates. The Company uses various strategies to manage these risks; however, they may still impact the Company’s consolidated financial statements.\\n\\nInterest Rate Risk\\n\\nThe Company is primarily exposed to fluctuations in U.S. interest rates and their impact on the Company’s investment portfolio and term debt. Increases in interest rates will negatively affect the fair value of the Company’s investment portfolio and increase the interest expense on the Company’s term debt. To protect against interest rate risk, the Company may use derivative instruments, offset interest rate–sensitive assets and liabilities, or control duration of the investment and term debt portfolios.\\n\\nThe following table sets forth potential impacts on the Company’s investment portfolio and term debt, including the effects of any associated derivatives, that would result from a hypothetical increase in relevant interest rates as of September\\xa030, 2023 and September\\xa024, 2022 (dollars in millions):', start_char_idx=112587, end_char_idx=114294, text_template='{metadata_str}\\n\\n{content}', metadata_template='{key}: {value}', metadata_seperator='\\n'), score=0.878889425503457)], metadata={'82726765-43d7-492c-98ef-8d4030c3afb3': {}, '75e6b88e-2f64-45af-80ce-1acc61f2f612': {}})"
            ]
          },
          "metadata": {},
          "execution_count": 76
        }
      ]
    },
    {
      "cell_type": "markdown",
      "source": [
        "### Refine"
      ],
      "metadata": {
        "id": "p8WNEWO6NeEJ"
      }
    },
    {
      "cell_type": "code",
      "source": [
        "query_engine = vector_index.as_query_engine(response_mode=\"refine\")\n",
        "\n",
        "response = query_engine.query(\"How do OpenAI and Meta differ on AI tools?\")\n",
        "\n",
        "display_response(response)"
      ],
      "metadata": {
        "colab": {
          "base_uri": "https://localhost:8080/",
          "height": 83
        },
        "id": "91CZsrtjNi4I",
        "outputId": "c67a485e-70c7-44bc-86d5-d189b634a4ff"
      },
      "execution_count": 77,
      "outputs": [
        {
          "output_type": "stream",
          "name": "stderr",
          "text": [
            "Setting `pad_token_id` to `eos_token_id`:2 for open-end generation.\n",
            "Setting `pad_token_id` to `eos_token_id`:2 for open-end generation.\n"
          ]
        },
        {
          "output_type": "display_data",
          "data": {
            "text/plain": [
              "<IPython.core.display.Markdown object>"
            ],
            "text/markdown": "**`Final Response:`** [/"
          },
          "metadata": {}
        }
      ]
    },
    {
      "cell_type": "code",
      "source": [
        "response"
      ],
      "metadata": {
        "id": "3gDWMW6hcyP6"
      },
      "execution_count": null,
      "outputs": []
    },
    {
      "cell_type": "markdown",
      "source": [
        "### Tree Summarize"
      ],
      "metadata": {
        "id": "EBr8vyabNSmK"
      }
    },
    {
      "cell_type": "code",
      "source": [
        "query_engine2 = vector_index.as_query_engine(response_mode=\"tree_summarize\")\n",
        "\n",
        "response = query_engine2.query(\"Does apple have exposure to foreign exhange changes?\")\n",
        "\n",
        "display_response(response)"
      ],
      "metadata": {
        "colab": {
          "base_uri": "https://localhost:8080/",
          "height": 65
        },
        "id": "X3YTKZXVNZ0R",
        "outputId": "a6dcb2c6-6a73-443b-cdcc-1008af440698"
      },
      "execution_count": 78,
      "outputs": [
        {
          "output_type": "stream",
          "name": "stderr",
          "text": [
            "Setting `pad_token_id` to `eos_token_id`:2 for open-end generation.\n"
          ]
        },
        {
          "output_type": "display_data",
          "data": {
            "text/plain": [
              "<IPython.core.display.Markdown object>"
            ],
            "text/markdown": "**`Final Response:`** [/"
          },
          "metadata": {}
        }
      ]
    },
    {
      "cell_type": "code",
      "source": [
        "response"
      ],
      "metadata": {
        "colab": {
          "base_uri": "https://localhost:8080/"
        },
        "id": "W2sex9cEZC3s",
        "outputId": "6fc43d1a-78f3-45b1-f89c-ea238bf9d0d1"
      },
      "execution_count": 83,
      "outputs": [
        {
          "output_type": "execute_result",
          "data": {
            "text/plain": [
              "Response(response='[/', source_nodes=[NodeWithScore(node=TextNode(id_='82726765-43d7-492c-98ef-8d4030c3afb3', embedding=None, metadata={}, excluded_embed_metadata_keys=[], excluded_llm_metadata_keys=[], relationships={<NodeRelationship.SOURCE: '1'>: RelatedNodeInfo(node_id='96761280-1add-4e51-b1f3-d1af28c43f4f', node_type=<ObjectType.DOCUMENT: '4'>, metadata={}, hash='458f4f616ef88556bd5bdcfaf788bbfba1aca4762edc538de07853990ef633a0'), <NodeRelationship.PREVIOUS: '2'>: RelatedNodeInfo(node_id='bdbc6346-4dac-4ec8-95e9-05d2b633e36b', node_type=<ObjectType.TEXT: '1'>, metadata={}, hash='91d8b35cb6e67f0746b52fb8fbb6db457278d71b152d36a58e8856252eeb45d9'), <NodeRelationship.NEXT: '3'>: RelatedNodeInfo(node_id='4357cf46-3a05-4b3f-a937-250f6f750b8f', node_type=<ObjectType.TEXT: '1'>, metadata={}, hash='7fd6ce578bd10222fa4598814e601072116f045a246deb89e8b47042ee560cb8')}, hash='7ddfdf856d367dbb4709dfdf9bb765a02de44cec8af362f4e4c722d4fba49034', text='Additionally, strengthening of foreign currencies may increase the Company’s cost of product components denominated in those currencies, thus adversely affecting gross margins.\\n\\nThe Company uses derivative instruments, such as foreign currency forward and option contracts, to hedge certain exposures to fluctuations in foreign exchange rates. The use of such hedging activities may not be effective to offset any, or more than a portion, of the adverse financial effects of unfavorable movements in foreign exchange rates over the limited time the hedges are in place.\\n\\nThe Company is exposed to credit risk and fluctuations in the values of its investment portfolio.\\n\\nThe Company’s investments can be negatively affected by changes in liquidity, credit deterioration, financial results, market and economic conditions, political risk, sovereign risk, interest rate fluctuations or other factors. As a result, the value and liquidity of the Company’s cash, cash equivalents and marketable securities may fluctuate substantially. Therefore, although the Company has not realized any significant losses on its cash, cash equivalents and marketable securities, future fluctuations in their value could result in significant losses and could have a material adverse impact on the Company’s results of operations and financial condition.\\n\\nApple Inc. | 2023 Form 10-K | 15\\n\\nThe Company is exposed to credit risk on its trade accounts receivable, vendor non-trade receivables and prepayments related to long-term supply agreements, and this risk is heightened during periods when economic conditions worsen.\\n\\nThe Company distributes its products and certain of its services through third-party cellular network carriers, wholesalers, retailers and resellers. The Company also sells its products and services directly to small and mid-sized businesses and education, enterprise and government customers. A substantial majority of the Company’s outstanding trade receivables are not covered by collateral, third-party bank support or financing arrangements, or credit insurance, and a significant portion of the Company’s trade receivables can be concentrated within cellular network carriers or other resellers. The Company’s exposure to credit and collectibility risk on its trade receivables is higher in certain international markets and its ability to mitigate such risks may be limited. The Company also has unsecured vendor non-trade receivables resulting from purchases of components by outsourcing partners and other vendors that manufacture subassemblies or assemble final products for the Company. In addition, the Company has made prepayments associated with long-term supply agreements to secure supply of inventory components. As of September\\xa030, 2023, the Company’s vendor non-trade receivables and prepayments related to long-term supply agreements were concentrated among a few individual vendors located primarily in Asia. While the Company has procedures to monitor and limit exposure to credit risk on its trade and vendor non-trade receivables, as well as long-term prepayments, there can be no assurance such procedures will effectively limit its credit risk and avoid losses.\\n\\nThe Company is subject to changes in tax rates, the adoption of new U.S. or international tax legislation and exposure to additional tax liabilities.\\n\\nThe Company is subject to taxes in the U.S. and numerous foreign jurisdictions, including Ireland and Singapore, where a number of the Company’s subsidiaries are organized. Due to economic and political conditions, tax laws and tax rates for income taxes and other non-income taxes in various jurisdictions may be subject to significant change. For example, the Organisation for Economic Co-operation and Development continues to advance proposals for modernizing international tax rules, including the introduction of global minimum tax standards. The Company’s effective tax rates are affected by changes in the mix of earnings in countries with differing statutory tax rates, changes in the valuation of deferred tax assets and liabilities, the introduction of new taxes, and changes in tax laws or their interpretation. The application of tax laws may be uncertain, require significant judgment and be subject to differing interpretations.\\n\\nThe Company is also subject to the examination of its tax returns and other tax matters by the U.S. Internal Revenue Service and other tax authorities and governmental bodies. The Company regularly assesses the likelihood of an adverse outcome resulting from these examinations to determine the adequacy of its provision for taxes. There can be no assurance as to the outcome of these examinations. If the Company’s effective tax rates were to increase, or if the ultimate determination of the Company’s taxes owed is for an amount in excess of amounts previously accrued, the Company’s business, results of operations and financial condition could be materially adversely affected.\\n\\nGeneral Risks\\n\\nThe price of the Company’s stock is subject to volatility.\\n\\nThe Company’s stock has experienced substantial price volatility in the past and may continue to do so in the future. Additionally, the Company, the technology industry and the stock market as a whole have, from time to time, experienced extreme stock price and volume fluctuations that have affected stock prices in ways that may have been unrelated to these companies’ operating performance. Price volatility may cause the average price at which the Company repurchases its stock in a given period to exceed the stock’s price at a given point in time.', start_char_idx=83942, end_char_idx=89542, text_template='{metadata_str}\\n\\n{content}', metadata_template='{key}: {value}', metadata_seperator='\\n'), score=0.8724811254963933), NodeWithScore(node=TextNode(id_='bebc49cd-e7e0-43f1-8a45-d34a7c16721c', embedding=None, metadata={}, excluded_embed_metadata_keys=[], excluded_llm_metadata_keys=[], relationships={<NodeRelationship.SOURCE: '1'>: RelatedNodeInfo(node_id='96761280-1add-4e51-b1f3-d1af28c43f4f', node_type=<ObjectType.DOCUMENT: '4'>, metadata={}, hash='458f4f616ef88556bd5bdcfaf788bbfba1aca4762edc538de07853990ef633a0'), <NodeRelationship.PREVIOUS: '2'>: RelatedNodeInfo(node_id='19dca40e-c090-4b96-9202-6a07400011f4', node_type=<ObjectType.TEXT: '1'>, metadata={}, hash='d5a151ebc74f1235f6a5d557793d9fa8e7764569e37f8f66419a80792aeb6bfc'), <NodeRelationship.NEXT: '3'>: RelatedNodeInfo(node_id='bd0f185c-443f-406b-9383-87ffbd4f1a3f', node_type=<ObjectType.TEXT: '1'>, metadata={}, hash='b2ae1c590db28813491995ad2a714a9a30c2066a8353ef4914a6a9d1b918d558')}, hash='25955565ae62efe5815f3b8986109f62d04fb24e110d378537810a7a8bb7123b', text='Apple Inc. | 2023 Form 10-K | 5\\n\\nThe Company has a large, global business with sales outside the U.S. representing a majority of the Company’s total net sales, and the Company believes that it generally benefits from growth in international trade. Substantially all of the Company’s manufacturing is performed in whole or in part by outsourcing partners located primarily in China mainland, India, Japan, South Korea, Taiwan and Vietnam. Restrictions on international trade, such as tariffs and other controls on imports or exports of goods, technology or data, can materially adversely affect the Company’s operations and supply chain and limit the Company’s ability to offer and distribute its products and services to customers. The impact can be particularly significant if these restrictive measures apply to countries and regions where the Company derives a significant portion of its revenues and/or has significant supply chain operations. Restrictive measures can require the Company to take various actions, including changing suppliers, restructuring business relationships, and ceasing to offer third-party applications on its platforms. Changing the Company’s operations in accordance with new or changed restrictions on international trade can be expensive, time-consuming and disruptive to the Company’s operations. Such restrictions can be announced with little or no advance notice and the Company may not be able to effectively mitigate all adverse impacts from such measures. For example, tensions between governments, including the U.S. and China, have in the past led to tariffs and other restrictions being imposed on the Company’s business. If disputes and conflicts further escalate in the future, actions by governments in response could be significantly more severe and restrictive and could materially adversely affect the Company’s business. Political uncertainty surrounding trade and other international disputes could also have a negative effect on consumer confidence and spending, which could adversely affect the Company’s business.\\n\\nMany of the Company’s operations and facilities, as well as critical business operations of the Company’s suppliers and contract manufacturers, are in locations that are prone to earthquakes and other natural disasters. In addition, such operations and facilities are subject to the risk of interruption by fire, power shortages, nuclear power plant accidents and other industrial accidents, terrorist attacks and other hostile acts, ransomware and other cybersecurity attacks, labor disputes, public health issues, including pandemics such as the COVID-19 pandemic, and other events beyond the Company’s control. Global climate change is resulting in certain types of natural disasters, such as droughts, floods, hurricanes and wildfires, occurring more frequently or with more intense effects. Such events can make it difficult or impossible for the Company to manufacture and deliver products to its customers, create delays and inefficiencies in the Company’s supply and manufacturing chain, and result in slowdowns and outages to the Company’s service offerings, and negatively impact consumer spending and demand in affected areas. Following an interruption to its business, the Company can require substantial recovery time, experience significant expenditures to resume operations, and lose significant sales. Because the Company relies on single or limited sources for the supply and manufacture of many critical components, a business interruption affecting such sources would exacerbate any negative consequences to the Company.\\n\\nThe Company’s operations are also subject to the risks of industrial accidents at its suppliers and contract manufacturers. While the Company’s suppliers are required to maintain safe working environments and operations, an industrial accident could occur and could result in serious injuries or loss of life, disruption to the Company’s business, and harm to the Company’s reputation. Major public health issues, including pandemics such as the COVID-19 pandemic, have adversely affected, and could in the future materially adversely affect, the Company due to their impact on the global economy and demand for consumer products; the imposition of protective public safety measures, such as stringent employee travel restrictions and limitations on freight services and the movement of products between regions; and disruptions in the Company’s operations, supply chain and sales and distribution channels, resulting in interruptions to the supply of current products and offering of existing services, and delays in production ramps of new products and development of new services.\\n\\nWhile the Company maintains insurance coverage for certain types of losses, such insurance coverage may be insufficient to cover all losses that may arise.\\n\\nGlobal markets for the Company’s products and services are highly competitive and subject to rapid technological change, and the Company may be unable to compete effectively in these markets.\\n\\nThe Company’s products and services are offered in highly competitive global markets characterized by aggressive price competition and resulting downward pressure on gross margins, frequent introduction of new products and services, short product life cycles, evolving industry standards, continual improvement in product price and performance characteristics, rapid adoption of technological advancements by competitors, and price sensitivity on the part of consumers and businesses.\\n\\nThe Company’s ability to compete successfully depends heavily on ensuring the continuing and timely introduction of innovative new products, services and technologies to the marketplace. The Company designs and develops nearly the entire solution for its products, including the hardware, operating system, numerous software applications and related services. As a result, the Company must make significant investments in R&D.', start_char_idx=26333, end_char_idx=32289, text_template='{metadata_str}\\n\\n{content}', metadata_template='{key}: {value}', metadata_seperator='\\n'), score=0.8638595380757061)], metadata={'82726765-43d7-492c-98ef-8d4030c3afb3': {}, 'bebc49cd-e7e0-43f1-8a45-d34a7c16721c': {}})"
            ]
          },
          "metadata": {},
          "execution_count": 83
        }
      ]
    },
    {
      "cell_type": "code",
      "source": [
        "llm.complete(\"Summarize the following :\"+response)"
      ],
      "metadata": {
        "colab": {
          "base_uri": "https://localhost:8080/",
          "height": 179
        },
        "id": "jPTYoPWjc9Qs",
        "outputId": "03823727-f3de-40b2-9d26-f4d2304b00f8"
      },
      "execution_count": 80,
      "outputs": [
        {
          "output_type": "error",
          "ename": "TypeError",
          "evalue": "ignored",
          "traceback": [
            "\u001b[0;31m---------------------------------------------------------------------------\u001b[0m",
            "\u001b[0;31mTypeError\u001b[0m                                 Traceback (most recent call last)",
            "\u001b[0;32m<ipython-input-80-5399cdde0655>\u001b[0m in \u001b[0;36m<cell line: 1>\u001b[0;34m()\u001b[0m\n\u001b[0;32m----> 1\u001b[0;31m \u001b[0mllm\u001b[0m\u001b[0;34m.\u001b[0m\u001b[0mcomplete\u001b[0m\u001b[0;34m(\u001b[0m\u001b[0;34m\"Summarize the following :\"\u001b[0m\u001b[0;34m+\u001b[0m\u001b[0mresponse\u001b[0m\u001b[0;34m)\u001b[0m\u001b[0;34m\u001b[0m\u001b[0;34m\u001b[0m\u001b[0m\n\u001b[0m",
            "\u001b[0;31mTypeError\u001b[0m: can only concatenate str (not \"Response\") to str"
          ]
        }
      ]
    },
    {
      "cell_type": "markdown",
      "source": [
        "## Router Query Engine"
      ],
      "metadata": {
        "id": "aCdR2_wmNol6"
      }
    },
    {
      "cell_type": "code",
      "source": [
        "from llama_index.tools import QueryEngineTool, ToolMetadata\n",
        "\n",
        "vector_tool = QueryEngineTool(\n",
        "    vector_index.as_query_engine(),\n",
        "    metadata=ToolMetadata(\n",
        "        name=\"vector_search\",\n",
        "        description=\"Useful for searching for specific facts.\"\n",
        "    )\n",
        ")\n",
        "\n",
        "summary_tool = QueryEngineTool(\n",
        "    summary_index.as_query_engine(response_mode=\"tree_summarize\"),\n",
        "    metadata=ToolMetadata(\n",
        "        name=\"summary\",\n",
        "        description=\"Useful for summarizing an entire document.\"\n",
        "    )\n",
        ")"
      ],
      "metadata": {
        "id": "axuO04J9SdZ_"
      },
      "execution_count": 84,
      "outputs": []
    },
    {
      "cell_type": "markdown",
      "source": [
        "### Single Selector"
      ],
      "metadata": {
        "id": "C7YhReZgNuoj"
      }
    },
    {
      "cell_type": "code",
      "source": [
        "from llama_index.query_engine import RouterQueryEngine\n",
        "\n",
        "query_engine = RouterQueryEngine.from_defaults(\n",
        "    [vector_tool, summary_tool],\n",
        "    service_context=service_context,\n",
        "    select_multi=False\n",
        ")\n",
        "\n",
        "response = query_engine.query(\"Does the company do interest rate swaps?\")\n",
        "\n",
        "display_response(response)"
      ],
      "metadata": {
        "colab": {
          "base_uri": "https://localhost:8080/",
          "height": 83
        },
        "id": "S7Dv6ENHNuI8",
        "outputId": "03bd8a87-dcdb-4f9d-8651-7dfd12e7e24e"
      },
      "execution_count": 87,
      "outputs": [
        {
          "output_type": "stream",
          "name": "stderr",
          "text": [
            "Setting `pad_token_id` to `eos_token_id`:2 for open-end generation.\n",
            "Setting `pad_token_id` to `eos_token_id`:2 for open-end generation.\n"
          ]
        },
        {
          "output_type": "display_data",
          "data": {
            "text/plain": [
              "<IPython.core.display.Markdown object>"
            ],
            "text/markdown": "**`Final Response:`** [/"
          },
          "metadata": {}
        }
      ]
    },
    {
      "cell_type": "code",
      "source": [
        "len(response.response)"
      ],
      "metadata": {
        "colab": {
          "base_uri": "https://localhost:8080/"
        },
        "id": "izped9cRcV_K",
        "outputId": "f88f5b96-e112-48c5-d397-3c55fc577786"
      },
      "execution_count": 91,
      "outputs": [
        {
          "output_type": "execute_result",
          "data": {
            "text/plain": [
              "2"
            ]
          },
          "metadata": {},
          "execution_count": 91
        }
      ]
    },
    {
      "cell_type": "code",
      "source": [
        "response.response"
      ],
      "metadata": {
        "colab": {
          "base_uri": "https://localhost:8080/",
          "height": 35
        },
        "id": "wDrSFiR-Xfgs",
        "outputId": "313cc954-2ddf-4e31-8c28-0ac2bc6482d4"
      },
      "execution_count": 95,
      "outputs": [
        {
          "output_type": "execute_result",
          "data": {
            "text/plain": [
              "'[/'"
            ],
            "application/vnd.google.colaboratory.intrinsic+json": {
              "type": "string"
            }
          },
          "metadata": {},
          "execution_count": 95
        }
      ]
    },
    {
      "cell_type": "markdown",
      "source": [
        "### Multi Selector"
      ],
      "metadata": {
        "id": "4bfvsADtNweD"
      }
    },
    {
      "cell_type": "code",
      "source": [
        "from llama_index.query_engine import RouterQueryEngine\n",
        "\n",
        "query_engine = RouterQueryEngine.from_defaults(\n",
        "    [vector_tool, summary_tool],\n",
        "    service_context=service_context,\n",
        "    select_multi=True,\n",
        ")\n",
        "\n",
        "response = query_engine.query(\"Summarize apples interest rate, foreign exchange and inflation risk and the hedges they have in 3 bullet points\")\n",
        "\n",
        "display_response(response)"
      ],
      "metadata": {
        "colab": {
          "base_uri": "https://localhost:8080/",
          "height": 1000
        },
        "id": "VKqv3-txNwQS",
        "outputId": "144ccd52-3620-47d3-a13f-cda174a7e89b"
      },
      "execution_count": 96,
      "outputs": [
        {
          "output_type": "stream",
          "name": "stderr",
          "text": [
            "/usr/local/lib/python3.10/dist-packages/transformers/generation/configuration_utils.py:381: UserWarning: `do_sample` is set to `False`. However, `temperature` is set to `0.2` -- this flag is only used in sample-based generation modes. You should set `do_sample=True` or unset `temperature`.\n",
            "  warnings.warn(\n",
            "/usr/local/lib/python3.10/dist-packages/transformers/generation/configuration_utils.py:386: UserWarning: `do_sample` is set to `False`. However, `top_p` is set to `0.95` -- this flag is only used in sample-based generation modes. You should set `do_sample=True` or unset `top_p`.\n",
            "  warnings.warn(\n",
            "/usr/local/lib/python3.10/dist-packages/transformers/generation/configuration_utils.py:396: UserWarning: `do_sample` is set to `False`. However, `top_k` is set to `5` -- this flag is only used in sample-based generation modes. You should set `do_sample=True` or unset `top_k`.\n",
            "  warnings.warn(\n",
            "Setting `pad_token_id` to `eos_token_id`:2 for open-end generation.\n",
            "Setting `pad_token_id` to `eos_token_id`:2 for open-end generation.\n",
            "Setting `pad_token_id` to `eos_token_id`:2 for open-end generation.\n",
            "Setting `pad_token_id` to `eos_token_id`:2 for open-end generation.\n",
            "Setting `pad_token_id` to `eos_token_id`:2 for open-end generation.\n",
            "Setting `pad_token_id` to `eos_token_id`:2 for open-end generation.\n",
            "Setting `pad_token_id` to `eos_token_id`:2 for open-end generation.\n",
            "Setting `pad_token_id` to `eos_token_id`:2 for open-end generation.\n",
            "Setting `pad_token_id` to `eos_token_id`:2 for open-end generation.\n",
            "Setting `pad_token_id` to `eos_token_id`:2 for open-end generation.\n",
            "Setting `pad_token_id` to `eos_token_id`:2 for open-end generation.\n",
            "Setting `pad_token_id` to `eos_token_id`:2 for open-end generation.\n",
            "Setting `pad_token_id` to `eos_token_id`:2 for open-end generation.\n",
            "Setting `pad_token_id` to `eos_token_id`:2 for open-end generation.\n",
            "Setting `pad_token_id` to `eos_token_id`:2 for open-end generation.\n",
            "Setting `pad_token_id` to `eos_token_id`:2 for open-end generation.\n",
            "Setting `pad_token_id` to `eos_token_id`:2 for open-end generation.\n",
            "Setting `pad_token_id` to `eos_token_id`:2 for open-end generation.\n",
            "Setting `pad_token_id` to `eos_token_id`:2 for open-end generation.\n",
            "Setting `pad_token_id` to `eos_token_id`:2 for open-end generation.\n",
            "Setting `pad_token_id` to `eos_token_id`:2 for open-end generation.\n",
            "Setting `pad_token_id` to `eos_token_id`:2 for open-end generation.\n",
            "Setting `pad_token_id` to `eos_token_id`:2 for open-end generation.\n",
            "Setting `pad_token_id` to `eos_token_id`:2 for open-end generation.\n",
            "Setting `pad_token_id` to `eos_token_id`:2 for open-end generation.\n"
          ]
        },
        {
          "output_type": "error",
          "ename": "OutOfMemoryError",
          "evalue": "ignored",
          "traceback": [
            "\u001b[0;31m---------------------------------------------------------------------------\u001b[0m",
            "\u001b[0;31mOutOfMemoryError\u001b[0m                          Traceback (most recent call last)",
            "\u001b[0;32m<ipython-input-96-89d10343f5d9>\u001b[0m in \u001b[0;36m<cell line: 9>\u001b[0;34m()\u001b[0m\n\u001b[1;32m      7\u001b[0m )\n\u001b[1;32m      8\u001b[0m \u001b[0;34m\u001b[0m\u001b[0m\n\u001b[0;32m----> 9\u001b[0;31m \u001b[0mresponse\u001b[0m \u001b[0;34m=\u001b[0m \u001b[0mquery_engine\u001b[0m\u001b[0;34m.\u001b[0m\u001b[0mquery\u001b[0m\u001b[0;34m(\u001b[0m\u001b[0;34m\"Summarize apples interest rate, foreign exchange and inflation risk and the hedges they have in 3 bullet points\"\u001b[0m\u001b[0;34m)\u001b[0m\u001b[0;34m\u001b[0m\u001b[0;34m\u001b[0m\u001b[0m\n\u001b[0m\u001b[1;32m     10\u001b[0m \u001b[0;34m\u001b[0m\u001b[0m\n\u001b[1;32m     11\u001b[0m \u001b[0mdisplay_response\u001b[0m\u001b[0;34m(\u001b[0m\u001b[0mresponse\u001b[0m\u001b[0;34m)\u001b[0m\u001b[0;34m\u001b[0m\u001b[0;34m\u001b[0m\u001b[0m\n",
            "\u001b[0;32m/usr/local/lib/python3.10/dist-packages/llama_index/core/base_query_engine.py\u001b[0m in \u001b[0;36mquery\u001b[0;34m(self, str_or_query_bundle)\u001b[0m\n\u001b[1;32m     28\u001b[0m             \u001b[0;32mif\u001b[0m \u001b[0misinstance\u001b[0m\u001b[0;34m(\u001b[0m\u001b[0mstr_or_query_bundle\u001b[0m\u001b[0;34m,\u001b[0m \u001b[0mstr\u001b[0m\u001b[0;34m)\u001b[0m\u001b[0;34m:\u001b[0m\u001b[0;34m\u001b[0m\u001b[0;34m\u001b[0m\u001b[0m\n\u001b[1;32m     29\u001b[0m                 \u001b[0mstr_or_query_bundle\u001b[0m \u001b[0;34m=\u001b[0m \u001b[0mQueryBundle\u001b[0m\u001b[0;34m(\u001b[0m\u001b[0mstr_or_query_bundle\u001b[0m\u001b[0;34m)\u001b[0m\u001b[0;34m\u001b[0m\u001b[0;34m\u001b[0m\u001b[0m\n\u001b[0;32m---> 30\u001b[0;31m             \u001b[0;32mreturn\u001b[0m \u001b[0mself\u001b[0m\u001b[0;34m.\u001b[0m\u001b[0m_query\u001b[0m\u001b[0;34m(\u001b[0m\u001b[0mstr_or_query_bundle\u001b[0m\u001b[0;34m)\u001b[0m\u001b[0;34m\u001b[0m\u001b[0;34m\u001b[0m\u001b[0m\n\u001b[0m\u001b[1;32m     31\u001b[0m \u001b[0;34m\u001b[0m\u001b[0m\n\u001b[1;32m     32\u001b[0m     \u001b[0;32masync\u001b[0m \u001b[0;32mdef\u001b[0m \u001b[0maquery\u001b[0m\u001b[0;34m(\u001b[0m\u001b[0mself\u001b[0m\u001b[0;34m,\u001b[0m \u001b[0mstr_or_query_bundle\u001b[0m\u001b[0;34m:\u001b[0m \u001b[0mQueryType\u001b[0m\u001b[0;34m)\u001b[0m \u001b[0;34m->\u001b[0m \u001b[0mRESPONSE_TYPE\u001b[0m\u001b[0;34m:\u001b[0m\u001b[0;34m\u001b[0m\u001b[0;34m\u001b[0m\u001b[0m\n",
            "\u001b[0;32m/usr/local/lib/python3.10/dist-packages/llama_index/query_engine/router_query_engine.py\u001b[0m in \u001b[0;36m_query\u001b[0;34m(self, query_bundle)\u001b[0m\n\u001b[1;32m    157\u001b[0m                     )\n\u001b[1;32m    158\u001b[0m                     \u001b[0mselected_query_engine\u001b[0m \u001b[0;34m=\u001b[0m \u001b[0mself\u001b[0m\u001b[0;34m.\u001b[0m\u001b[0m_query_engines\u001b[0m\u001b[0;34m[\u001b[0m\u001b[0mengine_ind\u001b[0m\u001b[0;34m]\u001b[0m\u001b[0;34m\u001b[0m\u001b[0;34m\u001b[0m\u001b[0m\n\u001b[0;32m--> 159\u001b[0;31m                     \u001b[0mresponses\u001b[0m\u001b[0;34m.\u001b[0m\u001b[0mappend\u001b[0m\u001b[0;34m(\u001b[0m\u001b[0mselected_query_engine\u001b[0m\u001b[0;34m.\u001b[0m\u001b[0mquery\u001b[0m\u001b[0;34m(\u001b[0m\u001b[0mquery_bundle\u001b[0m\u001b[0;34m)\u001b[0m\u001b[0;34m)\u001b[0m\u001b[0;34m\u001b[0m\u001b[0;34m\u001b[0m\u001b[0m\n\u001b[0m\u001b[1;32m    160\u001b[0m \u001b[0;34m\u001b[0m\u001b[0m\n\u001b[1;32m    161\u001b[0m                 \u001b[0;32mif\u001b[0m \u001b[0mlen\u001b[0m\u001b[0;34m(\u001b[0m\u001b[0mresponses\u001b[0m\u001b[0;34m)\u001b[0m \u001b[0;34m>\u001b[0m \u001b[0;36m1\u001b[0m\u001b[0;34m:\u001b[0m\u001b[0;34m\u001b[0m\u001b[0;34m\u001b[0m\u001b[0m\n",
            "\u001b[0;32m/usr/local/lib/python3.10/dist-packages/llama_index/core/base_query_engine.py\u001b[0m in \u001b[0;36mquery\u001b[0;34m(self, str_or_query_bundle)\u001b[0m\n\u001b[1;32m     28\u001b[0m             \u001b[0;32mif\u001b[0m \u001b[0misinstance\u001b[0m\u001b[0;34m(\u001b[0m\u001b[0mstr_or_query_bundle\u001b[0m\u001b[0;34m,\u001b[0m \u001b[0mstr\u001b[0m\u001b[0;34m)\u001b[0m\u001b[0;34m:\u001b[0m\u001b[0;34m\u001b[0m\u001b[0;34m\u001b[0m\u001b[0m\n\u001b[1;32m     29\u001b[0m                 \u001b[0mstr_or_query_bundle\u001b[0m \u001b[0;34m=\u001b[0m \u001b[0mQueryBundle\u001b[0m\u001b[0;34m(\u001b[0m\u001b[0mstr_or_query_bundle\u001b[0m\u001b[0;34m)\u001b[0m\u001b[0;34m\u001b[0m\u001b[0;34m\u001b[0m\u001b[0m\n\u001b[0;32m---> 30\u001b[0;31m             \u001b[0;32mreturn\u001b[0m \u001b[0mself\u001b[0m\u001b[0;34m.\u001b[0m\u001b[0m_query\u001b[0m\u001b[0;34m(\u001b[0m\u001b[0mstr_or_query_bundle\u001b[0m\u001b[0;34m)\u001b[0m\u001b[0;34m\u001b[0m\u001b[0;34m\u001b[0m\u001b[0m\n\u001b[0m\u001b[1;32m     31\u001b[0m \u001b[0;34m\u001b[0m\u001b[0m\n\u001b[1;32m     32\u001b[0m     \u001b[0;32masync\u001b[0m \u001b[0;32mdef\u001b[0m \u001b[0maquery\u001b[0m\u001b[0;34m(\u001b[0m\u001b[0mself\u001b[0m\u001b[0;34m,\u001b[0m \u001b[0mstr_or_query_bundle\u001b[0m\u001b[0;34m:\u001b[0m \u001b[0mQueryType\u001b[0m\u001b[0;34m)\u001b[0m \u001b[0;34m->\u001b[0m \u001b[0mRESPONSE_TYPE\u001b[0m\u001b[0;34m:\u001b[0m\u001b[0;34m\u001b[0m\u001b[0;34m\u001b[0m\u001b[0m\n",
            "\u001b[0;32m/usr/local/lib/python3.10/dist-packages/llama_index/query_engine/retriever_query_engine.py\u001b[0m in \u001b[0;36m_query\u001b[0;34m(self, query_bundle)\u001b[0m\n\u001b[1;32m    169\u001b[0m         ) as query_event:\n\u001b[1;32m    170\u001b[0m             \u001b[0mnodes\u001b[0m \u001b[0;34m=\u001b[0m \u001b[0mself\u001b[0m\u001b[0;34m.\u001b[0m\u001b[0mretrieve\u001b[0m\u001b[0;34m(\u001b[0m\u001b[0mquery_bundle\u001b[0m\u001b[0;34m)\u001b[0m\u001b[0;34m\u001b[0m\u001b[0;34m\u001b[0m\u001b[0m\n\u001b[0;32m--> 171\u001b[0;31m             response = self._response_synthesizer.synthesize(\n\u001b[0m\u001b[1;32m    172\u001b[0m                 \u001b[0mquery\u001b[0m\u001b[0;34m=\u001b[0m\u001b[0mquery_bundle\u001b[0m\u001b[0;34m,\u001b[0m\u001b[0;34m\u001b[0m\u001b[0;34m\u001b[0m\u001b[0m\n\u001b[1;32m    173\u001b[0m                 \u001b[0mnodes\u001b[0m\u001b[0;34m=\u001b[0m\u001b[0mnodes\u001b[0m\u001b[0;34m,\u001b[0m\u001b[0;34m\u001b[0m\u001b[0;34m\u001b[0m\u001b[0m\n",
            "\u001b[0;32m/usr/local/lib/python3.10/dist-packages/llama_index/response_synthesizers/base.py\u001b[0m in \u001b[0;36msynthesize\u001b[0;34m(self, query, nodes, additional_source_nodes, **response_kwargs)\u001b[0m\n\u001b[1;32m    144\u001b[0m             \u001b[0mCBEventType\u001b[0m\u001b[0;34m.\u001b[0m\u001b[0mSYNTHESIZE\u001b[0m\u001b[0;34m,\u001b[0m \u001b[0mpayload\u001b[0m\u001b[0;34m=\u001b[0m\u001b[0;34m{\u001b[0m\u001b[0mEventPayload\u001b[0m\u001b[0;34m.\u001b[0m\u001b[0mQUERY_STR\u001b[0m\u001b[0;34m:\u001b[0m \u001b[0mquery\u001b[0m\u001b[0;34m.\u001b[0m\u001b[0mquery_str\u001b[0m\u001b[0;34m}\u001b[0m\u001b[0;34m\u001b[0m\u001b[0;34m\u001b[0m\u001b[0m\n\u001b[1;32m    145\u001b[0m         ) as event:\n\u001b[0;32m--> 146\u001b[0;31m             response_str = self.get_response(\n\u001b[0m\u001b[1;32m    147\u001b[0m                 \u001b[0mquery_str\u001b[0m\u001b[0;34m=\u001b[0m\u001b[0mquery\u001b[0m\u001b[0;34m.\u001b[0m\u001b[0mquery_str\u001b[0m\u001b[0;34m,\u001b[0m\u001b[0;34m\u001b[0m\u001b[0;34m\u001b[0m\u001b[0m\n\u001b[1;32m    148\u001b[0m                 text_chunks=[\n",
            "\u001b[0;32m/usr/local/lib/python3.10/dist-packages/llama_index/response_synthesizers/tree_summarize.py\u001b[0m in \u001b[0;36mget_response\u001b[0;34m(self, query_str, text_chunks, **response_kwargs)\u001b[0m\n\u001b[1;32m    198\u001b[0m             \u001b[0;32melse\u001b[0m\u001b[0;34m:\u001b[0m\u001b[0;34m\u001b[0m\u001b[0;34m\u001b[0m\u001b[0m\n\u001b[1;32m    199\u001b[0m                 \u001b[0;32mif\u001b[0m \u001b[0mself\u001b[0m\u001b[0;34m.\u001b[0m\u001b[0m_output_cls\u001b[0m \u001b[0;32mis\u001b[0m \u001b[0;32mNone\u001b[0m\u001b[0;34m:\u001b[0m\u001b[0;34m\u001b[0m\u001b[0;34m\u001b[0m\u001b[0m\n\u001b[0;32m--> 200\u001b[0;31m                     summaries = [\n\u001b[0m\u001b[1;32m    201\u001b[0m                         self._service_context.llm.predict(\n\u001b[1;32m    202\u001b[0m                             \u001b[0msummary_template\u001b[0m\u001b[0;34m,\u001b[0m\u001b[0;34m\u001b[0m\u001b[0;34m\u001b[0m\u001b[0m\n",
            "\u001b[0;32m/usr/local/lib/python3.10/dist-packages/llama_index/response_synthesizers/tree_summarize.py\u001b[0m in \u001b[0;36m<listcomp>\u001b[0;34m(.0)\u001b[0m\n\u001b[1;32m    199\u001b[0m                 \u001b[0;32mif\u001b[0m \u001b[0mself\u001b[0m\u001b[0;34m.\u001b[0m\u001b[0m_output_cls\u001b[0m \u001b[0;32mis\u001b[0m \u001b[0;32mNone\u001b[0m\u001b[0;34m:\u001b[0m\u001b[0;34m\u001b[0m\u001b[0;34m\u001b[0m\u001b[0m\n\u001b[1;32m    200\u001b[0m                     summaries = [\n\u001b[0;32m--> 201\u001b[0;31m                         self._service_context.llm.predict(\n\u001b[0m\u001b[1;32m    202\u001b[0m                             \u001b[0msummary_template\u001b[0m\u001b[0;34m,\u001b[0m\u001b[0;34m\u001b[0m\u001b[0;34m\u001b[0m\u001b[0m\n\u001b[1;32m    203\u001b[0m                             \u001b[0mcontext_str\u001b[0m\u001b[0;34m=\u001b[0m\u001b[0mtext_chunk\u001b[0m\u001b[0;34m,\u001b[0m\u001b[0;34m\u001b[0m\u001b[0;34m\u001b[0m\u001b[0m\n",
            "\u001b[0;32m/usr/local/lib/python3.10/dist-packages/llama_index/llms/llm.py\u001b[0m in \u001b[0;36mpredict\u001b[0;34m(self, prompt, **prompt_args)\u001b[0m\n\u001b[1;32m    222\u001b[0m         \u001b[0;32melse\u001b[0m\u001b[0;34m:\u001b[0m\u001b[0;34m\u001b[0m\u001b[0;34m\u001b[0m\u001b[0m\n\u001b[1;32m    223\u001b[0m             \u001b[0mformatted_prompt\u001b[0m \u001b[0;34m=\u001b[0m \u001b[0mself\u001b[0m\u001b[0;34m.\u001b[0m\u001b[0m_get_prompt\u001b[0m\u001b[0;34m(\u001b[0m\u001b[0mprompt\u001b[0m\u001b[0;34m,\u001b[0m \u001b[0;34m**\u001b[0m\u001b[0mprompt_args\u001b[0m\u001b[0;34m)\u001b[0m\u001b[0;34m\u001b[0m\u001b[0;34m\u001b[0m\u001b[0m\n\u001b[0;32m--> 224\u001b[0;31m             \u001b[0mresponse\u001b[0m \u001b[0;34m=\u001b[0m \u001b[0mself\u001b[0m\u001b[0;34m.\u001b[0m\u001b[0mcomplete\u001b[0m\u001b[0;34m(\u001b[0m\u001b[0mformatted_prompt\u001b[0m\u001b[0;34m)\u001b[0m\u001b[0;34m\u001b[0m\u001b[0;34m\u001b[0m\u001b[0m\n\u001b[0m\u001b[1;32m    225\u001b[0m             \u001b[0moutput\u001b[0m \u001b[0;34m=\u001b[0m \u001b[0mresponse\u001b[0m\u001b[0;34m.\u001b[0m\u001b[0mtext\u001b[0m\u001b[0;34m\u001b[0m\u001b[0;34m\u001b[0m\u001b[0m\n\u001b[1;32m    226\u001b[0m \u001b[0;34m\u001b[0m\u001b[0m\n",
            "\u001b[0;32m/usr/local/lib/python3.10/dist-packages/llama_index/llms/base.py\u001b[0m in \u001b[0;36mwrapped_llm_predict\u001b[0;34m(_self, *args, **kwargs)\u001b[0m\n\u001b[1;32m    221\u001b[0m                 )\n\u001b[1;32m    222\u001b[0m \u001b[0;34m\u001b[0m\u001b[0m\n\u001b[0;32m--> 223\u001b[0;31m                 \u001b[0mf_return_val\u001b[0m \u001b[0;34m=\u001b[0m \u001b[0mf\u001b[0m\u001b[0;34m(\u001b[0m\u001b[0m_self\u001b[0m\u001b[0;34m,\u001b[0m \u001b[0;34m*\u001b[0m\u001b[0margs\u001b[0m\u001b[0;34m,\u001b[0m \u001b[0;34m**\u001b[0m\u001b[0mkwargs\u001b[0m\u001b[0;34m)\u001b[0m\u001b[0;34m\u001b[0m\u001b[0;34m\u001b[0m\u001b[0m\n\u001b[0m\u001b[1;32m    224\u001b[0m                 \u001b[0;32mif\u001b[0m \u001b[0misinstance\u001b[0m\u001b[0;34m(\u001b[0m\u001b[0mf_return_val\u001b[0m\u001b[0;34m,\u001b[0m \u001b[0mGenerator\u001b[0m\u001b[0;34m)\u001b[0m\u001b[0;34m:\u001b[0m\u001b[0;34m\u001b[0m\u001b[0;34m\u001b[0m\u001b[0m\n\u001b[1;32m    225\u001b[0m                     \u001b[0;31m# intercept the generator and add a callback to the end\u001b[0m\u001b[0;34m\u001b[0m\u001b[0;34m\u001b[0m\u001b[0m\n",
            "\u001b[0;32m/usr/local/lib/python3.10/dist-packages/llama_index/llms/huggingface.py\u001b[0m in \u001b[0;36mcomplete\u001b[0;34m(self, prompt, **kwargs)\u001b[0m\n\u001b[1;32m    292\u001b[0m                 \u001b[0minputs\u001b[0m\u001b[0;34m.\u001b[0m\u001b[0mpop\u001b[0m\u001b[0;34m(\u001b[0m\u001b[0mkey\u001b[0m\u001b[0;34m,\u001b[0m \u001b[0;32mNone\u001b[0m\u001b[0;34m)\u001b[0m\u001b[0;34m\u001b[0m\u001b[0;34m\u001b[0m\u001b[0m\n\u001b[1;32m    293\u001b[0m \u001b[0;34m\u001b[0m\u001b[0m\n\u001b[0;32m--> 294\u001b[0;31m         tokens = self._model.generate(\n\u001b[0m\u001b[1;32m    295\u001b[0m             \u001b[0;34m**\u001b[0m\u001b[0minputs\u001b[0m\u001b[0;34m,\u001b[0m\u001b[0;34m\u001b[0m\u001b[0;34m\u001b[0m\u001b[0m\n\u001b[1;32m    296\u001b[0m             \u001b[0mmax_new_tokens\u001b[0m\u001b[0;34m=\u001b[0m\u001b[0mself\u001b[0m\u001b[0;34m.\u001b[0m\u001b[0mmax_new_tokens\u001b[0m\u001b[0;34m,\u001b[0m\u001b[0;34m\u001b[0m\u001b[0;34m\u001b[0m\u001b[0m\n",
            "\u001b[0;32m/usr/local/lib/python3.10/dist-packages/torch/utils/_contextlib.py\u001b[0m in \u001b[0;36mdecorate_context\u001b[0;34m(*args, **kwargs)\u001b[0m\n\u001b[1;32m    113\u001b[0m     \u001b[0;32mdef\u001b[0m \u001b[0mdecorate_context\u001b[0m\u001b[0;34m(\u001b[0m\u001b[0;34m*\u001b[0m\u001b[0margs\u001b[0m\u001b[0;34m,\u001b[0m \u001b[0;34m**\u001b[0m\u001b[0mkwargs\u001b[0m\u001b[0;34m)\u001b[0m\u001b[0;34m:\u001b[0m\u001b[0;34m\u001b[0m\u001b[0;34m\u001b[0m\u001b[0m\n\u001b[1;32m    114\u001b[0m         \u001b[0;32mwith\u001b[0m \u001b[0mctx_factory\u001b[0m\u001b[0;34m(\u001b[0m\u001b[0;34m)\u001b[0m\u001b[0;34m:\u001b[0m\u001b[0;34m\u001b[0m\u001b[0;34m\u001b[0m\u001b[0m\n\u001b[0;32m--> 115\u001b[0;31m             \u001b[0;32mreturn\u001b[0m \u001b[0mfunc\u001b[0m\u001b[0;34m(\u001b[0m\u001b[0;34m*\u001b[0m\u001b[0margs\u001b[0m\u001b[0;34m,\u001b[0m \u001b[0;34m**\u001b[0m\u001b[0mkwargs\u001b[0m\u001b[0;34m)\u001b[0m\u001b[0;34m\u001b[0m\u001b[0;34m\u001b[0m\u001b[0m\n\u001b[0m\u001b[1;32m    116\u001b[0m \u001b[0;34m\u001b[0m\u001b[0m\n\u001b[1;32m    117\u001b[0m     \u001b[0;32mreturn\u001b[0m \u001b[0mdecorate_context\u001b[0m\u001b[0;34m\u001b[0m\u001b[0;34m\u001b[0m\u001b[0m\n",
            "\u001b[0;32m/usr/local/lib/python3.10/dist-packages/transformers/generation/utils.py\u001b[0m in \u001b[0;36mgenerate\u001b[0;34m(self, inputs, generation_config, logits_processor, stopping_criteria, prefix_allowed_tokens_fn, synced_gpus, assistant_model, streamer, negative_prompt_ids, negative_prompt_attention_mask, **kwargs)\u001b[0m\n\u001b[1;32m   1671\u001b[0m         \u001b[0;32mif\u001b[0m \u001b[0mgeneration_mode\u001b[0m \u001b[0;34m==\u001b[0m \u001b[0mGenerationMode\u001b[0m\u001b[0;34m.\u001b[0m\u001b[0mGREEDY_SEARCH\u001b[0m\u001b[0;34m:\u001b[0m\u001b[0;34m\u001b[0m\u001b[0;34m\u001b[0m\u001b[0m\n\u001b[1;32m   1672\u001b[0m             \u001b[0;31m# 11. run greedy search\u001b[0m\u001b[0;34m\u001b[0m\u001b[0;34m\u001b[0m\u001b[0m\n\u001b[0;32m-> 1673\u001b[0;31m             return self.greedy_search(\n\u001b[0m\u001b[1;32m   1674\u001b[0m                 \u001b[0minput_ids\u001b[0m\u001b[0;34m,\u001b[0m\u001b[0;34m\u001b[0m\u001b[0;34m\u001b[0m\u001b[0m\n\u001b[1;32m   1675\u001b[0m                 \u001b[0mlogits_processor\u001b[0m\u001b[0;34m=\u001b[0m\u001b[0mlogits_processor\u001b[0m\u001b[0;34m,\u001b[0m\u001b[0;34m\u001b[0m\u001b[0;34m\u001b[0m\u001b[0m\n",
            "\u001b[0;32m/usr/local/lib/python3.10/dist-packages/transformers/generation/utils.py\u001b[0m in \u001b[0;36mgreedy_search\u001b[0;34m(self, input_ids, logits_processor, stopping_criteria, max_length, pad_token_id, eos_token_id, output_attentions, output_hidden_states, output_scores, return_dict_in_generate, synced_gpus, streamer, **model_kwargs)\u001b[0m\n\u001b[1;32m   2519\u001b[0m \u001b[0;34m\u001b[0m\u001b[0m\n\u001b[1;32m   2520\u001b[0m             \u001b[0;31m# forward pass to get next token\u001b[0m\u001b[0;34m\u001b[0m\u001b[0;34m\u001b[0m\u001b[0m\n\u001b[0;32m-> 2521\u001b[0;31m             outputs = self(\n\u001b[0m\u001b[1;32m   2522\u001b[0m                 \u001b[0;34m**\u001b[0m\u001b[0mmodel_inputs\u001b[0m\u001b[0;34m,\u001b[0m\u001b[0;34m\u001b[0m\u001b[0;34m\u001b[0m\u001b[0m\n\u001b[1;32m   2523\u001b[0m                 \u001b[0mreturn_dict\u001b[0m\u001b[0;34m=\u001b[0m\u001b[0;32mTrue\u001b[0m\u001b[0;34m,\u001b[0m\u001b[0;34m\u001b[0m\u001b[0;34m\u001b[0m\u001b[0m\n",
            "\u001b[0;32m/usr/local/lib/python3.10/dist-packages/torch/nn/modules/module.py\u001b[0m in \u001b[0;36m_wrapped_call_impl\u001b[0;34m(self, *args, **kwargs)\u001b[0m\n\u001b[1;32m   1516\u001b[0m             \u001b[0;32mreturn\u001b[0m \u001b[0mself\u001b[0m\u001b[0;34m.\u001b[0m\u001b[0m_compiled_call_impl\u001b[0m\u001b[0;34m(\u001b[0m\u001b[0;34m*\u001b[0m\u001b[0margs\u001b[0m\u001b[0;34m,\u001b[0m \u001b[0;34m**\u001b[0m\u001b[0mkwargs\u001b[0m\u001b[0;34m)\u001b[0m  \u001b[0;31m# type: ignore[misc]\u001b[0m\u001b[0;34m\u001b[0m\u001b[0;34m\u001b[0m\u001b[0m\n\u001b[1;32m   1517\u001b[0m         \u001b[0;32melse\u001b[0m\u001b[0;34m:\u001b[0m\u001b[0;34m\u001b[0m\u001b[0;34m\u001b[0m\u001b[0m\n\u001b[0;32m-> 1518\u001b[0;31m             \u001b[0;32mreturn\u001b[0m \u001b[0mself\u001b[0m\u001b[0;34m.\u001b[0m\u001b[0m_call_impl\u001b[0m\u001b[0;34m(\u001b[0m\u001b[0;34m*\u001b[0m\u001b[0margs\u001b[0m\u001b[0;34m,\u001b[0m \u001b[0;34m**\u001b[0m\u001b[0mkwargs\u001b[0m\u001b[0;34m)\u001b[0m\u001b[0;34m\u001b[0m\u001b[0;34m\u001b[0m\u001b[0m\n\u001b[0m\u001b[1;32m   1519\u001b[0m \u001b[0;34m\u001b[0m\u001b[0m\n\u001b[1;32m   1520\u001b[0m     \u001b[0;32mdef\u001b[0m \u001b[0m_call_impl\u001b[0m\u001b[0;34m(\u001b[0m\u001b[0mself\u001b[0m\u001b[0;34m,\u001b[0m \u001b[0;34m*\u001b[0m\u001b[0margs\u001b[0m\u001b[0;34m,\u001b[0m \u001b[0;34m**\u001b[0m\u001b[0mkwargs\u001b[0m\u001b[0;34m)\u001b[0m\u001b[0;34m:\u001b[0m\u001b[0;34m\u001b[0m\u001b[0;34m\u001b[0m\u001b[0m\n",
            "\u001b[0;32m/usr/local/lib/python3.10/dist-packages/torch/nn/modules/module.py\u001b[0m in \u001b[0;36m_call_impl\u001b[0;34m(self, *args, **kwargs)\u001b[0m\n\u001b[1;32m   1525\u001b[0m                 \u001b[0;32mor\u001b[0m \u001b[0m_global_backward_pre_hooks\u001b[0m \u001b[0;32mor\u001b[0m \u001b[0m_global_backward_hooks\u001b[0m\u001b[0;34m\u001b[0m\u001b[0;34m\u001b[0m\u001b[0m\n\u001b[1;32m   1526\u001b[0m                 or _global_forward_hooks or _global_forward_pre_hooks):\n\u001b[0;32m-> 1527\u001b[0;31m             \u001b[0;32mreturn\u001b[0m \u001b[0mforward_call\u001b[0m\u001b[0;34m(\u001b[0m\u001b[0;34m*\u001b[0m\u001b[0margs\u001b[0m\u001b[0;34m,\u001b[0m \u001b[0;34m**\u001b[0m\u001b[0mkwargs\u001b[0m\u001b[0;34m)\u001b[0m\u001b[0;34m\u001b[0m\u001b[0;34m\u001b[0m\u001b[0m\n\u001b[0m\u001b[1;32m   1528\u001b[0m \u001b[0;34m\u001b[0m\u001b[0m\n\u001b[1;32m   1529\u001b[0m         \u001b[0;32mtry\u001b[0m\u001b[0;34m:\u001b[0m\u001b[0;34m\u001b[0m\u001b[0;34m\u001b[0m\u001b[0m\n",
            "\u001b[0;32m/usr/local/lib/python3.10/dist-packages/accelerate/hooks.py\u001b[0m in \u001b[0;36mnew_forward\u001b[0;34m(module, *args, **kwargs)\u001b[0m\n\u001b[1;32m    163\u001b[0m                 \u001b[0moutput\u001b[0m \u001b[0;34m=\u001b[0m \u001b[0mmodule\u001b[0m\u001b[0;34m.\u001b[0m\u001b[0m_old_forward\u001b[0m\u001b[0;34m(\u001b[0m\u001b[0;34m*\u001b[0m\u001b[0margs\u001b[0m\u001b[0;34m,\u001b[0m \u001b[0;34m**\u001b[0m\u001b[0mkwargs\u001b[0m\u001b[0;34m)\u001b[0m\u001b[0;34m\u001b[0m\u001b[0;34m\u001b[0m\u001b[0m\n\u001b[1;32m    164\u001b[0m         \u001b[0;32melse\u001b[0m\u001b[0;34m:\u001b[0m\u001b[0;34m\u001b[0m\u001b[0;34m\u001b[0m\u001b[0m\n\u001b[0;32m--> 165\u001b[0;31m             \u001b[0moutput\u001b[0m \u001b[0;34m=\u001b[0m \u001b[0mmodule\u001b[0m\u001b[0;34m.\u001b[0m\u001b[0m_old_forward\u001b[0m\u001b[0;34m(\u001b[0m\u001b[0;34m*\u001b[0m\u001b[0margs\u001b[0m\u001b[0;34m,\u001b[0m \u001b[0;34m**\u001b[0m\u001b[0mkwargs\u001b[0m\u001b[0;34m)\u001b[0m\u001b[0;34m\u001b[0m\u001b[0;34m\u001b[0m\u001b[0m\n\u001b[0m\u001b[1;32m    166\u001b[0m         \u001b[0;32mreturn\u001b[0m \u001b[0mmodule\u001b[0m\u001b[0;34m.\u001b[0m\u001b[0m_hf_hook\u001b[0m\u001b[0;34m.\u001b[0m\u001b[0mpost_forward\u001b[0m\u001b[0;34m(\u001b[0m\u001b[0mmodule\u001b[0m\u001b[0;34m,\u001b[0m \u001b[0moutput\u001b[0m\u001b[0;34m)\u001b[0m\u001b[0;34m\u001b[0m\u001b[0;34m\u001b[0m\u001b[0m\n\u001b[1;32m    167\u001b[0m \u001b[0;34m\u001b[0m\u001b[0m\n",
            "\u001b[0;32m/usr/local/lib/python3.10/dist-packages/transformers/models/mistral/modeling_mistral.py\u001b[0m in \u001b[0;36mforward\u001b[0;34m(self, input_ids, attention_mask, position_ids, past_key_values, inputs_embeds, labels, use_cache, output_attentions, output_hidden_states, return_dict)\u001b[0m\n\u001b[1;32m   1007\u001b[0m \u001b[0;34m\u001b[0m\u001b[0m\n\u001b[1;32m   1008\u001b[0m         \u001b[0;31m# decoder outputs consists of (dec_features, layer_state, dec_hidden, dec_attn)\u001b[0m\u001b[0;34m\u001b[0m\u001b[0;34m\u001b[0m\u001b[0m\n\u001b[0;32m-> 1009\u001b[0;31m         outputs = self.model(\n\u001b[0m\u001b[1;32m   1010\u001b[0m             \u001b[0minput_ids\u001b[0m\u001b[0;34m=\u001b[0m\u001b[0minput_ids\u001b[0m\u001b[0;34m,\u001b[0m\u001b[0;34m\u001b[0m\u001b[0;34m\u001b[0m\u001b[0m\n\u001b[1;32m   1011\u001b[0m             \u001b[0mattention_mask\u001b[0m\u001b[0;34m=\u001b[0m\u001b[0mattention_mask\u001b[0m\u001b[0;34m,\u001b[0m\u001b[0;34m\u001b[0m\u001b[0;34m\u001b[0m\u001b[0m\n",
            "\u001b[0;32m/usr/local/lib/python3.10/dist-packages/torch/nn/modules/module.py\u001b[0m in \u001b[0;36m_wrapped_call_impl\u001b[0;34m(self, *args, **kwargs)\u001b[0m\n\u001b[1;32m   1516\u001b[0m             \u001b[0;32mreturn\u001b[0m \u001b[0mself\u001b[0m\u001b[0;34m.\u001b[0m\u001b[0m_compiled_call_impl\u001b[0m\u001b[0;34m(\u001b[0m\u001b[0;34m*\u001b[0m\u001b[0margs\u001b[0m\u001b[0;34m,\u001b[0m \u001b[0;34m**\u001b[0m\u001b[0mkwargs\u001b[0m\u001b[0;34m)\u001b[0m  \u001b[0;31m# type: ignore[misc]\u001b[0m\u001b[0;34m\u001b[0m\u001b[0;34m\u001b[0m\u001b[0m\n\u001b[1;32m   1517\u001b[0m         \u001b[0;32melse\u001b[0m\u001b[0;34m:\u001b[0m\u001b[0;34m\u001b[0m\u001b[0;34m\u001b[0m\u001b[0m\n\u001b[0;32m-> 1518\u001b[0;31m             \u001b[0;32mreturn\u001b[0m \u001b[0mself\u001b[0m\u001b[0;34m.\u001b[0m\u001b[0m_call_impl\u001b[0m\u001b[0;34m(\u001b[0m\u001b[0;34m*\u001b[0m\u001b[0margs\u001b[0m\u001b[0;34m,\u001b[0m \u001b[0;34m**\u001b[0m\u001b[0mkwargs\u001b[0m\u001b[0;34m)\u001b[0m\u001b[0;34m\u001b[0m\u001b[0;34m\u001b[0m\u001b[0m\n\u001b[0m\u001b[1;32m   1519\u001b[0m \u001b[0;34m\u001b[0m\u001b[0m\n\u001b[1;32m   1520\u001b[0m     \u001b[0;32mdef\u001b[0m \u001b[0m_call_impl\u001b[0m\u001b[0;34m(\u001b[0m\u001b[0mself\u001b[0m\u001b[0;34m,\u001b[0m \u001b[0;34m*\u001b[0m\u001b[0margs\u001b[0m\u001b[0;34m,\u001b[0m \u001b[0;34m**\u001b[0m\u001b[0mkwargs\u001b[0m\u001b[0;34m)\u001b[0m\u001b[0;34m:\u001b[0m\u001b[0;34m\u001b[0m\u001b[0;34m\u001b[0m\u001b[0m\n",
            "\u001b[0;32m/usr/local/lib/python3.10/dist-packages/torch/nn/modules/module.py\u001b[0m in \u001b[0;36m_call_impl\u001b[0;34m(self, *args, **kwargs)\u001b[0m\n\u001b[1;32m   1525\u001b[0m                 \u001b[0;32mor\u001b[0m \u001b[0m_global_backward_pre_hooks\u001b[0m \u001b[0;32mor\u001b[0m \u001b[0m_global_backward_hooks\u001b[0m\u001b[0;34m\u001b[0m\u001b[0;34m\u001b[0m\u001b[0m\n\u001b[1;32m   1526\u001b[0m                 or _global_forward_hooks or _global_forward_pre_hooks):\n\u001b[0;32m-> 1527\u001b[0;31m             \u001b[0;32mreturn\u001b[0m \u001b[0mforward_call\u001b[0m\u001b[0;34m(\u001b[0m\u001b[0;34m*\u001b[0m\u001b[0margs\u001b[0m\u001b[0;34m,\u001b[0m \u001b[0;34m**\u001b[0m\u001b[0mkwargs\u001b[0m\u001b[0;34m)\u001b[0m\u001b[0;34m\u001b[0m\u001b[0;34m\u001b[0m\u001b[0m\n\u001b[0m\u001b[1;32m   1528\u001b[0m \u001b[0;34m\u001b[0m\u001b[0m\n\u001b[1;32m   1529\u001b[0m         \u001b[0;32mtry\u001b[0m\u001b[0;34m:\u001b[0m\u001b[0;34m\u001b[0m\u001b[0;34m\u001b[0m\u001b[0m\n",
            "\u001b[0;32m/usr/local/lib/python3.10/dist-packages/accelerate/hooks.py\u001b[0m in \u001b[0;36mnew_forward\u001b[0;34m(module, *args, **kwargs)\u001b[0m\n\u001b[1;32m    163\u001b[0m                 \u001b[0moutput\u001b[0m \u001b[0;34m=\u001b[0m \u001b[0mmodule\u001b[0m\u001b[0;34m.\u001b[0m\u001b[0m_old_forward\u001b[0m\u001b[0;34m(\u001b[0m\u001b[0;34m*\u001b[0m\u001b[0margs\u001b[0m\u001b[0;34m,\u001b[0m \u001b[0;34m**\u001b[0m\u001b[0mkwargs\u001b[0m\u001b[0;34m)\u001b[0m\u001b[0;34m\u001b[0m\u001b[0;34m\u001b[0m\u001b[0m\n\u001b[1;32m    164\u001b[0m         \u001b[0;32melse\u001b[0m\u001b[0;34m:\u001b[0m\u001b[0;34m\u001b[0m\u001b[0;34m\u001b[0m\u001b[0m\n\u001b[0;32m--> 165\u001b[0;31m             \u001b[0moutput\u001b[0m \u001b[0;34m=\u001b[0m \u001b[0mmodule\u001b[0m\u001b[0;34m.\u001b[0m\u001b[0m_old_forward\u001b[0m\u001b[0;34m(\u001b[0m\u001b[0;34m*\u001b[0m\u001b[0margs\u001b[0m\u001b[0;34m,\u001b[0m \u001b[0;34m**\u001b[0m\u001b[0mkwargs\u001b[0m\u001b[0;34m)\u001b[0m\u001b[0;34m\u001b[0m\u001b[0;34m\u001b[0m\u001b[0m\n\u001b[0m\u001b[1;32m    166\u001b[0m         \u001b[0;32mreturn\u001b[0m \u001b[0mmodule\u001b[0m\u001b[0;34m.\u001b[0m\u001b[0m_hf_hook\u001b[0m\u001b[0;34m.\u001b[0m\u001b[0mpost_forward\u001b[0m\u001b[0;34m(\u001b[0m\u001b[0mmodule\u001b[0m\u001b[0;34m,\u001b[0m \u001b[0moutput\u001b[0m\u001b[0;34m)\u001b[0m\u001b[0;34m\u001b[0m\u001b[0;34m\u001b[0m\u001b[0m\n\u001b[1;32m    167\u001b[0m \u001b[0;34m\u001b[0m\u001b[0m\n",
            "\u001b[0;32m/usr/local/lib/python3.10/dist-packages/transformers/models/mistral/modeling_mistral.py\u001b[0m in \u001b[0;36mforward\u001b[0;34m(self, input_ids, attention_mask, position_ids, past_key_values, inputs_embeds, use_cache, output_attentions, output_hidden_states, return_dict)\u001b[0m\n\u001b[1;32m    895\u001b[0m                 )\n\u001b[1;32m    896\u001b[0m             \u001b[0;32melse\u001b[0m\u001b[0;34m:\u001b[0m\u001b[0;34m\u001b[0m\u001b[0;34m\u001b[0m\u001b[0m\n\u001b[0;32m--> 897\u001b[0;31m                 layer_outputs = decoder_layer(\n\u001b[0m\u001b[1;32m    898\u001b[0m                     \u001b[0mhidden_states\u001b[0m\u001b[0;34m,\u001b[0m\u001b[0;34m\u001b[0m\u001b[0;34m\u001b[0m\u001b[0m\n\u001b[1;32m    899\u001b[0m                     \u001b[0mattention_mask\u001b[0m\u001b[0;34m=\u001b[0m\u001b[0mattention_mask\u001b[0m\u001b[0;34m,\u001b[0m\u001b[0;34m\u001b[0m\u001b[0;34m\u001b[0m\u001b[0m\n",
            "\u001b[0;32m/usr/local/lib/python3.10/dist-packages/torch/nn/modules/module.py\u001b[0m in \u001b[0;36m_wrapped_call_impl\u001b[0;34m(self, *args, **kwargs)\u001b[0m\n\u001b[1;32m   1516\u001b[0m             \u001b[0;32mreturn\u001b[0m \u001b[0mself\u001b[0m\u001b[0;34m.\u001b[0m\u001b[0m_compiled_call_impl\u001b[0m\u001b[0;34m(\u001b[0m\u001b[0;34m*\u001b[0m\u001b[0margs\u001b[0m\u001b[0;34m,\u001b[0m \u001b[0;34m**\u001b[0m\u001b[0mkwargs\u001b[0m\u001b[0;34m)\u001b[0m  \u001b[0;31m# type: ignore[misc]\u001b[0m\u001b[0;34m\u001b[0m\u001b[0;34m\u001b[0m\u001b[0m\n\u001b[1;32m   1517\u001b[0m         \u001b[0;32melse\u001b[0m\u001b[0;34m:\u001b[0m\u001b[0;34m\u001b[0m\u001b[0;34m\u001b[0m\u001b[0m\n\u001b[0;32m-> 1518\u001b[0;31m             \u001b[0;32mreturn\u001b[0m \u001b[0mself\u001b[0m\u001b[0;34m.\u001b[0m\u001b[0m_call_impl\u001b[0m\u001b[0;34m(\u001b[0m\u001b[0;34m*\u001b[0m\u001b[0margs\u001b[0m\u001b[0;34m,\u001b[0m \u001b[0;34m**\u001b[0m\u001b[0mkwargs\u001b[0m\u001b[0;34m)\u001b[0m\u001b[0;34m\u001b[0m\u001b[0;34m\u001b[0m\u001b[0m\n\u001b[0m\u001b[1;32m   1519\u001b[0m \u001b[0;34m\u001b[0m\u001b[0m\n\u001b[1;32m   1520\u001b[0m     \u001b[0;32mdef\u001b[0m \u001b[0m_call_impl\u001b[0m\u001b[0;34m(\u001b[0m\u001b[0mself\u001b[0m\u001b[0;34m,\u001b[0m \u001b[0;34m*\u001b[0m\u001b[0margs\u001b[0m\u001b[0;34m,\u001b[0m \u001b[0;34m**\u001b[0m\u001b[0mkwargs\u001b[0m\u001b[0;34m)\u001b[0m\u001b[0;34m:\u001b[0m\u001b[0;34m\u001b[0m\u001b[0;34m\u001b[0m\u001b[0m\n",
            "\u001b[0;32m/usr/local/lib/python3.10/dist-packages/torch/nn/modules/module.py\u001b[0m in \u001b[0;36m_call_impl\u001b[0;34m(self, *args, **kwargs)\u001b[0m\n\u001b[1;32m   1525\u001b[0m                 \u001b[0;32mor\u001b[0m \u001b[0m_global_backward_pre_hooks\u001b[0m \u001b[0;32mor\u001b[0m \u001b[0m_global_backward_hooks\u001b[0m\u001b[0;34m\u001b[0m\u001b[0;34m\u001b[0m\u001b[0m\n\u001b[1;32m   1526\u001b[0m                 or _global_forward_hooks or _global_forward_pre_hooks):\n\u001b[0;32m-> 1527\u001b[0;31m             \u001b[0;32mreturn\u001b[0m \u001b[0mforward_call\u001b[0m\u001b[0;34m(\u001b[0m\u001b[0;34m*\u001b[0m\u001b[0margs\u001b[0m\u001b[0;34m,\u001b[0m \u001b[0;34m**\u001b[0m\u001b[0mkwargs\u001b[0m\u001b[0;34m)\u001b[0m\u001b[0;34m\u001b[0m\u001b[0;34m\u001b[0m\u001b[0m\n\u001b[0m\u001b[1;32m   1528\u001b[0m \u001b[0;34m\u001b[0m\u001b[0m\n\u001b[1;32m   1529\u001b[0m         \u001b[0;32mtry\u001b[0m\u001b[0;34m:\u001b[0m\u001b[0;34m\u001b[0m\u001b[0;34m\u001b[0m\u001b[0m\n",
            "\u001b[0;32m/usr/local/lib/python3.10/dist-packages/accelerate/hooks.py\u001b[0m in \u001b[0;36mnew_forward\u001b[0;34m(module, *args, **kwargs)\u001b[0m\n\u001b[1;32m    163\u001b[0m                 \u001b[0moutput\u001b[0m \u001b[0;34m=\u001b[0m \u001b[0mmodule\u001b[0m\u001b[0;34m.\u001b[0m\u001b[0m_old_forward\u001b[0m\u001b[0;34m(\u001b[0m\u001b[0;34m*\u001b[0m\u001b[0margs\u001b[0m\u001b[0;34m,\u001b[0m \u001b[0;34m**\u001b[0m\u001b[0mkwargs\u001b[0m\u001b[0;34m)\u001b[0m\u001b[0;34m\u001b[0m\u001b[0;34m\u001b[0m\u001b[0m\n\u001b[1;32m    164\u001b[0m         \u001b[0;32melse\u001b[0m\u001b[0;34m:\u001b[0m\u001b[0;34m\u001b[0m\u001b[0;34m\u001b[0m\u001b[0m\n\u001b[0;32m--> 165\u001b[0;31m             \u001b[0moutput\u001b[0m \u001b[0;34m=\u001b[0m \u001b[0mmodule\u001b[0m\u001b[0;34m.\u001b[0m\u001b[0m_old_forward\u001b[0m\u001b[0;34m(\u001b[0m\u001b[0;34m*\u001b[0m\u001b[0margs\u001b[0m\u001b[0;34m,\u001b[0m \u001b[0;34m**\u001b[0m\u001b[0mkwargs\u001b[0m\u001b[0;34m)\u001b[0m\u001b[0;34m\u001b[0m\u001b[0;34m\u001b[0m\u001b[0m\n\u001b[0m\u001b[1;32m    166\u001b[0m         \u001b[0;32mreturn\u001b[0m \u001b[0mmodule\u001b[0m\u001b[0;34m.\u001b[0m\u001b[0m_hf_hook\u001b[0m\u001b[0;34m.\u001b[0m\u001b[0mpost_forward\u001b[0m\u001b[0;34m(\u001b[0m\u001b[0mmodule\u001b[0m\u001b[0;34m,\u001b[0m \u001b[0moutput\u001b[0m\u001b[0;34m)\u001b[0m\u001b[0;34m\u001b[0m\u001b[0;34m\u001b[0m\u001b[0m\n\u001b[1;32m    167\u001b[0m \u001b[0;34m\u001b[0m\u001b[0m\n",
            "\u001b[0;32m/usr/local/lib/python3.10/dist-packages/transformers/models/mistral/modeling_mistral.py\u001b[0m in \u001b[0;36mforward\u001b[0;34m(self, hidden_states, attention_mask, position_ids, past_key_value, output_attentions, use_cache, **kwargs)\u001b[0m\n\u001b[1;32m    624\u001b[0m \u001b[0;34m\u001b[0m\u001b[0m\n\u001b[1;32m    625\u001b[0m         \u001b[0;31m# Self Attention\u001b[0m\u001b[0;34m\u001b[0m\u001b[0;34m\u001b[0m\u001b[0m\n\u001b[0;32m--> 626\u001b[0;31m         hidden_states, self_attn_weights, present_key_value = self.self_attn(\n\u001b[0m\u001b[1;32m    627\u001b[0m             \u001b[0mhidden_states\u001b[0m\u001b[0;34m=\u001b[0m\u001b[0mhidden_states\u001b[0m\u001b[0;34m,\u001b[0m\u001b[0;34m\u001b[0m\u001b[0;34m\u001b[0m\u001b[0m\n\u001b[1;32m    628\u001b[0m             \u001b[0mattention_mask\u001b[0m\u001b[0;34m=\u001b[0m\u001b[0mattention_mask\u001b[0m\u001b[0;34m,\u001b[0m\u001b[0;34m\u001b[0m\u001b[0;34m\u001b[0m\u001b[0m\n",
            "\u001b[0;32m/usr/local/lib/python3.10/dist-packages/torch/nn/modules/module.py\u001b[0m in \u001b[0;36m_wrapped_call_impl\u001b[0;34m(self, *args, **kwargs)\u001b[0m\n\u001b[1;32m   1516\u001b[0m             \u001b[0;32mreturn\u001b[0m \u001b[0mself\u001b[0m\u001b[0;34m.\u001b[0m\u001b[0m_compiled_call_impl\u001b[0m\u001b[0;34m(\u001b[0m\u001b[0;34m*\u001b[0m\u001b[0margs\u001b[0m\u001b[0;34m,\u001b[0m \u001b[0;34m**\u001b[0m\u001b[0mkwargs\u001b[0m\u001b[0;34m)\u001b[0m  \u001b[0;31m# type: ignore[misc]\u001b[0m\u001b[0;34m\u001b[0m\u001b[0;34m\u001b[0m\u001b[0m\n\u001b[1;32m   1517\u001b[0m         \u001b[0;32melse\u001b[0m\u001b[0;34m:\u001b[0m\u001b[0;34m\u001b[0m\u001b[0;34m\u001b[0m\u001b[0m\n\u001b[0;32m-> 1518\u001b[0;31m             \u001b[0;32mreturn\u001b[0m \u001b[0mself\u001b[0m\u001b[0;34m.\u001b[0m\u001b[0m_call_impl\u001b[0m\u001b[0;34m(\u001b[0m\u001b[0;34m*\u001b[0m\u001b[0margs\u001b[0m\u001b[0;34m,\u001b[0m \u001b[0;34m**\u001b[0m\u001b[0mkwargs\u001b[0m\u001b[0;34m)\u001b[0m\u001b[0;34m\u001b[0m\u001b[0;34m\u001b[0m\u001b[0m\n\u001b[0m\u001b[1;32m   1519\u001b[0m \u001b[0;34m\u001b[0m\u001b[0m\n\u001b[1;32m   1520\u001b[0m     \u001b[0;32mdef\u001b[0m \u001b[0m_call_impl\u001b[0m\u001b[0;34m(\u001b[0m\u001b[0mself\u001b[0m\u001b[0;34m,\u001b[0m \u001b[0;34m*\u001b[0m\u001b[0margs\u001b[0m\u001b[0;34m,\u001b[0m \u001b[0;34m**\u001b[0m\u001b[0mkwargs\u001b[0m\u001b[0;34m)\u001b[0m\u001b[0;34m:\u001b[0m\u001b[0;34m\u001b[0m\u001b[0;34m\u001b[0m\u001b[0m\n",
            "\u001b[0;32m/usr/local/lib/python3.10/dist-packages/torch/nn/modules/module.py\u001b[0m in \u001b[0;36m_call_impl\u001b[0;34m(self, *args, **kwargs)\u001b[0m\n\u001b[1;32m   1525\u001b[0m                 \u001b[0;32mor\u001b[0m \u001b[0m_global_backward_pre_hooks\u001b[0m \u001b[0;32mor\u001b[0m \u001b[0m_global_backward_hooks\u001b[0m\u001b[0;34m\u001b[0m\u001b[0;34m\u001b[0m\u001b[0m\n\u001b[1;32m   1526\u001b[0m                 or _global_forward_hooks or _global_forward_pre_hooks):\n\u001b[0;32m-> 1527\u001b[0;31m             \u001b[0;32mreturn\u001b[0m \u001b[0mforward_call\u001b[0m\u001b[0;34m(\u001b[0m\u001b[0;34m*\u001b[0m\u001b[0margs\u001b[0m\u001b[0;34m,\u001b[0m \u001b[0;34m**\u001b[0m\u001b[0mkwargs\u001b[0m\u001b[0;34m)\u001b[0m\u001b[0;34m\u001b[0m\u001b[0;34m\u001b[0m\u001b[0m\n\u001b[0m\u001b[1;32m   1528\u001b[0m \u001b[0;34m\u001b[0m\u001b[0m\n\u001b[1;32m   1529\u001b[0m         \u001b[0;32mtry\u001b[0m\u001b[0;34m:\u001b[0m\u001b[0;34m\u001b[0m\u001b[0;34m\u001b[0m\u001b[0m\n",
            "\u001b[0;32m/usr/local/lib/python3.10/dist-packages/accelerate/hooks.py\u001b[0m in \u001b[0;36mnew_forward\u001b[0;34m(module, *args, **kwargs)\u001b[0m\n\u001b[1;32m    163\u001b[0m                 \u001b[0moutput\u001b[0m \u001b[0;34m=\u001b[0m \u001b[0mmodule\u001b[0m\u001b[0;34m.\u001b[0m\u001b[0m_old_forward\u001b[0m\u001b[0;34m(\u001b[0m\u001b[0;34m*\u001b[0m\u001b[0margs\u001b[0m\u001b[0;34m,\u001b[0m \u001b[0;34m**\u001b[0m\u001b[0mkwargs\u001b[0m\u001b[0;34m)\u001b[0m\u001b[0;34m\u001b[0m\u001b[0;34m\u001b[0m\u001b[0m\n\u001b[1;32m    164\u001b[0m         \u001b[0;32melse\u001b[0m\u001b[0;34m:\u001b[0m\u001b[0;34m\u001b[0m\u001b[0;34m\u001b[0m\u001b[0m\n\u001b[0;32m--> 165\u001b[0;31m             \u001b[0moutput\u001b[0m \u001b[0;34m=\u001b[0m \u001b[0mmodule\u001b[0m\u001b[0;34m.\u001b[0m\u001b[0m_old_forward\u001b[0m\u001b[0;34m(\u001b[0m\u001b[0;34m*\u001b[0m\u001b[0margs\u001b[0m\u001b[0;34m,\u001b[0m \u001b[0;34m**\u001b[0m\u001b[0mkwargs\u001b[0m\u001b[0;34m)\u001b[0m\u001b[0;34m\u001b[0m\u001b[0;34m\u001b[0m\u001b[0m\n\u001b[0m\u001b[1;32m    166\u001b[0m         \u001b[0;32mreturn\u001b[0m \u001b[0mmodule\u001b[0m\u001b[0;34m.\u001b[0m\u001b[0m_hf_hook\u001b[0m\u001b[0;34m.\u001b[0m\u001b[0mpost_forward\u001b[0m\u001b[0;34m(\u001b[0m\u001b[0mmodule\u001b[0m\u001b[0;34m,\u001b[0m \u001b[0moutput\u001b[0m\u001b[0;34m)\u001b[0m\u001b[0;34m\u001b[0m\u001b[0;34m\u001b[0m\u001b[0m\n\u001b[1;32m    167\u001b[0m \u001b[0;34m\u001b[0m\u001b[0m\n",
            "\u001b[0;32m/usr/local/lib/python3.10/dist-packages/transformers/models/mistral/modeling_mistral.py\u001b[0m in \u001b[0;36mforward\u001b[0;34m(self, hidden_states, attention_mask, position_ids, past_key_value, output_attentions, use_cache, **kwargs)\u001b[0m\n\u001b[1;32m    284\u001b[0m \u001b[0;34m\u001b[0m\u001b[0m\n\u001b[1;32m    285\u001b[0m         \u001b[0;31m# upcast attention to fp32\u001b[0m\u001b[0;34m\u001b[0m\u001b[0;34m\u001b[0m\u001b[0m\n\u001b[0;32m--> 286\u001b[0;31m         \u001b[0mattn_weights\u001b[0m \u001b[0;34m=\u001b[0m \u001b[0mnn\u001b[0m\u001b[0;34m.\u001b[0m\u001b[0mfunctional\u001b[0m\u001b[0;34m.\u001b[0m\u001b[0msoftmax\u001b[0m\u001b[0;34m(\u001b[0m\u001b[0mattn_weights\u001b[0m\u001b[0;34m,\u001b[0m \u001b[0mdim\u001b[0m\u001b[0;34m=\u001b[0m\u001b[0;34m-\u001b[0m\u001b[0;36m1\u001b[0m\u001b[0;34m,\u001b[0m \u001b[0mdtype\u001b[0m\u001b[0;34m=\u001b[0m\u001b[0mtorch\u001b[0m\u001b[0;34m.\u001b[0m\u001b[0mfloat32\u001b[0m\u001b[0;34m)\u001b[0m\u001b[0;34m.\u001b[0m\u001b[0mto\u001b[0m\u001b[0;34m(\u001b[0m\u001b[0mquery_states\u001b[0m\u001b[0;34m.\u001b[0m\u001b[0mdtype\u001b[0m\u001b[0;34m)\u001b[0m\u001b[0;34m\u001b[0m\u001b[0;34m\u001b[0m\u001b[0m\n\u001b[0m\u001b[1;32m    287\u001b[0m         \u001b[0mattn_output\u001b[0m \u001b[0;34m=\u001b[0m \u001b[0mtorch\u001b[0m\u001b[0;34m.\u001b[0m\u001b[0mmatmul\u001b[0m\u001b[0;34m(\u001b[0m\u001b[0mattn_weights\u001b[0m\u001b[0;34m,\u001b[0m \u001b[0mvalue_states\u001b[0m\u001b[0;34m)\u001b[0m\u001b[0;34m\u001b[0m\u001b[0;34m\u001b[0m\u001b[0m\n\u001b[1;32m    288\u001b[0m \u001b[0;34m\u001b[0m\u001b[0m\n",
            "\u001b[0;31mOutOfMemoryError\u001b[0m: CUDA out of memory. Tried to allocate 1.92 GiB. GPU 0 has a total capacty of 14.75 GiB of which 1.64 GiB is free. Process 63555 has 13.11 GiB memory in use. Of the allocated memory 11.18 GiB is allocated by PyTorch, and 1.80 GiB is reserved by PyTorch but unallocated. If reserved but unallocated memory is large try setting max_split_size_mb to avoid fragmentation.  See documentation for Memory Management and PYTORCH_CUDA_ALLOC_CONF"
          ]
        }
      ]
    },
    {
      "cell_type": "markdown",
      "source": [
        "## SubQuestion Query Engine"
      ],
      "metadata": {
        "id": "0Xb4uNjSNyrQ"
      }
    },
    {
      "cell_type": "code",
      "source": [
        "from llama_index.tools import QueryEngineTool, ToolMetadata\n",
        "\n",
        "vector_tool = QueryEngineTool(\n",
        "    vector_index.as_query_engine(),\n",
        "    metadata=ToolMetadata(\n",
        "        name=\"vector_search\",\n",
        "        description=\"Useful for searching for specific facts.\"\n",
        "    )\n",
        ")\n",
        "\n",
        "summary_tool = QueryEngineTool(\n",
        "    summary_index.as_query_engine(response_mode=\"tree_summarize\"),\n",
        "    metadata=ToolMetadata(\n",
        "        name=\"summary\",\n",
        "        description=\"Useful for summarizing an entire document.\"\n",
        "    )\n",
        ")"
      ],
      "metadata": {
        "id": "fWZeIoZgNyVc"
      },
      "execution_count": null,
      "outputs": []
    },
    {
      "cell_type": "code",
      "source": [
        "import nest_asyncio\n",
        "nest_asyncio.apply()"
      ],
      "metadata": {
        "id": "s4aihq2Gagsl"
      },
      "execution_count": null,
      "outputs": []
    },
    {
      "cell_type": "code",
      "source": [
        "from llama_index.query_engine import SubQuestionQueryEngine\n",
        "\n",
        "query_engine = SubQuestionQueryEngine.from_defaults(\n",
        "    [vector_tool, summary_tool],\n",
        "    service_context=service_context,\n",
        "    verbose=True,\n",
        ")\n",
        "\n",
        "response = query_engine.query(\"What was mentioned about Meta? How Does it differ from how OpenAI is talked about?\")\n",
        "\n",
        "display_response(response)"
      ],
      "metadata": {
        "id": "iTnorfujaT8H"
      },
      "execution_count": null,
      "outputs": []
    },
    {
      "cell_type": "markdown",
      "source": [
        "## SQL Query Engine\n",
        "\n",
        "Here, we download and use a sample SQLite database with 11 tables, with various info about music, playlists, and customers. We will limit to a select few tables for this test."
      ],
      "metadata": {
        "id": "Lkkx29-lN0jJ"
      }
    },
    {
      "cell_type": "code",
      "source": [
        "import locale\n",
        "locale.getpreferredencoding = lambda: \"UTF-8\""
      ],
      "metadata": {
        "id": "KYdtjgKlO8th"
      },
      "execution_count": null,
      "outputs": []
    },
    {
      "cell_type": "code",
      "source": [
        "!curl https://www.sqlitetutorial.net/wp-content/uploads/2018/03/chinook.zip -O /content/chinook.zip\n",
        "!unzip /content/chinook.zip"
      ],
      "metadata": {
        "id": "7IrjMhxlN1eI"
      },
      "execution_count": null,
      "outputs": []
    },
    {
      "cell_type": "code",
      "source": [
        "from sqlalchemy import create_engine, MetaData, Table, Column, String, Integer, select, column\n",
        "\n",
        "engine = create_engine(\"sqlite:////content/chinook.db\")"
      ],
      "metadata": {
        "id": "__yAhMDtbsDb"
      },
      "execution_count": null,
      "outputs": []
    },
    {
      "cell_type": "code",
      "source": [
        "from llama_index import SQLDatabase\n",
        "\n",
        "sql_database = SQLDatabase(engine)"
      ],
      "metadata": {
        "id": "IUV_QU0cb7S4"
      },
      "execution_count": null,
      "outputs": []
    },
    {
      "cell_type": "code",
      "source": [
        "from llama_index.indices.struct_store import NLSQLTableQueryEngine\n",
        "\n",
        "query_engine = NLSQLTableQueryEngine(\n",
        "    sql_database=sql_database,\n",
        "    tables=[\"albums\", \"tracks\", \"artists\"],\n",
        "    service_context=service_context\n",
        ")"
      ],
      "metadata": {
        "id": "WQZbzQuRcHd5"
      },
      "execution_count": null,
      "outputs": []
    },
    {
      "cell_type": "code",
      "source": [
        "response = query_engine.query(\"What are some albums? Limit it to 5.\")\n",
        "\n",
        "display_response(response)"
      ],
      "metadata": {
        "id": "W-_rUwszcQCD"
      },
      "execution_count": null,
      "outputs": []
    },
    {
      "cell_type": "code",
      "source": [
        "response"
      ],
      "metadata": {
        "id": "xqygcnfGYGlV"
      },
      "execution_count": null,
      "outputs": []
    },
    {
      "cell_type": "code",
      "source": [
        "response = query_engine.query(\"What are some artists? Limit it to 5.\")\n",
        "\n",
        "display_response(response)"
      ],
      "metadata": {
        "id": "300SGKKzcb4b"
      },
      "execution_count": null,
      "outputs": []
    },
    {
      "cell_type": "markdown",
      "source": [
        "This last query should be a more complex join"
      ],
      "metadata": {
        "id": "smjsFMQSeQMJ"
      }
    },
    {
      "cell_type": "code",
      "source": [
        "response = query_engine.query(\"What are some tracks from the artist AC/DC? Limit it to 3\")\n",
        "\n",
        "display_response(response)"
      ],
      "metadata": {
        "id": "EeXqw3sacmie"
      },
      "execution_count": null,
      "outputs": []
    },
    {
      "cell_type": "code",
      "source": [
        "response"
      ],
      "metadata": {
        "id": "WtNvEIocYSVP"
      },
      "execution_count": null,
      "outputs": []
    },
    {
      "cell_type": "code",
      "source": [
        "print(response.metadata['sql_query'])"
      ],
      "metadata": {
        "id": "M_6qV0y7eS_t"
      },
      "execution_count": null,
      "outputs": []
    },
    {
      "cell_type": "markdown",
      "source": [
        "## Programs\n",
        "\n",
        "Depending the LLM, you will have to test with either `OpenAIPydanticProgram` or `LLMTextCompletionProgram`"
      ],
      "metadata": {
        "id": "UGDmqtwBO0wM"
      }
    },
    {
      "cell_type": "code",
      "source": [
        "from typing import List\n",
        "from pydantic import BaseModel\n",
        "\n",
        "from llama_index.program import OpenAIPydanticProgram, LLMTextCompletionProgram\n",
        "\n",
        "class Song(BaseModel):\n",
        "    \"\"\"Data model for a song.\"\"\"\n",
        "\n",
        "    title: str\n",
        "    length_seconds: int\n",
        "\n",
        "\n",
        "class Album(BaseModel):\n",
        "    \"\"\"Data model for an album.\"\"\"\n",
        "\n",
        "    name: str\n",
        "    artist: str\n",
        "    songs: List[Song]"
      ],
      "metadata": {
        "id": "UJA5VfB6O0kp"
      },
      "execution_count": null,
      "outputs": []
    },
    {
      "cell_type": "code",
      "source": [
        "from llama_index.output_parsers import PydanticOutputParser\n",
        "\n",
        "prompt_template_str = \"\"\"\\\n",
        "Generate an example album, with an artist and a list of songs. \\\n",
        "Using the movie {movie_name} as inspiration.\\\n",
        "\"\"\"\n",
        "program = LLMTextCompletionProgram.from_defaults(\n",
        "    output_parser=PydanticOutputParser(Album),\n",
        "    prompt_template_str=prompt_template_str,\n",
        "    llm=llm,\n",
        "    verbose=True,\n",
        ")"
      ],
      "metadata": {
        "id": "sYinxYiufjLe"
      },
      "execution_count": null,
      "outputs": []
    },
    {
      "cell_type": "code",
      "source": [
        "output = program(movie_name=\"The Shining\")"
      ],
      "metadata": {
        "id": "vDGnFiMcgAli"
      },
      "execution_count": null,
      "outputs": []
    },
    {
      "cell_type": "code",
      "source": [
        "print(output)"
      ],
      "metadata": {
        "id": "JvoAxKsvA_b8"
      },
      "execution_count": null,
      "outputs": []
    },
    {
      "cell_type": "markdown",
      "source": [
        "## Data Agent\n",
        "\n",
        "Similar to programs, OpenAI LLMs will use `OpenAIAgent`, while other LLMs will use `ReActAgent`."
      ],
      "metadata": {
        "id": "Pzh9E0jRN_mD"
      }
    },
    {
      "cell_type": "code",
      "source": [
        "from llama_index.agent import OpenAIAgent, ReActAgent\n",
        "\n",
        "agent = ReActAgent.from_tools(\n",
        "    [vector_tool, summary_tool],\n",
        "    llm=llm,\n",
        "    verbose=True\n",
        ")"
      ],
      "metadata": {
        "id": "BXdFusIKN_aD"
      },
      "execution_count": null,
      "outputs": []
    },
    {
      "cell_type": "markdown",
      "source": [
        "It seems tool usage is pretty flakey"
      ],
      "metadata": {
        "id": "0S7jwvOMBffh"
      }
    },
    {
      "cell_type": "code",
      "source": [
        "response = agent.chat(\"Hello!\")\n",
        "print(response)"
      ],
      "metadata": {
        "id": "O53iJJ5Yg3Wd"
      },
      "execution_count": null,
      "outputs": []
    },
    {
      "cell_type": "code",
      "source": [
        "response = agent.chat(\"What was mentioned about Meta? How Does it differ from how OpenAI is talked about?\")\n",
        "print(response)"
      ],
      "metadata": {
        "id": "0HMgXZ4Zg_ls"
      },
      "execution_count": null,
      "outputs": []
    },
    {
      "cell_type": "code",
      "source": [],
      "metadata": {
        "id": "p5t7TjwhBBCt"
      },
      "execution_count": null,
      "outputs": []
    }
  ]
}